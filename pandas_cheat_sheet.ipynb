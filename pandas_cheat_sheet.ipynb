{
 "cells": [
  {
   "cell_type": "markdown",
   "id": "f36c3547",
   "metadata": {},
   "source": [
    "# 1. Import Pandas and Numpy"
   ]
  },
  {
   "cell_type": "code",
   "execution_count": 1,
   "id": "d36f0824-59dd-4edb-8a75-d1d730130d5f",
   "metadata": {},
   "outputs": [],
   "source": [
    "import pandas as pd\n",
    "import numpy as np"
   ]
  },
  {
   "cell_type": "markdown",
   "id": "3b9a25fc-fff0-481e-bbc9-15b2eab458b0",
   "metadata": {},
   "source": [
    "## check version"
   ]
  },
  {
   "cell_type": "code",
   "execution_count": 2,
   "id": "844fd4d6",
   "metadata": {},
   "outputs": [
    {
     "name": "stdout",
     "output_type": "stream",
     "text": [
      "2.2.3\n",
      "2.2.6\n"
     ]
    }
   ],
   "source": [
    "print(pd.__version__)\n",
    "print(np.__version__)"
   ]
  },
  {
   "cell_type": "markdown",
   "id": "1412dffe-9589-40e9-a63e-197af178a453",
   "metadata": {},
   "source": [
    "# 2. Series"
   ]
  },
  {
   "cell_type": "code",
   "execution_count": 3,
   "id": "825753c7-2d7b-4af6-9570-1a809a021535",
   "metadata": {},
   "outputs": [],
   "source": [
    "# Series is a one-dimensional labeled array capable of holding any data type \n",
    "#         (integers, strings, floating point numbers, Python objects, etc.)\n",
    "\n",
    "# syntax:- s = pd.Series(data, index=index)\n",
    "\n",
    "# data can be many different things:\n",
    "#    a Python dict\n",
    "#    an ndarray\n",
    "#    a scalar value (like 5)"
   ]
  },
  {
   "cell_type": "markdown",
   "id": "69d4ac90-5e84-418f-a1d3-30c5c77bc67d",
   "metadata": {},
   "source": [
    "## create series"
   ]
  },
  {
   "cell_type": "code",
   "execution_count": 4,
   "id": "84a3b401-d157-463c-81ab-2cb6af11bfbf",
   "metadata": {},
   "outputs": [
    {
     "data": {
      "text/plain": [
       "0    0.431618\n",
       "1   -0.696164\n",
       "2   -1.531892\n",
       "3   -1.615309\n",
       "4   -0.254457\n",
       "dtype: float64"
      ]
     },
     "execution_count": 4,
     "metadata": {},
     "output_type": "execute_result"
    }
   ],
   "source": [
    "s = pd.Series(np.random.randn(5))\n",
    "s"
   ]
  },
  {
   "cell_type": "markdown",
   "id": "b63e9975-818b-41c9-a06d-53ba3b678ae1",
   "metadata": {},
   "source": [
    "## Random flot value with custom index"
   ]
  },
  {
   "cell_type": "code",
   "execution_count": 5,
   "id": "9a3bd73f-4d82-4684-8d12-c1732c932191",
   "metadata": {},
   "outputs": [
    {
     "data": {
      "text/plain": [
       "a    1.954894\n",
       "b   -1.409660\n",
       "c   -0.293630\n",
       "d   -0.491727\n",
       "e   -0.857245\n",
       "dtype: float64"
      ]
     },
     "execution_count": 5,
     "metadata": {},
     "output_type": "execute_result"
    }
   ],
   "source": [
    "s = pd.Series(np.random.randn(5), index=[\"a\", \"b\", \"c\", \"d\", \"e\"])\n",
    "s"
   ]
  },
  {
   "cell_type": "markdown",
   "id": "59f7adc3-5b25-4894-8df1-23a4cf4cd355",
   "metadata": {},
   "source": [
    "## Random int value with custom index"
   ]
  },
  {
   "cell_type": "code",
   "execution_count": 6,
   "id": "f1fdfed5-cd35-49bd-8d55-fcf59f1faec1",
   "metadata": {},
   "outputs": [
    {
     "data": {
      "text/plain": [
       "a    13\n",
       "b    11\n",
       "c     1\n",
       "d     1\n",
       "e    13\n",
       "dtype: int32"
      ]
     },
     "execution_count": 6,
     "metadata": {},
     "output_type": "execute_result"
    }
   ],
   "source": [
    "s = pd.Series(np.random.randint(0, 15, size = 5), index=[\"a\", \"b\", \"c\", \"d\", \"e\"])\n",
    "s"
   ]
  },
  {
   "cell_type": "markdown",
   "id": "0834fa0b-f82b-4280-b019-63c7a5e96bb6",
   "metadata": {},
   "source": [
    "## Series can be instantiated from list"
   ]
  },
  {
   "cell_type": "code",
   "execution_count": 7,
   "id": "2f9a272e-dd8a-481c-b7dd-1ae2c6e604cb",
   "metadata": {},
   "outputs": [
    {
     "data": {
      "text/plain": [
       "a    2\n",
       "b    4\n",
       "c    5\n",
       "d    8\n",
       "e    3\n",
       "dtype: int64"
      ]
     },
     "execution_count": 7,
     "metadata": {},
     "output_type": "execute_result"
    }
   ],
   "source": [
    "lists = [2, 4, 5, 8, 3]\n",
    "s = pd.Series(lists, index=[\"a\", \"b\", \"c\", \"d\", \"e\"])\n",
    "s"
   ]
  },
  {
   "cell_type": "markdown",
   "id": "9b53c239-5ad2-4264-9286-63796973280c",
   "metadata": {},
   "source": [
    "## Series can be instantiated from dicts:"
   ]
  },
  {
   "cell_type": "code",
   "execution_count": 8,
   "id": "89821252-52b7-4375-a2ad-047e74d645a3",
   "metadata": {},
   "outputs": [
    {
     "data": {
      "text/plain": [
       "b    1\n",
       "a    0\n",
       "c    2\n",
       "dtype: int64"
      ]
     },
     "execution_count": 8,
     "metadata": {},
     "output_type": "execute_result"
    }
   ],
   "source": [
    "d = {\"b\": 1, \n",
    "     \"a\": 0, \n",
    "     \"c\": 2}\n",
    "\n",
    "pd.Series(d)"
   ]
  },
  {
   "cell_type": "code",
   "execution_count": 9,
   "id": "f6fb2071-23da-4a62-b523-9325f73a5f81",
   "metadata": {},
   "outputs": [],
   "source": [
    "# If an index is passed, the values in data corresponding to the labels in the index will be pulled out"
   ]
  },
  {
   "cell_type": "code",
   "execution_count": 10,
   "id": "34f4ca29-e36e-4253-8c92-bc9c49c75519",
   "metadata": {},
   "outputs": [
    {
     "data": {
      "text/plain": [
       "b    1.0\n",
       "c    2.0\n",
       "d    NaN\n",
       "a    0.0\n",
       "dtype: float64"
      ]
     },
     "execution_count": 10,
     "metadata": {},
     "output_type": "execute_result"
    }
   ],
   "source": [
    "d = {\"a\": 0.0, \n",
    "     \"b\": 1.0, \n",
    "     \"c\": 2.0}\n",
    "\n",
    "pd.Series(d, index=['b', 'c', 'd', 'a'])"
   ]
  },
  {
   "cell_type": "code",
   "execution_count": 11,
   "id": "488ca2ae-2455-4056-a430-0b7faf94f2e7",
   "metadata": {},
   "outputs": [],
   "source": [
    "# NaN (not a number) is the standard missing data marker used in pandas."
   ]
  },
  {
   "cell_type": "code",
   "execution_count": 12,
   "id": "00b3375e-3570-4350-992a-d32db438b2ac",
   "metadata": {},
   "outputs": [],
   "source": [
    "# If data is a scalar value, an index must be provided. The value will be repeated to match the length of index."
   ]
  },
  {
   "cell_type": "code",
   "execution_count": 13,
   "id": "f615cb5f-d82a-48d1-b7be-5f15df99d9f7",
   "metadata": {},
   "outputs": [
    {
     "data": {
      "text/plain": [
       "a    5.0\n",
       "b    5.0\n",
       "c    5.0\n",
       "d    5.0\n",
       "e    5.0\n",
       "dtype: float64"
      ]
     },
     "execution_count": 13,
     "metadata": {},
     "output_type": "execute_result"
    }
   ],
   "source": [
    "pd.Series(5.0, index=[\"a\", \"b\", \"c\", \"d\", \"e\"])"
   ]
  },
  {
   "cell_type": "markdown",
   "id": "3cb1d93a-7c64-40ac-a304-61072efeb47d",
   "metadata": {},
   "source": [
    "## Series is like ndarray"
   ]
  },
  {
   "cell_type": "code",
   "execution_count": 14,
   "id": "e3295077-db4a-4d4e-8ef5-eaec397ee858",
   "metadata": {},
   "outputs": [],
   "source": [
    "# Series acts very similarly to a ndarray and is a valid argument to most NumPy functions"
   ]
  },
  {
   "cell_type": "code",
   "execution_count": 15,
   "id": "df44b2bb-9d2b-41a9-b08d-a1533719c2ab",
   "metadata": {},
   "outputs": [
    {
     "data": {
      "text/plain": [
       "a    1.872374\n",
       "b    0.167267\n",
       "c    1.273957\n",
       "d    0.100332\n",
       "e    0.405892\n",
       "dtype: float64"
      ]
     },
     "execution_count": 15,
     "metadata": {},
     "output_type": "execute_result"
    }
   ],
   "source": [
    "s = pd.Series(np.random.randn(5), index=[\"a\", \"b\", \"c\", \"d\", \"e\"])\n",
    "s"
   ]
  },
  {
   "cell_type": "code",
   "execution_count": 16,
   "id": "cc066f81-25ef-4dd8-964a-8f309c423c8a",
   "metadata": {},
   "outputs": [
    {
     "data": {
      "text/plain": [
       "np.float64(0.10033208226775898)"
      ]
     },
     "execution_count": 16,
     "metadata": {},
     "output_type": "execute_result"
    }
   ],
   "source": [
    "s.iloc[0]\n",
    "s.iloc[3]"
   ]
  },
  {
   "cell_type": "code",
   "execution_count": 17,
   "id": "58848ba4-36e6-4e1e-8f56-2ff047f56328",
   "metadata": {},
   "outputs": [
    {
     "data": {
      "text/plain": [
       "a    1.872374\n",
       "b    0.167267\n",
       "c    1.273957\n",
       "dtype: float64"
      ]
     },
     "execution_count": 17,
     "metadata": {},
     "output_type": "execute_result"
    }
   ],
   "source": [
    "s.iloc[:3]"
   ]
  },
  {
   "cell_type": "code",
   "execution_count": 18,
   "id": "7ae9bd25-553b-4238-9554-de0e5c8154d4",
   "metadata": {},
   "outputs": [
    {
     "data": {
      "text/plain": [
       "a    1.872374\n",
       "c    1.273957\n",
       "dtype: float64"
      ]
     },
     "execution_count": 18,
     "metadata": {},
     "output_type": "execute_result"
    }
   ],
   "source": [
    "s[s > s.median()]"
   ]
  },
  {
   "cell_type": "code",
   "execution_count": 19,
   "id": "785b5361-af4c-48b7-bdb7-70df9ab643f9",
   "metadata": {},
   "outputs": [
    {
     "data": {
      "text/plain": [
       "e    0.405892\n",
       "d    0.100332\n",
       "b    0.167267\n",
       "dtype: float64"
      ]
     },
     "execution_count": 19,
     "metadata": {},
     "output_type": "execute_result"
    }
   ],
   "source": [
    "s.iloc[[4, 3, 1]]"
   ]
  },
  {
   "cell_type": "code",
   "execution_count": 20,
   "id": "617cb1ab-38fd-4ce2-88e2-e2c1541a90c6",
   "metadata": {},
   "outputs": [],
   "source": [
    "# Like a NumPy array, a pandas Series has a single dtype."
   ]
  },
  {
   "cell_type": "code",
   "execution_count": 21,
   "id": "0899e27e-45e8-4f1a-abaf-34e4c1260c89",
   "metadata": {},
   "outputs": [
    {
     "data": {
      "text/plain": [
       "dtype('float64')"
      ]
     },
     "execution_count": 21,
     "metadata": {},
     "output_type": "execute_result"
    }
   ],
   "source": [
    "s.dtype"
   ]
  },
  {
   "cell_type": "code",
   "execution_count": 22,
   "id": "6b3902dd-809c-4e54-97e2-4a3fe1d2986a",
   "metadata": {},
   "outputs": [],
   "source": [
    "# If you need the actual array backing a Series, use Series.array."
   ]
  },
  {
   "cell_type": "code",
   "execution_count": 23,
   "id": "d42a6cda-3fa1-4647-9761-e42ee2090987",
   "metadata": {},
   "outputs": [
    {
     "data": {
      "text/plain": [
       "<NumpyExtensionArray>\n",
       "[ np.float64(1.8723743292960566), np.float64(0.16726682777591506),\n",
       "  np.float64(1.2739572635286078), np.float64(0.10033208226775898),\n",
       " np.float64(0.40589177421401745)]\n",
       "Length: 5, dtype: float64"
      ]
     },
     "execution_count": 23,
     "metadata": {},
     "output_type": "execute_result"
    }
   ],
   "source": [
    "s.array"
   ]
  },
  {
   "cell_type": "code",
   "execution_count": 24,
   "id": "97369753-5d24-4b05-ad21-3465548865ed",
   "metadata": {},
   "outputs": [],
   "source": [
    "# if you need an actual ndarray, then use Series.to_numpy()."
   ]
  },
  {
   "cell_type": "code",
   "execution_count": 25,
   "id": "77424834-1983-4538-b7ab-2f3994400d8e",
   "metadata": {},
   "outputs": [
    {
     "data": {
      "text/plain": [
       "array([1.87237433, 0.16726683, 1.27395726, 0.10033208, 0.40589177])"
      ]
     },
     "execution_count": 25,
     "metadata": {},
     "output_type": "execute_result"
    }
   ],
   "source": [
    "s.to_numpy()"
   ]
  },
  {
   "cell_type": "code",
   "execution_count": 26,
   "id": "ab52f1e0-deee-45cb-bc9d-d97ac29c99b5",
   "metadata": {},
   "outputs": [
    {
     "data": {
      "text/plain": [
       "a    1.872374\n",
       "b    0.167267\n",
       "c    1.273957\n",
       "d    0.100332\n",
       "e    0.405892\n",
       "dtype: float64"
      ]
     },
     "execution_count": 26,
     "metadata": {},
     "output_type": "execute_result"
    }
   ],
   "source": [
    "# A Series is also like a fixed-size dict in that you can get and set values by index label\n",
    "s"
   ]
  },
  {
   "cell_type": "code",
   "execution_count": 27,
   "id": "6bb18b07-870b-4748-b49d-0298cbef95f7",
   "metadata": {},
   "outputs": [
    {
     "data": {
      "text/plain": [
       "np.float64(1.8723743292960566)"
      ]
     },
     "execution_count": 27,
     "metadata": {},
     "output_type": "execute_result"
    }
   ],
   "source": [
    "s[\"a\"]"
   ]
  },
  {
   "cell_type": "code",
   "execution_count": 28,
   "id": "7d359cac-1bca-41bb-9892-526534e3990f",
   "metadata": {},
   "outputs": [
    {
     "data": {
      "text/plain": [
       "a     1.872374\n",
       "b     0.167267\n",
       "c     1.273957\n",
       "d     0.100332\n",
       "e    12.000000\n",
       "dtype: float64"
      ]
     },
     "execution_count": 28,
     "metadata": {},
     "output_type": "execute_result"
    }
   ],
   "source": [
    "s[\"e\"] = 12.0\n",
    "s"
   ]
  },
  {
   "cell_type": "code",
   "execution_count": 29,
   "id": "809dba2f-4c4a-4d15-bc14-5a6017597b28",
   "metadata": {},
   "outputs": [
    {
     "data": {
      "text/plain": [
       "True"
      ]
     },
     "execution_count": 29,
     "metadata": {},
     "output_type": "execute_result"
    }
   ],
   "source": [
    "\"e\" in s"
   ]
  },
  {
   "cell_type": "code",
   "execution_count": 30,
   "id": "636904b5-fd4c-44d3-a8ef-d4c7937a6b6e",
   "metadata": {},
   "outputs": [
    {
     "data": {
      "text/plain": [
       "False"
      ]
     },
     "execution_count": 30,
     "metadata": {},
     "output_type": "execute_result"
    }
   ],
   "source": [
    "\"j\" in s"
   ]
  },
  {
   "cell_type": "code",
   "execution_count": 31,
   "id": "cd0df7ed-d925-4515-b0d6-aea03b8bf8e7",
   "metadata": {},
   "outputs": [],
   "source": [
    "# Using the Series.get() method, a missing label will return None or specified default"
   ]
  },
  {
   "cell_type": "code",
   "execution_count": 32,
   "id": "1d229c12-03dc-4476-b5bb-d506dc4b20ca",
   "metadata": {},
   "outputs": [
    {
     "data": {
      "text/plain": [
       "np.float64(12.0)"
      ]
     },
     "execution_count": 32,
     "metadata": {},
     "output_type": "execute_result"
    }
   ],
   "source": [
    "s.get(\"e\")"
   ]
  },
  {
   "cell_type": "code",
   "execution_count": 33,
   "id": "e72dcda7-7da1-47a7-85d2-7417f78ca8b4",
   "metadata": {},
   "outputs": [],
   "source": [
    "s.get(\"f\")"
   ]
  },
  {
   "cell_type": "code",
   "execution_count": 34,
   "id": "21395416-a9fd-445a-9324-1ffb36eee5b8",
   "metadata": {},
   "outputs": [
    {
     "data": {
      "text/plain": [
       "nan"
      ]
     },
     "execution_count": 34,
     "metadata": {},
     "output_type": "execute_result"
    }
   ],
   "source": [
    "s.get(\"f\", np.nan)"
   ]
  },
  {
   "cell_type": "markdown",
   "id": "90922136-931f-4d6e-88b0-efaa65ab92e3",
   "metadata": {},
   "source": [
    "## Vectorized operations and label alignment with Series"
   ]
  },
  {
   "cell_type": "code",
   "execution_count": 35,
   "id": "7349edea-03c2-48da-a85a-f28b5e1003a1",
   "metadata": {},
   "outputs": [
    {
     "data": {
      "text/plain": [
       "a    3\n",
       "b    3\n",
       "c    2\n",
       "d    0\n",
       "e    1\n",
       "dtype: int32"
      ]
     },
     "execution_count": 35,
     "metadata": {},
     "output_type": "execute_result"
    }
   ],
   "source": [
    "s = pd.Series(np.random.randint(5, size = 5), index = ['a', 'b', 'c', 'd', 'e'])\n",
    "s"
   ]
  },
  {
   "cell_type": "code",
   "execution_count": 36,
   "id": "436be43e-5075-49ff-af2a-b689cc75b0c2",
   "metadata": {},
   "outputs": [
    {
     "data": {
      "text/plain": [
       "a    6\n",
       "b    6\n",
       "c    4\n",
       "d    0\n",
       "e    2\n",
       "dtype: int32"
      ]
     },
     "execution_count": 36,
     "metadata": {},
     "output_type": "execute_result"
    }
   ],
   "source": [
    "s + s "
   ]
  },
  {
   "cell_type": "code",
   "execution_count": 37,
   "id": "25f211bd-035b-4363-88f3-50e453cb2b7e",
   "metadata": {},
   "outputs": [
    {
     "data": {
      "text/plain": [
       "a    9\n",
       "b    9\n",
       "c    4\n",
       "d    0\n",
       "e    1\n",
       "dtype: int32"
      ]
     },
     "execution_count": 37,
     "metadata": {},
     "output_type": "execute_result"
    }
   ],
   "source": [
    "s * s"
   ]
  },
  {
   "cell_type": "code",
   "execution_count": 38,
   "id": "826f3e18-687c-46bd-b01f-b3ae0941300e",
   "metadata": {},
   "outputs": [],
   "source": [
    "# \"s.iloc[1:]\" This gives you everything except the first value\n",
    "# \"s.iloc[:-1]\" This gives you everything except the last value:"
   ]
  },
  {
   "cell_type": "code",
   "execution_count": 39,
   "id": "667b9a1e-1ae6-4c40-a6c0-ee14b19f0f42",
   "metadata": {},
   "outputs": [
    {
     "data": {
      "text/plain": [
       "a    NaN\n",
       "b    6.0\n",
       "c    4.0\n",
       "d    0.0\n",
       "e    NaN\n",
       "dtype: float64"
      ]
     },
     "execution_count": 39,
     "metadata": {},
     "output_type": "execute_result"
    }
   ],
   "source": [
    "s.iloc[1:] + s.iloc[:-1]"
   ]
  },
  {
   "cell_type": "markdown",
   "id": "ea77b8ff-9cd6-468a-ae65-1d9b7f702747",
   "metadata": {},
   "source": [
    "## Name attribute"
   ]
  },
  {
   "cell_type": "code",
   "execution_count": 40,
   "id": "084c00aa-bf94-495f-afee-210639342138",
   "metadata": {},
   "outputs": [
    {
     "name": "stdout",
     "output_type": "stream",
     "text": [
      "0    2\n",
      "1    3\n",
      "2    3\n",
      "3    1\n",
      "4    2\n",
      "Name: something, dtype: int32\n",
      "something\n"
     ]
    }
   ],
   "source": [
    "s = pd.Series(np.random.randint(5, size=5), name=\"something\")\n",
    "print(s)\n",
    "print(s.name)"
   ]
  },
  {
   "cell_type": "code",
   "execution_count": 41,
   "id": "2856dd45-50ae-447c-aac0-4f7714bd4a2a",
   "metadata": {},
   "outputs": [],
   "source": [
    "# We can rename a Series with the pandas.Series.rename() method."
   ]
  },
  {
   "cell_type": "code",
   "execution_count": 42,
   "id": "0e775f0b-8a20-4eec-a352-a775f87c1405",
   "metadata": {},
   "outputs": [
    {
     "data": {
      "text/plain": [
       "'something'"
      ]
     },
     "execution_count": 42,
     "metadata": {},
     "output_type": "execute_result"
    }
   ],
   "source": [
    "s2 = s\n",
    "s2.name"
   ]
  },
  {
   "cell_type": "code",
   "execution_count": 43,
   "id": "082ef2ff-c027-42f8-9b63-ab9508ef7794",
   "metadata": {},
   "outputs": [
    {
     "data": {
      "text/plain": [
       "0    2\n",
       "1    3\n",
       "2    3\n",
       "3    1\n",
       "4    2\n",
       "Name: different, dtype: int32"
      ]
     },
     "execution_count": 43,
     "metadata": {},
     "output_type": "execute_result"
    }
   ],
   "source": [
    "s2 = s.rename(\"different\")\n",
    "s2"
   ]
  },
  {
   "cell_type": "code",
   "execution_count": 44,
   "id": "22e96392-f30e-4ab2-aba1-c39d53a7c80d",
   "metadata": {},
   "outputs": [
    {
     "data": {
      "text/plain": [
       "'something'"
      ]
     },
     "execution_count": 44,
     "metadata": {},
     "output_type": "execute_result"
    }
   ],
   "source": [
    "s.name"
   ]
  },
  {
   "cell_type": "code",
   "execution_count": 45,
   "id": "854e9353-37bd-4610-8e5b-a68121c4719e",
   "metadata": {},
   "outputs": [
    {
     "data": {
      "text/plain": [
       "0    2\n",
       "1    3\n",
       "2    3\n",
       "3    1\n",
       "4    2\n",
       "Name: laksh, dtype: int32"
      ]
     },
     "execution_count": 45,
     "metadata": {},
     "output_type": "execute_result"
    }
   ],
   "source": [
    "s.rename('laksh')"
   ]
  },
  {
   "cell_type": "code",
   "execution_count": 46,
   "id": "d92a5247-42d4-426d-9045-0a09a9acbaff",
   "metadata": {},
   "outputs": [],
   "source": [
    "# Note that s and s2 refer to different objects."
   ]
  },
  {
   "cell_type": "markdown",
   "id": "d9695ea3-c47b-4eee-9d3d-2efd36e61860",
   "metadata": {},
   "source": [
    "## get infomation of Series"
   ]
  },
  {
   "cell_type": "code",
   "execution_count": 47,
   "id": "e28533a4-cbf8-410b-8581-3d289a4d5f8d",
   "metadata": {},
   "outputs": [
    {
     "name": "stdout",
     "output_type": "stream",
     "text": [
      "int32\n",
      ".\n",
      "1\n",
      ".\n",
      "5\n",
      ".\n",
      "something\n",
      ".\n",
      "False\n",
      ".\n",
      "RangeIndex(start=0, stop=5, step=1)\n",
      ".\n",
      "0    2\n",
      "1    3\n",
      "Name: something, dtype: int32\n",
      ".\n",
      "3    1\n",
      "4    2\n",
      "Name: something, dtype: int32\n",
      ".\n",
      "<bound method Series.info of 0    2\n",
      "1    3\n",
      "2    3\n",
      "3    1\n",
      "4    2\n",
      "Name: something, dtype: int32>\n"
     ]
    }
   ],
   "source": [
    "print(s.dtype)\n",
    "print('.')\n",
    "print(s.ndim)\n",
    "print('.')\n",
    "print(s.size)\n",
    "print('.')\n",
    "print(s.name)\n",
    "print('.')\n",
    "print(s.hasnans)\n",
    "print('.')\n",
    "print(s.index)\n",
    "print('.')\n",
    "print(s.head(2))\n",
    "print('.')\n",
    "print(s.tail(2))\n",
    "print('.')\n",
    "print(s.info)"
   ]
  },
  {
   "cell_type": "markdown",
   "id": "44ab360d-5da3-4926-bc90-7aa4de21c7b7",
   "metadata": {},
   "source": [
    "## Merge two Series"
   ]
  },
  {
   "cell_type": "code",
   "execution_count": 137,
   "id": "11fa1b40-1594-40a8-933e-1e5c9870c232",
   "metadata": {},
   "outputs": [
    {
     "name": "stdout",
     "output_type": "stream",
     "text": [
      "a    1\n",
      "b    2\n",
      "c    3\n",
      "a    4\n",
      "b    5\n",
      "c    6\n",
      "dtype: int64\n"
     ]
    }
   ],
   "source": [
    "combined = pd.concat([s1, s2])\n",
    "print(combined)"
   ]
  },
  {
   "cell_type": "code",
   "execution_count": 135,
   "id": "23838dae-dd50-4c3d-8c53-daa50c91dbe9",
   "metadata": {},
   "outputs": [
    {
     "name": "stdout",
     "output_type": "stream",
     "text": [
      "   Series1  Series2\n",
      "a        1        4\n",
      "b        2        5\n",
      "c        3        6\n"
     ]
    }
   ],
   "source": [
    "import pandas as pd\n",
    "\n",
    "s1 = pd.Series([1, 2, 3], index=['a', 'b', 'c'])\n",
    "s2 = pd.Series([4, 5, 6], index=['a', 'b', 'c'])\n",
    "\n",
    "df = pd.concat([s1, s2], axis=1)\n",
    "df.columns = ['Series1', 'Series2']\n",
    "print(df)\n"
   ]
  },
  {
   "cell_type": "markdown",
   "id": "0a0bacb9-a3e4-4161-a923-15346a4b3a08",
   "metadata": {},
   "source": [
    "## unique categories"
   ]
  },
  {
   "cell_type": "code",
   "execution_count": 149,
   "id": "a5dfe88c-3253-469c-9b60-b3eb6d73a3b3",
   "metadata": {},
   "outputs": [
    {
     "data": {
      "text/plain": [
       "0    p\n",
       "1    q\n",
       "2    r\n",
       "3    s\n",
       "4    q\n",
       "dtype: category\n",
       "Categories (6, object): ['p', 'q', 'r', 's', 't', 'l']"
      ]
     },
     "execution_count": 149,
     "metadata": {},
     "output_type": "execute_result"
    }
   ],
   "source": [
    "s = pd.Series(['p', 'q', 'r', 's', 'q'], dtype=\"category\")\n",
    "s = s.cat.add_categories(['t','l'])\n",
    "s"
   ]
  },
  {
   "cell_type": "markdown",
   "id": "adf54720-f4e0-4706-aab5-608441656e33",
   "metadata": {},
   "source": [
    "## Series Releted all function"
   ]
  },
  {
   "cell_type": "code",
   "execution_count": 151,
   "id": "cf8a6f4d-df1e-4a0a-a93f-6c983385857b",
   "metadata": {},
   "outputs": [
    {
     "name": "stdout",
     "output_type": "stream",
     "text": [
      "Original Series:\n",
      " 0    10.0\n",
      "1    20.0\n",
      "2    30.0\n",
      "3     NaN\n",
      "4    40.0\n",
      "5    50.0\n",
      "dtype: float64 \n",
      "\n",
      "count       → 5\n",
      "sum         → 150.0\n",
      "mean        → 30.0\n",
      "median      → 30.0\n",
      "min         → 10.0\n",
      "max         → 50.0\n",
      "mode        → [10.0, 20.0, 30.0, 40.0, 50.0]\n",
      "abs         →\n",
      " 0    10.0\n",
      "1    20.0\n",
      "2    30.0\n",
      "3     NaN\n",
      "4    40.0\n",
      "5    50.0\n",
      "dtype: float64\n",
      "prod        → 12000000.0\n",
      "std         → 15.811388300841896\n",
      "var         → 250.0\n",
      "sem         → 7.071067811865475\n",
      "skew        → 0.0\n",
      "kurt        → -1.2000000000000002\n",
      "quantile(0.5) → 30.0\n",
      "cumsum      →\n",
      " 0     10.0\n",
      "1     30.0\n",
      "2     60.0\n",
      "3      NaN\n",
      "4    100.0\n",
      "5    150.0\n",
      "dtype: float64\n",
      "cumprod     →\n",
      " 0          10.0\n",
      "1         200.0\n",
      "2        6000.0\n",
      "3           NaN\n",
      "4      240000.0\n",
      "5    12000000.0\n",
      "dtype: float64\n",
      "cummax      →\n",
      " 0    10.0\n",
      "1    20.0\n",
      "2    30.0\n",
      "3     NaN\n",
      "4    40.0\n",
      "5    50.0\n",
      "dtype: float64\n",
      "cummin      →\n",
      " 0    10.0\n",
      "1    10.0\n",
      "2    10.0\n",
      "3     NaN\n",
      "4    10.0\n",
      "5    10.0\n",
      "dtype: float64\n",
      "value_counts→\n",
      " 10.0    1\n",
      "20.0    1\n",
      "30.0    1\n",
      "40.0    1\n",
      "50.0    1\n",
      "Name: count, dtype: int64\n",
      "unique      → [10. 20. 30. nan 40. 50.]\n",
      "nlargest(3) →\n",
      " 5    50.0\n",
      "4    40.0\n",
      "2    30.0\n",
      "dtype: float64\n",
      "nsmallest(3)→\n",
      " 0    10.0\n",
      "1    20.0\n",
      "2    30.0\n",
      "dtype: float64\n"
     ]
    }
   ],
   "source": [
    "import pandas as pd\n",
    "import numpy as np\n",
    "\n",
    "# Sample Series with one missing value (NaN)\n",
    "# We use this same series for all functions so you can compare the results easily.\n",
    "s = pd.Series([10, 20, 30, None, 40, 50])\n",
    "print(\"Original Series:\\n\", s, \"\\n\")\n",
    "\n",
    "# 1. count() → Counts only non-missing (non-NaN) values\n",
    "print(\"count       →\", s.count())\n",
    "\n",
    "# 2. sum() → Adds up all non-missing values in the series\n",
    "print(\"sum         →\", s.sum())\n",
    "\n",
    "# 3. mean() → Calculates the average (sum of values ÷ count)\n",
    "print(\"mean        →\", s.mean())\n",
    "\n",
    "# 4. median() → Finds the middle value when data is sorted\n",
    "print(\"median      →\", s.median())\n",
    "\n",
    "# 5. min() → Finds the smallest value in the series\n",
    "print(\"min         →\", s.min())\n",
    "\n",
    "# 6. max() → Finds the largest value in the series\n",
    "print(\"max         →\", s.max())\n",
    "\n",
    "# 7. mode() → Returns the most frequently occurring value(s)\n",
    "print(\"mode        →\", s.mode().tolist())\n",
    "\n",
    "# 8. abs() → Returns the absolute value of each element\n",
    "# (negative numbers become positive, positive numbers stay same)\n",
    "print(\"abs         →\\n\", s.abs())\n",
    "\n",
    "# 9. prod() → Multiplies all non-missing values together\n",
    "print(\"prod        →\", s.prod(skipna=True))\n",
    "\n",
    "# 10. std() → Standard deviation (how spread out the values are from the mean)\n",
    "print(\"std         →\", s.std())\n",
    "\n",
    "# 11. var() → Variance (square of standard deviation, measure of spread)\n",
    "print(\"var         →\", s.var())\n",
    "\n",
    "# 12. sem() → Standard error of the mean (std ÷ sqrt(count)), used in statistics\n",
    "print(\"sem         →\", s.sem())\n",
    "\n",
    "# 13. skew() → Measures asymmetry of the data distribution\n",
    "# (0 means perfectly symmetrical, positive means right-skewed, negative means left-skewed)\n",
    "print(\"skew        →\", s.skew())\n",
    "\n",
    "# 14. kurt() → Measures the 'tailedness' of the distribution\n",
    "# (positive = heavy tails, negative = light tails compared to normal distribution)\n",
    "print(\"kurt        →\", s.kurt())\n",
    "\n",
    "# 15. quantile(p) → Returns the value at the given percentile 'p'\n",
    "# e.g., 0.5 means 50% (median), 0.25 means 25% (1st quartile)\n",
    "print(\"quantile(0.5) →\", s.quantile(0.5))\n",
    "\n",
    "# 16. cumsum() → Cumulative sum (adds each value to all previous ones)\n",
    "print(\"cumsum      →\\n\", s.cumsum())\n",
    "\n",
    "# 17. cumprod() → Cumulative product (multiplies each value with all previous ones)\n",
    "print(\"cumprod     →\\n\", s.cumprod())\n",
    "\n",
    "# 18. cummax() → Cumulative maximum (largest value so far at each position)\n",
    "print(\"cummax      →\\n\", s.cummax())\n",
    "\n",
    "# 19. cummin() → Cumulative minimum (smallest value so far at each position)\n",
    "print(\"cummin      →\\n\", s.cummin())\n",
    "\n",
    "# 20. value_counts() → Counts how many times each unique value appears\n",
    "print(\"value_counts→\\n\", s.value_counts())\n",
    "\n",
    "# 21. unique() → Returns all unique values (NaN is included if present)\n",
    "print(\"unique      →\", s.unique())\n",
    "\n",
    "# 22. nlargest(n) → Returns the top 'n' largest values\n",
    "print(\"nlargest(3) →\\n\", s.nlargest(3))\n",
    "\n",
    "# 23. nsmallest(n) → Returns the top 'n' smallest values\n",
    "print(\"nsmallest(3)→\\n\", s.nsmallest(3))\n"
   ]
  },
  {
   "cell_type": "markdown",
   "id": "8769d235-2aea-4513-84ca-d9b59a834b76",
   "metadata": {},
   "source": [
    "# 3. DataFrame"
   ]
  },
  {
   "cell_type": "code",
   "execution_count": 48,
   "id": "567188be-1772-417d-ad89-05a0d0e97649",
   "metadata": {},
   "outputs": [],
   "source": [
    "# DataFrame is a 2-dimensional labeled data structure with columns of potentially different types. \n",
    "# You can think of it like a spreadsheet or SQL table, or a dict of Series objects."
   ]
  },
  {
   "cell_type": "markdown",
   "id": "481d8e7d-a37c-4d1c-b78f-5d2382c9501b",
   "metadata": {},
   "source": [
    "## DataFrame accepts many different kinds of input:\n",
    "###   i. Dict of Series, 1D ndarrays, lists, dicts, or tuples\n",
    "###   ii. A Series\n",
    "###   iiI. 2-D numpy.ndarray\n",
    "###   iv. Another DataFrame"
   ]
  },
  {
   "cell_type": "markdown",
   "id": "697f04d8-487d-46f0-bc2b-9f7ccff647ed",
   "metadata": {},
   "source": [
    "## From dict from Series"
   ]
  },
  {
   "cell_type": "code",
   "execution_count": 49,
   "id": "c93f24e1-dacc-4ed1-a4c2-dd6313c8bc95",
   "metadata": {},
   "outputs": [
    {
     "data": {
      "text/html": [
       "<div>\n",
       "<style scoped>\n",
       "    .dataframe tbody tr th:only-of-type {\n",
       "        vertical-align: middle;\n",
       "    }\n",
       "\n",
       "    .dataframe tbody tr th {\n",
       "        vertical-align: top;\n",
       "    }\n",
       "\n",
       "    .dataframe thead th {\n",
       "        text-align: right;\n",
       "    }\n",
       "</style>\n",
       "<table border=\"1\" class=\"dataframe\">\n",
       "  <thead>\n",
       "    <tr style=\"text-align: right;\">\n",
       "      <th></th>\n",
       "      <th>one</th>\n",
       "      <th>two</th>\n",
       "    </tr>\n",
       "  </thead>\n",
       "  <tbody>\n",
       "    <tr>\n",
       "      <th>a</th>\n",
       "      <td>1.0</td>\n",
       "      <td>1.0</td>\n",
       "    </tr>\n",
       "    <tr>\n",
       "      <th>b</th>\n",
       "      <td>2.0</td>\n",
       "      <td>2.0</td>\n",
       "    </tr>\n",
       "    <tr>\n",
       "      <th>c</th>\n",
       "      <td>3.0</td>\n",
       "      <td>3.0</td>\n",
       "    </tr>\n",
       "    <tr>\n",
       "      <th>d</th>\n",
       "      <td>NaN</td>\n",
       "      <td>4.0</td>\n",
       "    </tr>\n",
       "  </tbody>\n",
       "</table>\n",
       "</div>"
      ],
      "text/plain": [
       "   one  two\n",
       "a  1.0  1.0\n",
       "b  2.0  2.0\n",
       "c  3.0  3.0\n",
       "d  NaN  4.0"
      ]
     },
     "execution_count": 49,
     "metadata": {},
     "output_type": "execute_result"
    }
   ],
   "source": [
    "d = {\n",
    "    \"one\": pd.Series([1.0, 2.0, 3.0], index=[\"a\", \"b\", \"c\"]),\n",
    "    \"two\": pd.Series([1.0, 2.0, 3.0, 4.0], index=[\"a\", \"b\", \"c\", \"d\"]),\n",
    "}\n",
    "df = pd.DataFrame(d)\n",
    "df"
   ]
  },
  {
   "cell_type": "code",
   "execution_count": 50,
   "id": "eb27d2a4-cffd-4bd9-bae9-5d216cb54d98",
   "metadata": {},
   "outputs": [
    {
     "data": {
      "text/html": [
       "<div>\n",
       "<style scoped>\n",
       "    .dataframe tbody tr th:only-of-type {\n",
       "        vertical-align: middle;\n",
       "    }\n",
       "\n",
       "    .dataframe tbody tr th {\n",
       "        vertical-align: top;\n",
       "    }\n",
       "\n",
       "    .dataframe thead th {\n",
       "        text-align: right;\n",
       "    }\n",
       "</style>\n",
       "<table border=\"1\" class=\"dataframe\">\n",
       "  <thead>\n",
       "    <tr style=\"text-align: right;\">\n",
       "      <th></th>\n",
       "      <th>one</th>\n",
       "      <th>two</th>\n",
       "    </tr>\n",
       "  </thead>\n",
       "  <tbody>\n",
       "    <tr>\n",
       "      <th>d</th>\n",
       "      <td>NaN</td>\n",
       "      <td>4.0</td>\n",
       "    </tr>\n",
       "    <tr>\n",
       "      <th>b</th>\n",
       "      <td>2.0</td>\n",
       "      <td>2.0</td>\n",
       "    </tr>\n",
       "    <tr>\n",
       "      <th>a</th>\n",
       "      <td>1.0</td>\n",
       "      <td>1.0</td>\n",
       "    </tr>\n",
       "  </tbody>\n",
       "</table>\n",
       "</div>"
      ],
      "text/plain": [
       "   one  two\n",
       "d  NaN  4.0\n",
       "b  2.0  2.0\n",
       "a  1.0  1.0"
      ]
     },
     "execution_count": 50,
     "metadata": {},
     "output_type": "execute_result"
    }
   ],
   "source": [
    "pd.DataFrame(d, index=[\"d\", \"b\", \"a\"])"
   ]
  },
  {
   "cell_type": "code",
   "execution_count": 51,
   "id": "54298be2-2964-4dd5-aa35-66bb13f800e8",
   "metadata": {},
   "outputs": [
    {
     "data": {
      "text/html": [
       "<div>\n",
       "<style scoped>\n",
       "    .dataframe tbody tr th:only-of-type {\n",
       "        vertical-align: middle;\n",
       "    }\n",
       "\n",
       "    .dataframe tbody tr th {\n",
       "        vertical-align: top;\n",
       "    }\n",
       "\n",
       "    .dataframe thead th {\n",
       "        text-align: right;\n",
       "    }\n",
       "</style>\n",
       "<table border=\"1\" class=\"dataframe\">\n",
       "  <thead>\n",
       "    <tr style=\"text-align: right;\">\n",
       "      <th></th>\n",
       "      <th>two</th>\n",
       "      <th>one</th>\n",
       "    </tr>\n",
       "  </thead>\n",
       "  <tbody>\n",
       "    <tr>\n",
       "      <th>d</th>\n",
       "      <td>4.0</td>\n",
       "      <td>NaN</td>\n",
       "    </tr>\n",
       "    <tr>\n",
       "      <th>b</th>\n",
       "      <td>2.0</td>\n",
       "      <td>2.0</td>\n",
       "    </tr>\n",
       "    <tr>\n",
       "      <th>a</th>\n",
       "      <td>1.0</td>\n",
       "      <td>1.0</td>\n",
       "    </tr>\n",
       "  </tbody>\n",
       "</table>\n",
       "</div>"
      ],
      "text/plain": [
       "   two  one\n",
       "d  4.0  NaN\n",
       "b  2.0  2.0\n",
       "a  1.0  1.0"
      ]
     },
     "execution_count": 51,
     "metadata": {},
     "output_type": "execute_result"
    }
   ],
   "source": [
    "pd.DataFrame(d, index=[\"d\", \"b\", \"a\"], columns=[\"two\", \"one\"])"
   ]
  },
  {
   "cell_type": "code",
   "execution_count": 52,
   "id": "f899ab71-95c4-4f1d-b619-2d1693032cc2",
   "metadata": {},
   "outputs": [
    {
     "data": {
      "text/html": [
       "<div>\n",
       "<style scoped>\n",
       "    .dataframe tbody tr th:only-of-type {\n",
       "        vertical-align: middle;\n",
       "    }\n",
       "\n",
       "    .dataframe tbody tr th {\n",
       "        vertical-align: top;\n",
       "    }\n",
       "\n",
       "    .dataframe thead th {\n",
       "        text-align: right;\n",
       "    }\n",
       "</style>\n",
       "<table border=\"1\" class=\"dataframe\">\n",
       "  <thead>\n",
       "    <tr style=\"text-align: right;\">\n",
       "      <th></th>\n",
       "      <th>two</th>\n",
       "      <th>three</th>\n",
       "    </tr>\n",
       "  </thead>\n",
       "  <tbody>\n",
       "    <tr>\n",
       "      <th>d</th>\n",
       "      <td>4.0</td>\n",
       "      <td>NaN</td>\n",
       "    </tr>\n",
       "    <tr>\n",
       "      <th>b</th>\n",
       "      <td>2.0</td>\n",
       "      <td>NaN</td>\n",
       "    </tr>\n",
       "    <tr>\n",
       "      <th>a</th>\n",
       "      <td>1.0</td>\n",
       "      <td>NaN</td>\n",
       "    </tr>\n",
       "  </tbody>\n",
       "</table>\n",
       "</div>"
      ],
      "text/plain": [
       "   two three\n",
       "d  4.0   NaN\n",
       "b  2.0   NaN\n",
       "a  1.0   NaN"
      ]
     },
     "execution_count": 52,
     "metadata": {},
     "output_type": "execute_result"
    }
   ],
   "source": [
    "pd.DataFrame(d, index=[\"d\", \"b\", \"a\"], columns=[\"two\", \"three\"])"
   ]
  },
  {
   "cell_type": "code",
   "execution_count": 53,
   "id": "4fd88490-7494-4457-be8e-0c8576a781cf",
   "metadata": {},
   "outputs": [],
   "source": [
    "# When a particular set of columns is passed along with a dict of data, \n",
    "#                     the passed columns override the keys in the dict."
   ]
  },
  {
   "cell_type": "code",
   "execution_count": 54,
   "id": "ded49f35-d7d4-4395-8049-5dee5bfe06b9",
   "metadata": {},
   "outputs": [
    {
     "data": {
      "text/plain": [
       "Index(['a', 'b', 'c', 'd'], dtype='object')"
      ]
     },
     "execution_count": 54,
     "metadata": {},
     "output_type": "execute_result"
    }
   ],
   "source": [
    "df.index"
   ]
  },
  {
   "cell_type": "code",
   "execution_count": 55,
   "id": "8a502e00-4253-493a-8530-8e32fb865cb9",
   "metadata": {},
   "outputs": [
    {
     "data": {
      "text/plain": [
       "Index(['one', 'two'], dtype='object')"
      ]
     },
     "execution_count": 55,
     "metadata": {},
     "output_type": "execute_result"
    }
   ],
   "source": [
    "df.columns"
   ]
  },
  {
   "cell_type": "markdown",
   "id": "7ceacffe-c9bc-4a77-873c-615ffeb24467",
   "metadata": {},
   "source": [
    "## From dict of ndarrays / lists"
   ]
  },
  {
   "cell_type": "code",
   "execution_count": 56,
   "id": "008314a3-7e5c-4249-aa62-3591289a8d3e",
   "metadata": {},
   "outputs": [],
   "source": [
    "# All ndarrays must share the same length. If an index is passed, it must also be the same length as the arrays.\n",
    "# If no index is passed, the result will be range(n), where n is the array length."
   ]
  },
  {
   "cell_type": "code",
   "execution_count": 57,
   "id": "5b4bd97c-db2d-42c9-8869-ecaf46e9678f",
   "metadata": {},
   "outputs": [
    {
     "data": {
      "text/plain": [
       "{'one': [1.0, 2.0, 3.0, 4.0], 'two': [4.0, 3.0, 2.0, 1.0]}"
      ]
     },
     "execution_count": 57,
     "metadata": {},
     "output_type": "execute_result"
    }
   ],
   "source": [
    "d = {\"one\": [1.0, 2.0, 3.0, 4.0], \n",
    "     \"two\": [4.0, 3.0, 2.0, 1.0]}\n",
    "d"
   ]
  },
  {
   "cell_type": "code",
   "execution_count": 58,
   "id": "cb7e6f94-9353-4c09-8269-be862f2d12e4",
   "metadata": {},
   "outputs": [
    {
     "data": {
      "text/html": [
       "<div>\n",
       "<style scoped>\n",
       "    .dataframe tbody tr th:only-of-type {\n",
       "        vertical-align: middle;\n",
       "    }\n",
       "\n",
       "    .dataframe tbody tr th {\n",
       "        vertical-align: top;\n",
       "    }\n",
       "\n",
       "    .dataframe thead th {\n",
       "        text-align: right;\n",
       "    }\n",
       "</style>\n",
       "<table border=\"1\" class=\"dataframe\">\n",
       "  <thead>\n",
       "    <tr style=\"text-align: right;\">\n",
       "      <th></th>\n",
       "      <th>one</th>\n",
       "      <th>two</th>\n",
       "    </tr>\n",
       "  </thead>\n",
       "  <tbody>\n",
       "    <tr>\n",
       "      <th>a</th>\n",
       "      <td>1.0</td>\n",
       "      <td>4.0</td>\n",
       "    </tr>\n",
       "    <tr>\n",
       "      <th>b</th>\n",
       "      <td>2.0</td>\n",
       "      <td>3.0</td>\n",
       "    </tr>\n",
       "    <tr>\n",
       "      <th>c</th>\n",
       "      <td>3.0</td>\n",
       "      <td>2.0</td>\n",
       "    </tr>\n",
       "    <tr>\n",
       "      <th>d</th>\n",
       "      <td>4.0</td>\n",
       "      <td>1.0</td>\n",
       "    </tr>\n",
       "  </tbody>\n",
       "</table>\n",
       "</div>"
      ],
      "text/plain": [
       "   one  two\n",
       "a  1.0  4.0\n",
       "b  2.0  3.0\n",
       "c  3.0  2.0\n",
       "d  4.0  1.0"
      ]
     },
     "execution_count": 58,
     "metadata": {},
     "output_type": "execute_result"
    }
   ],
   "source": [
    "pd.DataFrame(d, index=[\"a\", \"b\", \"c\", \"d\"])"
   ]
  },
  {
   "cell_type": "code",
   "execution_count": 59,
   "id": "8f183b06-4e6e-4c16-bb18-8f617ab8983d",
   "metadata": {},
   "outputs": [],
   "source": [
    "# DataFrame is not intended to work exactly like a 2-dimensional NumPy ndarray."
   ]
  },
  {
   "cell_type": "markdown",
   "id": "ecf2bdd0-df3f-4489-81a0-01f4bc873b32",
   "metadata": {},
   "source": [
    "## From a list of dicts"
   ]
  },
  {
   "cell_type": "code",
   "execution_count": 60,
   "id": "0eedaab1-09ab-448f-9d43-f117d4dd8fe8",
   "metadata": {},
   "outputs": [
    {
     "data": {
      "text/html": [
       "<div>\n",
       "<style scoped>\n",
       "    .dataframe tbody tr th:only-of-type {\n",
       "        vertical-align: middle;\n",
       "    }\n",
       "\n",
       "    .dataframe tbody tr th {\n",
       "        vertical-align: top;\n",
       "    }\n",
       "\n",
       "    .dataframe thead th {\n",
       "        text-align: right;\n",
       "    }\n",
       "</style>\n",
       "<table border=\"1\" class=\"dataframe\">\n",
       "  <thead>\n",
       "    <tr style=\"text-align: right;\">\n",
       "      <th></th>\n",
       "      <th>a</th>\n",
       "      <th>b</th>\n",
       "      <th>c</th>\n",
       "    </tr>\n",
       "  </thead>\n",
       "  <tbody>\n",
       "    <tr>\n",
       "      <th>0</th>\n",
       "      <td>1</td>\n",
       "      <td>2</td>\n",
       "      <td>NaN</td>\n",
       "    </tr>\n",
       "    <tr>\n",
       "      <th>1</th>\n",
       "      <td>5</td>\n",
       "      <td>10</td>\n",
       "      <td>20.0</td>\n",
       "    </tr>\n",
       "  </tbody>\n",
       "</table>\n",
       "</div>"
      ],
      "text/plain": [
       "   a   b     c\n",
       "0  1   2   NaN\n",
       "1  5  10  20.0"
      ]
     },
     "execution_count": 60,
     "metadata": {},
     "output_type": "execute_result"
    }
   ],
   "source": [
    "data2 = [{\"a\": 1, \"b\": 2}, {\"a\": 5, \"b\": 10, \"c\": 20}]\n",
    "pd.DataFrame(data2)"
   ]
  },
  {
   "cell_type": "code",
   "execution_count": 61,
   "id": "39e80179-f4be-47ec-8b0d-f67c546b320a",
   "metadata": {},
   "outputs": [
    {
     "data": {
      "text/html": [
       "<div>\n",
       "<style scoped>\n",
       "    .dataframe tbody tr th:only-of-type {\n",
       "        vertical-align: middle;\n",
       "    }\n",
       "\n",
       "    .dataframe tbody tr th {\n",
       "        vertical-align: top;\n",
       "    }\n",
       "\n",
       "    .dataframe thead th {\n",
       "        text-align: right;\n",
       "    }\n",
       "</style>\n",
       "<table border=\"1\" class=\"dataframe\">\n",
       "  <thead>\n",
       "    <tr style=\"text-align: right;\">\n",
       "      <th></th>\n",
       "      <th>a</th>\n",
       "      <th>b</th>\n",
       "      <th>c</th>\n",
       "    </tr>\n",
       "  </thead>\n",
       "  <tbody>\n",
       "    <tr>\n",
       "      <th>first</th>\n",
       "      <td>1</td>\n",
       "      <td>2</td>\n",
       "      <td>NaN</td>\n",
       "    </tr>\n",
       "    <tr>\n",
       "      <th>second</th>\n",
       "      <td>5</td>\n",
       "      <td>10</td>\n",
       "      <td>20.0</td>\n",
       "    </tr>\n",
       "  </tbody>\n",
       "</table>\n",
       "</div>"
      ],
      "text/plain": [
       "        a   b     c\n",
       "first   1   2   NaN\n",
       "second  5  10  20.0"
      ]
     },
     "execution_count": 61,
     "metadata": {},
     "output_type": "execute_result"
    }
   ],
   "source": [
    "pd.DataFrame(data2, index=[\"first\", \"second\"])"
   ]
  },
  {
   "cell_type": "code",
   "execution_count": 62,
   "id": "08f44bdb-57df-40d4-8984-7b2ca0a13a5e",
   "metadata": {},
   "outputs": [
    {
     "data": {
      "text/html": [
       "<div>\n",
       "<style scoped>\n",
       "    .dataframe tbody tr th:only-of-type {\n",
       "        vertical-align: middle;\n",
       "    }\n",
       "\n",
       "    .dataframe tbody tr th {\n",
       "        vertical-align: top;\n",
       "    }\n",
       "\n",
       "    .dataframe thead th {\n",
       "        text-align: right;\n",
       "    }\n",
       "</style>\n",
       "<table border=\"1\" class=\"dataframe\">\n",
       "  <thead>\n",
       "    <tr style=\"text-align: right;\">\n",
       "      <th></th>\n",
       "      <th>b</th>\n",
       "      <th>a</th>\n",
       "    </tr>\n",
       "  </thead>\n",
       "  <tbody>\n",
       "    <tr>\n",
       "      <th>0</th>\n",
       "      <td>2</td>\n",
       "      <td>1</td>\n",
       "    </tr>\n",
       "    <tr>\n",
       "      <th>1</th>\n",
       "      <td>10</td>\n",
       "      <td>5</td>\n",
       "    </tr>\n",
       "  </tbody>\n",
       "</table>\n",
       "</div>"
      ],
      "text/plain": [
       "    b  a\n",
       "0   2  1\n",
       "1  10  5"
      ]
     },
     "execution_count": 62,
     "metadata": {},
     "output_type": "execute_result"
    }
   ],
   "source": [
    "pd.DataFrame(data2, columns=[\"b\", \"a\"])"
   ]
  },
  {
   "cell_type": "markdown",
   "id": "6a424dbf-6318-4835-a9ff-2df1dabe3228",
   "metadata": {},
   "source": [
    "## From a dict of tuples"
   ]
  },
  {
   "cell_type": "code",
   "execution_count": 63,
   "id": "18b9ac48-7408-467c-8358-d765e443948f",
   "metadata": {},
   "outputs": [
    {
     "data": {
      "text/html": [
       "<div>\n",
       "<style scoped>\n",
       "    .dataframe tbody tr th:only-of-type {\n",
       "        vertical-align: middle;\n",
       "    }\n",
       "\n",
       "    .dataframe tbody tr th {\n",
       "        vertical-align: top;\n",
       "    }\n",
       "\n",
       "    .dataframe thead tr th {\n",
       "        text-align: left;\n",
       "    }\n",
       "</style>\n",
       "<table border=\"1\" class=\"dataframe\">\n",
       "  <thead>\n",
       "    <tr>\n",
       "      <th></th>\n",
       "      <th></th>\n",
       "      <th colspan=\"3\" halign=\"left\">a</th>\n",
       "      <th colspan=\"2\" halign=\"left\">b</th>\n",
       "    </tr>\n",
       "    <tr>\n",
       "      <th></th>\n",
       "      <th></th>\n",
       "      <th>b</th>\n",
       "      <th>a</th>\n",
       "      <th>c</th>\n",
       "      <th>a</th>\n",
       "      <th>b</th>\n",
       "    </tr>\n",
       "  </thead>\n",
       "  <tbody>\n",
       "    <tr>\n",
       "      <th rowspan=\"3\" valign=\"top\">A</th>\n",
       "      <th>B</th>\n",
       "      <td>1.0</td>\n",
       "      <td>4.0</td>\n",
       "      <td>5.0</td>\n",
       "      <td>8.0</td>\n",
       "      <td>10.0</td>\n",
       "    </tr>\n",
       "    <tr>\n",
       "      <th>C</th>\n",
       "      <td>2.0</td>\n",
       "      <td>3.0</td>\n",
       "      <td>6.0</td>\n",
       "      <td>7.0</td>\n",
       "      <td>NaN</td>\n",
       "    </tr>\n",
       "    <tr>\n",
       "      <th>D</th>\n",
       "      <td>NaN</td>\n",
       "      <td>NaN</td>\n",
       "      <td>NaN</td>\n",
       "      <td>NaN</td>\n",
       "      <td>9.0</td>\n",
       "    </tr>\n",
       "  </tbody>\n",
       "</table>\n",
       "</div>"
      ],
      "text/plain": [
       "       a              b      \n",
       "       b    a    c    a     b\n",
       "A B  1.0  4.0  5.0  8.0  10.0\n",
       "  C  2.0  3.0  6.0  7.0   NaN\n",
       "  D  NaN  NaN  NaN  NaN   9.0"
      ]
     },
     "execution_count": 63,
     "metadata": {},
     "output_type": "execute_result"
    }
   ],
   "source": [
    "pd.DataFrame(\n",
    "    {\n",
    "        (\"a\", \"b\"): {(\"A\", \"B\"): 1, (\"A\", \"C\"): 2},\n",
    "        (\"a\", \"a\"): {(\"A\", \"C\"): 3, (\"A\", \"B\"): 4},\n",
    "        (\"a\", \"c\"): {(\"A\", \"B\"): 5, (\"A\", \"C\"): 6},\n",
    "        (\"b\", \"a\"): {(\"A\", \"C\"): 7, (\"A\", \"B\"): 8},\n",
    "        (\"b\", \"b\"): {(\"A\", \"D\"): 9, (\"A\", \"B\"): 10},\n",
    "    }\n",
    ")"
   ]
  },
  {
   "cell_type": "markdown",
   "id": "9def066c-b955-4d12-a85f-e57141c9ed07",
   "metadata": {},
   "source": [
    "## From a Series"
   ]
  },
  {
   "cell_type": "code",
   "execution_count": 64,
   "id": "2115346d-12e3-46cd-bb69-e159597ccce5",
   "metadata": {},
   "outputs": [
    {
     "data": {
      "text/plain": [
       "a    0\n",
       "b    1\n",
       "c    2\n",
       "Name: ser, dtype: int64"
      ]
     },
     "execution_count": 64,
     "metadata": {},
     "output_type": "execute_result"
    }
   ],
   "source": [
    "ser = pd.Series(range(3), index=list(\"abc\"), name=\"ser\")\n",
    "ser"
   ]
  },
  {
   "cell_type": "code",
   "execution_count": 65,
   "id": "aad3fad5-128c-4083-9d53-eed640b5552e",
   "metadata": {},
   "outputs": [
    {
     "data": {
      "text/html": [
       "<div>\n",
       "<style scoped>\n",
       "    .dataframe tbody tr th:only-of-type {\n",
       "        vertical-align: middle;\n",
       "    }\n",
       "\n",
       "    .dataframe tbody tr th {\n",
       "        vertical-align: top;\n",
       "    }\n",
       "\n",
       "    .dataframe thead th {\n",
       "        text-align: right;\n",
       "    }\n",
       "</style>\n",
       "<table border=\"1\" class=\"dataframe\">\n",
       "  <thead>\n",
       "    <tr style=\"text-align: right;\">\n",
       "      <th></th>\n",
       "      <th>ser</th>\n",
       "    </tr>\n",
       "  </thead>\n",
       "  <tbody>\n",
       "    <tr>\n",
       "      <th>a</th>\n",
       "      <td>0</td>\n",
       "    </tr>\n",
       "    <tr>\n",
       "      <th>b</th>\n",
       "      <td>1</td>\n",
       "    </tr>\n",
       "    <tr>\n",
       "      <th>c</th>\n",
       "      <td>2</td>\n",
       "    </tr>\n",
       "  </tbody>\n",
       "</table>\n",
       "</div>"
      ],
      "text/plain": [
       "   ser\n",
       "a    0\n",
       "b    1\n",
       "c    2"
      ]
     },
     "execution_count": 65,
     "metadata": {},
     "output_type": "execute_result"
    }
   ],
   "source": [
    "pd.DataFrame(ser)"
   ]
  },
  {
   "cell_type": "markdown",
   "id": "1ae2fe40-9cee-4ff7-9434-691ccb8ebe01",
   "metadata": {},
   "source": [
    "# 4. Column selection, addition, deletion in Dataframe"
   ]
  },
  {
   "cell_type": "markdown",
   "id": "92911b50-18a3-4c2a-bab6-7b2635d73cd2",
   "metadata": {},
   "source": [
    "## Create"
   ]
  },
  {
   "cell_type": "code",
   "execution_count": 102,
   "id": "21579532-0b58-4d76-a1b7-f2cf289a52d6",
   "metadata": {},
   "outputs": [
    {
     "data": {
      "text/html": [
       "<div>\n",
       "<style scoped>\n",
       "    .dataframe tbody tr th:only-of-type {\n",
       "        vertical-align: middle;\n",
       "    }\n",
       "\n",
       "    .dataframe tbody tr th {\n",
       "        vertical-align: top;\n",
       "    }\n",
       "\n",
       "    .dataframe thead th {\n",
       "        text-align: right;\n",
       "    }\n",
       "</style>\n",
       "<table border=\"1\" class=\"dataframe\">\n",
       "  <thead>\n",
       "    <tr style=\"text-align: right;\">\n",
       "      <th></th>\n",
       "      <th>one</th>\n",
       "      <th>two</th>\n",
       "    </tr>\n",
       "  </thead>\n",
       "  <tbody>\n",
       "    <tr>\n",
       "      <th>a</th>\n",
       "      <td>1.0</td>\n",
       "      <td>4.0</td>\n",
       "    </tr>\n",
       "    <tr>\n",
       "      <th>b</th>\n",
       "      <td>2.0</td>\n",
       "      <td>5.0</td>\n",
       "    </tr>\n",
       "    <tr>\n",
       "      <th>c</th>\n",
       "      <td>3.0</td>\n",
       "      <td>6.0</td>\n",
       "    </tr>\n",
       "    <tr>\n",
       "      <th>d</th>\n",
       "      <td>NaN</td>\n",
       "      <td>7.0</td>\n",
       "    </tr>\n",
       "  </tbody>\n",
       "</table>\n",
       "</div>"
      ],
      "text/plain": [
       "   one  two\n",
       "a  1.0  4.0\n",
       "b  2.0  5.0\n",
       "c  3.0  6.0\n",
       "d  NaN  7.0"
      ]
     },
     "execution_count": 102,
     "metadata": {},
     "output_type": "execute_result"
    }
   ],
   "source": [
    "d = {\n",
    "    \"one\": pd.Series([1.0, 2.0, 3.0], index=[\"a\", \"b\", \"c\"]),\n",
    "    \"two\": pd.Series([4.0, 5.0, 6.0, 7.0], index=[\"a\", \"b\", \"c\", \"d\"]),\n",
    "}\n",
    "df = pd.DataFrame(d)\n",
    "df"
   ]
  },
  {
   "cell_type": "markdown",
   "id": "b2bd5ff9-e35c-477b-ab77-dac0b372921b",
   "metadata": {},
   "source": [
    "# Select"
   ]
  },
  {
   "cell_type": "code",
   "execution_count": 103,
   "id": "b5048814-10d2-496e-9210-39f260ad179d",
   "metadata": {},
   "outputs": [
    {
     "data": {
      "text/plain": [
       "a    4.0\n",
       "b    5.0\n",
       "c    6.0\n",
       "d    7.0\n",
       "Name: two, dtype: float64"
      ]
     },
     "execution_count": 103,
     "metadata": {},
     "output_type": "execute_result"
    }
   ],
   "source": [
    "df['two']"
   ]
  },
  {
   "cell_type": "code",
   "execution_count": 104,
   "id": "724436ba-65c2-4c7a-98a5-8fd5c465598d",
   "metadata": {},
   "outputs": [
    {
     "data": {
      "text/plain": [
       "one    2.0\n",
       "two    5.0\n",
       "Name: b, dtype: float64"
      ]
     },
     "execution_count": 104,
     "metadata": {},
     "output_type": "execute_result"
    }
   ],
   "source": [
    "df.loc['b']"
   ]
  },
  {
   "cell_type": "code",
   "execution_count": 105,
   "id": "db3eb7f5-e158-4a82-a784-c84ac6d51ea6",
   "metadata": {},
   "outputs": [
    {
     "data": {
      "text/plain": [
       "one    3.0\n",
       "two    6.0\n",
       "Name: c, dtype: float64"
      ]
     },
     "execution_count": 105,
     "metadata": {},
     "output_type": "execute_result"
    }
   ],
   "source": [
    "df.iloc[2]"
   ]
  },
  {
   "cell_type": "code",
   "execution_count": 110,
   "id": "caf385a6-8ab1-46d3-8b86-c9dd91cb856f",
   "metadata": {},
   "outputs": [
    {
     "data": {
      "text/plain": [
       "np.float64(6.0)"
      ]
     },
     "execution_count": 110,
     "metadata": {},
     "output_type": "execute_result"
    }
   ],
   "source": [
    "value = df.loc['c', 'two']\n",
    "value"
   ]
  },
  {
   "cell_type": "code",
   "execution_count": 113,
   "id": "83cdb6ef-ad6d-498d-8a57-1ed283fa3cad",
   "metadata": {},
   "outputs": [
    {
     "data": {
      "text/plain": [
       "np.float64(5.0)"
      ]
     },
     "execution_count": 113,
     "metadata": {},
     "output_type": "execute_result"
    }
   ],
   "source": [
    "value = df.iloc[1, 1]\n",
    "value"
   ]
  },
  {
   "cell_type": "code",
   "execution_count": 114,
   "id": "99aa8b34-e541-4e8a-8499-ccf032f445df",
   "metadata": {},
   "outputs": [
    {
     "name": "stdout",
     "output_type": "stream",
     "text": [
      "          Student  Rank  Marks\n",
      "Student_1   Laksh     1     99\n",
      "Student_2    Amit     2     98\n",
      "Student_3    John     3     97\n",
      "Student_4   Jakob     4     96\n",
      "Student_5   Devid     5     95\n",
      "Student_6   Steve     6     94\n",
      "Student\n",
      "['Laksh' 'Amit' 'John' 'Jakob' 'Devid' 'Steve']\n",
      "Rank\n",
      "[1 2 3 4 5 6]\n",
      "Marks\n",
      "[99 98 97 96 95 94]\n"
     ]
    }
   ],
   "source": [
    "# Interate Dataframe to display the columns\n",
    "import pandas as pd\n",
    "\n",
    "data = {\n",
    "    'Student': [\"Laksh\", \"Amit\", \"John\", \"Jakob\", \"Devid\", \"Steve\"],\n",
    "    'Rank': [1, 2, 3, 4, 5, 6],\n",
    "    'Marks': [99, 98, 97, 96, 95, 94],\n",
    "}\n",
    "\n",
    "# Use the index argument to set your Index. \n",
    "df = pd.DataFrame(data, index=[\"Student_1\", \"Student_2\", \"Student_3\", \"Student_4\", \"Student_5\", \"Student_6\"])\n",
    "print(df)\n",
    "\n",
    "for col in df:\n",
    "    print(col)\n",
    "    print(df[col].values)"
   ]
  },
  {
   "cell_type": "markdown",
   "id": "1d7d02db-9667-40ef-be14-d11914c82550",
   "metadata": {},
   "source": [
    "## Adding"
   ]
  },
  {
   "cell_type": "code",
   "execution_count": 70,
   "id": "ab64b694-320b-4229-87d1-b037ff1580f1",
   "metadata": {},
   "outputs": [
    {
     "data": {
      "text/html": [
       "<div>\n",
       "<style scoped>\n",
       "    .dataframe tbody tr th:only-of-type {\n",
       "        vertical-align: middle;\n",
       "    }\n",
       "\n",
       "    .dataframe tbody tr th {\n",
       "        vertical-align: top;\n",
       "    }\n",
       "\n",
       "    .dataframe thead th {\n",
       "        text-align: right;\n",
       "    }\n",
       "</style>\n",
       "<table border=\"1\" class=\"dataframe\">\n",
       "  <thead>\n",
       "    <tr style=\"text-align: right;\">\n",
       "      <th></th>\n",
       "      <th>one</th>\n",
       "      <th>two</th>\n",
       "      <th>three</th>\n",
       "    </tr>\n",
       "  </thead>\n",
       "  <tbody>\n",
       "    <tr>\n",
       "      <th>a</th>\n",
       "      <td>1.0</td>\n",
       "      <td>4.0</td>\n",
       "      <td>4.0</td>\n",
       "    </tr>\n",
       "    <tr>\n",
       "      <th>b</th>\n",
       "      <td>2.0</td>\n",
       "      <td>5.0</td>\n",
       "      <td>10.0</td>\n",
       "    </tr>\n",
       "    <tr>\n",
       "      <th>c</th>\n",
       "      <td>3.0</td>\n",
       "      <td>6.0</td>\n",
       "      <td>18.0</td>\n",
       "    </tr>\n",
       "    <tr>\n",
       "      <th>d</th>\n",
       "      <td>NaN</td>\n",
       "      <td>7.0</td>\n",
       "      <td>NaN</td>\n",
       "    </tr>\n",
       "  </tbody>\n",
       "</table>\n",
       "</div>"
      ],
      "text/plain": [
       "   one  two  three\n",
       "a  1.0  4.0    4.0\n",
       "b  2.0  5.0   10.0\n",
       "c  3.0  6.0   18.0\n",
       "d  NaN  7.0    NaN"
      ]
     },
     "execution_count": 70,
     "metadata": {},
     "output_type": "execute_result"
    }
   ],
   "source": [
    "df[\"three\"] = df[\"one\"] * df[\"two\"]\n",
    "df"
   ]
  },
  {
   "cell_type": "code",
   "execution_count": 71,
   "id": "51b88af3-43bb-4da2-805c-779a32dc8699",
   "metadata": {},
   "outputs": [
    {
     "data": {
      "text/html": [
       "<div>\n",
       "<style scoped>\n",
       "    .dataframe tbody tr th:only-of-type {\n",
       "        vertical-align: middle;\n",
       "    }\n",
       "\n",
       "    .dataframe tbody tr th {\n",
       "        vertical-align: top;\n",
       "    }\n",
       "\n",
       "    .dataframe thead th {\n",
       "        text-align: right;\n",
       "    }\n",
       "</style>\n",
       "<table border=\"1\" class=\"dataframe\">\n",
       "  <thead>\n",
       "    <tr style=\"text-align: right;\">\n",
       "      <th></th>\n",
       "      <th>one</th>\n",
       "      <th>two</th>\n",
       "      <th>three</th>\n",
       "      <th>flag</th>\n",
       "    </tr>\n",
       "  </thead>\n",
       "  <tbody>\n",
       "    <tr>\n",
       "      <th>a</th>\n",
       "      <td>1.0</td>\n",
       "      <td>4.0</td>\n",
       "      <td>4.0</td>\n",
       "      <td>False</td>\n",
       "    </tr>\n",
       "    <tr>\n",
       "      <th>b</th>\n",
       "      <td>2.0</td>\n",
       "      <td>5.0</td>\n",
       "      <td>10.0</td>\n",
       "      <td>False</td>\n",
       "    </tr>\n",
       "    <tr>\n",
       "      <th>c</th>\n",
       "      <td>3.0</td>\n",
       "      <td>6.0</td>\n",
       "      <td>18.0</td>\n",
       "      <td>True</td>\n",
       "    </tr>\n",
       "    <tr>\n",
       "      <th>d</th>\n",
       "      <td>NaN</td>\n",
       "      <td>7.0</td>\n",
       "      <td>NaN</td>\n",
       "      <td>False</td>\n",
       "    </tr>\n",
       "  </tbody>\n",
       "</table>\n",
       "</div>"
      ],
      "text/plain": [
       "   one  two  three   flag\n",
       "a  1.0  4.0    4.0  False\n",
       "b  2.0  5.0   10.0  False\n",
       "c  3.0  6.0   18.0   True\n",
       "d  NaN  7.0    NaN  False"
      ]
     },
     "execution_count": 71,
     "metadata": {},
     "output_type": "execute_result"
    }
   ],
   "source": [
    "df[\"flag\"] = df[\"one\"] > 2\n",
    "df"
   ]
  },
  {
   "cell_type": "markdown",
   "id": "c68ad5de-3d9a-46a6-bd01-e84465247f16",
   "metadata": {},
   "source": [
    "## Delete"
   ]
  },
  {
   "cell_type": "code",
   "execution_count": 72,
   "id": "1a4e279c-c966-4748-a95f-d8b8d9e2968c",
   "metadata": {},
   "outputs": [
    {
     "data": {
      "text/html": [
       "<div>\n",
       "<style scoped>\n",
       "    .dataframe tbody tr th:only-of-type {\n",
       "        vertical-align: middle;\n",
       "    }\n",
       "\n",
       "    .dataframe tbody tr th {\n",
       "        vertical-align: top;\n",
       "    }\n",
       "\n",
       "    .dataframe thead th {\n",
       "        text-align: right;\n",
       "    }\n",
       "</style>\n",
       "<table border=\"1\" class=\"dataframe\">\n",
       "  <thead>\n",
       "    <tr style=\"text-align: right;\">\n",
       "      <th></th>\n",
       "      <th>one</th>\n",
       "      <th>three</th>\n",
       "      <th>flag</th>\n",
       "    </tr>\n",
       "  </thead>\n",
       "  <tbody>\n",
       "    <tr>\n",
       "      <th>a</th>\n",
       "      <td>1.0</td>\n",
       "      <td>4.0</td>\n",
       "      <td>False</td>\n",
       "    </tr>\n",
       "    <tr>\n",
       "      <th>b</th>\n",
       "      <td>2.0</td>\n",
       "      <td>10.0</td>\n",
       "      <td>False</td>\n",
       "    </tr>\n",
       "    <tr>\n",
       "      <th>c</th>\n",
       "      <td>3.0</td>\n",
       "      <td>18.0</td>\n",
       "      <td>True</td>\n",
       "    </tr>\n",
       "    <tr>\n",
       "      <th>d</th>\n",
       "      <td>NaN</td>\n",
       "      <td>NaN</td>\n",
       "      <td>False</td>\n",
       "    </tr>\n",
       "  </tbody>\n",
       "</table>\n",
       "</div>"
      ],
      "text/plain": [
       "   one  three   flag\n",
       "a  1.0    4.0  False\n",
       "b  2.0   10.0  False\n",
       "c  3.0   18.0   True\n",
       "d  NaN    NaN  False"
      ]
     },
     "execution_count": 72,
     "metadata": {},
     "output_type": "execute_result"
    }
   ],
   "source": [
    "del df[\"two\"]\n",
    "df"
   ]
  },
  {
   "cell_type": "code",
   "execution_count": 73,
   "id": "37a10886-98a8-48c3-93e9-d5f276286338",
   "metadata": {},
   "outputs": [
    {
     "data": {
      "text/html": [
       "<div>\n",
       "<style scoped>\n",
       "    .dataframe tbody tr th:only-of-type {\n",
       "        vertical-align: middle;\n",
       "    }\n",
       "\n",
       "    .dataframe tbody tr th {\n",
       "        vertical-align: top;\n",
       "    }\n",
       "\n",
       "    .dataframe thead th {\n",
       "        text-align: right;\n",
       "    }\n",
       "</style>\n",
       "<table border=\"1\" class=\"dataframe\">\n",
       "  <thead>\n",
       "    <tr style=\"text-align: right;\">\n",
       "      <th></th>\n",
       "      <th>one</th>\n",
       "      <th>three</th>\n",
       "      <th>flag</th>\n",
       "      <th>foo</th>\n",
       "    </tr>\n",
       "  </thead>\n",
       "  <tbody>\n",
       "    <tr>\n",
       "      <th>a</th>\n",
       "      <td>1.0</td>\n",
       "      <td>4.0</td>\n",
       "      <td>False</td>\n",
       "      <td>bar</td>\n",
       "    </tr>\n",
       "    <tr>\n",
       "      <th>b</th>\n",
       "      <td>2.0</td>\n",
       "      <td>10.0</td>\n",
       "      <td>False</td>\n",
       "      <td>bar</td>\n",
       "    </tr>\n",
       "    <tr>\n",
       "      <th>c</th>\n",
       "      <td>3.0</td>\n",
       "      <td>18.0</td>\n",
       "      <td>True</td>\n",
       "      <td>bar</td>\n",
       "    </tr>\n",
       "    <tr>\n",
       "      <th>d</th>\n",
       "      <td>NaN</td>\n",
       "      <td>NaN</td>\n",
       "      <td>False</td>\n",
       "      <td>bar</td>\n",
       "    </tr>\n",
       "  </tbody>\n",
       "</table>\n",
       "</div>"
      ],
      "text/plain": [
       "   one  three   flag  foo\n",
       "a  1.0    4.0  False  bar\n",
       "b  2.0   10.0  False  bar\n",
       "c  3.0   18.0   True  bar\n",
       "d  NaN    NaN  False  bar"
      ]
     },
     "execution_count": 73,
     "metadata": {},
     "output_type": "execute_result"
    }
   ],
   "source": [
    "df[\"foo\"] = \"bar\"\n",
    "df"
   ]
  },
  {
   "cell_type": "code",
   "execution_count": 74,
   "id": "303adbfc-10c8-46b3-9dd6-6212f1c6671d",
   "metadata": {},
   "outputs": [
    {
     "data": {
      "text/html": [
       "<div>\n",
       "<style scoped>\n",
       "    .dataframe tbody tr th:only-of-type {\n",
       "        vertical-align: middle;\n",
       "    }\n",
       "\n",
       "    .dataframe tbody tr th {\n",
       "        vertical-align: top;\n",
       "    }\n",
       "\n",
       "    .dataframe thead th {\n",
       "        text-align: right;\n",
       "    }\n",
       "</style>\n",
       "<table border=\"1\" class=\"dataframe\">\n",
       "  <thead>\n",
       "    <tr style=\"text-align: right;\">\n",
       "      <th></th>\n",
       "      <th>one</th>\n",
       "      <th>three</th>\n",
       "      <th>flag</th>\n",
       "      <th>foo</th>\n",
       "      <th>one_trunc</th>\n",
       "    </tr>\n",
       "  </thead>\n",
       "  <tbody>\n",
       "    <tr>\n",
       "      <th>a</th>\n",
       "      <td>1.0</td>\n",
       "      <td>4.0</td>\n",
       "      <td>False</td>\n",
       "      <td>bar</td>\n",
       "      <td>1.0</td>\n",
       "    </tr>\n",
       "    <tr>\n",
       "      <th>b</th>\n",
       "      <td>2.0</td>\n",
       "      <td>10.0</td>\n",
       "      <td>False</td>\n",
       "      <td>bar</td>\n",
       "      <td>2.0</td>\n",
       "    </tr>\n",
       "    <tr>\n",
       "      <th>c</th>\n",
       "      <td>3.0</td>\n",
       "      <td>18.0</td>\n",
       "      <td>True</td>\n",
       "      <td>bar</td>\n",
       "      <td>NaN</td>\n",
       "    </tr>\n",
       "    <tr>\n",
       "      <th>d</th>\n",
       "      <td>NaN</td>\n",
       "      <td>NaN</td>\n",
       "      <td>False</td>\n",
       "      <td>bar</td>\n",
       "      <td>NaN</td>\n",
       "    </tr>\n",
       "  </tbody>\n",
       "</table>\n",
       "</div>"
      ],
      "text/plain": [
       "   one  three   flag  foo  one_trunc\n",
       "a  1.0    4.0  False  bar        1.0\n",
       "b  2.0   10.0  False  bar        2.0\n",
       "c  3.0   18.0   True  bar        NaN\n",
       "d  NaN    NaN  False  bar        NaN"
      ]
     },
     "execution_count": 74,
     "metadata": {},
     "output_type": "execute_result"
    }
   ],
   "source": [
    "df[\"one_trunc\"] = df[\"one\"][:2]\n",
    "df"
   ]
  },
  {
   "cell_type": "markdown",
   "id": "a8b7cd06-824d-401a-8cec-013fbf1b7eb0",
   "metadata": {},
   "source": [
    "## Insert Row"
   ]
  },
  {
   "cell_type": "code",
   "execution_count": 75,
   "id": "0a348c7e-dc79-4db8-b1ba-1c25e935ff4b",
   "metadata": {},
   "outputs": [],
   "source": [
    "# You can insert raw ndarrays but their length must match the length of the DataFrame’s index."
   ]
  },
  {
   "cell_type": "code",
   "execution_count": 76,
   "id": "3ecc42db-93d2-4d46-8ba4-e4f434336b90",
   "metadata": {},
   "outputs": [],
   "source": [
    "# By default, columns get inserted at the end."
   ]
  },
  {
   "cell_type": "code",
   "execution_count": 77,
   "id": "1dac9327-a77d-4a03-8bae-54ec9ba3e7e2",
   "metadata": {},
   "outputs": [
    {
     "data": {
      "text/html": [
       "<div>\n",
       "<style scoped>\n",
       "    .dataframe tbody tr th:only-of-type {\n",
       "        vertical-align: middle;\n",
       "    }\n",
       "\n",
       "    .dataframe tbody tr th {\n",
       "        vertical-align: top;\n",
       "    }\n",
       "\n",
       "    .dataframe thead th {\n",
       "        text-align: right;\n",
       "    }\n",
       "</style>\n",
       "<table border=\"1\" class=\"dataframe\">\n",
       "  <thead>\n",
       "    <tr style=\"text-align: right;\">\n",
       "      <th></th>\n",
       "      <th>one</th>\n",
       "      <th>three</th>\n",
       "      <th>flag</th>\n",
       "      <th>foo</th>\n",
       "      <th>one_trunc</th>\n",
       "    </tr>\n",
       "  </thead>\n",
       "  <tbody>\n",
       "    <tr>\n",
       "      <th>a</th>\n",
       "      <td>1.0</td>\n",
       "      <td>4.0</td>\n",
       "      <td>False</td>\n",
       "      <td>bar</td>\n",
       "      <td>1.0</td>\n",
       "    </tr>\n",
       "    <tr>\n",
       "      <th>b</th>\n",
       "      <td>2.0</td>\n",
       "      <td>10.0</td>\n",
       "      <td>False</td>\n",
       "      <td>bar</td>\n",
       "      <td>2.0</td>\n",
       "    </tr>\n",
       "    <tr>\n",
       "      <th>c</th>\n",
       "      <td>3.0</td>\n",
       "      <td>18.0</td>\n",
       "      <td>True</td>\n",
       "      <td>bar</td>\n",
       "      <td>NaN</td>\n",
       "    </tr>\n",
       "    <tr>\n",
       "      <th>d</th>\n",
       "      <td>NaN</td>\n",
       "      <td>NaN</td>\n",
       "      <td>False</td>\n",
       "      <td>bar</td>\n",
       "      <td>NaN</td>\n",
       "    </tr>\n",
       "    <tr>\n",
       "      <th>e</th>\n",
       "      <td>4.0</td>\n",
       "      <td>20.0</td>\n",
       "      <td>True</td>\n",
       "      <td>bar</td>\n",
       "      <td>4.0</td>\n",
       "    </tr>\n",
       "  </tbody>\n",
       "</table>\n",
       "</div>"
      ],
      "text/plain": [
       "   one  three   flag  foo  one_trunc\n",
       "a  1.0    4.0  False  bar        1.0\n",
       "b  2.0   10.0  False  bar        2.0\n",
       "c  3.0   18.0   True  bar        NaN\n",
       "d  NaN    NaN  False  bar        NaN\n",
       "e  4.0   20.0   True  bar        4.0"
      ]
     },
     "execution_count": 77,
     "metadata": {},
     "output_type": "execute_result"
    }
   ],
   "source": [
    "df.loc['e'] = {\n",
    "    'one': 4.0,\n",
    "    'three': 20.0,\n",
    "    'flag': True,\n",
    "    'foo': 'bar',\n",
    "    'one_trunc': 4.0\n",
    "}\n",
    "df"
   ]
  },
  {
   "cell_type": "markdown",
   "id": "efb8ec6a-c41f-44af-a2bf-902dd7a9d34b",
   "metadata": {},
   "source": [
    "## DataFrame Attribute"
   ]
  },
  {
   "cell_type": "code",
   "execution_count": 115,
   "id": "1613dad7-6989-4c8b-b6e3-79fe565bd654",
   "metadata": {},
   "outputs": [
    {
     "name": "stdout",
     "output_type": "stream",
     "text": [
      "          Student  Rank  Marks\n",
      "Student_1   Laksh     1     99\n",
      "Student_2    Amit     2     98\n",
      "Student_3    John     3     97\n",
      "Student_4   Jakob     4     96\n",
      "Student_5   Devid     5     95\n",
      "Student_6   Steve     6     94\n"
     ]
    }
   ],
   "source": [
    "data = {\n",
    "    'Student': [\"Laksh\", \"Amit\", \"John\", \"Jakob\", \"Devid\", \"Steve\"],\n",
    "    'Rank': [1, 2, 3, 4, 5, 6],\n",
    "    'Marks': [99, 98, 97, 96, 95, 94],\n",
    "}\n",
    "\n",
    "# Use the index argument to set your Index. \n",
    "df = pd.DataFrame(data, index=[\"Student_1\", \"Student_2\", \"Student_3\", \"Student_4\", \"Student_5\", \"Student_6\"])\n",
    "print(df)"
   ]
  },
  {
   "cell_type": "code",
   "execution_count": 120,
   "id": "dfb18b4c-5dbf-49cd-b3b1-a05f3c65eb22",
   "metadata": {},
   "outputs": [
    {
     "name": "stdout",
     "output_type": "stream",
     "text": [
      "Student    object\n",
      "Rank        int64\n",
      "Marks       int64\n",
      "dtype: object\n",
      ".\n",
      "2\n",
      ".\n",
      "18\n",
      ".\n",
      "(6, 3)\n",
      ".\n",
      "Index(['Student_1', 'Student_2', 'Student_3', 'Student_4', 'Student_5',\n",
      "       'Student_6'],\n",
      "      dtype='object')\n",
      ".\n",
      "        Student_1 Student_2 Student_3 Student_4 Student_5 Student_6\n",
      "Student     Laksh      Amit      John     Jakob     Devid     Steve\n",
      "Rank            1         2         3         4         5         6\n",
      "Marks          99        98        97        96        95        94\n",
      ".\n",
      "          Student  Rank  Marks\n",
      "Student_1   Laksh     1     99\n",
      "Student_2    Amit     2     98\n",
      ".\n",
      "          Student  Rank  Marks\n",
      "Student_5   Devid     5     95\n",
      "Student_6   Steve     6     94\n"
     ]
    }
   ],
   "source": [
    "print(df.dtypes)\n",
    "print('.')\n",
    "print(df.ndim)\n",
    "print('.')\n",
    "print(df.size)\n",
    "print('.')\n",
    "print(df.shape)\n",
    "print('.')\n",
    "print(df.index)\n",
    "print('.')\n",
    "print(df.T)\n",
    "print('.')\n",
    "print(df.head(2))\n",
    "print('.')\n",
    "print(df.tail(2))"
   ]
  },
  {
   "cell_type": "markdown",
   "id": "f599bdb5-c155-4555-8d68-a84508838c63",
   "metadata": {},
   "source": [
    "## Data alignment and arithmetic"
   ]
  },
  {
   "cell_type": "code",
   "execution_count": 122,
   "id": "2eefc221-2824-4853-96ef-1604da587e21",
   "metadata": {},
   "outputs": [
    {
     "name": "stdout",
     "output_type": "stream",
     "text": [
      "          A         B         C         D\n",
      "0  0.903223  0.950118  0.044327 -1.055534\n",
      "1 -0.886110  0.076140  0.960511  0.283844\n",
      "2 -0.078336  0.644232 -0.576075 -1.880245\n",
      "3  0.066664 -0.217477  1.156130  1.372837\n",
      "4 -1.008774 -0.011131 -0.847222  0.535669\n",
      "5  0.024618  0.074701 -0.874138  0.299191\n",
      "6  0.102853  0.885031  0.795925  1.223513\n",
      "7  0.158203  0.376486  0.805186  0.107284\n",
      "8 -1.331448  1.338056  2.411440 -1.236057\n",
      "9  0.446311 -2.417250 -1.704313  0.211457\n",
      ".\n",
      "          A         B         C\n",
      "0 -0.600594  0.362277 -0.594227\n",
      "1 -0.227778  1.784921 -0.399010\n",
      "2  0.201326  0.284135  0.863718\n",
      "3 -0.241675 -0.848118 -0.566627\n",
      "4 -1.126482 -0.646305  0.061900\n",
      "5 -0.492923 -0.052796  0.000546\n",
      "6 -0.261949  0.657813 -0.304124\n"
     ]
    }
   ],
   "source": [
    "df = pd.DataFrame(np.random.randn(10, 4), columns=[\"A\", \"B\", \"C\", \"D\"])\n",
    "\n",
    "df2 = pd.DataFrame(np.random.randn(7, 3), columns=[\"A\", \"B\", \"C\"])\n",
    "print(df)\n",
    "print('.')\n",
    "print(df2)"
   ]
  },
  {
   "cell_type": "code",
   "execution_count": 123,
   "id": "371490b6-3005-4333-bfd6-e9beab0919f6",
   "metadata": {},
   "outputs": [
    {
     "data": {
      "text/html": [
       "<div>\n",
       "<style scoped>\n",
       "    .dataframe tbody tr th:only-of-type {\n",
       "        vertical-align: middle;\n",
       "    }\n",
       "\n",
       "    .dataframe tbody tr th {\n",
       "        vertical-align: top;\n",
       "    }\n",
       "\n",
       "    .dataframe thead th {\n",
       "        text-align: right;\n",
       "    }\n",
       "</style>\n",
       "<table border=\"1\" class=\"dataframe\">\n",
       "  <thead>\n",
       "    <tr style=\"text-align: right;\">\n",
       "      <th></th>\n",
       "      <th>A</th>\n",
       "      <th>B</th>\n",
       "      <th>C</th>\n",
       "      <th>D</th>\n",
       "    </tr>\n",
       "  </thead>\n",
       "  <tbody>\n",
       "    <tr>\n",
       "      <th>0</th>\n",
       "      <td>0.302630</td>\n",
       "      <td>1.312395</td>\n",
       "      <td>-0.549900</td>\n",
       "      <td>NaN</td>\n",
       "    </tr>\n",
       "    <tr>\n",
       "      <th>1</th>\n",
       "      <td>-1.113888</td>\n",
       "      <td>1.861061</td>\n",
       "      <td>0.561501</td>\n",
       "      <td>NaN</td>\n",
       "    </tr>\n",
       "    <tr>\n",
       "      <th>2</th>\n",
       "      <td>0.122990</td>\n",
       "      <td>0.928368</td>\n",
       "      <td>0.287643</td>\n",
       "      <td>NaN</td>\n",
       "    </tr>\n",
       "    <tr>\n",
       "      <th>3</th>\n",
       "      <td>-0.175011</td>\n",
       "      <td>-1.065595</td>\n",
       "      <td>0.589503</td>\n",
       "      <td>NaN</td>\n",
       "    </tr>\n",
       "    <tr>\n",
       "      <th>4</th>\n",
       "      <td>-2.135256</td>\n",
       "      <td>-0.657435</td>\n",
       "      <td>-0.785323</td>\n",
       "      <td>NaN</td>\n",
       "    </tr>\n",
       "    <tr>\n",
       "      <th>5</th>\n",
       "      <td>-0.468305</td>\n",
       "      <td>0.021904</td>\n",
       "      <td>-0.873592</td>\n",
       "      <td>NaN</td>\n",
       "    </tr>\n",
       "    <tr>\n",
       "      <th>6</th>\n",
       "      <td>-0.159095</td>\n",
       "      <td>1.542845</td>\n",
       "      <td>0.491801</td>\n",
       "      <td>NaN</td>\n",
       "    </tr>\n",
       "    <tr>\n",
       "      <th>7</th>\n",
       "      <td>NaN</td>\n",
       "      <td>NaN</td>\n",
       "      <td>NaN</td>\n",
       "      <td>NaN</td>\n",
       "    </tr>\n",
       "    <tr>\n",
       "      <th>8</th>\n",
       "      <td>NaN</td>\n",
       "      <td>NaN</td>\n",
       "      <td>NaN</td>\n",
       "      <td>NaN</td>\n",
       "    </tr>\n",
       "    <tr>\n",
       "      <th>9</th>\n",
       "      <td>NaN</td>\n",
       "      <td>NaN</td>\n",
       "      <td>NaN</td>\n",
       "      <td>NaN</td>\n",
       "    </tr>\n",
       "  </tbody>\n",
       "</table>\n",
       "</div>"
      ],
      "text/plain": [
       "          A         B         C   D\n",
       "0  0.302630  1.312395 -0.549900 NaN\n",
       "1 -1.113888  1.861061  0.561501 NaN\n",
       "2  0.122990  0.928368  0.287643 NaN\n",
       "3 -0.175011 -1.065595  0.589503 NaN\n",
       "4 -2.135256 -0.657435 -0.785323 NaN\n",
       "5 -0.468305  0.021904 -0.873592 NaN\n",
       "6 -0.159095  1.542845  0.491801 NaN\n",
       "7       NaN       NaN       NaN NaN\n",
       "8       NaN       NaN       NaN NaN\n",
       "9       NaN       NaN       NaN NaN"
      ]
     },
     "execution_count": 123,
     "metadata": {},
     "output_type": "execute_result"
    }
   ],
   "source": [
    "df + df2"
   ]
  },
  {
   "cell_type": "code",
   "execution_count": 124,
   "id": "b4fb1561-9d87-4665-a25f-f2256595f4ba",
   "metadata": {},
   "outputs": [
    {
     "data": {
      "text/html": [
       "<div>\n",
       "<style scoped>\n",
       "    .dataframe tbody tr th:only-of-type {\n",
       "        vertical-align: middle;\n",
       "    }\n",
       "\n",
       "    .dataframe tbody tr th {\n",
       "        vertical-align: top;\n",
       "    }\n",
       "\n",
       "    .dataframe thead th {\n",
       "        text-align: right;\n",
       "    }\n",
       "</style>\n",
       "<table border=\"1\" class=\"dataframe\">\n",
       "  <thead>\n",
       "    <tr style=\"text-align: right;\">\n",
       "      <th></th>\n",
       "      <th>A</th>\n",
       "      <th>B</th>\n",
       "      <th>C</th>\n",
       "      <th>D</th>\n",
       "    </tr>\n",
       "  </thead>\n",
       "  <tbody>\n",
       "    <tr>\n",
       "      <th>0</th>\n",
       "      <td>6.516117</td>\n",
       "      <td>6.750589</td>\n",
       "      <td>2.221633</td>\n",
       "      <td>-3.277671</td>\n",
       "    </tr>\n",
       "    <tr>\n",
       "      <th>1</th>\n",
       "      <td>-2.430550</td>\n",
       "      <td>2.380700</td>\n",
       "      <td>6.802557</td>\n",
       "      <td>3.419221</td>\n",
       "    </tr>\n",
       "    <tr>\n",
       "      <th>2</th>\n",
       "      <td>1.608320</td>\n",
       "      <td>5.221162</td>\n",
       "      <td>-0.880377</td>\n",
       "      <td>-7.401224</td>\n",
       "    </tr>\n",
       "    <tr>\n",
       "      <th>3</th>\n",
       "      <td>2.333321</td>\n",
       "      <td>0.912614</td>\n",
       "      <td>7.780650</td>\n",
       "      <td>8.864187</td>\n",
       "    </tr>\n",
       "    <tr>\n",
       "      <th>4</th>\n",
       "      <td>-3.043869</td>\n",
       "      <td>1.944347</td>\n",
       "      <td>-2.236111</td>\n",
       "      <td>4.678346</td>\n",
       "    </tr>\n",
       "    <tr>\n",
       "      <th>5</th>\n",
       "      <td>2.123090</td>\n",
       "      <td>2.373503</td>\n",
       "      <td>-2.370689</td>\n",
       "      <td>3.495953</td>\n",
       "    </tr>\n",
       "    <tr>\n",
       "      <th>6</th>\n",
       "      <td>2.514267</td>\n",
       "      <td>6.425157</td>\n",
       "      <td>5.979624</td>\n",
       "      <td>8.117567</td>\n",
       "    </tr>\n",
       "    <tr>\n",
       "      <th>7</th>\n",
       "      <td>2.791015</td>\n",
       "      <td>3.882428</td>\n",
       "      <td>6.025930</td>\n",
       "      <td>2.536421</td>\n",
       "    </tr>\n",
       "    <tr>\n",
       "      <th>8</th>\n",
       "      <td>-4.657238</td>\n",
       "      <td>8.690280</td>\n",
       "      <td>14.057199</td>\n",
       "      <td>-4.180285</td>\n",
       "    </tr>\n",
       "    <tr>\n",
       "      <th>9</th>\n",
       "      <td>4.231553</td>\n",
       "      <td>-10.086248</td>\n",
       "      <td>-6.521565</td>\n",
       "      <td>3.057284</td>\n",
       "    </tr>\n",
       "  </tbody>\n",
       "</table>\n",
       "</div>"
      ],
      "text/plain": [
       "          A          B          C         D\n",
       "0  6.516117   6.750589   2.221633 -3.277671\n",
       "1 -2.430550   2.380700   6.802557  3.419221\n",
       "2  1.608320   5.221162  -0.880377 -7.401224\n",
       "3  2.333321   0.912614   7.780650  8.864187\n",
       "4 -3.043869   1.944347  -2.236111  4.678346\n",
       "5  2.123090   2.373503  -2.370689  3.495953\n",
       "6  2.514267   6.425157   5.979624  8.117567\n",
       "7  2.791015   3.882428   6.025930  2.536421\n",
       "8 -4.657238   8.690280  14.057199 -4.180285\n",
       "9  4.231553 -10.086248  -6.521565  3.057284"
      ]
     },
     "execution_count": 124,
     "metadata": {},
     "output_type": "execute_result"
    }
   ],
   "source": [
    "df * 5 + 2"
   ]
  },
  {
   "cell_type": "code",
   "execution_count": 125,
   "id": "fab14c9d-f098-4aba-b635-aa3e77286465",
   "metadata": {},
   "outputs": [
    {
     "data": {
      "text/html": [
       "<div>\n",
       "<style scoped>\n",
       "    .dataframe tbody tr th:only-of-type {\n",
       "        vertical-align: middle;\n",
       "    }\n",
       "\n",
       "    .dataframe tbody tr th {\n",
       "        vertical-align: top;\n",
       "    }\n",
       "\n",
       "    .dataframe thead th {\n",
       "        text-align: right;\n",
       "    }\n",
       "</style>\n",
       "<table border=\"1\" class=\"dataframe\">\n",
       "  <thead>\n",
       "    <tr style=\"text-align: right;\">\n",
       "      <th></th>\n",
       "      <th>A</th>\n",
       "      <th>B</th>\n",
       "      <th>C</th>\n",
       "      <th>D</th>\n",
       "    </tr>\n",
       "  </thead>\n",
       "  <tbody>\n",
       "    <tr>\n",
       "      <th>0</th>\n",
       "      <td>1.107146</td>\n",
       "      <td>1.052501</td>\n",
       "      <td>22.559858</td>\n",
       "      <td>-0.947388</td>\n",
       "    </tr>\n",
       "    <tr>\n",
       "      <th>1</th>\n",
       "      <td>-1.128528</td>\n",
       "      <td>13.133690</td>\n",
       "      <td>1.041112</td>\n",
       "      <td>3.523060</td>\n",
       "    </tr>\n",
       "    <tr>\n",
       "      <th>2</th>\n",
       "      <td>-12.765527</td>\n",
       "      <td>1.552235</td>\n",
       "      <td>-1.735884</td>\n",
       "      <td>-0.531846</td>\n",
       "    </tr>\n",
       "    <tr>\n",
       "      <th>3</th>\n",
       "      <td>15.000575</td>\n",
       "      <td>-4.598185</td>\n",
       "      <td>0.864955</td>\n",
       "      <td>0.728418</td>\n",
       "    </tr>\n",
       "    <tr>\n",
       "      <th>4</th>\n",
       "      <td>-0.991303</td>\n",
       "      <td>-89.843062</td>\n",
       "      <td>-1.180328</td>\n",
       "      <td>1.866823</td>\n",
       "    </tr>\n",
       "    <tr>\n",
       "      <th>5</th>\n",
       "      <td>40.620539</td>\n",
       "      <td>13.386778</td>\n",
       "      <td>-1.143984</td>\n",
       "      <td>3.342352</td>\n",
       "    </tr>\n",
       "    <tr>\n",
       "      <th>6</th>\n",
       "      <td>9.722571</td>\n",
       "      <td>1.129903</td>\n",
       "      <td>1.256400</td>\n",
       "      <td>0.817318</td>\n",
       "    </tr>\n",
       "    <tr>\n",
       "      <th>7</th>\n",
       "      <td>6.320996</td>\n",
       "      <td>2.656144</td>\n",
       "      <td>1.241949</td>\n",
       "      <td>9.321033</td>\n",
       "    </tr>\n",
       "    <tr>\n",
       "      <th>8</th>\n",
       "      <td>-0.751062</td>\n",
       "      <td>0.747353</td>\n",
       "      <td>0.414690</td>\n",
       "      <td>-0.809024</td>\n",
       "    </tr>\n",
       "    <tr>\n",
       "      <th>9</th>\n",
       "      <td>2.240592</td>\n",
       "      <td>-0.413693</td>\n",
       "      <td>-0.586747</td>\n",
       "      <td>4.729100</td>\n",
       "    </tr>\n",
       "  </tbody>\n",
       "</table>\n",
       "</div>"
      ],
      "text/plain": [
       "           A          B          C         D\n",
       "0   1.107146   1.052501  22.559858 -0.947388\n",
       "1  -1.128528  13.133690   1.041112  3.523060\n",
       "2 -12.765527   1.552235  -1.735884 -0.531846\n",
       "3  15.000575  -4.598185   0.864955  0.728418\n",
       "4  -0.991303 -89.843062  -1.180328  1.866823\n",
       "5  40.620539  13.386778  -1.143984  3.342352\n",
       "6   9.722571   1.129903   1.256400  0.817318\n",
       "7   6.320996   2.656144   1.241949  9.321033\n",
       "8  -0.751062   0.747353   0.414690 -0.809024\n",
       "9   2.240592  -0.413693  -0.586747  4.729100"
      ]
     },
     "execution_count": 125,
     "metadata": {},
     "output_type": "execute_result"
    }
   ],
   "source": [
    "1 / df"
   ]
  },
  {
   "cell_type": "markdown",
   "id": "f7d9f2ae-55be-4da7-9d2a-934bc56cfbc4",
   "metadata": {},
   "source": [
    "### boolean Operation"
   ]
  },
  {
   "cell_type": "code",
   "execution_count": 127,
   "id": "5eb0a7b4-c976-4448-a3eb-51c7877710e7",
   "metadata": {},
   "outputs": [
    {
     "name": "stdout",
     "output_type": "stream",
     "text": [
      "       a      b\n",
      "0   True  False\n",
      "1  False   True\n",
      "2   True   True\n",
      ".\n",
      "       a      b\n",
      "0  False   True\n",
      "1   True   True\n",
      "2   True  False\n"
     ]
    }
   ],
   "source": [
    "df1 = pd.DataFrame({\"a\": [1, 0, 1], \"b\": [0, 1, 1]}, dtype=bool)\n",
    "\n",
    "df2 = pd.DataFrame({\"a\": [0, 1, 1], \"b\": [1, 1, 0]}, dtype=bool)\n",
    "\n",
    "print(df1)\n",
    "print('.')\n",
    "print(df2)"
   ]
  },
  {
   "cell_type": "code",
   "execution_count": 128,
   "id": "a5b43725-9202-4e3a-90e0-507752e64c51",
   "metadata": {},
   "outputs": [
    {
     "data": {
      "text/html": [
       "<div>\n",
       "<style scoped>\n",
       "    .dataframe tbody tr th:only-of-type {\n",
       "        vertical-align: middle;\n",
       "    }\n",
       "\n",
       "    .dataframe tbody tr th {\n",
       "        vertical-align: top;\n",
       "    }\n",
       "\n",
       "    .dataframe thead th {\n",
       "        text-align: right;\n",
       "    }\n",
       "</style>\n",
       "<table border=\"1\" class=\"dataframe\">\n",
       "  <thead>\n",
       "    <tr style=\"text-align: right;\">\n",
       "      <th></th>\n",
       "      <th>a</th>\n",
       "      <th>b</th>\n",
       "    </tr>\n",
       "  </thead>\n",
       "  <tbody>\n",
       "    <tr>\n",
       "      <th>0</th>\n",
       "      <td>False</td>\n",
       "      <td>False</td>\n",
       "    </tr>\n",
       "    <tr>\n",
       "      <th>1</th>\n",
       "      <td>False</td>\n",
       "      <td>True</td>\n",
       "    </tr>\n",
       "    <tr>\n",
       "      <th>2</th>\n",
       "      <td>True</td>\n",
       "      <td>False</td>\n",
       "    </tr>\n",
       "  </tbody>\n",
       "</table>\n",
       "</div>"
      ],
      "text/plain": [
       "       a      b\n",
       "0  False  False\n",
       "1  False   True\n",
       "2   True  False"
      ]
     },
     "execution_count": 128,
     "metadata": {},
     "output_type": "execute_result"
    }
   ],
   "source": [
    "df1 & df2"
   ]
  },
  {
   "cell_type": "code",
   "execution_count": 129,
   "id": "85ee3e8b-7cd9-4ed2-8626-f8eeb79b2a01",
   "metadata": {},
   "outputs": [
    {
     "data": {
      "text/html": [
       "<div>\n",
       "<style scoped>\n",
       "    .dataframe tbody tr th:only-of-type {\n",
       "        vertical-align: middle;\n",
       "    }\n",
       "\n",
       "    .dataframe tbody tr th {\n",
       "        vertical-align: top;\n",
       "    }\n",
       "\n",
       "    .dataframe thead th {\n",
       "        text-align: right;\n",
       "    }\n",
       "</style>\n",
       "<table border=\"1\" class=\"dataframe\">\n",
       "  <thead>\n",
       "    <tr style=\"text-align: right;\">\n",
       "      <th></th>\n",
       "      <th>a</th>\n",
       "      <th>b</th>\n",
       "    </tr>\n",
       "  </thead>\n",
       "  <tbody>\n",
       "    <tr>\n",
       "      <th>0</th>\n",
       "      <td>True</td>\n",
       "      <td>True</td>\n",
       "    </tr>\n",
       "    <tr>\n",
       "      <th>1</th>\n",
       "      <td>True</td>\n",
       "      <td>True</td>\n",
       "    </tr>\n",
       "    <tr>\n",
       "      <th>2</th>\n",
       "      <td>True</td>\n",
       "      <td>True</td>\n",
       "    </tr>\n",
       "  </tbody>\n",
       "</table>\n",
       "</div>"
      ],
      "text/plain": [
       "      a     b\n",
       "0  True  True\n",
       "1  True  True\n",
       "2  True  True"
      ]
     },
     "execution_count": 129,
     "metadata": {},
     "output_type": "execute_result"
    }
   ],
   "source": [
    "df1 | df2"
   ]
  },
  {
   "cell_type": "code",
   "execution_count": 130,
   "id": "ca0103ec-b80f-414a-971a-eb3e66cc0d77",
   "metadata": {},
   "outputs": [
    {
     "data": {
      "text/html": [
       "<div>\n",
       "<style scoped>\n",
       "    .dataframe tbody tr th:only-of-type {\n",
       "        vertical-align: middle;\n",
       "    }\n",
       "\n",
       "    .dataframe tbody tr th {\n",
       "        vertical-align: top;\n",
       "    }\n",
       "\n",
       "    .dataframe thead th {\n",
       "        text-align: right;\n",
       "    }\n",
       "</style>\n",
       "<table border=\"1\" class=\"dataframe\">\n",
       "  <thead>\n",
       "    <tr style=\"text-align: right;\">\n",
       "      <th></th>\n",
       "      <th>0</th>\n",
       "      <th>1</th>\n",
       "      <th>2</th>\n",
       "      <th>3</th>\n",
       "      <th>4</th>\n",
       "    </tr>\n",
       "  </thead>\n",
       "  <tbody>\n",
       "    <tr>\n",
       "      <th>A</th>\n",
       "      <td>0.903223</td>\n",
       "      <td>-0.886110</td>\n",
       "      <td>-0.078336</td>\n",
       "      <td>0.066664</td>\n",
       "      <td>-1.008774</td>\n",
       "    </tr>\n",
       "    <tr>\n",
       "      <th>B</th>\n",
       "      <td>0.950118</td>\n",
       "      <td>0.076140</td>\n",
       "      <td>0.644232</td>\n",
       "      <td>-0.217477</td>\n",
       "      <td>-0.011131</td>\n",
       "    </tr>\n",
       "    <tr>\n",
       "      <th>C</th>\n",
       "      <td>0.044327</td>\n",
       "      <td>0.960511</td>\n",
       "      <td>-0.576075</td>\n",
       "      <td>1.156130</td>\n",
       "      <td>-0.847222</td>\n",
       "    </tr>\n",
       "    <tr>\n",
       "      <th>D</th>\n",
       "      <td>-1.055534</td>\n",
       "      <td>0.283844</td>\n",
       "      <td>-1.880245</td>\n",
       "      <td>1.372837</td>\n",
       "      <td>0.535669</td>\n",
       "    </tr>\n",
       "  </tbody>\n",
       "</table>\n",
       "</div>"
      ],
      "text/plain": [
       "          0         1         2         3         4\n",
       "A  0.903223 -0.886110 -0.078336  0.066664 -1.008774\n",
       "B  0.950118  0.076140  0.644232 -0.217477 -0.011131\n",
       "C  0.044327  0.960511 -0.576075  1.156130 -0.847222\n",
       "D -1.055534  0.283844 -1.880245  1.372837  0.535669"
      ]
     },
     "execution_count": 130,
     "metadata": {},
     "output_type": "execute_result"
    }
   ],
   "source": [
    "df[:5].T"
   ]
  },
  {
   "cell_type": "markdown",
   "id": "7f05bb3b-b633-45cc-ac7d-6188a6d1c843",
   "metadata": {},
   "source": [
    "## Merge DataFrame"
   ]
  },
  {
   "cell_type": "code",
   "execution_count": 131,
   "id": "9ec7649c-8b83-4f31-a606-1288b210538a",
   "metadata": {},
   "outputs": [
    {
     "name": "stdout",
     "output_type": "stream",
     "text": [
      "    id Student  Roll  Rank  Marks\n",
      "0  S01   Laksh   101     3     12\n",
      "1  S02   Taksh   102     2     35\n",
      "2  S03   Daksh   103     4     53\n",
      "3  S04   Taksh   104     5     45\n",
      "4  S05   Darsh   105     1     23\n",
      "             0      1      2      3      4\n",
      "id         S01    S02    S03    S04    S05\n",
      "Student  Laksh  Taksh  Daksh  Taksh  Darsh\n",
      "Roll       101    102    103    104    105\n",
      "Rank         3      2      4      5      1\n",
      "Marks       12     35     53     45     23\n"
     ]
    }
   ],
   "source": [
    "import pandas as pd\n",
    "\n",
    "data1 = {\n",
    "    'id': [\"S01\", \"S02\", \"S03\", \"S04\", \"S05\"],\n",
    "    'Student': [\"Laksh\", \"Taksh\", \"Daksh\", \"Taksh\", \"Darsh\"],\n",
    "    'Roll': [101, 102, 103, 104, 105],\n",
    "}\n",
    "\n",
    "data2 = {\n",
    "    'Rank': [3, 2, 4, 5, 1],\n",
    "    'Marks': [12, 35, 53, 45, 23]\n",
    "}\n",
    "\n",
    "dataFrame1 = pd.DataFrame(data1)\n",
    "dataFrame2 = pd.DataFrame(data2)\n",
    "\n",
    "\n",
    "resDf = dataFrame1.join(dataFrame2)\n",
    "print(resDf)\n",
    "\n",
    "print(resDf.T)"
   ]
  },
  {
   "cell_type": "code",
   "execution_count": 141,
   "id": "e08c4863-c61b-4633-8023-9c4ac0d5de45",
   "metadata": {},
   "outputs": [
    {
     "name": "stdout",
     "output_type": "stream",
     "text": [
      "   Series1  Series2\n",
      "a        1        4\n",
      "b        2        5\n",
      "c        3        6\n"
     ]
    }
   ],
   "source": [
    "import pandas as pd\n",
    "\n",
    "s1 = pd.Series([1, 2, 3], index=['a', 'b', 'c'])\n",
    "s2 = pd.Series([4, 5, 6], index=['a', 'b', 'c'])\n",
    "\n",
    "df = pd.concat([s1, s2], axis=1)\n",
    "df.columns = ['Series1', 'Series2']\n",
    "\n",
    "print(df)\n"
   ]
  },
  {
   "cell_type": "code",
   "execution_count": 176,
   "id": "35bd7b98-ac12-4957-aef0-19b2aa5dfce5",
   "metadata": {},
   "outputs": [
    {
     "name": "stdout",
     "output_type": "stream",
     "text": [
      "             id Student  Roll\n",
      "Student_1   S01   Laksh   101\n",
      "Student_2   S02   Taksh   102\n",
      "Student_3   S03   Daksh   103\n",
      "Student_4   S04   Taksh   104\n",
      "Student_5   S05   Darsh   105\n",
      "Student_6   S06  Paresh   106\n",
      "Student_7   S07  Jayesh   107\n",
      "Student_8   S08  Suresh   108\n",
      "Student_9   S09  Rajesh   109\n",
      "Student_10  S10  Naresh   110\n"
     ]
    }
   ],
   "source": [
    "import pandas as pd\n",
    "\n",
    "data1 = {\n",
    "    'id': [\"S01\", \"S02\", \"S03\", \"S04\", \"S05\"],\n",
    "    'Student': [\"Laksh\", \"Taksh\", \"Daksh\", \"Taksh\", \"Darsh\"],\n",
    "    'Roll': [101, 102, 103, 104, 105],\n",
    "}\n",
    "\n",
    "data2 = {\n",
    "    'id': [\"S06\", \"S07\", \"S08\", \"S09\", \"S10\"],\n",
    "    'Student': [\"Paresh\", \"Jayesh\", \"Suresh\", \"Rajesh\", \"Naresh\"],\n",
    "    'Roll': [106, 107, 108, 109, 110],\n",
    "}\n",
    "\n",
    "dataFrame1 = pd.DataFrame(data1, index=[\"Student_1\", \"Student_2\", \"Student_3\", \"Student_4\", \"Student_5\",])\n",
    "dataFrame2 = pd.DataFrame(data2, index=[ \"Student_6\", \"Student_7\", \"Student_8\", \"Student_9\", \"Student_10\",])\n",
    "\n",
    "resDf = pd.concat([dataFrame1, dataFrame2])\n",
    "print(resDf)"
   ]
  },
  {
   "cell_type": "markdown",
   "id": "c2dbc0e8-ba8a-49c2-add2-3f9962eaec42",
   "metadata": {},
   "source": [
    "# 5. Essential basic functionality"
   ]
  },
  {
   "cell_type": "code",
   "execution_count": 177,
   "id": "ce2c573b-2d5b-4bf3-ae9a-d1f27c7e902c",
   "metadata": {},
   "outputs": [
    {
     "name": "stdout",
     "output_type": "stream",
     "text": [
      "                   A         B         C\n",
      "2000-01-01 -0.827602  0.131651  0.549217\n",
      "2000-01-02  1.883536  0.284124  0.321259\n",
      "2000-01-03 -0.434134 -1.343674 -0.116258\n",
      "2000-01-04  1.043556  1.352410  1.492259\n",
      "2000-01-05  0.327328 -0.475475  0.580882\n",
      "2000-01-06  0.292708 -0.956625  1.403021\n",
      "2000-01-07 -0.021337 -0.566926  2.152724\n",
      "2000-01-08 -0.973232  0.776580 -0.326176\n",
      "[[-0.82760155  0.13165115  0.54921689]\n",
      " [ 1.88353574  0.28412365  0.32125885]\n",
      " [-0.43413393 -1.34367401 -0.11625765]\n",
      " [ 1.04355638  1.35241033  1.49225906]\n",
      " [ 0.32732788 -0.47547503  0.58088218]\n",
      " [ 0.29270779 -0.95662517  1.40302096]\n",
      " [-0.02133748 -0.56692598  2.15272354]\n",
      " [-0.97323189  0.77658    -0.3261759 ]]\n"
     ]
    }
   ],
   "source": [
    "index = pd.date_range(\"1/1/2000\", periods=8)\n",
    "\n",
    "s = pd.Series(np.random.randn(5), index=[\"a\", \"b\", \"c\", \"d\", \"e\"])\n",
    "\n",
    "df = pd.DataFrame(np.random.randn(8, 3), index=index, columns=[\"A\", \"B\", \"C\"])\n",
    "print(df)\n",
    "val = df.to_numpy()\n",
    "print(val)"
   ]
  },
  {
   "cell_type": "markdown",
   "id": "70c75afd-9667-476e-a7c5-c45c6fa3ed74",
   "metadata": {},
   "source": [
    "## DataFrame Functions"
   ]
  },
  {
   "cell_type": "code",
   "execution_count": 178,
   "id": "05951477-06c7-4d26-8664-ec6a8915ce7b",
   "metadata": {},
   "outputs": [
    {
     "name": "stdout",
     "output_type": "stream",
     "text": [
      "1. head() →\n",
      "     Name Department  Salary  Joining_Year\n",
      "0  Aarav         HR   50000          2018\n",
      "1   Diya         IT   60000          2019\n",
      "2  Kunal    Finance   75000          2017\n",
      "3  Meera         IT   65000          2020\n",
      "4  Rohan    Finance   70000          2018 \n",
      "\n",
      "2. tail() →\n",
      "     Name Department  Salary  Joining_Year\n",
      "3  Meera         IT   65000          2020\n",
      "4  Rohan    Finance   70000          2018\n",
      "5   Isha         HR   52000          2019\n",
      "6  Aryan    Finance   72000          2017\n",
      "7  Tanvi         IT   58000          2020 \n",
      "\n",
      "3. info() →\n",
      "<class 'pandas.core.frame.DataFrame'>\n",
      "RangeIndex: 8 entries, 0 to 7\n",
      "Data columns (total 4 columns):\n",
      " #   Column        Non-Null Count  Dtype \n",
      "---  ------        --------------  ----- \n",
      " 0   Name          8 non-null      object\n",
      " 1   Department    8 non-null      object\n",
      " 2   Salary        8 non-null      int64 \n",
      " 3   Joining_Year  8 non-null      int64 \n",
      "dtypes: int64(2), object(2)\n",
      "memory usage: 388.0+ bytes\n",
      "None \n",
      "\n",
      "4. describe() →\n",
      "              Salary  Joining_Year\n",
      "count      8.000000      8.000000\n",
      "mean   62750.000000   2018.500000\n",
      "std     9269.766525      1.195229\n",
      "min    50000.000000   2017.000000\n",
      "25%    56500.000000   2017.750000\n",
      "50%    62500.000000   2018.500000\n",
      "75%    70500.000000   2019.250000\n",
      "max    75000.000000   2020.000000 \n",
      "\n",
      "5. shape → (8, 4) \n",
      "\n",
      "6. columns → Index(['Name', 'Department', 'Salary', 'Joining_Year'], dtype='object') \n",
      "\n",
      "7. index → RangeIndex(start=0, stop=8, step=1) \n",
      "\n",
      "8. dtypes →\n",
      " Name            object\n",
      "Department      object\n",
      "Salary           int64\n",
      "Joining_Year     int64\n",
      "dtype: object \n",
      "\n",
      "9. sort_values('Salary') →\n",
      "     Name Department  Salary  Joining_Year\n",
      "0  Aarav         HR   50000          2018\n",
      "5   Isha         HR   52000          2019\n",
      "7  Tanvi         IT   58000          2020\n",
      "1   Diya         IT   60000          2019\n",
      "3  Meera         IT   65000          2020\n",
      "4  Rohan    Finance   70000          2018\n",
      "6  Aryan    Finance   72000          2017\n",
      "2  Kunal    Finance   75000          2017 \n",
      "\n",
      "10. groupby('Department').mean() →\n",
      "                   Salary  Joining_Year\n",
      "Department                            \n",
      "Finance     72333.333333   2017.333333\n",
      "HR          51000.000000   2018.500000\n",
      "IT          61000.000000   2019.666667 \n",
      "\n",
      "11. value_counts('Department') →\n",
      " Department\n",
      "IT         3\n",
      "Finance    3\n",
      "HR         2\n",
      "Name: count, dtype: int64 \n",
      "\n",
      "12. isnull() →\n",
      "     Name  Department  Salary  Joining_Year\n",
      "0  False       False   False         False\n",
      "1  False       False   False         False\n",
      "2  False       False   False         False\n",
      "3  False       False   False         False\n",
      "4  False       False   False         False\n",
      "5  False       False   False         False\n",
      "6  False       False   False         False\n",
      "7  False       False   False         False \n",
      "\n",
      "13. dropna() →\n",
      "     Name Department  Salary  Joining_Year\n",
      "0  Aarav         HR   50000          2018\n",
      "1   Diya         IT   60000          2019\n",
      "2  Kunal    Finance   75000          2017\n",
      "3  Meera         IT   65000          2020\n",
      "4  Rohan    Finance   70000          2018\n",
      "5   Isha         HR   52000          2019\n",
      "6  Aryan    Finance   72000          2017\n",
      "7  Tanvi         IT   58000          2020 \n",
      "\n",
      "14. fillna(0) →\n",
      "     Name Department  Salary  Joining_Year\n",
      "0  Aarav         HR   50000          2018\n",
      "1   Diya         IT   60000          2019\n",
      "2  Kunal    Finance   75000          2017\n",
      "3  Meera         IT   65000          2020\n",
      "4  Rohan    Finance   70000          2018\n",
      "5   Isha         HR   52000          2019\n",
      "6  Aryan    Finance   72000          2017\n",
      "7  Tanvi         IT   58000          2020 \n",
      "\n",
      "15. apply(lambda x: x) →\n",
      "     Name Department  Salary  Joining_Year\n",
      "0  Aarav         HR   50000          2018\n",
      "1   Diya         IT   60000          2019\n",
      "2  Kunal    Finance   75000          2017\n",
      "3  Meera         IT   65000          2020\n",
      "4  Rohan    Finance   70000          2018\n",
      "5   Isha         HR   52000          2019\n",
      "6  Aryan    Finance   72000          2017\n",
      "7  Tanvi         IT   58000          2020 \n",
      "\n",
      "16. pivot_table() →\n",
      "                   Salary\n",
      "Department              \n",
      "Finance     72333.333333\n",
      "HR          51000.000000\n",
      "IT          61000.000000 \n",
      "\n",
      "17. duplicated() →\n",
      " 0    False\n",
      "1    False\n",
      "2    False\n",
      "3    False\n",
      "4    False\n",
      "5    False\n",
      "6    False\n",
      "7    False\n",
      "dtype: bool \n",
      "\n",
      "18. drop_duplicates() →\n",
      "     Name Department  Salary  Joining_Year\n",
      "0  Aarav         HR   50000          2018\n",
      "1   Diya         IT   60000          2019\n",
      "2  Kunal    Finance   75000          2017\n",
      "3  Meera         IT   65000          2020\n",
      "4  Rohan    Finance   70000          2018\n",
      "5   Isha         HR   52000          2019\n",
      "6  Aryan    Finance   72000          2017\n",
      "7  Tanvi         IT   58000          2020 \n",
      "\n",
      "19. rename(columns={'Name': 'Full_Name'}) →\n",
      "   Full_Name Department  Salary  Joining_Year\n",
      "0     Aarav         HR   50000          2018\n",
      "1      Diya         IT   60000          2019\n",
      "2     Kunal    Finance   75000          2017\n",
      "3     Meera         IT   65000          2020\n",
      "4     Rohan    Finance   70000          2018\n",
      "5      Isha         HR   52000          2019\n",
      "6     Aryan    Finance   72000          2017\n",
      "7     Tanvi         IT   58000          2020 \n",
      "\n",
      "20. set_index('Name') →\n",
      "       Department  Salary  Joining_Year\n",
      "Name                                  \n",
      "Aarav         HR   50000          2018\n",
      "Diya          IT   60000          2019\n",
      "Kunal    Finance   75000          2017\n",
      "Meera         IT   65000          2020\n",
      "Rohan    Finance   70000          2018\n",
      "Isha          HR   52000          2019\n",
      "Aryan    Finance   72000          2017\n",
      "Tanvi         IT   58000          2020 \n",
      "\n"
     ]
    }
   ],
   "source": [
    "import pandas as pd\n",
    "import numpy as np\n",
    "\n",
    "# Sample dataset for demonstration\n",
    "data = {\n",
    "    \"Name\": [\"Aarav\", \"Diya\", \"Kunal\", \"Meera\", \"Rohan\", \"Isha\", \"Aryan\", \"Tanvi\"],\n",
    "    \"Department\": [\"HR\", \"IT\", \"Finance\", \"IT\", \"Finance\", \"HR\", \"Finance\", \"IT\"],\n",
    "    \"Salary\": [50000, 60000, 75000, 65000, 70000, 52000, 72000, 58000],\n",
    "    \"Joining_Year\": [2018, 2019, 2017, 2020, 2018, 2019, 2017, 2020]\n",
    "}\n",
    "\n",
    "df = pd.DataFrame(data)\n",
    "\n",
    "# ==============================\n",
    "# 1. head()\n",
    "# ==============================\n",
    "# PURPOSE: Returns the first 'n' rows of the DataFrame.\n",
    "# WHY USE IT? To quickly preview the start of your dataset without printing all rows.\n",
    "print(\"1. head() →\\n\", df.head(), \"\\n\")\n",
    "\n",
    "# ==============================\n",
    "# 2. tail()\n",
    "# ==============================\n",
    "# PURPOSE: Returns the last 'n' rows of the DataFrame.\n",
    "# WHY USE IT? Useful to see the ending records and check dataset completeness.\n",
    "print(\"2. tail() →\\n\", df.tail(), \"\\n\")\n",
    "\n",
    "# ==============================\n",
    "# 3. info()\n",
    "# ==============================\n",
    "# PURPOSE: Displays DataFrame structure, column names, data types, and null count.\n",
    "# WHY USE IT? Helps in understanding dataset metadata before analysis.\n",
    "print(\"3. info() →\")\n",
    "print(df.info(), \"\\n\")\n",
    "\n",
    "# ==============================\n",
    "# 4. describe()\n",
    "# ==============================\n",
    "# PURPOSE: Gives statistical summary for numeric columns.\n",
    "# WHY USE IT? Quickly checks min, max, mean, quartiles for data insights.\n",
    "print(\"4. describe() →\\n\", df.describe(), \"\\n\")\n",
    "\n",
    "# ==============================\n",
    "# 5. shape\n",
    "# ==============================\n",
    "# PURPOSE: Returns a tuple (rows, columns) showing dataset dimensions.\n",
    "# WHY USE IT? Essential for understanding dataset size.\n",
    "print(\"5. shape →\", df.shape, \"\\n\")\n",
    "\n",
    "# ==============================\n",
    "# 6. columns\n",
    "# ==============================\n",
    "# PURPOSE: Lists all column names.\n",
    "# WHY USE IT? Useful when you forget column spelling or want to rename them.\n",
    "print(\"6. columns →\", df.columns, \"\\n\")\n",
    "\n",
    "# ==============================\n",
    "# 7. index\n",
    "# ==============================\n",
    "# PURPOSE: Returns the index (row labels) of the DataFrame.\n",
    "# WHY USE IT? Helps in row selection and indexing operations.\n",
    "print(\"7. index →\", df.index, \"\\n\")\n",
    "\n",
    "# ==============================\n",
    "# 8. dtypes\n",
    "# ==============================\n",
    "# PURPOSE: Shows the data type for each column.\n",
    "# WHY USE IT? Ensures correct types for calculations and operations.\n",
    "print(\"8. dtypes →\\n\", df.dtypes, \"\\n\")\n",
    "\n",
    "# ==============================\n",
    "# 9. sort_values()\n",
    "# ==============================\n",
    "# PURPOSE: Sorts rows by one or more columns.\n",
    "# WHY USE IT? Helps in ranking, ordering, or prioritizing data.\n",
    "print(\"9. sort_values('Salary') →\\n\", df.sort_values(by=\"Salary\"), \"\\n\")\n",
    "\n",
    "# ==============================\n",
    "# 10. groupby()\n",
    "# ==============================\n",
    "# PURPOSE: Groups data based on a column and performs aggregate calculations.\n",
    "# WHY USE IT? Summarizes large datasets by category.\n",
    "print(\"10. groupby('Department').mean() →\\n\", df.groupby(\"Department\").mean(numeric_only=True), \"\\n\")\n",
    "\n",
    "# ==============================\n",
    "# 11. value_counts()\n",
    "# ==============================\n",
    "# PURPOSE: Counts the occurrence of each unique value in a column.\n",
    "# WHY USE IT? Great for frequency distribution analysis.\n",
    "print(\"11. value_counts('Department') →\\n\", df[\"Department\"].value_counts(), \"\\n\")\n",
    "\n",
    "# ==============================\n",
    "# 12. isnull()\n",
    "# ==============================\n",
    "# PURPOSE: Checks for missing values (NaN) in dataset.\n",
    "# WHY USE IT? Important for data cleaning before analysis.\n",
    "print(\"12. isnull() →\\n\", df.isnull(), \"\\n\")\n",
    "\n",
    "# ==============================\n",
    "# 13. dropna()\n",
    "# ==============================\n",
    "# PURPOSE: Removes rows or columns with missing values.\n",
    "# WHY USE IT? Keeps dataset clean by removing incomplete records.\n",
    "print(\"13. dropna() →\\n\", df.dropna(), \"\\n\")\n",
    "\n",
    "# ==============================\n",
    "# 14. fillna()\n",
    "# ==============================\n",
    "# PURPOSE: Replaces NaN values with a specified value.\n",
    "# WHY USE IT? Retains data completeness without dropping rows.\n",
    "print(\"14. fillna(0) →\\n\", df.fillna(0), \"\\n\")\n",
    "\n",
    "# ==============================\n",
    "# 15. apply()\n",
    "# ==============================\n",
    "# PURPOSE: Applies a function to each column or row.\n",
    "# WHY USE IT? Useful for custom calculations.\n",
    "print(\"15. apply(lambda x: x) →\\n\", df.apply(lambda x: x), \"\\n\")\n",
    "\n",
    "# ==============================\n",
    "# 16. pivot_table()\n",
    "# ==============================\n",
    "# PURPOSE: Creates a pivot table for summarizing data.\n",
    "# WHY USE IT? Best for multidimensional data analysis.\n",
    "print(\"16. pivot_table() →\\n\", df.pivot_table(values=\"Salary\", index=\"Department\", aggfunc=\"mean\"), \"\\n\")\n",
    "\n",
    "# ==============================\n",
    "# 17. duplicated()\n",
    "# ==============================\n",
    "# PURPOSE: Detects duplicate rows.\n",
    "# WHY USE IT? Helps in data cleaning by finding repeated entries.\n",
    "print(\"17. duplicated() →\\n\", df.duplicated(), \"\\n\")\n",
    "\n",
    "# ==============================\n",
    "# 18. drop_duplicates()\n",
    "# ==============================\n",
    "# PURPOSE: Removes duplicate rows.\n",
    "# WHY USE IT? Ensures data uniqueness.\n",
    "print(\"18. drop_duplicates() →\\n\", df.drop_duplicates(), \"\\n\")\n",
    "\n",
    "# ==============================\n",
    "# 19. rename()\n",
    "# ==============================\n",
    "# PURPOSE: Renames one or more columns.\n",
    "# WHY USE IT? Improves column readability and correctness.\n",
    "print(\"19. rename(columns={'Name': 'Full_Name'}) →\\n\", df.rename(columns={\"Name\": \"Full_Name\"}), \"\\n\")\n",
    "\n",
    "# ==============================\n",
    "# 20. set_index()\n",
    "# ==============================\n",
    "# PURPOSE: Sets a column as the index of the DataFrame.\n",
    "# WHY USE IT? Useful for indexed data access and better row labeling.\n",
    "print(\"20. set_index('Name') →\\n\", df.set_index(\"Name\"), \"\\n\")\n"
   ]
  },
  {
   "cell_type": "code",
   "execution_count": 179,
   "id": "c112fcda-5d08-4f6e-9e88-5d89dd735b71",
   "metadata": {},
   "outputs": [
    {
     "data": {
      "text/html": [
       "<div>\n",
       "<style scoped>\n",
       "    .dataframe tbody tr th:only-of-type {\n",
       "        vertical-align: middle;\n",
       "    }\n",
       "\n",
       "    .dataframe tbody tr th {\n",
       "        vertical-align: top;\n",
       "    }\n",
       "\n",
       "    .dataframe thead th {\n",
       "        text-align: right;\n",
       "    }\n",
       "</style>\n",
       "<table border=\"1\" class=\"dataframe\">\n",
       "  <thead>\n",
       "    <tr style=\"text-align: right;\">\n",
       "      <th></th>\n",
       "      <th>Name</th>\n",
       "      <th>Department</th>\n",
       "      <th>Salary</th>\n",
       "      <th>Joining_Year</th>\n",
       "    </tr>\n",
       "  </thead>\n",
       "  <tbody>\n",
       "    <tr>\n",
       "      <th>0</th>\n",
       "      <td>Aarav</td>\n",
       "      <td>HR</td>\n",
       "      <td>50000</td>\n",
       "      <td>2018</td>\n",
       "    </tr>\n",
       "    <tr>\n",
       "      <th>1</th>\n",
       "      <td>Diya</td>\n",
       "      <td>IT</td>\n",
       "      <td>60000</td>\n",
       "      <td>2019</td>\n",
       "    </tr>\n",
       "    <tr>\n",
       "      <th>2</th>\n",
       "      <td>Kunal</td>\n",
       "      <td>Finance</td>\n",
       "      <td>75000</td>\n",
       "      <td>2017</td>\n",
       "    </tr>\n",
       "    <tr>\n",
       "      <th>3</th>\n",
       "      <td>Meera</td>\n",
       "      <td>IT</td>\n",
       "      <td>65000</td>\n",
       "      <td>2020</td>\n",
       "    </tr>\n",
       "    <tr>\n",
       "      <th>4</th>\n",
       "      <td>Rohan</td>\n",
       "      <td>Finance</td>\n",
       "      <td>70000</td>\n",
       "      <td>2018</td>\n",
       "    </tr>\n",
       "    <tr>\n",
       "      <th>5</th>\n",
       "      <td>Isha</td>\n",
       "      <td>HR</td>\n",
       "      <td>52000</td>\n",
       "      <td>2019</td>\n",
       "    </tr>\n",
       "    <tr>\n",
       "      <th>6</th>\n",
       "      <td>Aryan</td>\n",
       "      <td>Finance</td>\n",
       "      <td>72000</td>\n",
       "      <td>2017</td>\n",
       "    </tr>\n",
       "    <tr>\n",
       "      <th>7</th>\n",
       "      <td>Tanvi</td>\n",
       "      <td>IT</td>\n",
       "      <td>58000</td>\n",
       "      <td>2020</td>\n",
       "    </tr>\n",
       "  </tbody>\n",
       "</table>\n",
       "</div>"
      ],
      "text/plain": [
       "    Name Department  Salary  Joining_Year\n",
       "0  Aarav         HR   50000          2018\n",
       "1   Diya         IT   60000          2019\n",
       "2  Kunal    Finance   75000          2017\n",
       "3  Meera         IT   65000          2020\n",
       "4  Rohan    Finance   70000          2018\n",
       "5   Isha         HR   52000          2019\n",
       "6  Aryan    Finance   72000          2017\n",
       "7  Tanvi         IT   58000          2020"
      ]
     },
     "execution_count": 179,
     "metadata": {},
     "output_type": "execute_result"
    }
   ],
   "source": [
    "df"
   ]
  },
  {
   "cell_type": "code",
   "execution_count": 185,
   "id": "2db5ce9f-82f3-4dbf-ac25-d2f9cbd959dd",
   "metadata": {},
   "outputs": [
    {
     "data": {
      "text/html": [
       "<div>\n",
       "<style scoped>\n",
       "    .dataframe tbody tr th:only-of-type {\n",
       "        vertical-align: middle;\n",
       "    }\n",
       "\n",
       "    .dataframe tbody tr th {\n",
       "        vertical-align: top;\n",
       "    }\n",
       "\n",
       "    .dataframe thead th {\n",
       "        text-align: right;\n",
       "    }\n",
       "</style>\n",
       "<table border=\"1\" class=\"dataframe\">\n",
       "  <thead>\n",
       "    <tr style=\"text-align: right;\">\n",
       "      <th></th>\n",
       "      <th>Name</th>\n",
       "    </tr>\n",
       "  </thead>\n",
       "  <tbody>\n",
       "    <tr>\n",
       "      <th>0</th>\n",
       "      <td>Aarav</td>\n",
       "    </tr>\n",
       "    <tr>\n",
       "      <th>1</th>\n",
       "      <td>Diya</td>\n",
       "    </tr>\n",
       "    <tr>\n",
       "      <th>2</th>\n",
       "      <td>Kunal</td>\n",
       "    </tr>\n",
       "    <tr>\n",
       "      <th>3</th>\n",
       "      <td>Meera</td>\n",
       "    </tr>\n",
       "    <tr>\n",
       "      <th>4</th>\n",
       "      <td>Rohan</td>\n",
       "    </tr>\n",
       "    <tr>\n",
       "      <th>5</th>\n",
       "      <td>Isha</td>\n",
       "    </tr>\n",
       "  </tbody>\n",
       "</table>\n",
       "</div>"
      ],
      "text/plain": [
       "    Name\n",
       "0  Aarav\n",
       "1   Diya\n",
       "2  Kunal\n",
       "3  Meera\n",
       "4  Rohan\n",
       "5   Isha"
      ]
     },
     "execution_count": 185,
     "metadata": {},
     "output_type": "execute_result"
    }
   ],
   "source": [
    "check = pd.DataFrame({\n",
    "    \"Name\": [\"Aarav\", \"Diya\", \"Kunal\", \"Meera\", \"Rohan\", \"Isha\"]\n",
    "})\n",
    "check"
   ]
  },
  {
   "cell_type": "code",
   "execution_count": 187,
   "id": "4e957e60-941a-45bb-bc7e-12eb1d5eade2",
   "metadata": {},
   "outputs": [
    {
     "name": "stdout",
     "output_type": "stream",
     "text": [
      "0\n",
      "Name    Aarav\n",
      "Name: 0, dtype: object\n",
      "1\n",
      "Name    Diya\n",
      "Name: 1, dtype: object\n",
      "2\n",
      "Name    Kunal\n",
      "Name: 2, dtype: object\n",
      "3\n",
      "Name    Meera\n",
      "Name: 3, dtype: object\n",
      "4\n",
      "Name    Rohan\n",
      "Name: 4, dtype: object\n",
      "5\n",
      "Name    Isha\n",
      "Name: 5, dtype: object\n"
     ]
    }
   ],
   "source": [
    "for i, j in check.iterrows():\n",
    "    print(i)\n",
    "    print(j)"
   ]
  },
  {
   "cell_type": "code",
   "execution_count": 184,
   "id": "19c02efe-ef22-46c9-b2ab-7a21d7c0dc6f",
   "metadata": {},
   "outputs": [
    {
     "name": "stdout",
     "output_type": "stream",
     "text": [
      "0\n",
      "Name            Aarav\n",
      "Department         HR\n",
      "Salary          50000\n",
      "Joining_Year     2018\n",
      "Name: 0, dtype: object\n",
      "1\n",
      "Name             Diya\n",
      "Department         IT\n",
      "Salary          60000\n",
      "Joining_Year     2019\n",
      "Name: 1, dtype: object\n",
      "2\n",
      "Name              Kunal\n",
      "Department      Finance\n",
      "Salary            75000\n",
      "Joining_Year       2017\n",
      "Name: 2, dtype: object\n",
      "3\n",
      "Name            Meera\n",
      "Department         IT\n",
      "Salary          65000\n",
      "Joining_Year     2020\n",
      "Name: 3, dtype: object\n",
      "4\n",
      "Name              Rohan\n",
      "Department      Finance\n",
      "Salary            70000\n",
      "Joining_Year       2018\n",
      "Name: 4, dtype: object\n",
      "5\n",
      "Name             Isha\n",
      "Department         HR\n",
      "Salary          52000\n",
      "Joining_Year     2019\n",
      "Name: 5, dtype: object\n",
      "6\n",
      "Name              Aryan\n",
      "Department      Finance\n",
      "Salary            72000\n",
      "Joining_Year       2017\n",
      "Name: 6, dtype: object\n",
      "7\n",
      "Name            Tanvi\n",
      "Department         IT\n",
      "Salary          58000\n",
      "Joining_Year     2020\n",
      "Name: 7, dtype: object\n"
     ]
    }
   ],
   "source": [
    "for i, j in df.iterrows():\n",
    "    print(i)\n",
    "    print(j)"
   ]
  },
  {
   "cell_type": "code",
   "execution_count": 181,
   "id": "02e38a07-ccee-4c26-b18e-d122e75533e1",
   "metadata": {},
   "outputs": [
    {
     "name": "stdout",
     "output_type": "stream",
     "text": [
      "Index: 0\n",
      "Name: Aarav\n",
      "Department: HR\n",
      "Salary: 50000\n",
      "Joining Year: 2018\n",
      "------\n",
      "Index: 1\n",
      "Name: Diya\n",
      "Department: IT\n",
      "Salary: 60000\n",
      "Joining Year: 2019\n",
      "------\n",
      "Index: 2\n",
      "Name: Kunal\n",
      "Department: Finance\n",
      "Salary: 75000\n",
      "Joining Year: 2017\n",
      "------\n",
      "Index: 3\n",
      "Name: Meera\n",
      "Department: IT\n",
      "Salary: 65000\n",
      "Joining Year: 2020\n",
      "------\n",
      "Index: 4\n",
      "Name: Rohan\n",
      "Department: Finance\n",
      "Salary: 70000\n",
      "Joining Year: 2018\n",
      "------\n",
      "Index: 5\n",
      "Name: Isha\n",
      "Department: HR\n",
      "Salary: 52000\n",
      "Joining Year: 2019\n",
      "------\n",
      "Index: 6\n",
      "Name: Aryan\n",
      "Department: Finance\n",
      "Salary: 72000\n",
      "Joining Year: 2017\n",
      "------\n",
      "Index: 7\n",
      "Name: Tanvi\n",
      "Department: IT\n",
      "Salary: 58000\n",
      "Joining Year: 2020\n",
      "------\n"
     ]
    }
   ],
   "source": [
    "for i, row in df.iterrows():\n",
    "    print(f\"Index: {i}\")\n",
    "    print(f\"Name: {row['Name']}\")\n",
    "    print(f\"Department: {row['Department']}\")\n",
    "    print(f\"Salary: {row['Salary']}\")\n",
    "    print(f\"Joining Year: {row['Joining_Year']}\")\n",
    "    print(\"------\")\n"
   ]
  },
  {
   "cell_type": "markdown",
   "id": "2987251c-0e4f-453a-a879-9cee6d9a6ecd",
   "metadata": {},
   "source": [
    "## Date and time"
   ]
  },
  {
   "cell_type": "code",
   "execution_count": 191,
   "id": "6464930d-37fa-49b1-b24f-0bc7cbf127de",
   "metadata": {},
   "outputs": [
    {
     "name": "stdout",
     "output_type": "stream",
     "text": [
      "0   2013-01-01 09:10:12\n",
      "1   2013-01-02 09:10:12\n",
      "2   2013-01-03 09:10:12\n",
      "3   2013-01-04 09:10:12\n",
      "dtype: datetime64[ns]\n",
      ".\n",
      "0    1\n",
      "1    2\n",
      "2    3\n",
      "3    4\n",
      "dtype: int32\n",
      ".\n",
      "0    9\n",
      "1    9\n",
      "2    9\n",
      "3    9\n",
      "dtype: int32\n",
      ".\n",
      "0    12\n",
      "1    12\n",
      "2    12\n",
      "3    12\n",
      "dtype: int32\n"
     ]
    }
   ],
   "source": [
    "s = pd.Series(pd.date_range(\"20130101 09:10:12\", periods=4))\n",
    "print(s)\n",
    "print('.')\n",
    "print(s.dt.day)\n",
    "print('.')\n",
    "print(s.dt.hour)\n",
    "print('.')\n",
    "print(s.dt.second)"
   ]
  },
  {
   "cell_type": "markdown",
   "id": "27fd51c3-7d5c-4162-8cbe-ebc99b8e3f76",
   "metadata": {},
   "source": [
    "## smallest / largest values"
   ]
  },
  {
   "cell_type": "code",
   "execution_count": 192,
   "id": "e0691f17-aed5-42b5-a738-97fcef901e79",
   "metadata": {},
   "outputs": [
    {
     "data": {
      "text/plain": [
       "0    8\n",
       "1    7\n",
       "2    4\n",
       "3    2\n",
       "4    6\n",
       "5    9\n",
       "6    5\n",
       "7    1\n",
       "8    3\n",
       "9    0\n",
       "dtype: int32"
      ]
     },
     "execution_count": 192,
     "metadata": {},
     "output_type": "execute_result"
    }
   ],
   "source": [
    "s = pd.Series(np.random.permutation(10))\n",
    "s"
   ]
  },
  {
   "cell_type": "code",
   "execution_count": 196,
   "id": "b8f2a40e-6f91-4673-80bc-d97f9234e4f7",
   "metadata": {},
   "outputs": [
    {
     "name": "stdout",
     "output_type": "stream",
     "text": [
      "9    0\n",
      "7    1\n",
      "3    2\n",
      "8    3\n",
      "2    4\n",
      "6    5\n",
      "4    6\n",
      "1    7\n",
      "0    8\n",
      "5    9\n",
      "dtype: int32\n",
      ".\n",
      "9    0\n",
      "7    1\n",
      "3    2\n",
      "dtype: int32\n",
      ".\n",
      "5    9\n",
      "0    8\n",
      "1    7\n",
      "dtype: int32\n"
     ]
    }
   ],
   "source": [
    "print(s.sort_values())\n",
    "print('.')\n",
    "print(s.nsmallest(3))\n",
    "print('.')\n",
    "print(s.nlargest(3))"
   ]
  },
  {
   "cell_type": "code",
   "execution_count": 197,
   "id": "92831948-8e8f-4c4e-8e28-c5dd8d995db5",
   "metadata": {},
   "outputs": [
    {
     "data": {
      "text/html": [
       "<div>\n",
       "<style scoped>\n",
       "    .dataframe tbody tr th:only-of-type {\n",
       "        vertical-align: middle;\n",
       "    }\n",
       "\n",
       "    .dataframe tbody tr th {\n",
       "        vertical-align: top;\n",
       "    }\n",
       "\n",
       "    .dataframe thead th {\n",
       "        text-align: right;\n",
       "    }\n",
       "</style>\n",
       "<table border=\"1\" class=\"dataframe\">\n",
       "  <thead>\n",
       "    <tr style=\"text-align: right;\">\n",
       "      <th></th>\n",
       "      <th>a</th>\n",
       "      <th>b</th>\n",
       "      <th>c</th>\n",
       "    </tr>\n",
       "  </thead>\n",
       "  <tbody>\n",
       "    <tr>\n",
       "      <th>0</th>\n",
       "      <td>-2</td>\n",
       "      <td>a</td>\n",
       "      <td>1.0</td>\n",
       "    </tr>\n",
       "    <tr>\n",
       "      <th>1</th>\n",
       "      <td>-1</td>\n",
       "      <td>b</td>\n",
       "      <td>2.0</td>\n",
       "    </tr>\n",
       "    <tr>\n",
       "      <th>2</th>\n",
       "      <td>1</td>\n",
       "      <td>d</td>\n",
       "      <td>4.0</td>\n",
       "    </tr>\n",
       "    <tr>\n",
       "      <th>3</th>\n",
       "      <td>10</td>\n",
       "      <td>c</td>\n",
       "      <td>3.2</td>\n",
       "    </tr>\n",
       "    <tr>\n",
       "      <th>4</th>\n",
       "      <td>8</td>\n",
       "      <td>e</td>\n",
       "      <td>NaN</td>\n",
       "    </tr>\n",
       "    <tr>\n",
       "      <th>5</th>\n",
       "      <td>11</td>\n",
       "      <td>f</td>\n",
       "      <td>3.0</td>\n",
       "    </tr>\n",
       "    <tr>\n",
       "      <th>6</th>\n",
       "      <td>-1</td>\n",
       "      <td>f</td>\n",
       "      <td>4.0</td>\n",
       "    </tr>\n",
       "  </tbody>\n",
       "</table>\n",
       "</div>"
      ],
      "text/plain": [
       "    a  b    c\n",
       "0  -2  a  1.0\n",
       "1  -1  b  2.0\n",
       "2   1  d  4.0\n",
       "3  10  c  3.2\n",
       "4   8  e  NaN\n",
       "5  11  f  3.0\n",
       "6  -1  f  4.0"
      ]
     },
     "execution_count": 197,
     "metadata": {},
     "output_type": "execute_result"
    }
   ],
   "source": [
    "df = pd.DataFrame(\n",
    "    {\n",
    "        \"a\": [-2, -1, 1, 10, 8, 11, -1],\n",
    "        \"b\": list(\"abdceff\"),\n",
    "        \"c\": [1.0, 2.0, 4.0, 3.2, np.nan, 3.0, 4.0],\n",
    "    }\n",
    ")\n",
    "\n",
    "df"
   ]
  },
  {
   "cell_type": "code",
   "execution_count": 198,
   "id": "80629cfd-e706-4ba1-8279-eb306e2f55b8",
   "metadata": {},
   "outputs": [
    {
     "data": {
      "text/html": [
       "<div>\n",
       "<style scoped>\n",
       "    .dataframe tbody tr th:only-of-type {\n",
       "        vertical-align: middle;\n",
       "    }\n",
       "\n",
       "    .dataframe tbody tr th {\n",
       "        vertical-align: top;\n",
       "    }\n",
       "\n",
       "    .dataframe thead th {\n",
       "        text-align: right;\n",
       "    }\n",
       "</style>\n",
       "<table border=\"1\" class=\"dataframe\">\n",
       "  <thead>\n",
       "    <tr style=\"text-align: right;\">\n",
       "      <th></th>\n",
       "      <th>a</th>\n",
       "      <th>b</th>\n",
       "      <th>c</th>\n",
       "    </tr>\n",
       "  </thead>\n",
       "  <tbody>\n",
       "    <tr>\n",
       "      <th>5</th>\n",
       "      <td>11</td>\n",
       "      <td>f</td>\n",
       "      <td>3.0</td>\n",
       "    </tr>\n",
       "    <tr>\n",
       "      <th>3</th>\n",
       "      <td>10</td>\n",
       "      <td>c</td>\n",
       "      <td>3.2</td>\n",
       "    </tr>\n",
       "    <tr>\n",
       "      <th>4</th>\n",
       "      <td>8</td>\n",
       "      <td>e</td>\n",
       "      <td>NaN</td>\n",
       "    </tr>\n",
       "  </tbody>\n",
       "</table>\n",
       "</div>"
      ],
      "text/plain": [
       "    a  b    c\n",
       "5  11  f  3.0\n",
       "3  10  c  3.2\n",
       "4   8  e  NaN"
      ]
     },
     "execution_count": 198,
     "metadata": {},
     "output_type": "execute_result"
    }
   ],
   "source": [
    "df.nlargest(3, \"a\")"
   ]
  },
  {
   "cell_type": "code",
   "execution_count": 199,
   "id": "16cca584-e298-4628-8f4e-a936c356703c",
   "metadata": {},
   "outputs": [
    {
     "data": {
      "text/html": [
       "<div>\n",
       "<style scoped>\n",
       "    .dataframe tbody tr th:only-of-type {\n",
       "        vertical-align: middle;\n",
       "    }\n",
       "\n",
       "    .dataframe tbody tr th {\n",
       "        vertical-align: top;\n",
       "    }\n",
       "\n",
       "    .dataframe thead th {\n",
       "        text-align: right;\n",
       "    }\n",
       "</style>\n",
       "<table border=\"1\" class=\"dataframe\">\n",
       "  <thead>\n",
       "    <tr style=\"text-align: right;\">\n",
       "      <th></th>\n",
       "      <th>a</th>\n",
       "      <th>b</th>\n",
       "      <th>c</th>\n",
       "    </tr>\n",
       "  </thead>\n",
       "  <tbody>\n",
       "    <tr>\n",
       "      <th>0</th>\n",
       "      <td>-2</td>\n",
       "      <td>a</td>\n",
       "      <td>1.0</td>\n",
       "    </tr>\n",
       "    <tr>\n",
       "      <th>1</th>\n",
       "      <td>-1</td>\n",
       "      <td>b</td>\n",
       "      <td>2.0</td>\n",
       "    </tr>\n",
       "    <tr>\n",
       "      <th>6</th>\n",
       "      <td>-1</td>\n",
       "      <td>f</td>\n",
       "      <td>4.0</td>\n",
       "    </tr>\n",
       "  </tbody>\n",
       "</table>\n",
       "</div>"
      ],
      "text/plain": [
       "   a  b    c\n",
       "0 -2  a  1.0\n",
       "1 -1  b  2.0\n",
       "6 -1  f  4.0"
      ]
     },
     "execution_count": 199,
     "metadata": {},
     "output_type": "execute_result"
    }
   ],
   "source": [
    "df.nsmallest(3, \"a\")"
   ]
  },
  {
   "cell_type": "code",
   "execution_count": 200,
   "id": "b65a3089-4725-4a3f-9985-09c0bcdc4255",
   "metadata": {},
   "outputs": [
    {
     "data": {
      "text/html": [
       "<div>\n",
       "<style scoped>\n",
       "    .dataframe tbody tr th:only-of-type {\n",
       "        vertical-align: middle;\n",
       "    }\n",
       "\n",
       "    .dataframe tbody tr th {\n",
       "        vertical-align: top;\n",
       "    }\n",
       "\n",
       "    .dataframe thead th {\n",
       "        text-align: right;\n",
       "    }\n",
       "</style>\n",
       "<table border=\"1\" class=\"dataframe\">\n",
       "  <thead>\n",
       "    <tr style=\"text-align: right;\">\n",
       "      <th></th>\n",
       "      <th>a</th>\n",
       "      <th>b</th>\n",
       "      <th>c</th>\n",
       "    </tr>\n",
       "  </thead>\n",
       "  <tbody>\n",
       "    <tr>\n",
       "      <th>5</th>\n",
       "      <td>11</td>\n",
       "      <td>f</td>\n",
       "      <td>3.0</td>\n",
       "    </tr>\n",
       "    <tr>\n",
       "      <th>3</th>\n",
       "      <td>10</td>\n",
       "      <td>c</td>\n",
       "      <td>3.2</td>\n",
       "    </tr>\n",
       "    <tr>\n",
       "      <th>4</th>\n",
       "      <td>8</td>\n",
       "      <td>e</td>\n",
       "      <td>NaN</td>\n",
       "    </tr>\n",
       "    <tr>\n",
       "      <th>2</th>\n",
       "      <td>1</td>\n",
       "      <td>d</td>\n",
       "      <td>4.0</td>\n",
       "    </tr>\n",
       "    <tr>\n",
       "      <th>6</th>\n",
       "      <td>-1</td>\n",
       "      <td>f</td>\n",
       "      <td>4.0</td>\n",
       "    </tr>\n",
       "  </tbody>\n",
       "</table>\n",
       "</div>"
      ],
      "text/plain": [
       "    a  b    c\n",
       "5  11  f  3.0\n",
       "3  10  c  3.2\n",
       "4   8  e  NaN\n",
       "2   1  d  4.0\n",
       "6  -1  f  4.0"
      ]
     },
     "execution_count": 200,
     "metadata": {},
     "output_type": "execute_result"
    }
   ],
   "source": [
    "df.nlargest(5, [\"a\", \"c\"])"
   ]
  },
  {
   "cell_type": "code",
   "execution_count": 202,
   "id": "ec4e4d99-82a5-4d60-b121-125e9cbfc355",
   "metadata": {},
   "outputs": [
    {
     "data": {
      "text/html": [
       "<div>\n",
       "<style scoped>\n",
       "    .dataframe tbody tr th:only-of-type {\n",
       "        vertical-align: middle;\n",
       "    }\n",
       "\n",
       "    .dataframe tbody tr th {\n",
       "        vertical-align: top;\n",
       "    }\n",
       "\n",
       "    .dataframe thead th {\n",
       "        text-align: right;\n",
       "    }\n",
       "</style>\n",
       "<table border=\"1\" class=\"dataframe\">\n",
       "  <thead>\n",
       "    <tr style=\"text-align: right;\">\n",
       "      <th></th>\n",
       "      <th>a</th>\n",
       "      <th>b</th>\n",
       "      <th>c</th>\n",
       "    </tr>\n",
       "  </thead>\n",
       "  <tbody>\n",
       "    <tr>\n",
       "      <th>0</th>\n",
       "      <td>-2</td>\n",
       "      <td>a</td>\n",
       "      <td>1.0</td>\n",
       "    </tr>\n",
       "    <tr>\n",
       "      <th>1</th>\n",
       "      <td>-1</td>\n",
       "      <td>b</td>\n",
       "      <td>2.0</td>\n",
       "    </tr>\n",
       "    <tr>\n",
       "      <th>6</th>\n",
       "      <td>-1</td>\n",
       "      <td>f</td>\n",
       "      <td>4.0</td>\n",
       "    </tr>\n",
       "    <tr>\n",
       "      <th>2</th>\n",
       "      <td>1</td>\n",
       "      <td>d</td>\n",
       "      <td>4.0</td>\n",
       "    </tr>\n",
       "    <tr>\n",
       "      <th>4</th>\n",
       "      <td>8</td>\n",
       "      <td>e</td>\n",
       "      <td>NaN</td>\n",
       "    </tr>\n",
       "  </tbody>\n",
       "</table>\n",
       "</div>"
      ],
      "text/plain": [
       "   a  b    c\n",
       "0 -2  a  1.0\n",
       "1 -1  b  2.0\n",
       "6 -1  f  4.0\n",
       "2  1  d  4.0\n",
       "4  8  e  NaN"
      ]
     },
     "execution_count": 202,
     "metadata": {},
     "output_type": "execute_result"
    }
   ],
   "source": [
    "df.nsmallest(5, [\"a\", \"c\"])"
   ]
  },
  {
   "cell_type": "markdown",
   "id": "3ef766dc-2f00-4fa5-ad0b-d7924318a176",
   "metadata": {},
   "source": [
    "# 6. Best way to select data"
   ]
  },
  {
   "cell_type": "code",
   "execution_count": 88,
   "id": "3509b2dd-028e-4e61-bd89-4f7b6774ee62",
   "metadata": {},
   "outputs": [
    {
     "name": "stdout",
     "output_type": "stream",
     "text": [
      "2000-01-01   -0.339264\n",
      "2000-01-02   -0.103047\n",
      "2000-01-03    0.849349\n",
      "2000-01-04   -0.128944\n",
      "2000-01-05   -0.660975\n",
      "2000-01-06    0.841279\n",
      "2000-01-07   -0.054106\n",
      "2000-01-08   -0.073643\n",
      "Freq: D, Name: A, dtype: float64\n"
     ]
    }
   ],
   "source": [
    "dates = pd.date_range(\"2000-01-01\", periods=8)\n",
    "s = pd.Series(np.random.randn(8), index=dates, name=\"A\")\n",
    "print(s)\n"
   ]
  },
  {
   "cell_type": "code",
   "execution_count": 89,
   "id": "6a5ea0bf-5070-476a-852a-c6d81f61c34c",
   "metadata": {},
   "outputs": [
    {
     "data": {
      "text/plain": [
       "2000-01-01   -0.339264\n",
       "2000-01-02   -0.103047\n",
       "2000-01-03    0.849349\n",
       "2000-01-04   -0.128944\n",
       "2000-01-05   -0.660975\n",
       "Freq: D, Name: A, dtype: float64"
      ]
     },
     "execution_count": 89,
     "metadata": {},
     "output_type": "execute_result"
    }
   ],
   "source": [
    "s[:5]"
   ]
  },
  {
   "cell_type": "code",
   "execution_count": 90,
   "id": "fd427df4-48c4-4ac7-b0f4-5eb15691d2b9",
   "metadata": {},
   "outputs": [
    {
     "data": {
      "text/plain": [
       "2000-01-01   -0.339264\n",
       "2000-01-03    0.849349\n",
       "2000-01-05   -0.660975\n",
       "2000-01-07   -0.054106\n",
       "Freq: 2D, Name: A, dtype: float64"
      ]
     },
     "execution_count": 90,
     "metadata": {},
     "output_type": "execute_result"
    }
   ],
   "source": [
    "s[::2]"
   ]
  },
  {
   "cell_type": "code",
   "execution_count": 91,
   "id": "f08a2838-09df-4df0-a449-f1f2b77a74f9",
   "metadata": {},
   "outputs": [
    {
     "data": {
      "text/plain": [
       "2000-01-08   -0.073643\n",
       "2000-01-07   -0.054106\n",
       "2000-01-06    0.841279\n",
       "2000-01-05   -0.660975\n",
       "2000-01-04   -0.128944\n",
       "2000-01-03    0.849349\n",
       "2000-01-02   -0.103047\n",
       "2000-01-01   -0.339264\n",
       "Freq: -1D, Name: A, dtype: float64"
      ]
     },
     "execution_count": 91,
     "metadata": {},
     "output_type": "execute_result"
    }
   ],
   "source": [
    "s[::-1]"
   ]
  },
  {
   "cell_type": "code",
   "execution_count": 95,
   "id": "f070eebe-08fd-4b87-a8b7-3b54b26f6047",
   "metadata": {},
   "outputs": [
    {
     "data": {
      "text/plain": [
       "2000-01-01    0.000000\n",
       "2000-01-02    0.000000\n",
       "2000-01-03    0.000000\n",
       "2000-01-04    0.000000\n",
       "2000-01-05    0.000000\n",
       "2000-01-06    0.841279\n",
       "2000-01-07   -0.054106\n",
       "2000-01-08   -0.073643\n",
       "Freq: D, Name: A, dtype: float64"
      ]
     },
     "execution_count": 95,
     "metadata": {},
     "output_type": "execute_result"
    }
   ],
   "source": [
    "s2 = s.copy()\n",
    "s2[:5] = 0\n",
    "s2"
   ]
  },
  {
   "cell_type": "code",
   "execution_count": 96,
   "id": "bc8eca31-1827-4cc5-a692-1e7582cdf71c",
   "metadata": {},
   "outputs": [
    {
     "ename": "NameError",
     "evalue": "name 'df' is not defined",
     "output_type": "error",
     "traceback": [
      "\u001b[31m---------------------------------------------------------------------------\u001b[39m",
      "\u001b[31mNameError\u001b[39m                                 Traceback (most recent call last)",
      "\u001b[36mCell\u001b[39m\u001b[36m \u001b[39m\u001b[32mIn[96]\u001b[39m\u001b[32m, line 1\u001b[39m\n\u001b[32m----> \u001b[39m\u001b[32m1\u001b[39m \u001b[43mdf\u001b[49m[:\u001b[32m3\u001b[39m]\n",
      "\u001b[31mNameError\u001b[39m: name 'df' is not defined"
     ]
    }
   ],
   "source": [
    "df[:3]"
   ]
  },
  {
   "cell_type": "code",
   "execution_count": 97,
   "id": "8616c802-cec6-4934-ae54-6de30684c866",
   "metadata": {},
   "outputs": [
    {
     "name": "stdout",
     "output_type": "stream",
     "text": [
      "                   A         B         C         D\n",
      "2000-01-01 -1.129927  0.266282 -0.780818 -0.126935\n",
      "2000-01-02 -0.021214 -0.371718 -0.708361  0.672822\n",
      "2000-01-03 -0.176185  1.543052  1.360799  0.789936\n",
      "2000-01-04  0.057946  0.518006 -0.272201 -1.201946\n",
      "2000-01-05 -0.315901  0.291918 -0.413203 -0.318047\n",
      "2000-01-06  1.257256  0.285180 -0.953190 -0.413126\n",
      "2000-01-07  2.890086  0.501026 -1.079980 -0.799123\n",
      "2000-01-08 -0.258022  1.090906 -0.756115  1.981814\n"
     ]
    }
   ],
   "source": [
    "dates = pd.date_range(\"2000-01-01\", periods=8)\n",
    "\n",
    "df = pd.DataFrame(\n",
    "    np.random.randn(8, 4),  # 8 rows, 4 columns\n",
    "    index=dates,\n",
    "    columns=list(\"ABCD\")\n",
    ")\n",
    "\n",
    "print(df)\n"
   ]
  },
  {
   "cell_type": "code",
   "execution_count": 98,
   "id": "d633b663-3c4e-4299-8af6-5eda8733faa5",
   "metadata": {},
   "outputs": [
    {
     "data": {
      "text/html": [
       "<div>\n",
       "<style scoped>\n",
       "    .dataframe tbody tr th:only-of-type {\n",
       "        vertical-align: middle;\n",
       "    }\n",
       "\n",
       "    .dataframe tbody tr th {\n",
       "        vertical-align: top;\n",
       "    }\n",
       "\n",
       "    .dataframe thead th {\n",
       "        text-align: right;\n",
       "    }\n",
       "</style>\n",
       "<table border=\"1\" class=\"dataframe\">\n",
       "  <thead>\n",
       "    <tr style=\"text-align: right;\">\n",
       "      <th></th>\n",
       "      <th>A</th>\n",
       "      <th>B</th>\n",
       "      <th>C</th>\n",
       "      <th>D</th>\n",
       "    </tr>\n",
       "  </thead>\n",
       "  <tbody>\n",
       "    <tr>\n",
       "      <th>2000-01-01</th>\n",
       "      <td>-1.129927</td>\n",
       "      <td>0.266282</td>\n",
       "      <td>-0.780818</td>\n",
       "      <td>-0.126935</td>\n",
       "    </tr>\n",
       "    <tr>\n",
       "      <th>2000-01-02</th>\n",
       "      <td>-0.021214</td>\n",
       "      <td>-0.371718</td>\n",
       "      <td>-0.708361</td>\n",
       "      <td>0.672822</td>\n",
       "    </tr>\n",
       "    <tr>\n",
       "      <th>2000-01-03</th>\n",
       "      <td>-0.176185</td>\n",
       "      <td>1.543052</td>\n",
       "      <td>1.360799</td>\n",
       "      <td>0.789936</td>\n",
       "    </tr>\n",
       "  </tbody>\n",
       "</table>\n",
       "</div>"
      ],
      "text/plain": [
       "                   A         B         C         D\n",
       "2000-01-01 -1.129927  0.266282 -0.780818 -0.126935\n",
       "2000-01-02 -0.021214 -0.371718 -0.708361  0.672822\n",
       "2000-01-03 -0.176185  1.543052  1.360799  0.789936"
      ]
     },
     "execution_count": 98,
     "metadata": {},
     "output_type": "execute_result"
    }
   ],
   "source": [
    "df[:3]"
   ]
  },
  {
   "cell_type": "code",
   "execution_count": 99,
   "id": "23cf0baf-a847-4740-b10e-4e9435b2b8e6",
   "metadata": {},
   "outputs": [
    {
     "data": {
      "text/html": [
       "<div>\n",
       "<style scoped>\n",
       "    .dataframe tbody tr th:only-of-type {\n",
       "        vertical-align: middle;\n",
       "    }\n",
       "\n",
       "    .dataframe tbody tr th {\n",
       "        vertical-align: top;\n",
       "    }\n",
       "\n",
       "    .dataframe thead th {\n",
       "        text-align: right;\n",
       "    }\n",
       "</style>\n",
       "<table border=\"1\" class=\"dataframe\">\n",
       "  <thead>\n",
       "    <tr style=\"text-align: right;\">\n",
       "      <th></th>\n",
       "      <th>A</th>\n",
       "      <th>B</th>\n",
       "      <th>C</th>\n",
       "      <th>D</th>\n",
       "    </tr>\n",
       "  </thead>\n",
       "  <tbody>\n",
       "    <tr>\n",
       "      <th>2000-01-08</th>\n",
       "      <td>-0.258022</td>\n",
       "      <td>1.090906</td>\n",
       "      <td>-0.756115</td>\n",
       "      <td>1.981814</td>\n",
       "    </tr>\n",
       "    <tr>\n",
       "      <th>2000-01-07</th>\n",
       "      <td>2.890086</td>\n",
       "      <td>0.501026</td>\n",
       "      <td>-1.079980</td>\n",
       "      <td>-0.799123</td>\n",
       "    </tr>\n",
       "    <tr>\n",
       "      <th>2000-01-06</th>\n",
       "      <td>1.257256</td>\n",
       "      <td>0.285180</td>\n",
       "      <td>-0.953190</td>\n",
       "      <td>-0.413126</td>\n",
       "    </tr>\n",
       "    <tr>\n",
       "      <th>2000-01-05</th>\n",
       "      <td>-0.315901</td>\n",
       "      <td>0.291918</td>\n",
       "      <td>-0.413203</td>\n",
       "      <td>-0.318047</td>\n",
       "    </tr>\n",
       "    <tr>\n",
       "      <th>2000-01-04</th>\n",
       "      <td>0.057946</td>\n",
       "      <td>0.518006</td>\n",
       "      <td>-0.272201</td>\n",
       "      <td>-1.201946</td>\n",
       "    </tr>\n",
       "    <tr>\n",
       "      <th>2000-01-03</th>\n",
       "      <td>-0.176185</td>\n",
       "      <td>1.543052</td>\n",
       "      <td>1.360799</td>\n",
       "      <td>0.789936</td>\n",
       "    </tr>\n",
       "    <tr>\n",
       "      <th>2000-01-02</th>\n",
       "      <td>-0.021214</td>\n",
       "      <td>-0.371718</td>\n",
       "      <td>-0.708361</td>\n",
       "      <td>0.672822</td>\n",
       "    </tr>\n",
       "    <tr>\n",
       "      <th>2000-01-01</th>\n",
       "      <td>-1.129927</td>\n",
       "      <td>0.266282</td>\n",
       "      <td>-0.780818</td>\n",
       "      <td>-0.126935</td>\n",
       "    </tr>\n",
       "  </tbody>\n",
       "</table>\n",
       "</div>"
      ],
      "text/plain": [
       "                   A         B         C         D\n",
       "2000-01-08 -0.258022  1.090906 -0.756115  1.981814\n",
       "2000-01-07  2.890086  0.501026 -1.079980 -0.799123\n",
       "2000-01-06  1.257256  0.285180 -0.953190 -0.413126\n",
       "2000-01-05 -0.315901  0.291918 -0.413203 -0.318047\n",
       "2000-01-04  0.057946  0.518006 -0.272201 -1.201946\n",
       "2000-01-03 -0.176185  1.543052  1.360799  0.789936\n",
       "2000-01-02 -0.021214 -0.371718 -0.708361  0.672822\n",
       "2000-01-01 -1.129927  0.266282 -0.780818 -0.126935"
      ]
     },
     "execution_count": 99,
     "metadata": {},
     "output_type": "execute_result"
    }
   ],
   "source": [
    "df[::-1]"
   ]
  },
  {
   "cell_type": "code",
   "execution_count": 100,
   "id": "d00233bf-f1c7-4058-a831-b1ee8d3b2769",
   "metadata": {},
   "outputs": [
    {
     "data": {
      "text/html": [
       "<div>\n",
       "<style scoped>\n",
       "    .dataframe tbody tr th:only-of-type {\n",
       "        vertical-align: middle;\n",
       "    }\n",
       "\n",
       "    .dataframe tbody tr th {\n",
       "        vertical-align: top;\n",
       "    }\n",
       "\n",
       "    .dataframe thead th {\n",
       "        text-align: right;\n",
       "    }\n",
       "</style>\n",
       "<table border=\"1\" class=\"dataframe\">\n",
       "  <thead>\n",
       "    <tr style=\"text-align: right;\">\n",
       "      <th></th>\n",
       "      <th>A</th>\n",
       "      <th>B</th>\n",
       "      <th>C</th>\n",
       "      <th>D</th>\n",
       "    </tr>\n",
       "  </thead>\n",
       "  <tbody>\n",
       "    <tr>\n",
       "      <th>a</th>\n",
       "      <td>-0.366946</td>\n",
       "      <td>0.356091</td>\n",
       "      <td>-1.340824</td>\n",
       "      <td>0.035219</td>\n",
       "    </tr>\n",
       "    <tr>\n",
       "      <th>b</th>\n",
       "      <td>-0.694481</td>\n",
       "      <td>-0.055240</td>\n",
       "      <td>-0.501410</td>\n",
       "      <td>0.141266</td>\n",
       "    </tr>\n",
       "    <tr>\n",
       "      <th>c</th>\n",
       "      <td>-0.488321</td>\n",
       "      <td>0.930629</td>\n",
       "      <td>-0.064162</td>\n",
       "      <td>-0.959352</td>\n",
       "    </tr>\n",
       "    <tr>\n",
       "      <th>d</th>\n",
       "      <td>1.375131</td>\n",
       "      <td>0.787081</td>\n",
       "      <td>0.554696</td>\n",
       "      <td>0.125181</td>\n",
       "    </tr>\n",
       "    <tr>\n",
       "      <th>e</th>\n",
       "      <td>-0.904974</td>\n",
       "      <td>0.537836</td>\n",
       "      <td>-0.314166</td>\n",
       "      <td>-0.401621</td>\n",
       "    </tr>\n",
       "    <tr>\n",
       "      <th>f</th>\n",
       "      <td>-1.740104</td>\n",
       "      <td>-0.702280</td>\n",
       "      <td>0.618564</td>\n",
       "      <td>0.882027</td>\n",
       "    </tr>\n",
       "  </tbody>\n",
       "</table>\n",
       "</div>"
      ],
      "text/plain": [
       "          A         B         C         D\n",
       "a -0.366946  0.356091 -1.340824  0.035219\n",
       "b -0.694481 -0.055240 -0.501410  0.141266\n",
       "c -0.488321  0.930629 -0.064162 -0.959352\n",
       "d  1.375131  0.787081  0.554696  0.125181\n",
       "e -0.904974  0.537836 -0.314166 -0.401621\n",
       "f -1.740104 -0.702280  0.618564  0.882027"
      ]
     },
     "execution_count": 100,
     "metadata": {},
     "output_type": "execute_result"
    }
   ],
   "source": [
    "df1 = pd.DataFrame(np.random.randn(6, 4),\n",
    "                   index=list('abcdef'),\n",
    "                   columns=list('ABCD'))\n",
    "df1"
   ]
  },
  {
   "cell_type": "code",
   "execution_count": 101,
   "id": "9af455ab-1e8e-49dd-a51f-d8d5971b5074",
   "metadata": {},
   "outputs": [
    {
     "data": {
      "text/html": [
       "<div>\n",
       "<style scoped>\n",
       "    .dataframe tbody tr th:only-of-type {\n",
       "        vertical-align: middle;\n",
       "    }\n",
       "\n",
       "    .dataframe tbody tr th {\n",
       "        vertical-align: top;\n",
       "    }\n",
       "\n",
       "    .dataframe thead th {\n",
       "        text-align: right;\n",
       "    }\n",
       "</style>\n",
       "<table border=\"1\" class=\"dataframe\">\n",
       "  <thead>\n",
       "    <tr style=\"text-align: right;\">\n",
       "      <th></th>\n",
       "      <th>A</th>\n",
       "      <th>B</th>\n",
       "      <th>C</th>\n",
       "      <th>D</th>\n",
       "    </tr>\n",
       "  </thead>\n",
       "  <tbody>\n",
       "    <tr>\n",
       "      <th>a</th>\n",
       "      <td>-0.366946</td>\n",
       "      <td>0.356091</td>\n",
       "      <td>-1.340824</td>\n",
       "      <td>0.035219</td>\n",
       "    </tr>\n",
       "    <tr>\n",
       "      <th>b</th>\n",
       "      <td>-0.694481</td>\n",
       "      <td>-0.055240</td>\n",
       "      <td>-0.501410</td>\n",
       "      <td>0.141266</td>\n",
       "    </tr>\n",
       "    <tr>\n",
       "      <th>d</th>\n",
       "      <td>1.375131</td>\n",
       "      <td>0.787081</td>\n",
       "      <td>0.554696</td>\n",
       "      <td>0.125181</td>\n",
       "    </tr>\n",
       "  </tbody>\n",
       "</table>\n",
       "</div>"
      ],
      "text/plain": [
       "          A         B         C         D\n",
       "a -0.366946  0.356091 -1.340824  0.035219\n",
       "b -0.694481 -0.055240 -0.501410  0.141266\n",
       "d  1.375131  0.787081  0.554696  0.125181"
      ]
     },
     "execution_count": 101,
     "metadata": {},
     "output_type": "execute_result"
    }
   ],
   "source": [
    "df1.loc[['a', 'b', 'd'], :]"
   ]
  },
  {
   "cell_type": "code",
   "execution_count": 102,
   "id": "8e845e06-b1ec-4c83-9eac-12ffbf8c4e0a",
   "metadata": {},
   "outputs": [
    {
     "data": {
      "text/plain": [
       "A   -0.366946\n",
       "B    0.356091\n",
       "C   -1.340824\n",
       "D    0.035219\n",
       "Name: a, dtype: float64"
      ]
     },
     "execution_count": 102,
     "metadata": {},
     "output_type": "execute_result"
    }
   ],
   "source": [
    "df1.loc['a']"
   ]
  },
  {
   "cell_type": "code",
   "execution_count": 103,
   "id": "508ca64a-e0ca-405d-a816-125064de394b",
   "metadata": {},
   "outputs": [
    {
     "data": {
      "text/plain": [
       "A    False\n",
       "B     True\n",
       "C    False\n",
       "D     True\n",
       "Name: a, dtype: bool"
      ]
     },
     "execution_count": 103,
     "metadata": {},
     "output_type": "execute_result"
    }
   ],
   "source": [
    "df1.loc['a'] > 0"
   ]
  },
  {
   "cell_type": "code",
   "execution_count": 104,
   "id": "892de453-e60f-4533-8db6-6762b20d0822",
   "metadata": {},
   "outputs": [
    {
     "data": {
      "text/html": [
       "<div>\n",
       "<style scoped>\n",
       "    .dataframe tbody tr th:only-of-type {\n",
       "        vertical-align: middle;\n",
       "    }\n",
       "\n",
       "    .dataframe tbody tr th {\n",
       "        vertical-align: top;\n",
       "    }\n",
       "\n",
       "    .dataframe thead th {\n",
       "        text-align: right;\n",
       "    }\n",
       "</style>\n",
       "<table border=\"1\" class=\"dataframe\">\n",
       "  <thead>\n",
       "    <tr style=\"text-align: right;\">\n",
       "      <th></th>\n",
       "      <th>B</th>\n",
       "      <th>D</th>\n",
       "    </tr>\n",
       "  </thead>\n",
       "  <tbody>\n",
       "    <tr>\n",
       "      <th>a</th>\n",
       "      <td>0.356091</td>\n",
       "      <td>0.035219</td>\n",
       "    </tr>\n",
       "    <tr>\n",
       "      <th>b</th>\n",
       "      <td>-0.055240</td>\n",
       "      <td>0.141266</td>\n",
       "    </tr>\n",
       "    <tr>\n",
       "      <th>c</th>\n",
       "      <td>0.930629</td>\n",
       "      <td>-0.959352</td>\n",
       "    </tr>\n",
       "    <tr>\n",
       "      <th>d</th>\n",
       "      <td>0.787081</td>\n",
       "      <td>0.125181</td>\n",
       "    </tr>\n",
       "    <tr>\n",
       "      <th>e</th>\n",
       "      <td>0.537836</td>\n",
       "      <td>-0.401621</td>\n",
       "    </tr>\n",
       "    <tr>\n",
       "      <th>f</th>\n",
       "      <td>-0.702280</td>\n",
       "      <td>0.882027</td>\n",
       "    </tr>\n",
       "  </tbody>\n",
       "</table>\n",
       "</div>"
      ],
      "text/plain": [
       "          B         D\n",
       "a  0.356091  0.035219\n",
       "b -0.055240  0.141266\n",
       "c  0.930629 -0.959352\n",
       "d  0.787081  0.125181\n",
       "e  0.537836 -0.401621\n",
       "f -0.702280  0.882027"
      ]
     },
     "execution_count": 104,
     "metadata": {},
     "output_type": "execute_result"
    }
   ],
   "source": [
    "df1.loc[:, df1.loc['a'] > 0]"
   ]
  },
  {
   "cell_type": "code",
   "execution_count": 109,
   "id": "2e7556f1-1624-4a58-b6cf-029a693e0489",
   "metadata": {},
   "outputs": [
    {
     "data": {
      "text/plain": [
       "<BooleanArray>\n",
       "[True, False, True, False, <NA>, True]\n",
       "Length: 6, dtype: boolean"
      ]
     },
     "execution_count": 109,
     "metadata": {},
     "output_type": "execute_result"
    }
   ],
   "source": [
    "mask = pd.array([True, False, True, False, pd.NA, True], dtype=\"boolean\")\n",
    "mask"
   ]
  },
  {
   "cell_type": "code",
   "execution_count": 110,
   "id": "300190d2-c912-4538-8307-8c706cf75695",
   "metadata": {},
   "outputs": [
    {
     "data": {
      "text/html": [
       "<div>\n",
       "<style scoped>\n",
       "    .dataframe tbody tr th:only-of-type {\n",
       "        vertical-align: middle;\n",
       "    }\n",
       "\n",
       "    .dataframe tbody tr th {\n",
       "        vertical-align: top;\n",
       "    }\n",
       "\n",
       "    .dataframe thead th {\n",
       "        text-align: right;\n",
       "    }\n",
       "</style>\n",
       "<table border=\"1\" class=\"dataframe\">\n",
       "  <thead>\n",
       "    <tr style=\"text-align: right;\">\n",
       "      <th></th>\n",
       "      <th>A</th>\n",
       "      <th>B</th>\n",
       "      <th>C</th>\n",
       "      <th>D</th>\n",
       "    </tr>\n",
       "  </thead>\n",
       "  <tbody>\n",
       "    <tr>\n",
       "      <th>a</th>\n",
       "      <td>-0.366946</td>\n",
       "      <td>0.356091</td>\n",
       "      <td>-1.340824</td>\n",
       "      <td>0.035219</td>\n",
       "    </tr>\n",
       "    <tr>\n",
       "      <th>c</th>\n",
       "      <td>-0.488321</td>\n",
       "      <td>0.930629</td>\n",
       "      <td>-0.064162</td>\n",
       "      <td>-0.959352</td>\n",
       "    </tr>\n",
       "    <tr>\n",
       "      <th>f</th>\n",
       "      <td>-1.740104</td>\n",
       "      <td>-0.702280</td>\n",
       "      <td>0.618564</td>\n",
       "      <td>0.882027</td>\n",
       "    </tr>\n",
       "  </tbody>\n",
       "</table>\n",
       "</div>"
      ],
      "text/plain": [
       "          A         B         C         D\n",
       "a -0.366946  0.356091 -1.340824  0.035219\n",
       "c -0.488321  0.930629 -0.064162 -0.959352\n",
       "f -1.740104 -0.702280  0.618564  0.882027"
      ]
     },
     "execution_count": 110,
     "metadata": {},
     "output_type": "execute_result"
    }
   ],
   "source": [
    "df1[mask]"
   ]
  },
  {
   "cell_type": "code",
   "execution_count": 112,
   "id": "ea970fc6-8c84-45e0-a16a-35b2cfa447bc",
   "metadata": {},
   "outputs": [
    {
     "data": {
      "text/plain": [
       "0    a\n",
       "3    b\n",
       "2    c\n",
       "5    d\n",
       "4    e\n",
       "dtype: object"
      ]
     },
     "execution_count": 112,
     "metadata": {},
     "output_type": "execute_result"
    }
   ],
   "source": [
    "s = pd.Series(list('abcde'), index=[0, 3, 2, 5, 4])\n",
    "s"
   ]
  },
  {
   "cell_type": "code",
   "execution_count": 113,
   "id": "8d1c3e94-4782-406f-9403-f6ad618637f9",
   "metadata": {},
   "outputs": [
    {
     "data": {
      "text/plain": [
       "3    b\n",
       "2    c\n",
       "5    d\n",
       "dtype: object"
      ]
     },
     "execution_count": 113,
     "metadata": {},
     "output_type": "execute_result"
    }
   ],
   "source": [
    "s.loc[3:5]"
   ]
  },
  {
   "cell_type": "code",
   "execution_count": 114,
   "id": "05c96017-89b5-4892-bb3f-f592499fc6cb",
   "metadata": {},
   "outputs": [
    {
     "data": {
      "text/plain": [
       "0    a\n",
       "2    c\n",
       "3    b\n",
       "4    e\n",
       "5    d\n",
       "dtype: object"
      ]
     },
     "execution_count": 114,
     "metadata": {},
     "output_type": "execute_result"
    }
   ],
   "source": [
    "s.sort_index()"
   ]
  },
  {
   "cell_type": "code",
   "execution_count": 115,
   "id": "75b28c80-3022-43f7-8c19-378336b28b74",
   "metadata": {},
   "outputs": [
    {
     "data": {
      "text/plain": [
       "2    c\n",
       "3    b\n",
       "4    e\n",
       "5    d\n",
       "dtype: object"
      ]
     },
     "execution_count": 115,
     "metadata": {},
     "output_type": "execute_result"
    }
   ],
   "source": [
    "s.sort_index().loc[1:6]"
   ]
  },
  {
   "cell_type": "code",
   "execution_count": 116,
   "id": "50d91079-f06f-4d04-861e-2a6ff3f0cb8f",
   "metadata": {},
   "outputs": [
    {
     "data": {
      "text/plain": [
       "0   -0.760983\n",
       "2   -0.485226\n",
       "4   -0.197252\n",
       "6    1.310222\n",
       "8    2.018925\n",
       "dtype: float64"
      ]
     },
     "execution_count": 116,
     "metadata": {},
     "output_type": "execute_result"
    }
   ],
   "source": [
    "s1 = pd.Series(np.random.randn(5), index=list(range(0, 10, 2)))\n",
    "s1"
   ]
  },
  {
   "cell_type": "code",
   "execution_count": 117,
   "id": "9aa886f1-6c96-4d06-b4c9-13176dc7948f",
   "metadata": {},
   "outputs": [
    {
     "data": {
      "text/plain": [
       "0   -0.760983\n",
       "2   -0.485226\n",
       "4   -0.197252\n",
       "dtype: float64"
      ]
     },
     "execution_count": 117,
     "metadata": {},
     "output_type": "execute_result"
    }
   ],
   "source": [
    "s1.iloc[:3]"
   ]
  },
  {
   "cell_type": "code",
   "execution_count": 118,
   "id": "426fabea-1f22-4e18-bc87-2d485979ee53",
   "metadata": {},
   "outputs": [
    {
     "data": {
      "text/plain": [
       "np.float64(1.3102218243073558)"
      ]
     },
     "execution_count": 118,
     "metadata": {},
     "output_type": "execute_result"
    }
   ],
   "source": [
    "s1.iloc[3]"
   ]
  },
  {
   "cell_type": "code",
   "execution_count": 120,
   "id": "3ce53089-17f6-48d4-adf0-9ffc11206391",
   "metadata": {},
   "outputs": [
    {
     "data": {
      "text/plain": [
       "0    0.000000\n",
       "2    0.000000\n",
       "4    0.000000\n",
       "6    1.310222\n",
       "8    2.018925\n",
       "dtype: float64"
      ]
     },
     "execution_count": 120,
     "metadata": {},
     "output_type": "execute_result"
    }
   ],
   "source": [
    "s1.iloc[:3] = 0\n",
    "s1"
   ]
  },
  {
   "cell_type": "markdown",
   "id": "a0e77170-bbb1-4b4c-b6de-6556a6d9eeb4",
   "metadata": {},
   "source": [
    "## With Dataframe"
   ]
  },
  {
   "cell_type": "code",
   "execution_count": 121,
   "id": "6876ac9f-925e-4589-a7bb-7005995f91eb",
   "metadata": {},
   "outputs": [
    {
     "data": {
      "text/html": [
       "<div>\n",
       "<style scoped>\n",
       "    .dataframe tbody tr th:only-of-type {\n",
       "        vertical-align: middle;\n",
       "    }\n",
       "\n",
       "    .dataframe tbody tr th {\n",
       "        vertical-align: top;\n",
       "    }\n",
       "\n",
       "    .dataframe thead th {\n",
       "        text-align: right;\n",
       "    }\n",
       "</style>\n",
       "<table border=\"1\" class=\"dataframe\">\n",
       "  <thead>\n",
       "    <tr style=\"text-align: right;\">\n",
       "      <th></th>\n",
       "      <th>0</th>\n",
       "      <th>2</th>\n",
       "      <th>4</th>\n",
       "      <th>6</th>\n",
       "    </tr>\n",
       "  </thead>\n",
       "  <tbody>\n",
       "    <tr>\n",
       "      <th>0</th>\n",
       "      <td>0.901423</td>\n",
       "      <td>1.312387</td>\n",
       "      <td>-0.811822</td>\n",
       "      <td>0.274723</td>\n",
       "    </tr>\n",
       "    <tr>\n",
       "      <th>2</th>\n",
       "      <td>-0.129047</td>\n",
       "      <td>-0.036746</td>\n",
       "      <td>-0.261045</td>\n",
       "      <td>-0.084137</td>\n",
       "    </tr>\n",
       "    <tr>\n",
       "      <th>4</th>\n",
       "      <td>1.840200</td>\n",
       "      <td>-0.699777</td>\n",
       "      <td>0.226520</td>\n",
       "      <td>-1.415794</td>\n",
       "    </tr>\n",
       "    <tr>\n",
       "      <th>6</th>\n",
       "      <td>-0.492990</td>\n",
       "      <td>-0.454244</td>\n",
       "      <td>1.151386</td>\n",
       "      <td>-0.609273</td>\n",
       "    </tr>\n",
       "    <tr>\n",
       "      <th>8</th>\n",
       "      <td>-0.476935</td>\n",
       "      <td>-1.793629</td>\n",
       "      <td>0.115629</td>\n",
       "      <td>-0.000392</td>\n",
       "    </tr>\n",
       "    <tr>\n",
       "      <th>10</th>\n",
       "      <td>0.842736</td>\n",
       "      <td>0.042909</td>\n",
       "      <td>-1.395431</td>\n",
       "      <td>0.127153</td>\n",
       "    </tr>\n",
       "  </tbody>\n",
       "</table>\n",
       "</div>"
      ],
      "text/plain": [
       "           0         2         4         6\n",
       "0   0.901423  1.312387 -0.811822  0.274723\n",
       "2  -0.129047 -0.036746 -0.261045 -0.084137\n",
       "4   1.840200 -0.699777  0.226520 -1.415794\n",
       "6  -0.492990 -0.454244  1.151386 -0.609273\n",
       "8  -0.476935 -1.793629  0.115629 -0.000392\n",
       "10  0.842736  0.042909 -1.395431  0.127153"
      ]
     },
     "execution_count": 121,
     "metadata": {},
     "output_type": "execute_result"
    }
   ],
   "source": [
    "df1 = pd.DataFrame(np.random.randn(6, 4),\n",
    "                   index=list(range(0, 12, 2)),\n",
    "                   columns=list(range(0, 8, 2)))\n",
    "\n",
    "df1"
   ]
  },
  {
   "cell_type": "code",
   "execution_count": 122,
   "id": "805903b9-9e95-4514-a940-99e44c5d1afd",
   "metadata": {},
   "outputs": [
    {
     "data": {
      "text/html": [
       "<div>\n",
       "<style scoped>\n",
       "    .dataframe tbody tr th:only-of-type {\n",
       "        vertical-align: middle;\n",
       "    }\n",
       "\n",
       "    .dataframe tbody tr th {\n",
       "        vertical-align: top;\n",
       "    }\n",
       "\n",
       "    .dataframe thead th {\n",
       "        text-align: right;\n",
       "    }\n",
       "</style>\n",
       "<table border=\"1\" class=\"dataframe\">\n",
       "  <thead>\n",
       "    <tr style=\"text-align: right;\">\n",
       "      <th></th>\n",
       "      <th>0</th>\n",
       "      <th>2</th>\n",
       "      <th>4</th>\n",
       "      <th>6</th>\n",
       "    </tr>\n",
       "  </thead>\n",
       "  <tbody>\n",
       "    <tr>\n",
       "      <th>0</th>\n",
       "      <td>0.901423</td>\n",
       "      <td>1.312387</td>\n",
       "      <td>-0.811822</td>\n",
       "      <td>0.274723</td>\n",
       "    </tr>\n",
       "    <tr>\n",
       "      <th>2</th>\n",
       "      <td>-0.129047</td>\n",
       "      <td>-0.036746</td>\n",
       "      <td>-0.261045</td>\n",
       "      <td>-0.084137</td>\n",
       "    </tr>\n",
       "    <tr>\n",
       "      <th>4</th>\n",
       "      <td>1.840200</td>\n",
       "      <td>-0.699777</td>\n",
       "      <td>0.226520</td>\n",
       "      <td>-1.415794</td>\n",
       "    </tr>\n",
       "  </tbody>\n",
       "</table>\n",
       "</div>"
      ],
      "text/plain": [
       "          0         2         4         6\n",
       "0  0.901423  1.312387 -0.811822  0.274723\n",
       "2 -0.129047 -0.036746 -0.261045 -0.084137\n",
       "4  1.840200 -0.699777  0.226520 -1.415794"
      ]
     },
     "execution_count": 122,
     "metadata": {},
     "output_type": "execute_result"
    }
   ],
   "source": [
    "df1.iloc[:3]"
   ]
  },
  {
   "cell_type": "code",
   "execution_count": 123,
   "id": "aa5cc5cd-f156-4cf2-8395-35a20d030939",
   "metadata": {},
   "outputs": [
    {
     "data": {
      "text/html": [
       "<div>\n",
       "<style scoped>\n",
       "    .dataframe tbody tr th:only-of-type {\n",
       "        vertical-align: middle;\n",
       "    }\n",
       "\n",
       "    .dataframe tbody tr th {\n",
       "        vertical-align: top;\n",
       "    }\n",
       "\n",
       "    .dataframe thead th {\n",
       "        text-align: right;\n",
       "    }\n",
       "</style>\n",
       "<table border=\"1\" class=\"dataframe\">\n",
       "  <thead>\n",
       "    <tr style=\"text-align: right;\">\n",
       "      <th></th>\n",
       "      <th>4</th>\n",
       "      <th>6</th>\n",
       "    </tr>\n",
       "  </thead>\n",
       "  <tbody>\n",
       "    <tr>\n",
       "      <th>2</th>\n",
       "      <td>-0.261045</td>\n",
       "      <td>-0.084137</td>\n",
       "    </tr>\n",
       "    <tr>\n",
       "      <th>4</th>\n",
       "      <td>0.226520</td>\n",
       "      <td>-1.415794</td>\n",
       "    </tr>\n",
       "    <tr>\n",
       "      <th>6</th>\n",
       "      <td>1.151386</td>\n",
       "      <td>-0.609273</td>\n",
       "    </tr>\n",
       "    <tr>\n",
       "      <th>8</th>\n",
       "      <td>0.115629</td>\n",
       "      <td>-0.000392</td>\n",
       "    </tr>\n",
       "  </tbody>\n",
       "</table>\n",
       "</div>"
      ],
      "text/plain": [
       "          4         6\n",
       "2 -0.261045 -0.084137\n",
       "4  0.226520 -1.415794\n",
       "6  1.151386 -0.609273\n",
       "8  0.115629 -0.000392"
      ]
     },
     "execution_count": 123,
     "metadata": {},
     "output_type": "execute_result"
    }
   ],
   "source": [
    "# 1:5 → Select rows from index position 1 up to but not including 5 (so rows with positions 1, 2, 3, 4).\n",
    "\n",
    "# 2:4 → Select columns from index position 2 up to but not including 4 (so columns at positions 2 and 3).\n",
    "\n",
    "df1.iloc[1:5, 2:4]"
   ]
  },
  {
   "cell_type": "code",
   "execution_count": 124,
   "id": "6ed1f693-78a2-41bc-99b9-4c152b9269b8",
   "metadata": {},
   "outputs": [
    {
     "data": {
      "text/html": [
       "<div>\n",
       "<style scoped>\n",
       "    .dataframe tbody tr th:only-of-type {\n",
       "        vertical-align: middle;\n",
       "    }\n",
       "\n",
       "    .dataframe tbody tr th {\n",
       "        vertical-align: top;\n",
       "    }\n",
       "\n",
       "    .dataframe thead th {\n",
       "        text-align: right;\n",
       "    }\n",
       "</style>\n",
       "<table border=\"1\" class=\"dataframe\">\n",
       "  <thead>\n",
       "    <tr style=\"text-align: right;\">\n",
       "      <th></th>\n",
       "      <th>2</th>\n",
       "      <th>6</th>\n",
       "    </tr>\n",
       "  </thead>\n",
       "  <tbody>\n",
       "    <tr>\n",
       "      <th>2</th>\n",
       "      <td>-0.036746</td>\n",
       "      <td>-0.084137</td>\n",
       "    </tr>\n",
       "    <tr>\n",
       "      <th>6</th>\n",
       "      <td>-0.454244</td>\n",
       "      <td>-0.609273</td>\n",
       "    </tr>\n",
       "    <tr>\n",
       "      <th>10</th>\n",
       "      <td>0.042909</td>\n",
       "      <td>0.127153</td>\n",
       "    </tr>\n",
       "  </tbody>\n",
       "</table>\n",
       "</div>"
      ],
      "text/plain": [
       "           2         6\n",
       "2  -0.036746 -0.084137\n",
       "6  -0.454244 -0.609273\n",
       "10  0.042909  0.127153"
      ]
     },
     "execution_count": 124,
     "metadata": {},
     "output_type": "execute_result"
    }
   ],
   "source": [
    "df1.iloc[[1, 3, 5], [1, 3]]"
   ]
  },
  {
   "cell_type": "code",
   "execution_count": 125,
   "id": "e30c4754-f53b-41b9-9992-ee48846ff295",
   "metadata": {},
   "outputs": [
    {
     "data": {
      "text/html": [
       "<div>\n",
       "<style scoped>\n",
       "    .dataframe tbody tr th:only-of-type {\n",
       "        vertical-align: middle;\n",
       "    }\n",
       "\n",
       "    .dataframe tbody tr th {\n",
       "        vertical-align: top;\n",
       "    }\n",
       "\n",
       "    .dataframe thead th {\n",
       "        text-align: right;\n",
       "    }\n",
       "</style>\n",
       "<table border=\"1\" class=\"dataframe\">\n",
       "  <thead>\n",
       "    <tr style=\"text-align: right;\">\n",
       "      <th></th>\n",
       "      <th>2</th>\n",
       "      <th>4</th>\n",
       "    </tr>\n",
       "  </thead>\n",
       "  <tbody>\n",
       "    <tr>\n",
       "      <th>0</th>\n",
       "      <td>1.312387</td>\n",
       "      <td>-0.811822</td>\n",
       "    </tr>\n",
       "    <tr>\n",
       "      <th>2</th>\n",
       "      <td>-0.036746</td>\n",
       "      <td>-0.261045</td>\n",
       "    </tr>\n",
       "    <tr>\n",
       "      <th>4</th>\n",
       "      <td>-0.699777</td>\n",
       "      <td>0.226520</td>\n",
       "    </tr>\n",
       "    <tr>\n",
       "      <th>6</th>\n",
       "      <td>-0.454244</td>\n",
       "      <td>1.151386</td>\n",
       "    </tr>\n",
       "    <tr>\n",
       "      <th>8</th>\n",
       "      <td>-1.793629</td>\n",
       "      <td>0.115629</td>\n",
       "    </tr>\n",
       "    <tr>\n",
       "      <th>10</th>\n",
       "      <td>0.042909</td>\n",
       "      <td>-1.395431</td>\n",
       "    </tr>\n",
       "  </tbody>\n",
       "</table>\n",
       "</div>"
      ],
      "text/plain": [
       "           2         4\n",
       "0   1.312387 -0.811822\n",
       "2  -0.036746 -0.261045\n",
       "4  -0.699777  0.226520\n",
       "6  -0.454244  1.151386\n",
       "8  -1.793629  0.115629\n",
       "10  0.042909 -1.395431"
      ]
     },
     "execution_count": 125,
     "metadata": {},
     "output_type": "execute_result"
    }
   ],
   "source": [
    "df1.iloc[:, 1:3]"
   ]
  },
  {
   "cell_type": "code",
   "execution_count": 126,
   "id": "3d660f01-1bd7-42e5-911b-76bcfa314991",
   "metadata": {},
   "outputs": [
    {
     "data": {
      "text/plain": [
       "0   -0.129047\n",
       "2   -0.036746\n",
       "4   -0.261045\n",
       "6   -0.084137\n",
       "Name: 2, dtype: float64"
      ]
     },
     "execution_count": 126,
     "metadata": {},
     "output_type": "execute_result"
    }
   ],
   "source": [
    "df1.iloc[1]"
   ]
  },
  {
   "cell_type": "code",
   "execution_count": 127,
   "id": "1fe16552-622c-484b-ac9f-405a22c9cdc4",
   "metadata": {},
   "outputs": [
    {
     "data": {
      "text/plain": [
       "['a', 'b', 'c', 'd', 'e', 'f']"
      ]
     },
     "execution_count": 127,
     "metadata": {},
     "output_type": "execute_result"
    }
   ],
   "source": [
    "# Same thing is also work in normal python and also numpy\n",
    "x = list('abcdef')\n",
    "x"
   ]
  },
  {
   "cell_type": "code",
   "execution_count": 131,
   "id": "a08de791-d022-4273-bfd3-744b63091c75",
   "metadata": {},
   "outputs": [
    {
     "name": "stdout",
     "output_type": "stream",
     "text": [
      "['e', 'f']\n",
      "[]\n"
     ]
    }
   ],
   "source": [
    "print(x[4:10])\n",
    "print(x[8:10])"
   ]
  },
  {
   "cell_type": "code",
   "execution_count": 133,
   "id": "f59eceeb-87b7-4e1f-ad63-5e54882a0a1a",
   "metadata": {},
   "outputs": [
    {
     "name": "stdout",
     "output_type": "stream",
     "text": [
      "4    e\n",
      "5    f\n",
      "dtype: object\n",
      "Series([], dtype: object)\n"
     ]
    }
   ],
   "source": [
    "s = pd.Series(x)\n",
    "print(s.iloc[4:10])\n",
    "print(s.iloc[8:10])"
   ]
  },
  {
   "cell_type": "code",
   "execution_count": 138,
   "id": "eada83a1-e63f-4a18-89a4-e9071fb5fae7",
   "metadata": {},
   "outputs": [
    {
     "data": {
      "text/html": [
       "<div>\n",
       "<style scoped>\n",
       "    .dataframe tbody tr th:only-of-type {\n",
       "        vertical-align: middle;\n",
       "    }\n",
       "\n",
       "    .dataframe tbody tr th {\n",
       "        vertical-align: top;\n",
       "    }\n",
       "\n",
       "    .dataframe thead th {\n",
       "        text-align: right;\n",
       "    }\n",
       "</style>\n",
       "<table border=\"1\" class=\"dataframe\">\n",
       "  <thead>\n",
       "    <tr style=\"text-align: right;\">\n",
       "      <th></th>\n",
       "      <th>A</th>\n",
       "      <th>B</th>\n",
       "    </tr>\n",
       "  </thead>\n",
       "  <tbody>\n",
       "    <tr>\n",
       "      <th>0</th>\n",
       "      <td>0.259986</td>\n",
       "      <td>0.853157</td>\n",
       "    </tr>\n",
       "    <tr>\n",
       "      <th>1</th>\n",
       "      <td>0.031974</td>\n",
       "      <td>0.101375</td>\n",
       "    </tr>\n",
       "    <tr>\n",
       "      <th>2</th>\n",
       "      <td>-1.216915</td>\n",
       "      <td>-2.038186</td>\n",
       "    </tr>\n",
       "    <tr>\n",
       "      <th>3</th>\n",
       "      <td>0.016638</td>\n",
       "      <td>1.881010</td>\n",
       "    </tr>\n",
       "    <tr>\n",
       "      <th>4</th>\n",
       "      <td>-0.785195</td>\n",
       "      <td>0.310626</td>\n",
       "    </tr>\n",
       "  </tbody>\n",
       "</table>\n",
       "</div>"
      ],
      "text/plain": [
       "          A         B\n",
       "0  0.259986  0.853157\n",
       "1  0.031974  0.101375\n",
       "2 -1.216915 -2.038186\n",
       "3  0.016638  1.881010\n",
       "4 -0.785195  0.310626"
      ]
     },
     "execution_count": 138,
     "metadata": {},
     "output_type": "execute_result"
    }
   ],
   "source": [
    "dfl = pd.DataFrame(np.random.randn(5, 2), columns=list('AB'))\n",
    "dfl"
   ]
  },
  {
   "cell_type": "code",
   "execution_count": 142,
   "id": "7162e742-4844-4aa3-b25b-5c00549903b9",
   "metadata": {},
   "outputs": [
    {
     "data": {
      "text/html": [
       "<div>\n",
       "<style scoped>\n",
       "    .dataframe tbody tr th:only-of-type {\n",
       "        vertical-align: middle;\n",
       "    }\n",
       "\n",
       "    .dataframe tbody tr th {\n",
       "        vertical-align: top;\n",
       "    }\n",
       "\n",
       "    .dataframe thead th {\n",
       "        text-align: right;\n",
       "    }\n",
       "</style>\n",
       "<table border=\"1\" class=\"dataframe\">\n",
       "  <thead>\n",
       "    <tr style=\"text-align: right;\">\n",
       "      <th></th>\n",
       "    </tr>\n",
       "  </thead>\n",
       "  <tbody>\n",
       "    <tr>\n",
       "      <th>0</th>\n",
       "    </tr>\n",
       "    <tr>\n",
       "      <th>1</th>\n",
       "    </tr>\n",
       "    <tr>\n",
       "      <th>2</th>\n",
       "    </tr>\n",
       "    <tr>\n",
       "      <th>3</th>\n",
       "    </tr>\n",
       "    <tr>\n",
       "      <th>4</th>\n",
       "    </tr>\n",
       "  </tbody>\n",
       "</table>\n",
       "</div>"
      ],
      "text/plain": [
       "Empty DataFrame\n",
       "Columns: []\n",
       "Index: [0, 1, 2, 3, 4]"
      ]
     },
     "execution_count": 142,
     "metadata": {},
     "output_type": "execute_result"
    }
   ],
   "source": [
    "dfl.iloc[:, 2:3]"
   ]
  },
  {
   "cell_type": "code",
   "execution_count": 143,
   "id": "57caa771-deec-413d-8f7a-5a04c9607f78",
   "metadata": {},
   "outputs": [
    {
     "data": {
      "text/html": [
       "<div>\n",
       "<style scoped>\n",
       "    .dataframe tbody tr th:only-of-type {\n",
       "        vertical-align: middle;\n",
       "    }\n",
       "\n",
       "    .dataframe tbody tr th {\n",
       "        vertical-align: top;\n",
       "    }\n",
       "\n",
       "    .dataframe thead th {\n",
       "        text-align: right;\n",
       "    }\n",
       "</style>\n",
       "<table border=\"1\" class=\"dataframe\">\n",
       "  <thead>\n",
       "    <tr style=\"text-align: right;\">\n",
       "      <th></th>\n",
       "      <th>B</th>\n",
       "    </tr>\n",
       "  </thead>\n",
       "  <tbody>\n",
       "    <tr>\n",
       "      <th>0</th>\n",
       "      <td>-0.670069</td>\n",
       "    </tr>\n",
       "    <tr>\n",
       "      <th>1</th>\n",
       "      <td>-1.393465</td>\n",
       "    </tr>\n",
       "    <tr>\n",
       "      <th>2</th>\n",
       "      <td>-0.767105</td>\n",
       "    </tr>\n",
       "    <tr>\n",
       "      <th>3</th>\n",
       "      <td>-1.067994</td>\n",
       "    </tr>\n",
       "    <tr>\n",
       "      <th>4</th>\n",
       "      <td>-0.204238</td>\n",
       "    </tr>\n",
       "  </tbody>\n",
       "</table>\n",
       "</div>"
      ],
      "text/plain": [
       "          B\n",
       "0 -0.670069\n",
       "1 -1.393465\n",
       "2 -0.767105\n",
       "3 -1.067994\n",
       "4 -0.204238"
      ]
     },
     "execution_count": 143,
     "metadata": {},
     "output_type": "execute_result"
    }
   ],
   "source": [
    "dfl.iloc[:, 1:3]"
   ]
  },
  {
   "cell_type": "code",
   "execution_count": 144,
   "id": "a106d6d0-1904-4c8b-9146-0b2bb35aa4b8",
   "metadata": {},
   "outputs": [
    {
     "data": {
      "text/html": [
       "<div>\n",
       "<style scoped>\n",
       "    .dataframe tbody tr th:only-of-type {\n",
       "        vertical-align: middle;\n",
       "    }\n",
       "\n",
       "    .dataframe tbody tr th {\n",
       "        vertical-align: top;\n",
       "    }\n",
       "\n",
       "    .dataframe thead th {\n",
       "        text-align: right;\n",
       "    }\n",
       "</style>\n",
       "<table border=\"1\" class=\"dataframe\">\n",
       "  <thead>\n",
       "    <tr style=\"text-align: right;\">\n",
       "      <th></th>\n",
       "      <th>A</th>\n",
       "      <th>B</th>\n",
       "    </tr>\n",
       "  </thead>\n",
       "  <tbody>\n",
       "    <tr>\n",
       "      <th>4</th>\n",
       "      <td>-0.818799</td>\n",
       "      <td>-0.204238</td>\n",
       "    </tr>\n",
       "  </tbody>\n",
       "</table>\n",
       "</div>"
      ],
      "text/plain": [
       "          A         B\n",
       "4 -0.818799 -0.204238"
      ]
     },
     "execution_count": 144,
     "metadata": {},
     "output_type": "execute_result"
    }
   ],
   "source": [
    "dfl.iloc[4:6]"
   ]
  },
  {
   "cell_type": "markdown",
   "id": "93bc9926-73d6-47f2-ad08-ccb985c633bd",
   "metadata": {},
   "source": [
    "## Boolean indexing"
   ]
  },
  {
   "cell_type": "code",
   "execution_count": 151,
   "id": "0c39b84a-415f-46d2-b7f6-319f27c0ed04",
   "metadata": {},
   "outputs": [
    {
     "data": {
      "text/plain": [
       "0   -3\n",
       "1   -2\n",
       "2   -1\n",
       "3    0\n",
       "4    1\n",
       "5    2\n",
       "6    3\n",
       "dtype: int64"
      ]
     },
     "execution_count": 151,
     "metadata": {},
     "output_type": "execute_result"
    }
   ],
   "source": [
    "s = pd.Series(range(-3, 4))\n",
    "s"
   ]
  },
  {
   "cell_type": "code",
   "execution_count": 152,
   "id": "de98616e-a125-4af8-97be-2c404f6c8e0c",
   "metadata": {},
   "outputs": [
    {
     "data": {
      "text/plain": [
       "4    1\n",
       "5    2\n",
       "6    3\n",
       "dtype: int64"
      ]
     },
     "execution_count": 152,
     "metadata": {},
     "output_type": "execute_result"
    }
   ],
   "source": [
    "s[s > 0]"
   ]
  },
  {
   "cell_type": "code",
   "execution_count": 153,
   "id": "e4dfff5b-535d-41b3-bc23-c09f0d749b00",
   "metadata": {},
   "outputs": [
    {
     "data": {
      "text/plain": [
       "0   -3\n",
       "1   -2\n",
       "4    1\n",
       "5    2\n",
       "6    3\n",
       "dtype: int64"
      ]
     },
     "execution_count": 153,
     "metadata": {},
     "output_type": "execute_result"
    }
   ],
   "source": [
    "s[(s < -1) | (s > 0.5)]"
   ]
  },
  {
   "cell_type": "code",
   "execution_count": 154,
   "id": "e3933b89-ae06-4d55-b972-b9f6a1eb6b67",
   "metadata": {},
   "outputs": [
    {
     "data": {
      "text/plain": [
       "4    0\n",
       "3    1\n",
       "2    2\n",
       "1    3\n",
       "0    4\n",
       "dtype: int64"
      ]
     },
     "execution_count": 154,
     "metadata": {},
     "output_type": "execute_result"
    }
   ],
   "source": [
    "s = pd.Series(np.arange(5), index=np.arange(5)[::-1], dtype='int64')\n",
    "s"
   ]
  },
  {
   "cell_type": "markdown",
   "id": "e663fba3-cf61-49e6-9d15-ddd5b35bad1c",
   "metadata": {},
   "source": [
    "## \"where()\" method"
   ]
  },
  {
   "cell_type": "code",
   "execution_count": null,
   "id": "b327184f-c49e-4b30-99c0-605a5bd642f5",
   "metadata": {},
   "outputs": [],
   "source": []
  }
 ],
 "metadata": {
  "kernelspec": {
   "display_name": "Python 3 (ipykernel)",
   "language": "python",
   "name": "python3"
  },
  "language_info": {
   "codemirror_mode": {
    "name": "ipython",
    "version": 3
   },
   "file_extension": ".py",
   "mimetype": "text/x-python",
   "name": "python",
   "nbconvert_exporter": "python",
   "pygments_lexer": "ipython3",
   "version": "3.13.3"
  }
 },
 "nbformat": 4,
 "nbformat_minor": 5
}
