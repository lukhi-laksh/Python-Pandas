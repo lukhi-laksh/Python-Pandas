{
 "cells": [
  {
   "cell_type": "markdown",
   "id": "f36c3547",
   "metadata": {},
   "source": [
    "# 1. Import Pandas and Numpy"
   ]
  },
  {
   "cell_type": "code",
   "execution_count": 1,
   "id": "d36f0824-59dd-4edb-8a75-d1d730130d5f",
   "metadata": {},
   "outputs": [],
   "source": [
    "import pandas as pd\n",
    "import numpy as np"
   ]
  },
  {
   "cell_type": "markdown",
   "id": "3b9a25fc-fff0-481e-bbc9-15b2eab458b0",
   "metadata": {},
   "source": [
    "## check version"
   ]
  },
  {
   "cell_type": "code",
   "execution_count": 2,
   "id": "844fd4d6",
   "metadata": {},
   "outputs": [
    {
     "name": "stdout",
     "output_type": "stream",
     "text": [
      "2.3.1\n",
      "2.3.2\n"
     ]
    }
   ],
   "source": [
    "print(pd.__version__)\n",
    "print(np.__version__)"
   ]
  },
  {
   "cell_type": "markdown",
   "id": "1412dffe-9589-40e9-a63e-197af178a453",
   "metadata": {},
   "source": [
    "# 2. Series"
   ]
  },
  {
   "cell_type": "code",
   "execution_count": 3,
   "id": "825753c7-2d7b-4af6-9570-1a809a021535",
   "metadata": {},
   "outputs": [],
   "source": [
    "# Series is a one-dimensional labeled array capable of holding any data type \n",
    "#         (integers, strings, floating point numbers, Python objects, etc.)\n",
    "\n",
    "# syntax:- s = pd.Series(data, index=index)\n",
    "\n",
    "# data can be many different things:\n",
    "#    a Python dict\n",
    "#    an ndarray\n",
    "#    a scalar value (like 5)"
   ]
  },
  {
   "cell_type": "markdown",
   "id": "69d4ac90-5e84-418f-a1d3-30c5c77bc67d",
   "metadata": {},
   "source": [
    "## create series"
   ]
  },
  {
   "cell_type": "code",
   "execution_count": 4,
   "id": "84a3b401-d157-463c-81ab-2cb6af11bfbf",
   "metadata": {},
   "outputs": [
    {
     "data": {
      "text/plain": [
       "0    0.590602\n",
       "1    0.759911\n",
       "2    1.490200\n",
       "3    0.260162\n",
       "4    0.106801\n",
       "dtype: float64"
      ]
     },
     "execution_count": 4,
     "metadata": {},
     "output_type": "execute_result"
    }
   ],
   "source": [
    "s = pd.Series(np.random.randn(5))\n",
    "s"
   ]
  },
  {
   "cell_type": "markdown",
   "id": "b63e9975-818b-41c9-a06d-53ba3b678ae1",
   "metadata": {},
   "source": [
    "## Random flot value with custom index"
   ]
  },
  {
   "cell_type": "code",
   "execution_count": 5,
   "id": "9a3bd73f-4d82-4684-8d12-c1732c932191",
   "metadata": {},
   "outputs": [
    {
     "data": {
      "text/plain": [
       "a    1.390346\n",
       "b    1.500891\n",
       "c   -0.971622\n",
       "d   -0.484385\n",
       "e   -0.505629\n",
       "dtype: float64"
      ]
     },
     "execution_count": 5,
     "metadata": {},
     "output_type": "execute_result"
    }
   ],
   "source": [
    "s = pd.Series(np.random.randn(5), index=[\"a\", \"b\", \"c\", \"d\", \"e\"])\n",
    "s"
   ]
  },
  {
   "cell_type": "markdown",
   "id": "59f7adc3-5b25-4894-8df1-23a4cf4cd355",
   "metadata": {},
   "source": [
    "## Random int value with custom index"
   ]
  },
  {
   "cell_type": "code",
   "execution_count": 6,
   "id": "f1fdfed5-cd35-49bd-8d55-fcf59f1faec1",
   "metadata": {},
   "outputs": [
    {
     "data": {
      "text/plain": [
       "a     9\n",
       "b     9\n",
       "c     7\n",
       "d     9\n",
       "e    12\n",
       "dtype: int32"
      ]
     },
     "execution_count": 6,
     "metadata": {},
     "output_type": "execute_result"
    }
   ],
   "source": [
    "s = pd.Series(np.random.randint(0, 15, size = 5), index=[\"a\", \"b\", \"c\", \"d\", \"e\"])\n",
    "s"
   ]
  },
  {
   "cell_type": "markdown",
   "id": "0834fa0b-f82b-4280-b019-63c7a5e96bb6",
   "metadata": {},
   "source": [
    "## Series can be instantiated from list"
   ]
  },
  {
   "cell_type": "code",
   "execution_count": 7,
   "id": "2f9a272e-dd8a-481c-b7dd-1ae2c6e604cb",
   "metadata": {},
   "outputs": [
    {
     "data": {
      "text/plain": [
       "a    2\n",
       "b    4\n",
       "c    5\n",
       "d    8\n",
       "e    3\n",
       "dtype: int64"
      ]
     },
     "execution_count": 7,
     "metadata": {},
     "output_type": "execute_result"
    }
   ],
   "source": [
    "lists = [2, 4, 5, 8, 3]\n",
    "s = pd.Series(lists, index=[\"a\", \"b\", \"c\", \"d\", \"e\"])\n",
    "s"
   ]
  },
  {
   "cell_type": "markdown",
   "id": "9b53c239-5ad2-4264-9286-63796973280c",
   "metadata": {},
   "source": [
    "## Series can be instantiated from dicts:"
   ]
  },
  {
   "cell_type": "code",
   "execution_count": 8,
   "id": "89821252-52b7-4375-a2ad-047e74d645a3",
   "metadata": {},
   "outputs": [
    {
     "data": {
      "text/plain": [
       "b    1\n",
       "a    0\n",
       "c    2\n",
       "dtype: int64"
      ]
     },
     "execution_count": 8,
     "metadata": {},
     "output_type": "execute_result"
    }
   ],
   "source": [
    "d = {\"b\": 1, \n",
    "     \"a\": 0, \n",
    "     \"c\": 2}\n",
    "\n",
    "pd.Series(d)"
   ]
  },
  {
   "cell_type": "code",
   "execution_count": 9,
   "id": "f6fb2071-23da-4a62-b523-9325f73a5f81",
   "metadata": {},
   "outputs": [],
   "source": [
    "# If an index is passed, the values in data corresponding to the labels in the index will be pulled out"
   ]
  },
  {
   "cell_type": "code",
   "execution_count": 10,
   "id": "34f4ca29-e36e-4253-8c92-bc9c49c75519",
   "metadata": {},
   "outputs": [
    {
     "data": {
      "text/plain": [
       "b    1.0\n",
       "c    2.0\n",
       "d    NaN\n",
       "a    0.0\n",
       "dtype: float64"
      ]
     },
     "execution_count": 10,
     "metadata": {},
     "output_type": "execute_result"
    }
   ],
   "source": [
    "d = {\"a\": 0.0, \n",
    "     \"b\": 1.0, \n",
    "     \"c\": 2.0}\n",
    "\n",
    "pd.Series(d, index=['b', 'c', 'd', 'a'])"
   ]
  },
  {
   "cell_type": "code",
   "execution_count": 11,
   "id": "488ca2ae-2455-4056-a430-0b7faf94f2e7",
   "metadata": {},
   "outputs": [],
   "source": [
    "# NaN (not a number) is the standard missing data marker used in pandas."
   ]
  },
  {
   "cell_type": "code",
   "execution_count": 12,
   "id": "00b3375e-3570-4350-992a-d32db438b2ac",
   "metadata": {},
   "outputs": [],
   "source": [
    "# If data is a scalar value, an index must be provided. The value will be repeated to match the length of index."
   ]
  },
  {
   "cell_type": "code",
   "execution_count": 13,
   "id": "f615cb5f-d82a-48d1-b7be-5f15df99d9f7",
   "metadata": {},
   "outputs": [
    {
     "data": {
      "text/plain": [
       "a    5.0\n",
       "b    5.0\n",
       "c    5.0\n",
       "d    5.0\n",
       "e    5.0\n",
       "dtype: float64"
      ]
     },
     "execution_count": 13,
     "metadata": {},
     "output_type": "execute_result"
    }
   ],
   "source": [
    "pd.Series(5.0, index=[\"a\", \"b\", \"c\", \"d\", \"e\"])"
   ]
  },
  {
   "cell_type": "markdown",
   "id": "3cb1d93a-7c64-40ac-a304-61072efeb47d",
   "metadata": {},
   "source": [
    "## Series is like ndarray"
   ]
  },
  {
   "cell_type": "code",
   "execution_count": 14,
   "id": "e3295077-db4a-4d4e-8ef5-eaec397ee858",
   "metadata": {},
   "outputs": [],
   "source": [
    "# Series acts very similarly to a ndarray and is a valid argument to most NumPy functions"
   ]
  },
  {
   "cell_type": "code",
   "execution_count": 15,
   "id": "df44b2bb-9d2b-41a9-b08d-a1533719c2ab",
   "metadata": {},
   "outputs": [
    {
     "data": {
      "text/plain": [
       "a   -0.268935\n",
       "b    0.735373\n",
       "c    0.653064\n",
       "d    1.052138\n",
       "e    0.087796\n",
       "dtype: float64"
      ]
     },
     "execution_count": 15,
     "metadata": {},
     "output_type": "execute_result"
    }
   ],
   "source": [
    "s = pd.Series(np.random.randn(5), index=[\"a\", \"b\", \"c\", \"d\", \"e\"])\n",
    "s"
   ]
  },
  {
   "cell_type": "code",
   "execution_count": 16,
   "id": "cc066f81-25ef-4dd8-964a-8f309c423c8a",
   "metadata": {},
   "outputs": [
    {
     "data": {
      "text/plain": [
       "np.float64(1.0521380905599567)"
      ]
     },
     "execution_count": 16,
     "metadata": {},
     "output_type": "execute_result"
    }
   ],
   "source": [
    "s.iloc[0]\n",
    "s.iloc[3]"
   ]
  },
  {
   "cell_type": "code",
   "execution_count": 17,
   "id": "58848ba4-36e6-4e1e-8f56-2ff047f56328",
   "metadata": {},
   "outputs": [
    {
     "data": {
      "text/plain": [
       "a   -0.268935\n",
       "b    0.735373\n",
       "c    0.653064\n",
       "dtype: float64"
      ]
     },
     "execution_count": 17,
     "metadata": {},
     "output_type": "execute_result"
    }
   ],
   "source": [
    "s.iloc[:3]"
   ]
  },
  {
   "cell_type": "code",
   "execution_count": 18,
   "id": "7ae9bd25-553b-4238-9554-de0e5c8154d4",
   "metadata": {},
   "outputs": [
    {
     "data": {
      "text/plain": [
       "b    0.735373\n",
       "d    1.052138\n",
       "dtype: float64"
      ]
     },
     "execution_count": 18,
     "metadata": {},
     "output_type": "execute_result"
    }
   ],
   "source": [
    "s[s > s.median()]"
   ]
  },
  {
   "cell_type": "code",
   "execution_count": 19,
   "id": "785b5361-af4c-48b7-bdb7-70df9ab643f9",
   "metadata": {},
   "outputs": [
    {
     "data": {
      "text/plain": [
       "e    0.087796\n",
       "d    1.052138\n",
       "b    0.735373\n",
       "dtype: float64"
      ]
     },
     "execution_count": 19,
     "metadata": {},
     "output_type": "execute_result"
    }
   ],
   "source": [
    "s.iloc[[4, 3, 1]]"
   ]
  },
  {
   "cell_type": "code",
   "execution_count": 20,
   "id": "617cb1ab-38fd-4ce2-88e2-e2c1541a90c6",
   "metadata": {},
   "outputs": [],
   "source": [
    "# Like a NumPy array, a pandas Series has a single dtype."
   ]
  },
  {
   "cell_type": "code",
   "execution_count": 21,
   "id": "0899e27e-45e8-4f1a-abaf-34e4c1260c89",
   "metadata": {},
   "outputs": [
    {
     "data": {
      "text/plain": [
       "dtype('float64')"
      ]
     },
     "execution_count": 21,
     "metadata": {},
     "output_type": "execute_result"
    }
   ],
   "source": [
    "s.dtype"
   ]
  },
  {
   "cell_type": "code",
   "execution_count": 22,
   "id": "6b3902dd-809c-4e54-97e2-4a3fe1d2986a",
   "metadata": {},
   "outputs": [],
   "source": [
    "# If you need the actual array backing a Series, use Series.array."
   ]
  },
  {
   "cell_type": "code",
   "execution_count": 23,
   "id": "d42a6cda-3fa1-4647-9761-e42ee2090987",
   "metadata": {},
   "outputs": [
    {
     "data": {
      "text/plain": [
       "<NumpyExtensionArray>\n",
       "[-0.2689348292984969,  0.7353728047407346,  0.6530635909276967,\n",
       "  1.0521380905599567, 0.08779597168611915]\n",
       "Length: 5, dtype: float64"
      ]
     },
     "execution_count": 23,
     "metadata": {},
     "output_type": "execute_result"
    }
   ],
   "source": [
    "s.array"
   ]
  },
  {
   "cell_type": "code",
   "execution_count": 24,
   "id": "97369753-5d24-4b05-ad21-3465548865ed",
   "metadata": {},
   "outputs": [],
   "source": [
    "# if you need an actual ndarray, then use Series.to_numpy()."
   ]
  },
  {
   "cell_type": "code",
   "execution_count": 25,
   "id": "77424834-1983-4538-b7ab-2f3994400d8e",
   "metadata": {},
   "outputs": [
    {
     "data": {
      "text/plain": [
       "array([-0.26893483,  0.7353728 ,  0.65306359,  1.05213809,  0.08779597])"
      ]
     },
     "execution_count": 25,
     "metadata": {},
     "output_type": "execute_result"
    }
   ],
   "source": [
    "s.to_numpy()"
   ]
  },
  {
   "cell_type": "code",
   "execution_count": 26,
   "id": "ab52f1e0-deee-45cb-bc9d-d97ac29c99b5",
   "metadata": {},
   "outputs": [
    {
     "data": {
      "text/plain": [
       "a   -0.268935\n",
       "b    0.735373\n",
       "c    0.653064\n",
       "d    1.052138\n",
       "e    0.087796\n",
       "dtype: float64"
      ]
     },
     "execution_count": 26,
     "metadata": {},
     "output_type": "execute_result"
    }
   ],
   "source": [
    "# A Series is also like a fixed-size dict in that you can get and set values by index label\n",
    "s"
   ]
  },
  {
   "cell_type": "code",
   "execution_count": 27,
   "id": "6bb18b07-870b-4748-b49d-0298cbef95f7",
   "metadata": {},
   "outputs": [
    {
     "data": {
      "text/plain": [
       "np.float64(-0.2689348292984969)"
      ]
     },
     "execution_count": 27,
     "metadata": {},
     "output_type": "execute_result"
    }
   ],
   "source": [
    "s[\"a\"]"
   ]
  },
  {
   "cell_type": "code",
   "execution_count": 28,
   "id": "7d359cac-1bca-41bb-9892-526534e3990f",
   "metadata": {},
   "outputs": [
    {
     "data": {
      "text/plain": [
       "a    -0.268935\n",
       "b     0.735373\n",
       "c     0.653064\n",
       "d     1.052138\n",
       "e    12.000000\n",
       "dtype: float64"
      ]
     },
     "execution_count": 28,
     "metadata": {},
     "output_type": "execute_result"
    }
   ],
   "source": [
    "s[\"e\"] = 12.0\n",
    "s"
   ]
  },
  {
   "cell_type": "code",
   "execution_count": 29,
   "id": "809dba2f-4c4a-4d15-bc14-5a6017597b28",
   "metadata": {},
   "outputs": [
    {
     "data": {
      "text/plain": [
       "True"
      ]
     },
     "execution_count": 29,
     "metadata": {},
     "output_type": "execute_result"
    }
   ],
   "source": [
    "\"e\" in s"
   ]
  },
  {
   "cell_type": "code",
   "execution_count": 30,
   "id": "636904b5-fd4c-44d3-a8ef-d4c7937a6b6e",
   "metadata": {},
   "outputs": [
    {
     "data": {
      "text/plain": [
       "False"
      ]
     },
     "execution_count": 30,
     "metadata": {},
     "output_type": "execute_result"
    }
   ],
   "source": [
    "\"j\" in s"
   ]
  },
  {
   "cell_type": "code",
   "execution_count": 31,
   "id": "cd0df7ed-d925-4515-b0d6-aea03b8bf8e7",
   "metadata": {},
   "outputs": [],
   "source": [
    "# Using the Series.get() method, a missing label will return None or specified default"
   ]
  },
  {
   "cell_type": "code",
   "execution_count": 32,
   "id": "1d229c12-03dc-4476-b5bb-d506dc4b20ca",
   "metadata": {},
   "outputs": [
    {
     "data": {
      "text/plain": [
       "np.float64(12.0)"
      ]
     },
     "execution_count": 32,
     "metadata": {},
     "output_type": "execute_result"
    }
   ],
   "source": [
    "s.get(\"e\")"
   ]
  },
  {
   "cell_type": "code",
   "execution_count": 33,
   "id": "e72dcda7-7da1-47a7-85d2-7417f78ca8b4",
   "metadata": {},
   "outputs": [],
   "source": [
    "s.get(\"f\")"
   ]
  },
  {
   "cell_type": "code",
   "execution_count": 34,
   "id": "21395416-a9fd-445a-9324-1ffb36eee5b8",
   "metadata": {},
   "outputs": [
    {
     "data": {
      "text/plain": [
       "nan"
      ]
     },
     "execution_count": 34,
     "metadata": {},
     "output_type": "execute_result"
    }
   ],
   "source": [
    "s.get(\"f\", np.nan)"
   ]
  },
  {
   "cell_type": "markdown",
   "id": "90922136-931f-4d6e-88b0-efaa65ab92e3",
   "metadata": {},
   "source": [
    "## Vectorized operations and label alignment with Series"
   ]
  },
  {
   "cell_type": "code",
   "execution_count": 35,
   "id": "7349edea-03c2-48da-a85a-f28b5e1003a1",
   "metadata": {},
   "outputs": [
    {
     "data": {
      "text/plain": [
       "a    3\n",
       "b    3\n",
       "c    1\n",
       "d    3\n",
       "e    0\n",
       "dtype: int32"
      ]
     },
     "execution_count": 35,
     "metadata": {},
     "output_type": "execute_result"
    }
   ],
   "source": [
    "s = pd.Series(np.random.randint(5, size = 5), index = ['a', 'b', 'c', 'd', 'e'])\n",
    "s"
   ]
  },
  {
   "cell_type": "code",
   "execution_count": 36,
   "id": "436be43e-5075-49ff-af2a-b689cc75b0c2",
   "metadata": {},
   "outputs": [
    {
     "data": {
      "text/plain": [
       "a    6\n",
       "b    6\n",
       "c    2\n",
       "d    6\n",
       "e    0\n",
       "dtype: int32"
      ]
     },
     "execution_count": 36,
     "metadata": {},
     "output_type": "execute_result"
    }
   ],
   "source": [
    "s + s "
   ]
  },
  {
   "cell_type": "code",
   "execution_count": 37,
   "id": "25f211bd-035b-4363-88f3-50e453cb2b7e",
   "metadata": {},
   "outputs": [
    {
     "data": {
      "text/plain": [
       "a    9\n",
       "b    9\n",
       "c    1\n",
       "d    9\n",
       "e    0\n",
       "dtype: int32"
      ]
     },
     "execution_count": 37,
     "metadata": {},
     "output_type": "execute_result"
    }
   ],
   "source": [
    "s * s"
   ]
  },
  {
   "cell_type": "code",
   "execution_count": 38,
   "id": "826f3e18-687c-46bd-b01f-b3ae0941300e",
   "metadata": {},
   "outputs": [],
   "source": [
    "# \"s.iloc[1:]\" This gives you everything except the first value\n",
    "# \"s.iloc[:-1]\" This gives you everything except the last value:"
   ]
  },
  {
   "cell_type": "code",
   "execution_count": 39,
   "id": "667b9a1e-1ae6-4c40-a6c0-ee14b19f0f42",
   "metadata": {},
   "outputs": [
    {
     "data": {
      "text/plain": [
       "a    NaN\n",
       "b    6.0\n",
       "c    2.0\n",
       "d    6.0\n",
       "e    NaN\n",
       "dtype: float64"
      ]
     },
     "execution_count": 39,
     "metadata": {},
     "output_type": "execute_result"
    }
   ],
   "source": [
    "s.iloc[1:] + s.iloc[:-1]"
   ]
  },
  {
   "cell_type": "markdown",
   "id": "ea77b8ff-9cd6-468a-ae65-1d9b7f702747",
   "metadata": {},
   "source": [
    "## Name attribute"
   ]
  },
  {
   "cell_type": "code",
   "execution_count": 40,
   "id": "084c00aa-bf94-495f-afee-210639342138",
   "metadata": {},
   "outputs": [
    {
     "name": "stdout",
     "output_type": "stream",
     "text": [
      "0    4\n",
      "1    3\n",
      "2    0\n",
      "3    3\n",
      "4    3\n",
      "Name: something, dtype: int32\n",
      "something\n"
     ]
    }
   ],
   "source": [
    "s = pd.Series(np.random.randint(5, size=5), name=\"something\")\n",
    "print(s)\n",
    "print(s.name)"
   ]
  },
  {
   "cell_type": "code",
   "execution_count": 41,
   "id": "2856dd45-50ae-447c-aac0-4f7714bd4a2a",
   "metadata": {},
   "outputs": [],
   "source": [
    "# We can rename a Series with the pandas.Series.rename() method."
   ]
  },
  {
   "cell_type": "code",
   "execution_count": 42,
   "id": "0e775f0b-8a20-4eec-a352-a775f87c1405",
   "metadata": {},
   "outputs": [
    {
     "data": {
      "text/plain": [
       "'something'"
      ]
     },
     "execution_count": 42,
     "metadata": {},
     "output_type": "execute_result"
    }
   ],
   "source": [
    "s2 = s\n",
    "s2.name"
   ]
  },
  {
   "cell_type": "code",
   "execution_count": 43,
   "id": "082ef2ff-c027-42f8-9b63-ab9508ef7794",
   "metadata": {},
   "outputs": [
    {
     "data": {
      "text/plain": [
       "0    4\n",
       "1    3\n",
       "2    0\n",
       "3    3\n",
       "4    3\n",
       "Name: different, dtype: int32"
      ]
     },
     "execution_count": 43,
     "metadata": {},
     "output_type": "execute_result"
    }
   ],
   "source": [
    "s2 = s.rename(\"different\")\n",
    "s2"
   ]
  },
  {
   "cell_type": "code",
   "execution_count": 44,
   "id": "22e96392-f30e-4ab2-aba1-c39d53a7c80d",
   "metadata": {},
   "outputs": [
    {
     "data": {
      "text/plain": [
       "'something'"
      ]
     },
     "execution_count": 44,
     "metadata": {},
     "output_type": "execute_result"
    }
   ],
   "source": [
    "s.name"
   ]
  },
  {
   "cell_type": "code",
   "execution_count": 45,
   "id": "854e9353-37bd-4610-8e5b-a68121c4719e",
   "metadata": {},
   "outputs": [
    {
     "data": {
      "text/plain": [
       "0    4\n",
       "1    3\n",
       "2    0\n",
       "3    3\n",
       "4    3\n",
       "Name: laksh, dtype: int32"
      ]
     },
     "execution_count": 45,
     "metadata": {},
     "output_type": "execute_result"
    }
   ],
   "source": [
    "s.rename('laksh')"
   ]
  },
  {
   "cell_type": "code",
   "execution_count": 46,
   "id": "d92a5247-42d4-426d-9045-0a09a9acbaff",
   "metadata": {},
   "outputs": [],
   "source": [
    "# Note that s and s2 refer to different objects."
   ]
  },
  {
   "cell_type": "markdown",
   "id": "d9695ea3-c47b-4eee-9d3d-2efd36e61860",
   "metadata": {},
   "source": [
    "## get infomation of Series"
   ]
  },
  {
   "cell_type": "code",
   "execution_count": 47,
   "id": "e28533a4-cbf8-410b-8581-3d289a4d5f8d",
   "metadata": {},
   "outputs": [
    {
     "name": "stdout",
     "output_type": "stream",
     "text": [
      "int32\n",
      ".\n",
      "1\n",
      ".\n",
      "5\n",
      ".\n",
      "something\n",
      ".\n",
      "False\n",
      ".\n",
      "RangeIndex(start=0, stop=5, step=1)\n",
      ".\n",
      "0    4\n",
      "1    3\n",
      "Name: something, dtype: int32\n",
      ".\n",
      "3    3\n",
      "4    3\n",
      "Name: something, dtype: int32\n",
      ".\n",
      "<bound method Series.info of 0    4\n",
      "1    3\n",
      "2    0\n",
      "3    3\n",
      "4    3\n",
      "Name: something, dtype: int32>\n"
     ]
    }
   ],
   "source": [
    "print(s.dtype)\n",
    "print('.')\n",
    "print(s.ndim)\n",
    "print('.')\n",
    "print(s.size)\n",
    "print('.')\n",
    "print(s.name)\n",
    "print('.')\n",
    "print(s.hasnans)\n",
    "print('.')\n",
    "print(s.index)\n",
    "print('.')\n",
    "print(s.head(2))\n",
    "print('.')\n",
    "print(s.tail(2))\n",
    "print('.')\n",
    "print(s.info)"
   ]
  },
  {
   "cell_type": "markdown",
   "id": "44ab360d-5da3-4926-bc90-7aa4de21c7b7",
   "metadata": {},
   "source": [
    "## Merge two Series"
   ]
  },
  {
   "cell_type": "code",
   "execution_count": 48,
   "id": "23838dae-dd50-4c3d-8c53-daa50c91dbe9",
   "metadata": {},
   "outputs": [
    {
     "name": "stdout",
     "output_type": "stream",
     "text": [
      "   Series1  Series2\n",
      "a        1        4\n",
      "b        2        5\n",
      "c        3        6\n"
     ]
    }
   ],
   "source": [
    "import pandas as pd\n",
    "\n",
    "s1 = pd.Series([1, 2, 3], index=['a', 'b', 'c'])\n",
    "s2 = pd.Series([4, 5, 6], index=['a', 'b', 'c'])\n",
    "\n",
    "df = pd.concat([s1, s2], axis=1)\n",
    "df.columns = ['Series1', 'Series2']\n",
    "print(df)\n"
   ]
  },
  {
   "cell_type": "markdown",
   "id": "0a0bacb9-a3e4-4161-a923-15346a4b3a08",
   "metadata": {},
   "source": [
    "## unique categories"
   ]
  },
  {
   "cell_type": "code",
   "execution_count": 49,
   "id": "a5dfe88c-3253-469c-9b60-b3eb6d73a3b3",
   "metadata": {},
   "outputs": [
    {
     "data": {
      "text/plain": [
       "0    p\n",
       "1    q\n",
       "2    r\n",
       "3    s\n",
       "4    q\n",
       "dtype: category\n",
       "Categories (6, object): ['p', 'q', 'r', 's', 't', 'l']"
      ]
     },
     "execution_count": 49,
     "metadata": {},
     "output_type": "execute_result"
    }
   ],
   "source": [
    "s = pd.Series(['p', 'q', 'r', 's', 'q'], dtype=\"category\")\n",
    "s = s.cat.add_categories(['t','l'])\n",
    "s"
   ]
  },
  {
   "cell_type": "markdown",
   "id": "adf54720-f4e0-4706-aab5-608441656e33",
   "metadata": {},
   "source": [
    "## Series Releted all function"
   ]
  },
  {
   "cell_type": "code",
   "execution_count": 50,
   "id": "cf8a6f4d-df1e-4a0a-a93f-6c983385857b",
   "metadata": {},
   "outputs": [
    {
     "name": "stdout",
     "output_type": "stream",
     "text": [
      "Original Series:\n",
      " 0    10.0\n",
      "1    20.0\n",
      "2    30.0\n",
      "3     NaN\n",
      "4    40.0\n",
      "5    50.0\n",
      "dtype: float64 \n",
      "\n",
      "count       → 5\n",
      "sum         → 150.0\n",
      "mean        → 30.0\n",
      "median      → 30.0\n",
      "min         → 10.0\n",
      "max         → 50.0\n",
      "mode        → [10.0, 20.0, 30.0, 40.0, 50.0]\n",
      "abs         →\n",
      " 0    10.0\n",
      "1    20.0\n",
      "2    30.0\n",
      "3     NaN\n",
      "4    40.0\n",
      "5    50.0\n",
      "dtype: float64\n",
      "prod        → 12000000.0\n",
      "std         → 15.811388300841896\n",
      "var         → 250.0\n",
      "sem         → 7.071067811865475\n",
      "skew        → 0.0\n",
      "kurt        → -1.2000000000000002\n",
      "quantile(0.5) → 30.0\n",
      "cumsum      →\n",
      " 0     10.0\n",
      "1     30.0\n",
      "2     60.0\n",
      "3      NaN\n",
      "4    100.0\n",
      "5    150.0\n",
      "dtype: float64\n",
      "cumprod     →\n",
      " 0          10.0\n",
      "1         200.0\n",
      "2        6000.0\n",
      "3           NaN\n",
      "4      240000.0\n",
      "5    12000000.0\n",
      "dtype: float64\n",
      "cummax      →\n",
      " 0    10.0\n",
      "1    20.0\n",
      "2    30.0\n",
      "3     NaN\n",
      "4    40.0\n",
      "5    50.0\n",
      "dtype: float64\n",
      "cummin      →\n",
      " 0    10.0\n",
      "1    10.0\n",
      "2    10.0\n",
      "3     NaN\n",
      "4    10.0\n",
      "5    10.0\n",
      "dtype: float64\n",
      "value_counts→\n",
      " 10.0    1\n",
      "20.0    1\n",
      "30.0    1\n",
      "40.0    1\n",
      "50.0    1\n",
      "Name: count, dtype: int64\n",
      "unique      → [10. 20. 30. nan 40. 50.]\n",
      "nlargest(3) →\n",
      " 5    50.0\n",
      "4    40.0\n",
      "2    30.0\n",
      "dtype: float64\n",
      "nsmallest(3)→\n",
      " 0    10.0\n",
      "1    20.0\n",
      "2    30.0\n",
      "dtype: float64\n"
     ]
    }
   ],
   "source": [
    "import pandas as pd\n",
    "import numpy as np\n",
    "\n",
    "# Sample Series with one missing value (NaN)\n",
    "# We use this same series for all functions so you can compare the results easily.\n",
    "s = pd.Series([10, 20, 30, None, 40, 50])\n",
    "print(\"Original Series:\\n\", s, \"\\n\")\n",
    "\n",
    "# 1. count() → Counts only non-missing (non-NaN) values\n",
    "print(\"count       →\", s.count())\n",
    "\n",
    "# 2. sum() → Adds up all non-missing values in the series\n",
    "print(\"sum         →\", s.sum())\n",
    "\n",
    "# 3. mean() → Calculates the average (sum of values ÷ count)\n",
    "print(\"mean        →\", s.mean())\n",
    "\n",
    "# 4. median() → Finds the middle value when data is sorted\n",
    "print(\"median      →\", s.median())\n",
    "\n",
    "# 5. min() → Finds the smallest value in the series\n",
    "print(\"min         →\", s.min())\n",
    "\n",
    "# 6. max() → Finds the largest value in the series\n",
    "print(\"max         →\", s.max())\n",
    "\n",
    "# 7. mode() → Returns the most frequently occurring value(s)\n",
    "print(\"mode        →\", s.mode().tolist())\n",
    "\n",
    "# 8. abs() → Returns the absolute value of each element\n",
    "# (negative numbers become positive, positive numbers stay same)\n",
    "print(\"abs         →\\n\", s.abs())\n",
    "\n",
    "# 9. prod() → Multiplies all non-missing values together\n",
    "print(\"prod        →\", s.prod(skipna=True))\n",
    "\n",
    "# 10. std() → Standard deviation (how spread out the values are from the mean)\n",
    "print(\"std         →\", s.std())\n",
    "\n",
    "# 11. var() → Variance (square of standard deviation, measure of spread)\n",
    "print(\"var         →\", s.var())\n",
    "\n",
    "# 12. sem() → Standard error of the mean (std ÷ sqrt(count)), used in statistics\n",
    "print(\"sem         →\", s.sem())\n",
    "\n",
    "# 13. skew() → Measures asymmetry of the data distribution\n",
    "# (0 means perfectly symmetrical, positive means right-skewed, negative means left-skewed)\n",
    "print(\"skew        →\", s.skew())\n",
    "\n",
    "# 14. kurt() → Measures the 'tailedness' of the distribution\n",
    "# (positive = heavy tails, negative = light tails compared to normal distribution)\n",
    "print(\"kurt        →\", s.kurt())\n",
    "\n",
    "# 15. quantile(p) → Returns the value at the given percentile 'p'\n",
    "# e.g., 0.5 means 50% (median), 0.25 means 25% (1st quartile)\n",
    "print(\"quantile(0.5) →\", s.quantile(0.5))\n",
    "\n",
    "# 16. cumsum() → Cumulative sum (adds each value to all previous ones)\n",
    "print(\"cumsum      →\\n\", s.cumsum())\n",
    "\n",
    "# 17. cumprod() → Cumulative product (multiplies each value with all previous ones)\n",
    "print(\"cumprod     →\\n\", s.cumprod())\n",
    "\n",
    "# 18. cummax() → Cumulative maximum (largest value so far at each position)\n",
    "print(\"cummax      →\\n\", s.cummax())\n",
    "\n",
    "# 19. cummin() → Cumulative minimum (smallest value so far at each position)\n",
    "print(\"cummin      →\\n\", s.cummin())\n",
    "\n",
    "# 20. value_counts() → Counts how many times each unique value appears\n",
    "print(\"value_counts→\\n\", s.value_counts())\n",
    "\n",
    "# 21. unique() → Returns all unique values (NaN is included if present)\n",
    "print(\"unique      →\", s.unique())\n",
    "\n",
    "# 22. nlargest(n) → Returns the top 'n' largest values\n",
    "print(\"nlargest(3) →\\n\", s.nlargest(3))\n",
    "\n",
    "# 23. nsmallest(n) → Returns the top 'n' smallest values\n",
    "print(\"nsmallest(3)→\\n\", s.nsmallest(3))\n"
   ]
  },
  {
   "cell_type": "markdown",
   "id": "8769d235-2aea-4513-84ca-d9b59a834b76",
   "metadata": {},
   "source": [
    "# 3. DataFrame"
   ]
  },
  {
   "cell_type": "code",
   "execution_count": 51,
   "id": "567188be-1772-417d-ad89-05a0d0e97649",
   "metadata": {},
   "outputs": [],
   "source": [
    "# DataFrame is a 2-dimensional labeled data structure with columns of potentially different types. \n",
    "# You can think of it like a spreadsheet or SQL table, or a dict of Series objects."
   ]
  },
  {
   "cell_type": "markdown",
   "id": "481d8e7d-a37c-4d1c-b78f-5d2382c9501b",
   "metadata": {},
   "source": [
    "## DataFrame accepts many different kinds of input:\n",
    "###   i. Dict of Series, 1D ndarrays, lists, dicts, or tuples\n",
    "###   ii. A Series\n",
    "###   iiI. 2-D numpy.ndarray\n",
    "###   iv. Another DataFrame"
   ]
  },
  {
   "cell_type": "markdown",
   "id": "697f04d8-487d-46f0-bc2b-9f7ccff647ed",
   "metadata": {},
   "source": [
    "## From dict from Series"
   ]
  },
  {
   "cell_type": "code",
   "execution_count": 52,
   "id": "c93f24e1-dacc-4ed1-a4c2-dd6313c8bc95",
   "metadata": {},
   "outputs": [
    {
     "data": {
      "text/html": [
       "<div>\n",
       "<style scoped>\n",
       "    .dataframe tbody tr th:only-of-type {\n",
       "        vertical-align: middle;\n",
       "    }\n",
       "\n",
       "    .dataframe tbody tr th {\n",
       "        vertical-align: top;\n",
       "    }\n",
       "\n",
       "    .dataframe thead th {\n",
       "        text-align: right;\n",
       "    }\n",
       "</style>\n",
       "<table border=\"1\" class=\"dataframe\">\n",
       "  <thead>\n",
       "    <tr style=\"text-align: right;\">\n",
       "      <th></th>\n",
       "      <th>one</th>\n",
       "      <th>two</th>\n",
       "    </tr>\n",
       "  </thead>\n",
       "  <tbody>\n",
       "    <tr>\n",
       "      <th>a</th>\n",
       "      <td>1.0</td>\n",
       "      <td>1.0</td>\n",
       "    </tr>\n",
       "    <tr>\n",
       "      <th>b</th>\n",
       "      <td>2.0</td>\n",
       "      <td>2.0</td>\n",
       "    </tr>\n",
       "    <tr>\n",
       "      <th>c</th>\n",
       "      <td>3.0</td>\n",
       "      <td>3.0</td>\n",
       "    </tr>\n",
       "    <tr>\n",
       "      <th>d</th>\n",
       "      <td>NaN</td>\n",
       "      <td>4.0</td>\n",
       "    </tr>\n",
       "  </tbody>\n",
       "</table>\n",
       "</div>"
      ],
      "text/plain": [
       "   one  two\n",
       "a  1.0  1.0\n",
       "b  2.0  2.0\n",
       "c  3.0  3.0\n",
       "d  NaN  4.0"
      ]
     },
     "execution_count": 52,
     "metadata": {},
     "output_type": "execute_result"
    }
   ],
   "source": [
    "d = {\n",
    "    \"one\": pd.Series([1.0, 2.0, 3.0], index=[\"a\", \"b\", \"c\"]),\n",
    "    \"two\": pd.Series([1.0, 2.0, 3.0, 4.0], index=[\"a\", \"b\", \"c\", \"d\"]),\n",
    "}\n",
    "df = pd.DataFrame(d)\n",
    "df"
   ]
  },
  {
   "cell_type": "code",
   "execution_count": 53,
   "id": "eb27d2a4-cffd-4bd9-bae9-5d216cb54d98",
   "metadata": {},
   "outputs": [
    {
     "data": {
      "text/html": [
       "<div>\n",
       "<style scoped>\n",
       "    .dataframe tbody tr th:only-of-type {\n",
       "        vertical-align: middle;\n",
       "    }\n",
       "\n",
       "    .dataframe tbody tr th {\n",
       "        vertical-align: top;\n",
       "    }\n",
       "\n",
       "    .dataframe thead th {\n",
       "        text-align: right;\n",
       "    }\n",
       "</style>\n",
       "<table border=\"1\" class=\"dataframe\">\n",
       "  <thead>\n",
       "    <tr style=\"text-align: right;\">\n",
       "      <th></th>\n",
       "      <th>one</th>\n",
       "      <th>two</th>\n",
       "    </tr>\n",
       "  </thead>\n",
       "  <tbody>\n",
       "    <tr>\n",
       "      <th>d</th>\n",
       "      <td>NaN</td>\n",
       "      <td>4.0</td>\n",
       "    </tr>\n",
       "    <tr>\n",
       "      <th>b</th>\n",
       "      <td>2.0</td>\n",
       "      <td>2.0</td>\n",
       "    </tr>\n",
       "    <tr>\n",
       "      <th>a</th>\n",
       "      <td>1.0</td>\n",
       "      <td>1.0</td>\n",
       "    </tr>\n",
       "  </tbody>\n",
       "</table>\n",
       "</div>"
      ],
      "text/plain": [
       "   one  two\n",
       "d  NaN  4.0\n",
       "b  2.0  2.0\n",
       "a  1.0  1.0"
      ]
     },
     "execution_count": 53,
     "metadata": {},
     "output_type": "execute_result"
    }
   ],
   "source": [
    "pd.DataFrame(d, index=[\"d\", \"b\", \"a\"])"
   ]
  },
  {
   "cell_type": "code",
   "execution_count": 54,
   "id": "54298be2-2964-4dd5-aa35-66bb13f800e8",
   "metadata": {},
   "outputs": [
    {
     "data": {
      "text/html": [
       "<div>\n",
       "<style scoped>\n",
       "    .dataframe tbody tr th:only-of-type {\n",
       "        vertical-align: middle;\n",
       "    }\n",
       "\n",
       "    .dataframe tbody tr th {\n",
       "        vertical-align: top;\n",
       "    }\n",
       "\n",
       "    .dataframe thead th {\n",
       "        text-align: right;\n",
       "    }\n",
       "</style>\n",
       "<table border=\"1\" class=\"dataframe\">\n",
       "  <thead>\n",
       "    <tr style=\"text-align: right;\">\n",
       "      <th></th>\n",
       "      <th>two</th>\n",
       "      <th>one</th>\n",
       "    </tr>\n",
       "  </thead>\n",
       "  <tbody>\n",
       "    <tr>\n",
       "      <th>d</th>\n",
       "      <td>4.0</td>\n",
       "      <td>NaN</td>\n",
       "    </tr>\n",
       "    <tr>\n",
       "      <th>b</th>\n",
       "      <td>2.0</td>\n",
       "      <td>2.0</td>\n",
       "    </tr>\n",
       "    <tr>\n",
       "      <th>a</th>\n",
       "      <td>1.0</td>\n",
       "      <td>1.0</td>\n",
       "    </tr>\n",
       "  </tbody>\n",
       "</table>\n",
       "</div>"
      ],
      "text/plain": [
       "   two  one\n",
       "d  4.0  NaN\n",
       "b  2.0  2.0\n",
       "a  1.0  1.0"
      ]
     },
     "execution_count": 54,
     "metadata": {},
     "output_type": "execute_result"
    }
   ],
   "source": [
    "pd.DataFrame(d, index=[\"d\", \"b\", \"a\"], columns=[\"two\", \"one\"])"
   ]
  },
  {
   "cell_type": "code",
   "execution_count": 55,
   "id": "f899ab71-95c4-4f1d-b619-2d1693032cc2",
   "metadata": {},
   "outputs": [
    {
     "data": {
      "text/html": [
       "<div>\n",
       "<style scoped>\n",
       "    .dataframe tbody tr th:only-of-type {\n",
       "        vertical-align: middle;\n",
       "    }\n",
       "\n",
       "    .dataframe tbody tr th {\n",
       "        vertical-align: top;\n",
       "    }\n",
       "\n",
       "    .dataframe thead th {\n",
       "        text-align: right;\n",
       "    }\n",
       "</style>\n",
       "<table border=\"1\" class=\"dataframe\">\n",
       "  <thead>\n",
       "    <tr style=\"text-align: right;\">\n",
       "      <th></th>\n",
       "      <th>two</th>\n",
       "      <th>three</th>\n",
       "    </tr>\n",
       "  </thead>\n",
       "  <tbody>\n",
       "    <tr>\n",
       "      <th>d</th>\n",
       "      <td>4.0</td>\n",
       "      <td>NaN</td>\n",
       "    </tr>\n",
       "    <tr>\n",
       "      <th>b</th>\n",
       "      <td>2.0</td>\n",
       "      <td>NaN</td>\n",
       "    </tr>\n",
       "    <tr>\n",
       "      <th>a</th>\n",
       "      <td>1.0</td>\n",
       "      <td>NaN</td>\n",
       "    </tr>\n",
       "  </tbody>\n",
       "</table>\n",
       "</div>"
      ],
      "text/plain": [
       "   two three\n",
       "d  4.0   NaN\n",
       "b  2.0   NaN\n",
       "a  1.0   NaN"
      ]
     },
     "execution_count": 55,
     "metadata": {},
     "output_type": "execute_result"
    }
   ],
   "source": [
    "pd.DataFrame(d, index=[\"d\", \"b\", \"a\"], columns=[\"two\", \"three\"])"
   ]
  },
  {
   "cell_type": "code",
   "execution_count": 56,
   "id": "4fd88490-7494-4457-be8e-0c8576a781cf",
   "metadata": {},
   "outputs": [],
   "source": [
    "# When a particular set of columns is passed along with a dict of data, \n",
    "#                     the passed columns override the keys in the dict."
   ]
  },
  {
   "cell_type": "code",
   "execution_count": 57,
   "id": "ded49f35-d7d4-4395-8049-5dee5bfe06b9",
   "metadata": {},
   "outputs": [
    {
     "data": {
      "text/plain": [
       "Index(['a', 'b', 'c', 'd'], dtype='object')"
      ]
     },
     "execution_count": 57,
     "metadata": {},
     "output_type": "execute_result"
    }
   ],
   "source": [
    "df.index"
   ]
  },
  {
   "cell_type": "code",
   "execution_count": 58,
   "id": "8a502e00-4253-493a-8530-8e32fb865cb9",
   "metadata": {},
   "outputs": [
    {
     "data": {
      "text/plain": [
       "Index(['one', 'two'], dtype='object')"
      ]
     },
     "execution_count": 58,
     "metadata": {},
     "output_type": "execute_result"
    }
   ],
   "source": [
    "df.columns"
   ]
  },
  {
   "cell_type": "markdown",
   "id": "7ceacffe-c9bc-4a77-873c-615ffeb24467",
   "metadata": {},
   "source": [
    "## From dict of ndarrays / lists"
   ]
  },
  {
   "cell_type": "code",
   "execution_count": 59,
   "id": "008314a3-7e5c-4249-aa62-3591289a8d3e",
   "metadata": {},
   "outputs": [],
   "source": [
    "# All ndarrays must share the same length. If an index is passed, it must also be the same length as the arrays.\n",
    "# If no index is passed, the result will be range(n), where n is the array length."
   ]
  },
  {
   "cell_type": "code",
   "execution_count": 60,
   "id": "5b4bd97c-db2d-42c9-8869-ecaf46e9678f",
   "metadata": {},
   "outputs": [
    {
     "data": {
      "text/plain": [
       "{'one': [1.0, 2.0, 3.0, 4.0], 'two': [4.0, 3.0, 2.0, 1.0]}"
      ]
     },
     "execution_count": 60,
     "metadata": {},
     "output_type": "execute_result"
    }
   ],
   "source": [
    "d = {\"one\": [1.0, 2.0, 3.0, 4.0], \n",
    "     \"two\": [4.0, 3.0, 2.0, 1.0]}\n",
    "d"
   ]
  },
  {
   "cell_type": "code",
   "execution_count": 61,
   "id": "cb7e6f94-9353-4c09-8269-be862f2d12e4",
   "metadata": {},
   "outputs": [
    {
     "data": {
      "text/html": [
       "<div>\n",
       "<style scoped>\n",
       "    .dataframe tbody tr th:only-of-type {\n",
       "        vertical-align: middle;\n",
       "    }\n",
       "\n",
       "    .dataframe tbody tr th {\n",
       "        vertical-align: top;\n",
       "    }\n",
       "\n",
       "    .dataframe thead th {\n",
       "        text-align: right;\n",
       "    }\n",
       "</style>\n",
       "<table border=\"1\" class=\"dataframe\">\n",
       "  <thead>\n",
       "    <tr style=\"text-align: right;\">\n",
       "      <th></th>\n",
       "      <th>one</th>\n",
       "      <th>two</th>\n",
       "    </tr>\n",
       "  </thead>\n",
       "  <tbody>\n",
       "    <tr>\n",
       "      <th>a</th>\n",
       "      <td>1.0</td>\n",
       "      <td>4.0</td>\n",
       "    </tr>\n",
       "    <tr>\n",
       "      <th>b</th>\n",
       "      <td>2.0</td>\n",
       "      <td>3.0</td>\n",
       "    </tr>\n",
       "    <tr>\n",
       "      <th>c</th>\n",
       "      <td>3.0</td>\n",
       "      <td>2.0</td>\n",
       "    </tr>\n",
       "    <tr>\n",
       "      <th>d</th>\n",
       "      <td>4.0</td>\n",
       "      <td>1.0</td>\n",
       "    </tr>\n",
       "  </tbody>\n",
       "</table>\n",
       "</div>"
      ],
      "text/plain": [
       "   one  two\n",
       "a  1.0  4.0\n",
       "b  2.0  3.0\n",
       "c  3.0  2.0\n",
       "d  4.0  1.0"
      ]
     },
     "execution_count": 61,
     "metadata": {},
     "output_type": "execute_result"
    }
   ],
   "source": [
    "pd.DataFrame(d, index=[\"a\", \"b\", \"c\", \"d\"])"
   ]
  },
  {
   "cell_type": "code",
   "execution_count": 62,
   "id": "8f183b06-4e6e-4c16-bb18-8f617ab8983d",
   "metadata": {},
   "outputs": [],
   "source": [
    "# DataFrame is not intended to work exactly like a 2-dimensional NumPy ndarray."
   ]
  },
  {
   "cell_type": "markdown",
   "id": "ecf2bdd0-df3f-4489-81a0-01f4bc873b32",
   "metadata": {},
   "source": [
    "## From a list of dicts"
   ]
  },
  {
   "cell_type": "code",
   "execution_count": 63,
   "id": "0eedaab1-09ab-448f-9d43-f117d4dd8fe8",
   "metadata": {},
   "outputs": [
    {
     "data": {
      "text/html": [
       "<div>\n",
       "<style scoped>\n",
       "    .dataframe tbody tr th:only-of-type {\n",
       "        vertical-align: middle;\n",
       "    }\n",
       "\n",
       "    .dataframe tbody tr th {\n",
       "        vertical-align: top;\n",
       "    }\n",
       "\n",
       "    .dataframe thead th {\n",
       "        text-align: right;\n",
       "    }\n",
       "</style>\n",
       "<table border=\"1\" class=\"dataframe\">\n",
       "  <thead>\n",
       "    <tr style=\"text-align: right;\">\n",
       "      <th></th>\n",
       "      <th>a</th>\n",
       "      <th>b</th>\n",
       "      <th>c</th>\n",
       "    </tr>\n",
       "  </thead>\n",
       "  <tbody>\n",
       "    <tr>\n",
       "      <th>0</th>\n",
       "      <td>1</td>\n",
       "      <td>2</td>\n",
       "      <td>NaN</td>\n",
       "    </tr>\n",
       "    <tr>\n",
       "      <th>1</th>\n",
       "      <td>5</td>\n",
       "      <td>10</td>\n",
       "      <td>20.0</td>\n",
       "    </tr>\n",
       "  </tbody>\n",
       "</table>\n",
       "</div>"
      ],
      "text/plain": [
       "   a   b     c\n",
       "0  1   2   NaN\n",
       "1  5  10  20.0"
      ]
     },
     "execution_count": 63,
     "metadata": {},
     "output_type": "execute_result"
    }
   ],
   "source": [
    "data2 = [{\"a\": 1, \"b\": 2}, {\"a\": 5, \"b\": 10, \"c\": 20}]\n",
    "pd.DataFrame(data2)"
   ]
  },
  {
   "cell_type": "code",
   "execution_count": 64,
   "id": "39e80179-f4be-47ec-8b0d-f67c546b320a",
   "metadata": {},
   "outputs": [
    {
     "data": {
      "text/html": [
       "<div>\n",
       "<style scoped>\n",
       "    .dataframe tbody tr th:only-of-type {\n",
       "        vertical-align: middle;\n",
       "    }\n",
       "\n",
       "    .dataframe tbody tr th {\n",
       "        vertical-align: top;\n",
       "    }\n",
       "\n",
       "    .dataframe thead th {\n",
       "        text-align: right;\n",
       "    }\n",
       "</style>\n",
       "<table border=\"1\" class=\"dataframe\">\n",
       "  <thead>\n",
       "    <tr style=\"text-align: right;\">\n",
       "      <th></th>\n",
       "      <th>a</th>\n",
       "      <th>b</th>\n",
       "      <th>c</th>\n",
       "    </tr>\n",
       "  </thead>\n",
       "  <tbody>\n",
       "    <tr>\n",
       "      <th>first</th>\n",
       "      <td>1</td>\n",
       "      <td>2</td>\n",
       "      <td>NaN</td>\n",
       "    </tr>\n",
       "    <tr>\n",
       "      <th>second</th>\n",
       "      <td>5</td>\n",
       "      <td>10</td>\n",
       "      <td>20.0</td>\n",
       "    </tr>\n",
       "  </tbody>\n",
       "</table>\n",
       "</div>"
      ],
      "text/plain": [
       "        a   b     c\n",
       "first   1   2   NaN\n",
       "second  5  10  20.0"
      ]
     },
     "execution_count": 64,
     "metadata": {},
     "output_type": "execute_result"
    }
   ],
   "source": [
    "pd.DataFrame(data2, index=[\"first\", \"second\"])"
   ]
  },
  {
   "cell_type": "code",
   "execution_count": 65,
   "id": "08f44bdb-57df-40d4-8984-7b2ca0a13a5e",
   "metadata": {},
   "outputs": [
    {
     "data": {
      "text/html": [
       "<div>\n",
       "<style scoped>\n",
       "    .dataframe tbody tr th:only-of-type {\n",
       "        vertical-align: middle;\n",
       "    }\n",
       "\n",
       "    .dataframe tbody tr th {\n",
       "        vertical-align: top;\n",
       "    }\n",
       "\n",
       "    .dataframe thead th {\n",
       "        text-align: right;\n",
       "    }\n",
       "</style>\n",
       "<table border=\"1\" class=\"dataframe\">\n",
       "  <thead>\n",
       "    <tr style=\"text-align: right;\">\n",
       "      <th></th>\n",
       "      <th>b</th>\n",
       "      <th>a</th>\n",
       "    </tr>\n",
       "  </thead>\n",
       "  <tbody>\n",
       "    <tr>\n",
       "      <th>0</th>\n",
       "      <td>2</td>\n",
       "      <td>1</td>\n",
       "    </tr>\n",
       "    <tr>\n",
       "      <th>1</th>\n",
       "      <td>10</td>\n",
       "      <td>5</td>\n",
       "    </tr>\n",
       "  </tbody>\n",
       "</table>\n",
       "</div>"
      ],
      "text/plain": [
       "    b  a\n",
       "0   2  1\n",
       "1  10  5"
      ]
     },
     "execution_count": 65,
     "metadata": {},
     "output_type": "execute_result"
    }
   ],
   "source": [
    "pd.DataFrame(data2, columns=[\"b\", \"a\"])"
   ]
  },
  {
   "cell_type": "markdown",
   "id": "6a424dbf-6318-4835-a9ff-2df1dabe3228",
   "metadata": {},
   "source": [
    "## From a dict of tuples"
   ]
  },
  {
   "cell_type": "code",
   "execution_count": 66,
   "id": "18b9ac48-7408-467c-8358-d765e443948f",
   "metadata": {},
   "outputs": [
    {
     "data": {
      "text/html": [
       "<div>\n",
       "<style scoped>\n",
       "    .dataframe tbody tr th:only-of-type {\n",
       "        vertical-align: middle;\n",
       "    }\n",
       "\n",
       "    .dataframe tbody tr th {\n",
       "        vertical-align: top;\n",
       "    }\n",
       "\n",
       "    .dataframe thead tr th {\n",
       "        text-align: left;\n",
       "    }\n",
       "</style>\n",
       "<table border=\"1\" class=\"dataframe\">\n",
       "  <thead>\n",
       "    <tr>\n",
       "      <th></th>\n",
       "      <th></th>\n",
       "      <th colspan=\"3\" halign=\"left\">a</th>\n",
       "      <th colspan=\"2\" halign=\"left\">b</th>\n",
       "    </tr>\n",
       "    <tr>\n",
       "      <th></th>\n",
       "      <th></th>\n",
       "      <th>b</th>\n",
       "      <th>a</th>\n",
       "      <th>c</th>\n",
       "      <th>a</th>\n",
       "      <th>b</th>\n",
       "    </tr>\n",
       "  </thead>\n",
       "  <tbody>\n",
       "    <tr>\n",
       "      <th rowspan=\"3\" valign=\"top\">A</th>\n",
       "      <th>B</th>\n",
       "      <td>1.0</td>\n",
       "      <td>4.0</td>\n",
       "      <td>5.0</td>\n",
       "      <td>8.0</td>\n",
       "      <td>10.0</td>\n",
       "    </tr>\n",
       "    <tr>\n",
       "      <th>C</th>\n",
       "      <td>2.0</td>\n",
       "      <td>3.0</td>\n",
       "      <td>6.0</td>\n",
       "      <td>7.0</td>\n",
       "      <td>NaN</td>\n",
       "    </tr>\n",
       "    <tr>\n",
       "      <th>D</th>\n",
       "      <td>NaN</td>\n",
       "      <td>NaN</td>\n",
       "      <td>NaN</td>\n",
       "      <td>NaN</td>\n",
       "      <td>9.0</td>\n",
       "    </tr>\n",
       "  </tbody>\n",
       "</table>\n",
       "</div>"
      ],
      "text/plain": [
       "       a              b      \n",
       "       b    a    c    a     b\n",
       "A B  1.0  4.0  5.0  8.0  10.0\n",
       "  C  2.0  3.0  6.0  7.0   NaN\n",
       "  D  NaN  NaN  NaN  NaN   9.0"
      ]
     },
     "execution_count": 66,
     "metadata": {},
     "output_type": "execute_result"
    }
   ],
   "source": [
    "pd.DataFrame(\n",
    "    {\n",
    "        (\"a\", \"b\"): {(\"A\", \"B\"): 1, (\"A\", \"C\"): 2},\n",
    "        (\"a\", \"a\"): {(\"A\", \"C\"): 3, (\"A\", \"B\"): 4},\n",
    "        (\"a\", \"c\"): {(\"A\", \"B\"): 5, (\"A\", \"C\"): 6},\n",
    "        (\"b\", \"a\"): {(\"A\", \"C\"): 7, (\"A\", \"B\"): 8},\n",
    "        (\"b\", \"b\"): {(\"A\", \"D\"): 9, (\"A\", \"B\"): 10},\n",
    "    }\n",
    ")"
   ]
  },
  {
   "cell_type": "markdown",
   "id": "9def066c-b955-4d12-a85f-e57141c9ed07",
   "metadata": {},
   "source": [
    "## From a Series"
   ]
  },
  {
   "cell_type": "code",
   "execution_count": 67,
   "id": "2115346d-12e3-46cd-bb69-e159597ccce5",
   "metadata": {},
   "outputs": [
    {
     "data": {
      "text/plain": [
       "a    0\n",
       "b    1\n",
       "c    2\n",
       "Name: ser, dtype: int64"
      ]
     },
     "execution_count": 67,
     "metadata": {},
     "output_type": "execute_result"
    }
   ],
   "source": [
    "ser = pd.Series(range(3), index=list(\"abc\"), name=\"ser\")\n",
    "ser"
   ]
  },
  {
   "cell_type": "code",
   "execution_count": 68,
   "id": "aad3fad5-128c-4083-9d53-eed640b5552e",
   "metadata": {},
   "outputs": [
    {
     "data": {
      "text/html": [
       "<div>\n",
       "<style scoped>\n",
       "    .dataframe tbody tr th:only-of-type {\n",
       "        vertical-align: middle;\n",
       "    }\n",
       "\n",
       "    .dataframe tbody tr th {\n",
       "        vertical-align: top;\n",
       "    }\n",
       "\n",
       "    .dataframe thead th {\n",
       "        text-align: right;\n",
       "    }\n",
       "</style>\n",
       "<table border=\"1\" class=\"dataframe\">\n",
       "  <thead>\n",
       "    <tr style=\"text-align: right;\">\n",
       "      <th></th>\n",
       "      <th>ser</th>\n",
       "    </tr>\n",
       "  </thead>\n",
       "  <tbody>\n",
       "    <tr>\n",
       "      <th>a</th>\n",
       "      <td>0</td>\n",
       "    </tr>\n",
       "    <tr>\n",
       "      <th>b</th>\n",
       "      <td>1</td>\n",
       "    </tr>\n",
       "    <tr>\n",
       "      <th>c</th>\n",
       "      <td>2</td>\n",
       "    </tr>\n",
       "  </tbody>\n",
       "</table>\n",
       "</div>"
      ],
      "text/plain": [
       "   ser\n",
       "a    0\n",
       "b    1\n",
       "c    2"
      ]
     },
     "execution_count": 68,
     "metadata": {},
     "output_type": "execute_result"
    }
   ],
   "source": [
    "pd.DataFrame(ser)"
   ]
  },
  {
   "cell_type": "markdown",
   "id": "1ae2fe40-9cee-4ff7-9434-691ccb8ebe01",
   "metadata": {},
   "source": [
    "# 4. Column selection, addition, deletion in Dataframe"
   ]
  },
  {
   "cell_type": "markdown",
   "id": "92911b50-18a3-4c2a-bab6-7b2635d73cd2",
   "metadata": {},
   "source": [
    "## Create"
   ]
  },
  {
   "cell_type": "code",
   "execution_count": 69,
   "id": "21579532-0b58-4d76-a1b7-f2cf289a52d6",
   "metadata": {},
   "outputs": [
    {
     "data": {
      "text/html": [
       "<div>\n",
       "<style scoped>\n",
       "    .dataframe tbody tr th:only-of-type {\n",
       "        vertical-align: middle;\n",
       "    }\n",
       "\n",
       "    .dataframe tbody tr th {\n",
       "        vertical-align: top;\n",
       "    }\n",
       "\n",
       "    .dataframe thead th {\n",
       "        text-align: right;\n",
       "    }\n",
       "</style>\n",
       "<table border=\"1\" class=\"dataframe\">\n",
       "  <thead>\n",
       "    <tr style=\"text-align: right;\">\n",
       "      <th></th>\n",
       "      <th>one</th>\n",
       "      <th>two</th>\n",
       "    </tr>\n",
       "  </thead>\n",
       "  <tbody>\n",
       "    <tr>\n",
       "      <th>a</th>\n",
       "      <td>1.0</td>\n",
       "      <td>4.0</td>\n",
       "    </tr>\n",
       "    <tr>\n",
       "      <th>b</th>\n",
       "      <td>2.0</td>\n",
       "      <td>5.0</td>\n",
       "    </tr>\n",
       "    <tr>\n",
       "      <th>c</th>\n",
       "      <td>3.0</td>\n",
       "      <td>6.0</td>\n",
       "    </tr>\n",
       "    <tr>\n",
       "      <th>d</th>\n",
       "      <td>NaN</td>\n",
       "      <td>7.0</td>\n",
       "    </tr>\n",
       "  </tbody>\n",
       "</table>\n",
       "</div>"
      ],
      "text/plain": [
       "   one  two\n",
       "a  1.0  4.0\n",
       "b  2.0  5.0\n",
       "c  3.0  6.0\n",
       "d  NaN  7.0"
      ]
     },
     "execution_count": 69,
     "metadata": {},
     "output_type": "execute_result"
    }
   ],
   "source": [
    "d = {\n",
    "    \"one\": pd.Series([1.0, 2.0, 3.0], index=[\"a\", \"b\", \"c\"]),\n",
    "    \"two\": pd.Series([4.0, 5.0, 6.0, 7.0], index=[\"a\", \"b\", \"c\", \"d\"]),\n",
    "}\n",
    "df = pd.DataFrame(d)\n",
    "df"
   ]
  },
  {
   "cell_type": "markdown",
   "id": "b2bd5ff9-e35c-477b-ab77-dac0b372921b",
   "metadata": {},
   "source": [
    "# Select"
   ]
  },
  {
   "cell_type": "code",
   "execution_count": 70,
   "id": "b5048814-10d2-496e-9210-39f260ad179d",
   "metadata": {},
   "outputs": [
    {
     "data": {
      "text/plain": [
       "a    4.0\n",
       "b    5.0\n",
       "c    6.0\n",
       "d    7.0\n",
       "Name: two, dtype: float64"
      ]
     },
     "execution_count": 70,
     "metadata": {},
     "output_type": "execute_result"
    }
   ],
   "source": [
    "df['two']"
   ]
  },
  {
   "cell_type": "code",
   "execution_count": 71,
   "id": "724436ba-65c2-4c7a-98a5-8fd5c465598d",
   "metadata": {},
   "outputs": [
    {
     "data": {
      "text/plain": [
       "one    2.0\n",
       "two    5.0\n",
       "Name: b, dtype: float64"
      ]
     },
     "execution_count": 71,
     "metadata": {},
     "output_type": "execute_result"
    }
   ],
   "source": [
    "df.loc['b']"
   ]
  },
  {
   "cell_type": "code",
   "execution_count": 72,
   "id": "db3eb7f5-e158-4a82-a784-c84ac6d51ea6",
   "metadata": {},
   "outputs": [
    {
     "data": {
      "text/plain": [
       "one    3.0\n",
       "two    6.0\n",
       "Name: c, dtype: float64"
      ]
     },
     "execution_count": 72,
     "metadata": {},
     "output_type": "execute_result"
    }
   ],
   "source": [
    "df.iloc[2]"
   ]
  },
  {
   "cell_type": "code",
   "execution_count": 73,
   "id": "caf385a6-8ab1-46d3-8b86-c9dd91cb856f",
   "metadata": {},
   "outputs": [
    {
     "data": {
      "text/plain": [
       "np.float64(6.0)"
      ]
     },
     "execution_count": 73,
     "metadata": {},
     "output_type": "execute_result"
    }
   ],
   "source": [
    "value = df.loc['c', 'two']\n",
    "value"
   ]
  },
  {
   "cell_type": "code",
   "execution_count": 74,
   "id": "83cdb6ef-ad6d-498d-8a57-1ed283fa3cad",
   "metadata": {},
   "outputs": [
    {
     "data": {
      "text/plain": [
       "np.float64(5.0)"
      ]
     },
     "execution_count": 74,
     "metadata": {},
     "output_type": "execute_result"
    }
   ],
   "source": [
    "value = df.iloc[1, 1]\n",
    "value"
   ]
  },
  {
   "cell_type": "code",
   "execution_count": 75,
   "id": "99aa8b34-e541-4e8a-8499-ccf032f445df",
   "metadata": {},
   "outputs": [
    {
     "name": "stdout",
     "output_type": "stream",
     "text": [
      "          Student  Rank  Marks\n",
      "Student_1   Laksh     1     99\n",
      "Student_2    Amit     2     98\n",
      "Student_3    John     3     97\n",
      "Student_4   Jakob     4     96\n",
      "Student_5   Devid     5     95\n",
      "Student_6   Steve     6     94\n",
      "Student\n",
      "['Laksh' 'Amit' 'John' 'Jakob' 'Devid' 'Steve']\n",
      "Rank\n",
      "[1 2 3 4 5 6]\n",
      "Marks\n",
      "[99 98 97 96 95 94]\n"
     ]
    }
   ],
   "source": [
    "# Interate Dataframe to display the columns\n",
    "import pandas as pd\n",
    "\n",
    "data = {\n",
    "    'Student': [\"Laksh\", \"Amit\", \"John\", \"Jakob\", \"Devid\", \"Steve\"],\n",
    "    'Rank': [1, 2, 3, 4, 5, 6],\n",
    "    'Marks': [99, 98, 97, 96, 95, 94],\n",
    "}\n",
    "\n",
    "# Use the index argument to set your Index. \n",
    "df = pd.DataFrame(data, index=[\"Student_1\", \"Student_2\", \"Student_3\", \"Student_4\", \"Student_5\", \"Student_6\"])\n",
    "print(df)\n",
    "\n",
    "for col in df:\n",
    "    print(col)\n",
    "    print(df[col].values)"
   ]
  },
  {
   "cell_type": "markdown",
   "id": "1d7d02db-9667-40ef-be14-d11914c82550",
   "metadata": {},
   "source": [
    "## Adding"
   ]
  },
  {
   "cell_type": "code",
   "execution_count": 76,
   "id": "f26c7c50",
   "metadata": {},
   "outputs": [
    {
     "data": {
      "text/html": [
       "<div>\n",
       "<style scoped>\n",
       "    .dataframe tbody tr th:only-of-type {\n",
       "        vertical-align: middle;\n",
       "    }\n",
       "\n",
       "    .dataframe tbody tr th {\n",
       "        vertical-align: top;\n",
       "    }\n",
       "\n",
       "    .dataframe thead th {\n",
       "        text-align: right;\n",
       "    }\n",
       "</style>\n",
       "<table border=\"1\" class=\"dataframe\">\n",
       "  <thead>\n",
       "    <tr style=\"text-align: right;\">\n",
       "      <th></th>\n",
       "      <th>one</th>\n",
       "      <th>two</th>\n",
       "    </tr>\n",
       "  </thead>\n",
       "  <tbody>\n",
       "    <tr>\n",
       "      <th>a</th>\n",
       "      <td>1.0</td>\n",
       "      <td>4.0</td>\n",
       "    </tr>\n",
       "    <tr>\n",
       "      <th>b</th>\n",
       "      <td>2.0</td>\n",
       "      <td>5.0</td>\n",
       "    </tr>\n",
       "    <tr>\n",
       "      <th>c</th>\n",
       "      <td>3.0</td>\n",
       "      <td>6.0</td>\n",
       "    </tr>\n",
       "    <tr>\n",
       "      <th>d</th>\n",
       "      <td>NaN</td>\n",
       "      <td>7.0</td>\n",
       "    </tr>\n",
       "  </tbody>\n",
       "</table>\n",
       "</div>"
      ],
      "text/plain": [
       "   one  two\n",
       "a  1.0  4.0\n",
       "b  2.0  5.0\n",
       "c  3.0  6.0\n",
       "d  NaN  7.0"
      ]
     },
     "execution_count": 76,
     "metadata": {},
     "output_type": "execute_result"
    }
   ],
   "source": [
    "d = {\n",
    "    \"one\": pd.Series([1.0, 2.0, 3.0], index=[\"a\", \"b\", \"c\"]),\n",
    "    \"two\": pd.Series([4.0, 5.0, 6.0, 7.0], index=[\"a\", \"b\", \"c\", \"d\"]),\n",
    "}\n",
    "df = pd.DataFrame(d)\n",
    "df"
   ]
  },
  {
   "cell_type": "code",
   "execution_count": 77,
   "id": "ab64b694-320b-4229-87d1-b037ff1580f1",
   "metadata": {},
   "outputs": [
    {
     "data": {
      "text/html": [
       "<div>\n",
       "<style scoped>\n",
       "    .dataframe tbody tr th:only-of-type {\n",
       "        vertical-align: middle;\n",
       "    }\n",
       "\n",
       "    .dataframe tbody tr th {\n",
       "        vertical-align: top;\n",
       "    }\n",
       "\n",
       "    .dataframe thead th {\n",
       "        text-align: right;\n",
       "    }\n",
       "</style>\n",
       "<table border=\"1\" class=\"dataframe\">\n",
       "  <thead>\n",
       "    <tr style=\"text-align: right;\">\n",
       "      <th></th>\n",
       "      <th>one</th>\n",
       "      <th>two</th>\n",
       "      <th>three</th>\n",
       "    </tr>\n",
       "  </thead>\n",
       "  <tbody>\n",
       "    <tr>\n",
       "      <th>a</th>\n",
       "      <td>1.0</td>\n",
       "      <td>4.0</td>\n",
       "      <td>4.0</td>\n",
       "    </tr>\n",
       "    <tr>\n",
       "      <th>b</th>\n",
       "      <td>2.0</td>\n",
       "      <td>5.0</td>\n",
       "      <td>10.0</td>\n",
       "    </tr>\n",
       "    <tr>\n",
       "      <th>c</th>\n",
       "      <td>3.0</td>\n",
       "      <td>6.0</td>\n",
       "      <td>18.0</td>\n",
       "    </tr>\n",
       "    <tr>\n",
       "      <th>d</th>\n",
       "      <td>NaN</td>\n",
       "      <td>7.0</td>\n",
       "      <td>NaN</td>\n",
       "    </tr>\n",
       "  </tbody>\n",
       "</table>\n",
       "</div>"
      ],
      "text/plain": [
       "   one  two  three\n",
       "a  1.0  4.0    4.0\n",
       "b  2.0  5.0   10.0\n",
       "c  3.0  6.0   18.0\n",
       "d  NaN  7.0    NaN"
      ]
     },
     "execution_count": 77,
     "metadata": {},
     "output_type": "execute_result"
    }
   ],
   "source": [
    "df[\"three\"] = df[\"one\"] * df[\"two\"]\n",
    "df"
   ]
  },
  {
   "cell_type": "code",
   "execution_count": 78,
   "id": "51b88af3-43bb-4da2-805c-779a32dc8699",
   "metadata": {},
   "outputs": [
    {
     "data": {
      "text/html": [
       "<div>\n",
       "<style scoped>\n",
       "    .dataframe tbody tr th:only-of-type {\n",
       "        vertical-align: middle;\n",
       "    }\n",
       "\n",
       "    .dataframe tbody tr th {\n",
       "        vertical-align: top;\n",
       "    }\n",
       "\n",
       "    .dataframe thead th {\n",
       "        text-align: right;\n",
       "    }\n",
       "</style>\n",
       "<table border=\"1\" class=\"dataframe\">\n",
       "  <thead>\n",
       "    <tr style=\"text-align: right;\">\n",
       "      <th></th>\n",
       "      <th>one</th>\n",
       "      <th>two</th>\n",
       "      <th>three</th>\n",
       "      <th>flag</th>\n",
       "    </tr>\n",
       "  </thead>\n",
       "  <tbody>\n",
       "    <tr>\n",
       "      <th>a</th>\n",
       "      <td>1.0</td>\n",
       "      <td>4.0</td>\n",
       "      <td>4.0</td>\n",
       "      <td>False</td>\n",
       "    </tr>\n",
       "    <tr>\n",
       "      <th>b</th>\n",
       "      <td>2.0</td>\n",
       "      <td>5.0</td>\n",
       "      <td>10.0</td>\n",
       "      <td>False</td>\n",
       "    </tr>\n",
       "    <tr>\n",
       "      <th>c</th>\n",
       "      <td>3.0</td>\n",
       "      <td>6.0</td>\n",
       "      <td>18.0</td>\n",
       "      <td>True</td>\n",
       "    </tr>\n",
       "    <tr>\n",
       "      <th>d</th>\n",
       "      <td>NaN</td>\n",
       "      <td>7.0</td>\n",
       "      <td>NaN</td>\n",
       "      <td>False</td>\n",
       "    </tr>\n",
       "  </tbody>\n",
       "</table>\n",
       "</div>"
      ],
      "text/plain": [
       "   one  two  three   flag\n",
       "a  1.0  4.0    4.0  False\n",
       "b  2.0  5.0   10.0  False\n",
       "c  3.0  6.0   18.0   True\n",
       "d  NaN  7.0    NaN  False"
      ]
     },
     "execution_count": 78,
     "metadata": {},
     "output_type": "execute_result"
    }
   ],
   "source": [
    "df[\"flag\"] = df[\"one\"] > 2\n",
    "df"
   ]
  },
  {
   "cell_type": "markdown",
   "id": "c68ad5de-3d9a-46a6-bd01-e84465247f16",
   "metadata": {},
   "source": [
    "## Delete"
   ]
  },
  {
   "cell_type": "code",
   "execution_count": 79,
   "id": "1a4e279c-c966-4748-a95f-d8b8d9e2968c",
   "metadata": {},
   "outputs": [
    {
     "data": {
      "text/html": [
       "<div>\n",
       "<style scoped>\n",
       "    .dataframe tbody tr th:only-of-type {\n",
       "        vertical-align: middle;\n",
       "    }\n",
       "\n",
       "    .dataframe tbody tr th {\n",
       "        vertical-align: top;\n",
       "    }\n",
       "\n",
       "    .dataframe thead th {\n",
       "        text-align: right;\n",
       "    }\n",
       "</style>\n",
       "<table border=\"1\" class=\"dataframe\">\n",
       "  <thead>\n",
       "    <tr style=\"text-align: right;\">\n",
       "      <th></th>\n",
       "      <th>one</th>\n",
       "      <th>three</th>\n",
       "      <th>flag</th>\n",
       "    </tr>\n",
       "  </thead>\n",
       "  <tbody>\n",
       "    <tr>\n",
       "      <th>a</th>\n",
       "      <td>1.0</td>\n",
       "      <td>4.0</td>\n",
       "      <td>False</td>\n",
       "    </tr>\n",
       "    <tr>\n",
       "      <th>b</th>\n",
       "      <td>2.0</td>\n",
       "      <td>10.0</td>\n",
       "      <td>False</td>\n",
       "    </tr>\n",
       "    <tr>\n",
       "      <th>c</th>\n",
       "      <td>3.0</td>\n",
       "      <td>18.0</td>\n",
       "      <td>True</td>\n",
       "    </tr>\n",
       "    <tr>\n",
       "      <th>d</th>\n",
       "      <td>NaN</td>\n",
       "      <td>NaN</td>\n",
       "      <td>False</td>\n",
       "    </tr>\n",
       "  </tbody>\n",
       "</table>\n",
       "</div>"
      ],
      "text/plain": [
       "   one  three   flag\n",
       "a  1.0    4.0  False\n",
       "b  2.0   10.0  False\n",
       "c  3.0   18.0   True\n",
       "d  NaN    NaN  False"
      ]
     },
     "execution_count": 79,
     "metadata": {},
     "output_type": "execute_result"
    }
   ],
   "source": [
    "del df[\"two\"]\n",
    "df"
   ]
  },
  {
   "cell_type": "code",
   "execution_count": 80,
   "id": "37a10886-98a8-48c3-93e9-d5f276286338",
   "metadata": {},
   "outputs": [
    {
     "data": {
      "text/html": [
       "<div>\n",
       "<style scoped>\n",
       "    .dataframe tbody tr th:only-of-type {\n",
       "        vertical-align: middle;\n",
       "    }\n",
       "\n",
       "    .dataframe tbody tr th {\n",
       "        vertical-align: top;\n",
       "    }\n",
       "\n",
       "    .dataframe thead th {\n",
       "        text-align: right;\n",
       "    }\n",
       "</style>\n",
       "<table border=\"1\" class=\"dataframe\">\n",
       "  <thead>\n",
       "    <tr style=\"text-align: right;\">\n",
       "      <th></th>\n",
       "      <th>one</th>\n",
       "      <th>three</th>\n",
       "      <th>flag</th>\n",
       "      <th>foo</th>\n",
       "    </tr>\n",
       "  </thead>\n",
       "  <tbody>\n",
       "    <tr>\n",
       "      <th>a</th>\n",
       "      <td>1.0</td>\n",
       "      <td>4.0</td>\n",
       "      <td>False</td>\n",
       "      <td>bar</td>\n",
       "    </tr>\n",
       "    <tr>\n",
       "      <th>b</th>\n",
       "      <td>2.0</td>\n",
       "      <td>10.0</td>\n",
       "      <td>False</td>\n",
       "      <td>bar</td>\n",
       "    </tr>\n",
       "    <tr>\n",
       "      <th>c</th>\n",
       "      <td>3.0</td>\n",
       "      <td>18.0</td>\n",
       "      <td>True</td>\n",
       "      <td>bar</td>\n",
       "    </tr>\n",
       "    <tr>\n",
       "      <th>d</th>\n",
       "      <td>NaN</td>\n",
       "      <td>NaN</td>\n",
       "      <td>False</td>\n",
       "      <td>bar</td>\n",
       "    </tr>\n",
       "  </tbody>\n",
       "</table>\n",
       "</div>"
      ],
      "text/plain": [
       "   one  three   flag  foo\n",
       "a  1.0    4.0  False  bar\n",
       "b  2.0   10.0  False  bar\n",
       "c  3.0   18.0   True  bar\n",
       "d  NaN    NaN  False  bar"
      ]
     },
     "execution_count": 80,
     "metadata": {},
     "output_type": "execute_result"
    }
   ],
   "source": [
    "df[\"foo\"] = \"bar\"\n",
    "df"
   ]
  },
  {
   "cell_type": "code",
   "execution_count": 81,
   "id": "303adbfc-10c8-46b3-9dd6-6212f1c6671d",
   "metadata": {},
   "outputs": [
    {
     "data": {
      "text/html": [
       "<div>\n",
       "<style scoped>\n",
       "    .dataframe tbody tr th:only-of-type {\n",
       "        vertical-align: middle;\n",
       "    }\n",
       "\n",
       "    .dataframe tbody tr th {\n",
       "        vertical-align: top;\n",
       "    }\n",
       "\n",
       "    .dataframe thead th {\n",
       "        text-align: right;\n",
       "    }\n",
       "</style>\n",
       "<table border=\"1\" class=\"dataframe\">\n",
       "  <thead>\n",
       "    <tr style=\"text-align: right;\">\n",
       "      <th></th>\n",
       "      <th>one</th>\n",
       "      <th>three</th>\n",
       "      <th>flag</th>\n",
       "      <th>foo</th>\n",
       "      <th>one_trunc</th>\n",
       "    </tr>\n",
       "  </thead>\n",
       "  <tbody>\n",
       "    <tr>\n",
       "      <th>a</th>\n",
       "      <td>1.0</td>\n",
       "      <td>4.0</td>\n",
       "      <td>False</td>\n",
       "      <td>bar</td>\n",
       "      <td>1.0</td>\n",
       "    </tr>\n",
       "    <tr>\n",
       "      <th>b</th>\n",
       "      <td>2.0</td>\n",
       "      <td>10.0</td>\n",
       "      <td>False</td>\n",
       "      <td>bar</td>\n",
       "      <td>2.0</td>\n",
       "    </tr>\n",
       "    <tr>\n",
       "      <th>c</th>\n",
       "      <td>3.0</td>\n",
       "      <td>18.0</td>\n",
       "      <td>True</td>\n",
       "      <td>bar</td>\n",
       "      <td>NaN</td>\n",
       "    </tr>\n",
       "    <tr>\n",
       "      <th>d</th>\n",
       "      <td>NaN</td>\n",
       "      <td>NaN</td>\n",
       "      <td>False</td>\n",
       "      <td>bar</td>\n",
       "      <td>NaN</td>\n",
       "    </tr>\n",
       "  </tbody>\n",
       "</table>\n",
       "</div>"
      ],
      "text/plain": [
       "   one  three   flag  foo  one_trunc\n",
       "a  1.0    4.0  False  bar        1.0\n",
       "b  2.0   10.0  False  bar        2.0\n",
       "c  3.0   18.0   True  bar        NaN\n",
       "d  NaN    NaN  False  bar        NaN"
      ]
     },
     "execution_count": 81,
     "metadata": {},
     "output_type": "execute_result"
    }
   ],
   "source": [
    "df[\"one_trunc\"] = df[\"one\"][:2]\n",
    "df"
   ]
  },
  {
   "cell_type": "markdown",
   "id": "a8b7cd06-824d-401a-8cec-013fbf1b7eb0",
   "metadata": {},
   "source": [
    "## Insert Row"
   ]
  },
  {
   "cell_type": "code",
   "execution_count": 82,
   "id": "0a348c7e-dc79-4db8-b1ba-1c25e935ff4b",
   "metadata": {},
   "outputs": [],
   "source": [
    "# You can insert raw ndarrays but their length must match the length of the DataFrame’s index."
   ]
  },
  {
   "cell_type": "code",
   "execution_count": 83,
   "id": "3ecc42db-93d2-4d46-8ba4-e4f434336b90",
   "metadata": {},
   "outputs": [],
   "source": [
    "# By default, columns get inserted at the end."
   ]
  },
  {
   "cell_type": "code",
   "execution_count": 84,
   "id": "1dac9327-a77d-4a03-8bae-54ec9ba3e7e2",
   "metadata": {},
   "outputs": [
    {
     "data": {
      "text/html": [
       "<div>\n",
       "<style scoped>\n",
       "    .dataframe tbody tr th:only-of-type {\n",
       "        vertical-align: middle;\n",
       "    }\n",
       "\n",
       "    .dataframe tbody tr th {\n",
       "        vertical-align: top;\n",
       "    }\n",
       "\n",
       "    .dataframe thead th {\n",
       "        text-align: right;\n",
       "    }\n",
       "</style>\n",
       "<table border=\"1\" class=\"dataframe\">\n",
       "  <thead>\n",
       "    <tr style=\"text-align: right;\">\n",
       "      <th></th>\n",
       "      <th>one</th>\n",
       "      <th>three</th>\n",
       "      <th>flag</th>\n",
       "      <th>foo</th>\n",
       "      <th>one_trunc</th>\n",
       "    </tr>\n",
       "  </thead>\n",
       "  <tbody>\n",
       "    <tr>\n",
       "      <th>a</th>\n",
       "      <td>1.0</td>\n",
       "      <td>4.0</td>\n",
       "      <td>False</td>\n",
       "      <td>bar</td>\n",
       "      <td>1.0</td>\n",
       "    </tr>\n",
       "    <tr>\n",
       "      <th>b</th>\n",
       "      <td>2.0</td>\n",
       "      <td>10.0</td>\n",
       "      <td>False</td>\n",
       "      <td>bar</td>\n",
       "      <td>2.0</td>\n",
       "    </tr>\n",
       "    <tr>\n",
       "      <th>c</th>\n",
       "      <td>3.0</td>\n",
       "      <td>18.0</td>\n",
       "      <td>True</td>\n",
       "      <td>bar</td>\n",
       "      <td>NaN</td>\n",
       "    </tr>\n",
       "    <tr>\n",
       "      <th>d</th>\n",
       "      <td>NaN</td>\n",
       "      <td>NaN</td>\n",
       "      <td>False</td>\n",
       "      <td>bar</td>\n",
       "      <td>NaN</td>\n",
       "    </tr>\n",
       "    <tr>\n",
       "      <th>e</th>\n",
       "      <td>4.0</td>\n",
       "      <td>20.0</td>\n",
       "      <td>True</td>\n",
       "      <td>bar</td>\n",
       "      <td>4.0</td>\n",
       "    </tr>\n",
       "  </tbody>\n",
       "</table>\n",
       "</div>"
      ],
      "text/plain": [
       "   one  three   flag  foo  one_trunc\n",
       "a  1.0    4.0  False  bar        1.0\n",
       "b  2.0   10.0  False  bar        2.0\n",
       "c  3.0   18.0   True  bar        NaN\n",
       "d  NaN    NaN  False  bar        NaN\n",
       "e  4.0   20.0   True  bar        4.0"
      ]
     },
     "execution_count": 84,
     "metadata": {},
     "output_type": "execute_result"
    }
   ],
   "source": [
    "df.loc['e'] = {\n",
    "    'one': 4.0,\n",
    "    'three': 20.0,\n",
    "    'flag': True,\n",
    "    'foo': 'bar',\n",
    "    'one_trunc': 4.0\n",
    "}\n",
    "df"
   ]
  },
  {
   "cell_type": "markdown",
   "id": "efb8ec6a-c41f-44af-a2bf-902dd7a9d34b",
   "metadata": {},
   "source": [
    "## DataFrame Attribute"
   ]
  },
  {
   "cell_type": "code",
   "execution_count": 85,
   "id": "1613dad7-6989-4c8b-b6e3-79fe565bd654",
   "metadata": {},
   "outputs": [
    {
     "name": "stdout",
     "output_type": "stream",
     "text": [
      "          Student  Rank  Marks\n",
      "Student_1   Laksh     1     99\n",
      "Student_2    Amit     2     98\n",
      "Student_3    John     3     97\n",
      "Student_4   Jakob     4     96\n",
      "Student_5   Devid     5     95\n",
      "Student_6   Steve     6     94\n"
     ]
    }
   ],
   "source": [
    "data = {\n",
    "    'Student': [\"Laksh\", \"Amit\", \"John\", \"Jakob\", \"Devid\", \"Steve\"],\n",
    "    'Rank': [1, 2, 3, 4, 5, 6],\n",
    "    'Marks': [99, 98, 97, 96, 95, 94],\n",
    "}\n",
    "\n",
    "# Use the index argument to set your Index. \n",
    "df = pd.DataFrame(data, index=[\"Student_1\", \"Student_2\", \"Student_3\", \"Student_4\", \"Student_5\", \"Student_6\"])\n",
    "print(df)"
   ]
  },
  {
   "cell_type": "code",
   "execution_count": 86,
   "id": "dfb18b4c-5dbf-49cd-b3b1-a05f3c65eb22",
   "metadata": {},
   "outputs": [
    {
     "name": "stdout",
     "output_type": "stream",
     "text": [
      "Student    object\n",
      "Rank        int64\n",
      "Marks       int64\n",
      "dtype: object\n",
      ".\n",
      "2\n",
      ".\n",
      "18\n",
      ".\n",
      "(6, 3)\n",
      ".\n",
      "Index(['Student_1', 'Student_2', 'Student_3', 'Student_4', 'Student_5',\n",
      "       'Student_6'],\n",
      "      dtype='object')\n",
      ".\n",
      "        Student_1 Student_2 Student_3 Student_4 Student_5 Student_6\n",
      "Student     Laksh      Amit      John     Jakob     Devid     Steve\n",
      "Rank            1         2         3         4         5         6\n",
      "Marks          99        98        97        96        95        94\n",
      ".\n",
      "          Student  Rank  Marks\n",
      "Student_1   Laksh     1     99\n",
      "Student_2    Amit     2     98\n",
      ".\n",
      "          Student  Rank  Marks\n",
      "Student_5   Devid     5     95\n",
      "Student_6   Steve     6     94\n"
     ]
    }
   ],
   "source": [
    "print(df.dtypes)\n",
    "print('.')\n",
    "print(df.ndim)\n",
    "print('.')\n",
    "print(df.size)\n",
    "print('.')\n",
    "print(df.shape)\n",
    "print('.')\n",
    "print(df.index)\n",
    "print('.')\n",
    "print(df.T)\n",
    "print('.')\n",
    "print(df.head(2))\n",
    "print('.')\n",
    "print(df.tail(2))"
   ]
  },
  {
   "cell_type": "markdown",
   "id": "f599bdb5-c155-4555-8d68-a84508838c63",
   "metadata": {},
   "source": [
    "## Data alignment and arithmetic"
   ]
  },
  {
   "cell_type": "code",
   "execution_count": 87,
   "id": "2eefc221-2824-4853-96ef-1604da587e21",
   "metadata": {},
   "outputs": [
    {
     "name": "stdout",
     "output_type": "stream",
     "text": [
      "          A         B         C         D\n",
      "0 -1.191509 -0.536494 -0.002057  1.725754\n",
      "1 -1.540053 -1.617953  0.112477  2.009726\n",
      "2  1.040274 -0.049491  1.395413  0.085730\n",
      "3  0.853755 -0.258273 -0.134567 -1.019501\n",
      "4  0.175346  0.910376  2.567082  0.728113\n",
      "5  1.142701  1.321979 -1.096610  0.185904\n",
      "6  0.850437  1.272456  0.188868  1.625314\n",
      "7  0.986921  0.524620 -0.766362 -0.329652\n",
      "8 -1.265484  0.608503  0.754789 -0.038753\n",
      "9 -0.045956  0.960628 -0.148223  0.348221\n",
      ".\n",
      "          A         B         C\n",
      "0  1.045783  1.462392  0.968811\n",
      "1  1.476169  1.252599  0.180473\n",
      "2 -0.354172  1.381941  1.258117\n",
      "3 -0.147497  0.073381 -1.299730\n",
      "4  0.940903 -1.226440 -0.039235\n",
      "5 -0.039446  0.706573 -0.095260\n",
      "6  0.795487 -0.082181 -0.807994\n"
     ]
    }
   ],
   "source": [
    "df = pd.DataFrame(np.random.randn(10, 4), columns=[\"A\", \"B\", \"C\", \"D\"])\n",
    "\n",
    "df2 = pd.DataFrame(np.random.randn(7, 3), columns=[\"A\", \"B\", \"C\"])\n",
    "print(df)\n",
    "print('.')\n",
    "print(df2)"
   ]
  },
  {
   "cell_type": "code",
   "execution_count": 88,
   "id": "371490b6-3005-4333-bfd6-e9beab0919f6",
   "metadata": {},
   "outputs": [
    {
     "data": {
      "text/html": [
       "<div>\n",
       "<style scoped>\n",
       "    .dataframe tbody tr th:only-of-type {\n",
       "        vertical-align: middle;\n",
       "    }\n",
       "\n",
       "    .dataframe tbody tr th {\n",
       "        vertical-align: top;\n",
       "    }\n",
       "\n",
       "    .dataframe thead th {\n",
       "        text-align: right;\n",
       "    }\n",
       "</style>\n",
       "<table border=\"1\" class=\"dataframe\">\n",
       "  <thead>\n",
       "    <tr style=\"text-align: right;\">\n",
       "      <th></th>\n",
       "      <th>A</th>\n",
       "      <th>B</th>\n",
       "      <th>C</th>\n",
       "      <th>D</th>\n",
       "    </tr>\n",
       "  </thead>\n",
       "  <tbody>\n",
       "    <tr>\n",
       "      <th>0</th>\n",
       "      <td>-0.145726</td>\n",
       "      <td>0.925898</td>\n",
       "      <td>0.966754</td>\n",
       "      <td>NaN</td>\n",
       "    </tr>\n",
       "    <tr>\n",
       "      <th>1</th>\n",
       "      <td>-0.063885</td>\n",
       "      <td>-0.365354</td>\n",
       "      <td>0.292950</td>\n",
       "      <td>NaN</td>\n",
       "    </tr>\n",
       "    <tr>\n",
       "      <th>2</th>\n",
       "      <td>0.686102</td>\n",
       "      <td>1.332450</td>\n",
       "      <td>2.653531</td>\n",
       "      <td>NaN</td>\n",
       "    </tr>\n",
       "    <tr>\n",
       "      <th>3</th>\n",
       "      <td>0.706258</td>\n",
       "      <td>-0.184891</td>\n",
       "      <td>-1.434297</td>\n",
       "      <td>NaN</td>\n",
       "    </tr>\n",
       "    <tr>\n",
       "      <th>4</th>\n",
       "      <td>1.116248</td>\n",
       "      <td>-0.316064</td>\n",
       "      <td>2.527846</td>\n",
       "      <td>NaN</td>\n",
       "    </tr>\n",
       "    <tr>\n",
       "      <th>5</th>\n",
       "      <td>1.103255</td>\n",
       "      <td>2.028551</td>\n",
       "      <td>-1.191870</td>\n",
       "      <td>NaN</td>\n",
       "    </tr>\n",
       "    <tr>\n",
       "      <th>6</th>\n",
       "      <td>1.645925</td>\n",
       "      <td>1.190275</td>\n",
       "      <td>-0.619125</td>\n",
       "      <td>NaN</td>\n",
       "    </tr>\n",
       "    <tr>\n",
       "      <th>7</th>\n",
       "      <td>NaN</td>\n",
       "      <td>NaN</td>\n",
       "      <td>NaN</td>\n",
       "      <td>NaN</td>\n",
       "    </tr>\n",
       "    <tr>\n",
       "      <th>8</th>\n",
       "      <td>NaN</td>\n",
       "      <td>NaN</td>\n",
       "      <td>NaN</td>\n",
       "      <td>NaN</td>\n",
       "    </tr>\n",
       "    <tr>\n",
       "      <th>9</th>\n",
       "      <td>NaN</td>\n",
       "      <td>NaN</td>\n",
       "      <td>NaN</td>\n",
       "      <td>NaN</td>\n",
       "    </tr>\n",
       "  </tbody>\n",
       "</table>\n",
       "</div>"
      ],
      "text/plain": [
       "          A         B         C   D\n",
       "0 -0.145726  0.925898  0.966754 NaN\n",
       "1 -0.063885 -0.365354  0.292950 NaN\n",
       "2  0.686102  1.332450  2.653531 NaN\n",
       "3  0.706258 -0.184891 -1.434297 NaN\n",
       "4  1.116248 -0.316064  2.527846 NaN\n",
       "5  1.103255  2.028551 -1.191870 NaN\n",
       "6  1.645925  1.190275 -0.619125 NaN\n",
       "7       NaN       NaN       NaN NaN\n",
       "8       NaN       NaN       NaN NaN\n",
       "9       NaN       NaN       NaN NaN"
      ]
     },
     "execution_count": 88,
     "metadata": {},
     "output_type": "execute_result"
    }
   ],
   "source": [
    "df + df2"
   ]
  },
  {
   "cell_type": "code",
   "execution_count": 89,
   "id": "b4fb1561-9d87-4665-a25f-f2256595f4ba",
   "metadata": {},
   "outputs": [
    {
     "data": {
      "text/html": [
       "<div>\n",
       "<style scoped>\n",
       "    .dataframe tbody tr th:only-of-type {\n",
       "        vertical-align: middle;\n",
       "    }\n",
       "\n",
       "    .dataframe tbody tr th {\n",
       "        vertical-align: top;\n",
       "    }\n",
       "\n",
       "    .dataframe thead th {\n",
       "        text-align: right;\n",
       "    }\n",
       "</style>\n",
       "<table border=\"1\" class=\"dataframe\">\n",
       "  <thead>\n",
       "    <tr style=\"text-align: right;\">\n",
       "      <th></th>\n",
       "      <th>A</th>\n",
       "      <th>B</th>\n",
       "      <th>C</th>\n",
       "      <th>D</th>\n",
       "    </tr>\n",
       "  </thead>\n",
       "  <tbody>\n",
       "    <tr>\n",
       "      <th>0</th>\n",
       "      <td>-3.957545</td>\n",
       "      <td>-0.682469</td>\n",
       "      <td>1.989715</td>\n",
       "      <td>10.628768</td>\n",
       "    </tr>\n",
       "    <tr>\n",
       "      <th>1</th>\n",
       "      <td>-5.700266</td>\n",
       "      <td>-6.089763</td>\n",
       "      <td>2.562387</td>\n",
       "      <td>12.048631</td>\n",
       "    </tr>\n",
       "    <tr>\n",
       "      <th>2</th>\n",
       "      <td>7.201371</td>\n",
       "      <td>1.752546</td>\n",
       "      <td>8.977067</td>\n",
       "      <td>2.428652</td>\n",
       "    </tr>\n",
       "    <tr>\n",
       "      <th>3</th>\n",
       "      <td>6.268774</td>\n",
       "      <td>0.708636</td>\n",
       "      <td>1.327165</td>\n",
       "      <td>-3.097504</td>\n",
       "    </tr>\n",
       "    <tr>\n",
       "      <th>4</th>\n",
       "      <td>2.876729</td>\n",
       "      <td>6.551882</td>\n",
       "      <td>14.835408</td>\n",
       "      <td>5.640566</td>\n",
       "    </tr>\n",
       "    <tr>\n",
       "      <th>5</th>\n",
       "      <td>7.713505</td>\n",
       "      <td>8.609894</td>\n",
       "      <td>-3.483048</td>\n",
       "      <td>2.929519</td>\n",
       "    </tr>\n",
       "    <tr>\n",
       "      <th>6</th>\n",
       "      <td>6.252187</td>\n",
       "      <td>8.362280</td>\n",
       "      <td>2.944342</td>\n",
       "      <td>10.126568</td>\n",
       "    </tr>\n",
       "    <tr>\n",
       "      <th>7</th>\n",
       "      <td>6.934604</td>\n",
       "      <td>4.623100</td>\n",
       "      <td>-1.831809</td>\n",
       "      <td>0.351740</td>\n",
       "    </tr>\n",
       "    <tr>\n",
       "      <th>8</th>\n",
       "      <td>-4.327422</td>\n",
       "      <td>5.042514</td>\n",
       "      <td>5.773947</td>\n",
       "      <td>1.806237</td>\n",
       "    </tr>\n",
       "    <tr>\n",
       "      <th>9</th>\n",
       "      <td>1.770219</td>\n",
       "      <td>6.803140</td>\n",
       "      <td>1.258885</td>\n",
       "      <td>3.741105</td>\n",
       "    </tr>\n",
       "  </tbody>\n",
       "</table>\n",
       "</div>"
      ],
      "text/plain": [
       "          A         B          C          D\n",
       "0 -3.957545 -0.682469   1.989715  10.628768\n",
       "1 -5.700266 -6.089763   2.562387  12.048631\n",
       "2  7.201371  1.752546   8.977067   2.428652\n",
       "3  6.268774  0.708636   1.327165  -3.097504\n",
       "4  2.876729  6.551882  14.835408   5.640566\n",
       "5  7.713505  8.609894  -3.483048   2.929519\n",
       "6  6.252187  8.362280   2.944342  10.126568\n",
       "7  6.934604  4.623100  -1.831809   0.351740\n",
       "8 -4.327422  5.042514   5.773947   1.806237\n",
       "9  1.770219  6.803140   1.258885   3.741105"
      ]
     },
     "execution_count": 89,
     "metadata": {},
     "output_type": "execute_result"
    }
   ],
   "source": [
    "df * 5 + 2"
   ]
  },
  {
   "cell_type": "code",
   "execution_count": 90,
   "id": "fab14c9d-f098-4aba-b635-aa3e77286465",
   "metadata": {},
   "outputs": [
    {
     "data": {
      "text/html": [
       "<div>\n",
       "<style scoped>\n",
       "    .dataframe tbody tr th:only-of-type {\n",
       "        vertical-align: middle;\n",
       "    }\n",
       "\n",
       "    .dataframe tbody tr th {\n",
       "        vertical-align: top;\n",
       "    }\n",
       "\n",
       "    .dataframe thead th {\n",
       "        text-align: right;\n",
       "    }\n",
       "</style>\n",
       "<table border=\"1\" class=\"dataframe\">\n",
       "  <thead>\n",
       "    <tr style=\"text-align: right;\">\n",
       "      <th></th>\n",
       "      <th>A</th>\n",
       "      <th>B</th>\n",
       "      <th>C</th>\n",
       "      <th>D</th>\n",
       "    </tr>\n",
       "  </thead>\n",
       "  <tbody>\n",
       "    <tr>\n",
       "      <th>0</th>\n",
       "      <td>-0.839272</td>\n",
       "      <td>-1.863954</td>\n",
       "      <td>-486.167547</td>\n",
       "      <td>0.579457</td>\n",
       "    </tr>\n",
       "    <tr>\n",
       "      <th>1</th>\n",
       "      <td>-0.649328</td>\n",
       "      <td>-0.618065</td>\n",
       "      <td>8.890669</td>\n",
       "      <td>0.497580</td>\n",
       "    </tr>\n",
       "    <tr>\n",
       "      <th>2</th>\n",
       "      <td>0.961285</td>\n",
       "      <td>-20.205741</td>\n",
       "      <td>0.716633</td>\n",
       "      <td>11.664486</td>\n",
       "    </tr>\n",
       "    <tr>\n",
       "      <th>3</th>\n",
       "      <td>1.171296</td>\n",
       "      <td>-3.871876</td>\n",
       "      <td>-7.431242</td>\n",
       "      <td>-0.980872</td>\n",
       "    </tr>\n",
       "    <tr>\n",
       "      <th>4</th>\n",
       "      <td>5.703016</td>\n",
       "      <td>1.098447</td>\n",
       "      <td>0.389547</td>\n",
       "      <td>1.373413</td>\n",
       "    </tr>\n",
       "    <tr>\n",
       "      <th>5</th>\n",
       "      <td>0.875120</td>\n",
       "      <td>0.756442</td>\n",
       "      <td>-0.911902</td>\n",
       "      <td>5.379126</td>\n",
       "    </tr>\n",
       "    <tr>\n",
       "      <th>6</th>\n",
       "      <td>1.175866</td>\n",
       "      <td>0.785882</td>\n",
       "      <td>5.294692</td>\n",
       "      <td>0.615266</td>\n",
       "    </tr>\n",
       "    <tr>\n",
       "      <th>7</th>\n",
       "      <td>1.013253</td>\n",
       "      <td>1.906141</td>\n",
       "      <td>-1.304867</td>\n",
       "      <td>-3.033502</td>\n",
       "    </tr>\n",
       "    <tr>\n",
       "      <th>8</th>\n",
       "      <td>-0.790211</td>\n",
       "      <td>1.643378</td>\n",
       "      <td>1.324873</td>\n",
       "      <td>-25.804693</td>\n",
       "    </tr>\n",
       "    <tr>\n",
       "      <th>9</th>\n",
       "      <td>-21.759820</td>\n",
       "      <td>1.040986</td>\n",
       "      <td>-6.746594</td>\n",
       "      <td>2.871740</td>\n",
       "    </tr>\n",
       "  </tbody>\n",
       "</table>\n",
       "</div>"
      ],
      "text/plain": [
       "           A          B           C          D\n",
       "0  -0.839272  -1.863954 -486.167547   0.579457\n",
       "1  -0.649328  -0.618065    8.890669   0.497580\n",
       "2   0.961285 -20.205741    0.716633  11.664486\n",
       "3   1.171296  -3.871876   -7.431242  -0.980872\n",
       "4   5.703016   1.098447    0.389547   1.373413\n",
       "5   0.875120   0.756442   -0.911902   5.379126\n",
       "6   1.175866   0.785882    5.294692   0.615266\n",
       "7   1.013253   1.906141   -1.304867  -3.033502\n",
       "8  -0.790211   1.643378    1.324873 -25.804693\n",
       "9 -21.759820   1.040986   -6.746594   2.871740"
      ]
     },
     "execution_count": 90,
     "metadata": {},
     "output_type": "execute_result"
    }
   ],
   "source": [
    "1 / df"
   ]
  },
  {
   "cell_type": "markdown",
   "id": "f7d9f2ae-55be-4da7-9d2a-934bc56cfbc4",
   "metadata": {},
   "source": [
    "### boolean Operation"
   ]
  },
  {
   "cell_type": "code",
   "execution_count": 91,
   "id": "5eb0a7b4-c976-4448-a3eb-51c7877710e7",
   "metadata": {},
   "outputs": [
    {
     "name": "stdout",
     "output_type": "stream",
     "text": [
      "       a      b\n",
      "0   True  False\n",
      "1  False   True\n",
      "2   True   True\n",
      ".\n",
      "       a      b\n",
      "0  False   True\n",
      "1   True   True\n",
      "2   True  False\n"
     ]
    }
   ],
   "source": [
    "df1 = pd.DataFrame({\"a\": [1, 0, 1], \"b\": [0, 1, 1]}, dtype=bool)\n",
    "\n",
    "df2 = pd.DataFrame({\"a\": [0, 1, 1], \"b\": [1, 1, 0]}, dtype=bool)\n",
    "\n",
    "print(df1)\n",
    "print('.')\n",
    "print(df2)"
   ]
  },
  {
   "cell_type": "code",
   "execution_count": 92,
   "id": "a5b43725-9202-4e3a-90e0-507752e64c51",
   "metadata": {},
   "outputs": [
    {
     "data": {
      "text/html": [
       "<div>\n",
       "<style scoped>\n",
       "    .dataframe tbody tr th:only-of-type {\n",
       "        vertical-align: middle;\n",
       "    }\n",
       "\n",
       "    .dataframe tbody tr th {\n",
       "        vertical-align: top;\n",
       "    }\n",
       "\n",
       "    .dataframe thead th {\n",
       "        text-align: right;\n",
       "    }\n",
       "</style>\n",
       "<table border=\"1\" class=\"dataframe\">\n",
       "  <thead>\n",
       "    <tr style=\"text-align: right;\">\n",
       "      <th></th>\n",
       "      <th>a</th>\n",
       "      <th>b</th>\n",
       "    </tr>\n",
       "  </thead>\n",
       "  <tbody>\n",
       "    <tr>\n",
       "      <th>0</th>\n",
       "      <td>False</td>\n",
       "      <td>False</td>\n",
       "    </tr>\n",
       "    <tr>\n",
       "      <th>1</th>\n",
       "      <td>False</td>\n",
       "      <td>True</td>\n",
       "    </tr>\n",
       "    <tr>\n",
       "      <th>2</th>\n",
       "      <td>True</td>\n",
       "      <td>False</td>\n",
       "    </tr>\n",
       "  </tbody>\n",
       "</table>\n",
       "</div>"
      ],
      "text/plain": [
       "       a      b\n",
       "0  False  False\n",
       "1  False   True\n",
       "2   True  False"
      ]
     },
     "execution_count": 92,
     "metadata": {},
     "output_type": "execute_result"
    }
   ],
   "source": [
    "df1 & df2"
   ]
  },
  {
   "cell_type": "code",
   "execution_count": 93,
   "id": "85ee3e8b-7cd9-4ed2-8626-f8eeb79b2a01",
   "metadata": {},
   "outputs": [
    {
     "data": {
      "text/html": [
       "<div>\n",
       "<style scoped>\n",
       "    .dataframe tbody tr th:only-of-type {\n",
       "        vertical-align: middle;\n",
       "    }\n",
       "\n",
       "    .dataframe tbody tr th {\n",
       "        vertical-align: top;\n",
       "    }\n",
       "\n",
       "    .dataframe thead th {\n",
       "        text-align: right;\n",
       "    }\n",
       "</style>\n",
       "<table border=\"1\" class=\"dataframe\">\n",
       "  <thead>\n",
       "    <tr style=\"text-align: right;\">\n",
       "      <th></th>\n",
       "      <th>a</th>\n",
       "      <th>b</th>\n",
       "    </tr>\n",
       "  </thead>\n",
       "  <tbody>\n",
       "    <tr>\n",
       "      <th>0</th>\n",
       "      <td>True</td>\n",
       "      <td>True</td>\n",
       "    </tr>\n",
       "    <tr>\n",
       "      <th>1</th>\n",
       "      <td>True</td>\n",
       "      <td>True</td>\n",
       "    </tr>\n",
       "    <tr>\n",
       "      <th>2</th>\n",
       "      <td>True</td>\n",
       "      <td>True</td>\n",
       "    </tr>\n",
       "  </tbody>\n",
       "</table>\n",
       "</div>"
      ],
      "text/plain": [
       "      a     b\n",
       "0  True  True\n",
       "1  True  True\n",
       "2  True  True"
      ]
     },
     "execution_count": 93,
     "metadata": {},
     "output_type": "execute_result"
    }
   ],
   "source": [
    "df1 | df2"
   ]
  },
  {
   "cell_type": "code",
   "execution_count": 94,
   "id": "ca0103ec-b80f-414a-971a-eb3e66cc0d77",
   "metadata": {},
   "outputs": [
    {
     "data": {
      "text/html": [
       "<div>\n",
       "<style scoped>\n",
       "    .dataframe tbody tr th:only-of-type {\n",
       "        vertical-align: middle;\n",
       "    }\n",
       "\n",
       "    .dataframe tbody tr th {\n",
       "        vertical-align: top;\n",
       "    }\n",
       "\n",
       "    .dataframe thead th {\n",
       "        text-align: right;\n",
       "    }\n",
       "</style>\n",
       "<table border=\"1\" class=\"dataframe\">\n",
       "  <thead>\n",
       "    <tr style=\"text-align: right;\">\n",
       "      <th></th>\n",
       "      <th>0</th>\n",
       "      <th>1</th>\n",
       "      <th>2</th>\n",
       "      <th>3</th>\n",
       "      <th>4</th>\n",
       "    </tr>\n",
       "  </thead>\n",
       "  <tbody>\n",
       "    <tr>\n",
       "      <th>A</th>\n",
       "      <td>-1.191509</td>\n",
       "      <td>-1.540053</td>\n",
       "      <td>1.040274</td>\n",
       "      <td>0.853755</td>\n",
       "      <td>0.175346</td>\n",
       "    </tr>\n",
       "    <tr>\n",
       "      <th>B</th>\n",
       "      <td>-0.536494</td>\n",
       "      <td>-1.617953</td>\n",
       "      <td>-0.049491</td>\n",
       "      <td>-0.258273</td>\n",
       "      <td>0.910376</td>\n",
       "    </tr>\n",
       "    <tr>\n",
       "      <th>C</th>\n",
       "      <td>-0.002057</td>\n",
       "      <td>0.112477</td>\n",
       "      <td>1.395413</td>\n",
       "      <td>-0.134567</td>\n",
       "      <td>2.567082</td>\n",
       "    </tr>\n",
       "    <tr>\n",
       "      <th>D</th>\n",
       "      <td>1.725754</td>\n",
       "      <td>2.009726</td>\n",
       "      <td>0.085730</td>\n",
       "      <td>-1.019501</td>\n",
       "      <td>0.728113</td>\n",
       "    </tr>\n",
       "  </tbody>\n",
       "</table>\n",
       "</div>"
      ],
      "text/plain": [
       "          0         1         2         3         4\n",
       "A -1.191509 -1.540053  1.040274  0.853755  0.175346\n",
       "B -0.536494 -1.617953 -0.049491 -0.258273  0.910376\n",
       "C -0.002057  0.112477  1.395413 -0.134567  2.567082\n",
       "D  1.725754  2.009726  0.085730 -1.019501  0.728113"
      ]
     },
     "execution_count": 94,
     "metadata": {},
     "output_type": "execute_result"
    }
   ],
   "source": [
    "df[:5].T"
   ]
  },
  {
   "cell_type": "markdown",
   "id": "7f05bb3b-b633-45cc-ac7d-6188a6d1c843",
   "metadata": {},
   "source": [
    "## Merge DataFrame"
   ]
  },
  {
   "cell_type": "code",
   "execution_count": 95,
   "id": "9ec7649c-8b83-4f31-a606-1288b210538a",
   "metadata": {},
   "outputs": [
    {
     "name": "stdout",
     "output_type": "stream",
     "text": [
      "    id Student  Roll  Rank  Marks\n",
      "0  S01   Laksh   101     3     12\n",
      "1  S02   Taksh   102     2     35\n",
      "2  S03   Daksh   103     4     53\n",
      "3  S04   Taksh   104     5     45\n",
      "4  S05   Darsh   105     1     23\n",
      "             0      1      2      3      4\n",
      "id         S01    S02    S03    S04    S05\n",
      "Student  Laksh  Taksh  Daksh  Taksh  Darsh\n",
      "Roll       101    102    103    104    105\n",
      "Rank         3      2      4      5      1\n",
      "Marks       12     35     53     45     23\n"
     ]
    }
   ],
   "source": [
    "import pandas as pd\n",
    "\n",
    "data1 = {\n",
    "    'id': [\"S01\", \"S02\", \"S03\", \"S04\", \"S05\"],\n",
    "    'Student': [\"Laksh\", \"Taksh\", \"Daksh\", \"Taksh\", \"Darsh\"],\n",
    "    'Roll': [101, 102, 103, 104, 105],\n",
    "}\n",
    "\n",
    "data2 = {\n",
    "    'Rank': [3, 2, 4, 5, 1],\n",
    "    'Marks': [12, 35, 53, 45, 23]\n",
    "}\n",
    "\n",
    "dataFrame1 = pd.DataFrame(data1)\n",
    "dataFrame2 = pd.DataFrame(data2)\n",
    "\n",
    "\n",
    "resDf = dataFrame1.join(dataFrame2)\n",
    "print(resDf)\n",
    "\n",
    "print(resDf.T)"
   ]
  },
  {
   "cell_type": "code",
   "execution_count": 96,
   "id": "e08c4863-c61b-4633-8023-9c4ac0d5de45",
   "metadata": {},
   "outputs": [
    {
     "name": "stdout",
     "output_type": "stream",
     "text": [
      "   Series1  Series2\n",
      "a        1        4\n",
      "b        2        5\n",
      "c        3        6\n"
     ]
    }
   ],
   "source": [
    "import pandas as pd\n",
    "\n",
    "s1 = pd.Series([1, 2, 3], index=['a', 'b', 'c'])\n",
    "s2 = pd.Series([4, 5, 6], index=['a', 'b', 'c'])\n",
    "\n",
    "df = pd.concat([s1, s2], axis=1)\n",
    "df.columns = ['Series1', 'Series2']\n",
    "\n",
    "print(df)\n"
   ]
  },
  {
   "cell_type": "code",
   "execution_count": 97,
   "id": "35bd7b98-ac12-4957-aef0-19b2aa5dfce5",
   "metadata": {},
   "outputs": [
    {
     "name": "stdout",
     "output_type": "stream",
     "text": [
      "             id Student  Roll\n",
      "Student_1   S01   Laksh   101\n",
      "Student_2   S02   Taksh   102\n",
      "Student_3   S03   Daksh   103\n",
      "Student_4   S04   Taksh   104\n",
      "Student_5   S05   Darsh   105\n",
      "Student_6   S06  Paresh   106\n",
      "Student_7   S07  Jayesh   107\n",
      "Student_8   S08  Suresh   108\n",
      "Student_9   S09  Rajesh   109\n",
      "Student_10  S10  Naresh   110\n"
     ]
    }
   ],
   "source": [
    "import pandas as pd\n",
    "\n",
    "data1 = {\n",
    "    'id': [\"S01\", \"S02\", \"S03\", \"S04\", \"S05\"],\n",
    "    'Student': [\"Laksh\", \"Taksh\", \"Daksh\", \"Taksh\", \"Darsh\"],\n",
    "    'Roll': [101, 102, 103, 104, 105],\n",
    "}\n",
    "\n",
    "data2 = {\n",
    "    'id': [\"S06\", \"S07\", \"S08\", \"S09\", \"S10\"],\n",
    "    'Student': [\"Paresh\", \"Jayesh\", \"Suresh\", \"Rajesh\", \"Naresh\"],\n",
    "    'Roll': [106, 107, 108, 109, 110],\n",
    "}\n",
    "\n",
    "dataFrame1 = pd.DataFrame(data1, index=[\"Student_1\", \"Student_2\", \"Student_3\", \"Student_4\", \"Student_5\",])\n",
    "dataFrame2 = pd.DataFrame(data2, index=[ \"Student_6\", \"Student_7\", \"Student_8\", \"Student_9\", \"Student_10\",])\n",
    "\n",
    "resDf = pd.concat([dataFrame1, dataFrame2])\n",
    "print(resDf)"
   ]
  },
  {
   "cell_type": "markdown",
   "id": "c2dbc0e8-ba8a-49c2-add2-3f9962eaec42",
   "metadata": {},
   "source": [
    "# 5. Essential basic functionality"
   ]
  },
  {
   "cell_type": "code",
   "execution_count": 98,
   "id": "ce2c573b-2d5b-4bf3-ae9a-d1f27c7e902c",
   "metadata": {},
   "outputs": [
    {
     "name": "stdout",
     "output_type": "stream",
     "text": [
      "                   A         B         C\n",
      "2000-01-01 -1.317295 -0.468126  0.728729\n",
      "2000-01-02 -0.270636  0.815908  1.241371\n",
      "2000-01-03 -1.827863 -0.557270 -1.395688\n",
      "2000-01-04  0.294813 -1.733121 -1.648971\n",
      "2000-01-05  1.012599  1.263191  0.426313\n",
      "2000-01-06  0.628102 -0.338300  1.257148\n",
      "2000-01-07 -0.383281 -0.904483  0.731344\n",
      "2000-01-08  0.998039  1.560781  0.004450\n",
      "[[-1.31729518 -0.46812617  0.72872932]\n",
      " [-0.27063567  0.81590775  1.24137124]\n",
      " [-1.82786325 -0.55726995 -1.39568791]\n",
      " [ 0.29481257 -1.73312072 -1.64897056]\n",
      " [ 1.01259927  1.26319057  0.42631282]\n",
      " [ 0.6281019  -0.33829964  1.25714754]\n",
      " [-0.38328141 -0.90448267  0.73134431]\n",
      " [ 0.99803941  1.56078059  0.00445023]]\n"
     ]
    }
   ],
   "source": [
    "index = pd.date_range(\"1/1/2000\", periods=8)\n",
    "\n",
    "s = pd.Series(np.random.randn(5), index=[\"a\", \"b\", \"c\", \"d\", \"e\"])\n",
    "\n",
    "df = pd.DataFrame(np.random.randn(8, 3), index=index, columns=[\"A\", \"B\", \"C\"])\n",
    "print(df)\n",
    "val = df.to_numpy()\n",
    "print(val)"
   ]
  },
  {
   "cell_type": "markdown",
   "id": "70c75afd-9667-476e-a7c5-c45c6fa3ed74",
   "metadata": {},
   "source": [
    "## DataFrame Functions"
   ]
  },
  {
   "cell_type": "code",
   "execution_count": 99,
   "id": "05951477-06c7-4d26-8664-ec6a8915ce7b",
   "metadata": {},
   "outputs": [
    {
     "name": "stdout",
     "output_type": "stream",
     "text": [
      "1. head() →\n",
      "     Name Department  Salary  Joining_Year\n",
      "0  Aarav         HR   50000          2018\n",
      "1   Diya         IT   60000          2019\n",
      "2  Kunal    Finance   75000          2017\n",
      "3  Meera         IT   65000          2020\n",
      "4  Rohan    Finance   70000          2018 \n",
      "\n",
      "2. tail() →\n",
      "     Name Department  Salary  Joining_Year\n",
      "3  Meera         IT   65000          2020\n",
      "4  Rohan    Finance   70000          2018\n",
      "5   Isha         HR   52000          2019\n",
      "6  Aryan    Finance   72000          2017\n",
      "7  Tanvi         IT   58000          2020 \n",
      "\n",
      "3. info() →\n",
      "<class 'pandas.core.frame.DataFrame'>\n",
      "RangeIndex: 8 entries, 0 to 7\n",
      "Data columns (total 4 columns):\n",
      " #   Column        Non-Null Count  Dtype \n",
      "---  ------        --------------  ----- \n",
      " 0   Name          8 non-null      object\n",
      " 1   Department    8 non-null      object\n",
      " 2   Salary        8 non-null      int64 \n",
      " 3   Joining_Year  8 non-null      int64 \n",
      "dtypes: int64(2), object(2)\n",
      "memory usage: 388.0+ bytes\n",
      "None \n",
      "\n",
      "4. describe() →\n",
      "              Salary  Joining_Year\n",
      "count      8.000000      8.000000\n",
      "mean   62750.000000   2018.500000\n",
      "std     9269.766525      1.195229\n",
      "min    50000.000000   2017.000000\n",
      "25%    56500.000000   2017.750000\n",
      "50%    62500.000000   2018.500000\n",
      "75%    70500.000000   2019.250000\n",
      "max    75000.000000   2020.000000 \n",
      "\n",
      "5. shape → (8, 4) \n",
      "\n",
      "6. columns → Index(['Name', 'Department', 'Salary', 'Joining_Year'], dtype='object') \n",
      "\n",
      "7. index → RangeIndex(start=0, stop=8, step=1) \n",
      "\n",
      "8. dtypes →\n",
      " Name            object\n",
      "Department      object\n",
      "Salary           int64\n",
      "Joining_Year     int64\n",
      "dtype: object \n",
      "\n",
      "9. sort_values('Salary') →\n",
      "     Name Department  Salary  Joining_Year\n",
      "0  Aarav         HR   50000          2018\n",
      "5   Isha         HR   52000          2019\n",
      "7  Tanvi         IT   58000          2020\n",
      "1   Diya         IT   60000          2019\n",
      "3  Meera         IT   65000          2020\n",
      "4  Rohan    Finance   70000          2018\n",
      "6  Aryan    Finance   72000          2017\n",
      "2  Kunal    Finance   75000          2017 \n",
      "\n",
      "10. groupby('Department').mean() →\n",
      "                   Salary  Joining_Year\n",
      "Department                            \n",
      "Finance     72333.333333   2017.333333\n",
      "HR          51000.000000   2018.500000\n",
      "IT          61000.000000   2019.666667 \n",
      "\n",
      "11. value_counts('Department') →\n",
      " Department\n",
      "IT         3\n",
      "Finance    3\n",
      "HR         2\n",
      "Name: count, dtype: int64 \n",
      "\n",
      "12. isnull() →\n",
      "     Name  Department  Salary  Joining_Year\n",
      "0  False       False   False         False\n",
      "1  False       False   False         False\n",
      "2  False       False   False         False\n",
      "3  False       False   False         False\n",
      "4  False       False   False         False\n",
      "5  False       False   False         False\n",
      "6  False       False   False         False\n",
      "7  False       False   False         False \n",
      "\n",
      "13. dropna() →\n",
      "     Name Department  Salary  Joining_Year\n",
      "0  Aarav         HR   50000          2018\n",
      "1   Diya         IT   60000          2019\n",
      "2  Kunal    Finance   75000          2017\n",
      "3  Meera         IT   65000          2020\n",
      "4  Rohan    Finance   70000          2018\n",
      "5   Isha         HR   52000          2019\n",
      "6  Aryan    Finance   72000          2017\n",
      "7  Tanvi         IT   58000          2020 \n",
      "\n",
      "14. fillna(0) →\n",
      "     Name Department  Salary  Joining_Year\n",
      "0  Aarav         HR   50000          2018\n",
      "1   Diya         IT   60000          2019\n",
      "2  Kunal    Finance   75000          2017\n",
      "3  Meera         IT   65000          2020\n",
      "4  Rohan    Finance   70000          2018\n",
      "5   Isha         HR   52000          2019\n",
      "6  Aryan    Finance   72000          2017\n",
      "7  Tanvi         IT   58000          2020 \n",
      "\n",
      "15. apply(lambda x: x) →\n",
      "     Name Department  Salary  Joining_Year\n",
      "0  Aarav         HR   50000          2018\n",
      "1   Diya         IT   60000          2019\n",
      "2  Kunal    Finance   75000          2017\n",
      "3  Meera         IT   65000          2020\n",
      "4  Rohan    Finance   70000          2018\n",
      "5   Isha         HR   52000          2019\n",
      "6  Aryan    Finance   72000          2017\n",
      "7  Tanvi         IT   58000          2020 \n",
      "\n",
      "16. pivot_table() →\n",
      "                   Salary\n",
      "Department              \n",
      "Finance     72333.333333\n",
      "HR          51000.000000\n",
      "IT          61000.000000 \n",
      "\n",
      "17. duplicated() →\n",
      " 0    False\n",
      "1    False\n",
      "2    False\n",
      "3    False\n",
      "4    False\n",
      "5    False\n",
      "6    False\n",
      "7    False\n",
      "dtype: bool \n",
      "\n",
      "18. drop_duplicates() →\n",
      "     Name Department  Salary  Joining_Year\n",
      "0  Aarav         HR   50000          2018\n",
      "1   Diya         IT   60000          2019\n",
      "2  Kunal    Finance   75000          2017\n",
      "3  Meera         IT   65000          2020\n",
      "4  Rohan    Finance   70000          2018\n",
      "5   Isha         HR   52000          2019\n",
      "6  Aryan    Finance   72000          2017\n",
      "7  Tanvi         IT   58000          2020 \n",
      "\n",
      "19. rename(columns={'Name': 'Full_Name'}) →\n",
      "   Full_Name Department  Salary  Joining_Year\n",
      "0     Aarav         HR   50000          2018\n",
      "1      Diya         IT   60000          2019\n",
      "2     Kunal    Finance   75000          2017\n",
      "3     Meera         IT   65000          2020\n",
      "4     Rohan    Finance   70000          2018\n",
      "5      Isha         HR   52000          2019\n",
      "6     Aryan    Finance   72000          2017\n",
      "7     Tanvi         IT   58000          2020 \n",
      "\n",
      "20. set_index('Name') →\n",
      "       Department  Salary  Joining_Year\n",
      "Name                                  \n",
      "Aarav         HR   50000          2018\n",
      "Diya          IT   60000          2019\n",
      "Kunal    Finance   75000          2017\n",
      "Meera         IT   65000          2020\n",
      "Rohan    Finance   70000          2018\n",
      "Isha          HR   52000          2019\n",
      "Aryan    Finance   72000          2017\n",
      "Tanvi         IT   58000          2020 \n",
      "\n"
     ]
    }
   ],
   "source": [
    "import pandas as pd\n",
    "import numpy as np\n",
    "\n",
    "# Sample dataset for demonstration\n",
    "data = {\n",
    "    \"Name\": [\"Aarav\", \"Diya\", \"Kunal\", \"Meera\", \"Rohan\", \"Isha\", \"Aryan\", \"Tanvi\"],\n",
    "    \"Department\": [\"HR\", \"IT\", \"Finance\", \"IT\", \"Finance\", \"HR\", \"Finance\", \"IT\"],\n",
    "    \"Salary\": [50000, 60000, 75000, 65000, 70000, 52000, 72000, 58000],\n",
    "    \"Joining_Year\": [2018, 2019, 2017, 2020, 2018, 2019, 2017, 2020]\n",
    "}\n",
    "\n",
    "df = pd.DataFrame(data)\n",
    "\n",
    "# ==============================\n",
    "# 1. head()\n",
    "# ==============================\n",
    "# PURPOSE: Returns the first 'n' rows of the DataFrame.\n",
    "# WHY USE IT? To quickly preview the start of your dataset without printing all rows.\n",
    "print(\"1. head() →\\n\", df.head(), \"\\n\")\n",
    "\n",
    "# ==============================\n",
    "# 2. tail()\n",
    "# ==============================\n",
    "# PURPOSE: Returns the last 'n' rows of the DataFrame.\n",
    "# WHY USE IT? Useful to see the ending records and check dataset completeness.\n",
    "print(\"2. tail() →\\n\", df.tail(), \"\\n\")\n",
    "\n",
    "# ==============================\n",
    "# 3. info()\n",
    "# ==============================\n",
    "# PURPOSE: Displays DataFrame structure, column names, data types, and null count.\n",
    "# WHY USE IT? Helps in understanding dataset metadata before analysis.\n",
    "print(\"3. info() →\")\n",
    "print(df.info(), \"\\n\")\n",
    "\n",
    "# ==============================\n",
    "# 4. describe()\n",
    "# ==============================\n",
    "# PURPOSE: Gives statistical summary for numeric columns.\n",
    "# WHY USE IT? Quickly checks min, max, mean, quartiles for data insights.\n",
    "print(\"4. describe() →\\n\", df.describe(), \"\\n\")\n",
    "\n",
    "# ==============================\n",
    "# 5. shape\n",
    "# ==============================\n",
    "# PURPOSE: Returns a tuple (rows, columns) showing dataset dimensions.\n",
    "# WHY USE IT? Essential for understanding dataset size.\n",
    "print(\"5. shape →\", df.shape, \"\\n\")\n",
    "\n",
    "# ==============================\n",
    "# 6. columns\n",
    "# ==============================\n",
    "# PURPOSE: Lists all column names.\n",
    "# WHY USE IT? Useful when you forget column spelling or want to rename them.\n",
    "print(\"6. columns →\", df.columns, \"\\n\")\n",
    "\n",
    "# ==============================\n",
    "# 7. index\n",
    "# ==============================\n",
    "# PURPOSE: Returns the index (row labels) of the DataFrame.\n",
    "# WHY USE IT? Helps in row selection and indexing operations.\n",
    "print(\"7. index →\", df.index, \"\\n\")\n",
    "\n",
    "# ==============================\n",
    "# 8. dtypes\n",
    "# ==============================\n",
    "# PURPOSE: Shows the data type for each column.\n",
    "# WHY USE IT? Ensures correct types for calculations and operations.\n",
    "print(\"8. dtypes →\\n\", df.dtypes, \"\\n\")\n",
    "\n",
    "# ==============================\n",
    "# 9. sort_values()\n",
    "# ==============================\n",
    "# PURPOSE: Sorts rows by one or more columns.\n",
    "# WHY USE IT? Helps in ranking, ordering, or prioritizing data.\n",
    "print(\"9. sort_values('Salary') →\\n\", df.sort_values(by=\"Salary\"), \"\\n\")\n",
    "\n",
    "# ==============================\n",
    "# 10. groupby()\n",
    "# ==============================\n",
    "# PURPOSE: Groups data based on a column and performs aggregate calculations.\n",
    "# WHY USE IT? Summarizes large datasets by category.\n",
    "print(\"10. groupby('Department').mean() →\\n\", df.groupby(\"Department\").mean(numeric_only=True), \"\\n\")\n",
    "\n",
    "# ==============================\n",
    "# 11. value_counts()\n",
    "# ==============================\n",
    "# PURPOSE: Counts the occurrence of each unique value in a column.\n",
    "# WHY USE IT? Great for frequency distribution analysis.\n",
    "print(\"11. value_counts('Department') →\\n\", df[\"Department\"].value_counts(), \"\\n\")\n",
    "\n",
    "# ==============================\n",
    "# 12. isnull()\n",
    "# ==============================\n",
    "# PURPOSE: Checks for missing values (NaN) in dataset.\n",
    "# WHY USE IT? Important for data cleaning before analysis.\n",
    "print(\"12. isnull() →\\n\", df.isnull(), \"\\n\")\n",
    "\n",
    "# ==============================\n",
    "# 13. dropna()\n",
    "# ==============================\n",
    "# PURPOSE: Removes rows or columns with missing values.\n",
    "# WHY USE IT? Keeps dataset clean by removing incomplete records.\n",
    "print(\"13. dropna() →\\n\", df.dropna(), \"\\n\")\n",
    "\n",
    "# ==============================\n",
    "# 14. fillna()\n",
    "# ==============================\n",
    "# PURPOSE: Replaces NaN values with a specified value.\n",
    "# WHY USE IT? Retains data completeness without dropping rows.\n",
    "print(\"14. fillna(0) →\\n\", df.fillna(0), \"\\n\")\n",
    "\n",
    "# ==============================\n",
    "# 15. apply()\n",
    "# ==============================\n",
    "# PURPOSE: Applies a function to each column or row.\n",
    "# WHY USE IT? Useful for custom calculations.\n",
    "print(\"15. apply(lambda x: x) →\\n\", df.apply(lambda x: x), \"\\n\")\n",
    "\n",
    "# ==============================\n",
    "# 16. pivot_table()\n",
    "# ==============================\n",
    "# PURPOSE: Creates a pivot table for summarizing data.\n",
    "# WHY USE IT? Best for multidimensional data analysis.\n",
    "print(\"16. pivot_table() →\\n\", df.pivot_table(values=\"Salary\", index=\"Department\", aggfunc=\"mean\"), \"\\n\")\n",
    "\n",
    "# ==============================\n",
    "# 17. duplicated()\n",
    "# ==============================\n",
    "# PURPOSE: Detects duplicate rows.\n",
    "# WHY USE IT? Helps in data cleaning by finding repeated entries.\n",
    "print(\"17. duplicated() →\\n\", df.duplicated(), \"\\n\")\n",
    "\n",
    "# ==============================\n",
    "# 18. drop_duplicates()\n",
    "# ==============================\n",
    "# PURPOSE: Removes duplicate rows.\n",
    "# WHY USE IT? Ensures data uniqueness.\n",
    "print(\"18. drop_duplicates() →\\n\", df.drop_duplicates(), \"\\n\")\n",
    "\n",
    "# ==============================\n",
    "# 19. rename()\n",
    "# ==============================\n",
    "# PURPOSE: Renames one or more columns.\n",
    "# WHY USE IT? Improves column readability and correctness.\n",
    "print(\"19. rename(columns={'Name': 'Full_Name'}) →\\n\", df.rename(columns={\"Name\": \"Full_Name\"}), \"\\n\")\n",
    "\n",
    "# ==============================\n",
    "# 20. set_index()\n",
    "# ==============================\n",
    "# PURPOSE: Sets a column as the index of the DataFrame.\n",
    "# WHY USE IT? Useful for indexed data access and better row labeling.\n",
    "print(\"20. set_index('Name') →\\n\", df.set_index(\"Name\"), \"\\n\")\n"
   ]
  },
  {
   "cell_type": "code",
   "execution_count": 100,
   "id": "c112fcda-5d08-4f6e-9e88-5d89dd735b71",
   "metadata": {},
   "outputs": [
    {
     "data": {
      "text/html": [
       "<div>\n",
       "<style scoped>\n",
       "    .dataframe tbody tr th:only-of-type {\n",
       "        vertical-align: middle;\n",
       "    }\n",
       "\n",
       "    .dataframe tbody tr th {\n",
       "        vertical-align: top;\n",
       "    }\n",
       "\n",
       "    .dataframe thead th {\n",
       "        text-align: right;\n",
       "    }\n",
       "</style>\n",
       "<table border=\"1\" class=\"dataframe\">\n",
       "  <thead>\n",
       "    <tr style=\"text-align: right;\">\n",
       "      <th></th>\n",
       "      <th>Name</th>\n",
       "      <th>Department</th>\n",
       "      <th>Salary</th>\n",
       "      <th>Joining_Year</th>\n",
       "    </tr>\n",
       "  </thead>\n",
       "  <tbody>\n",
       "    <tr>\n",
       "      <th>0</th>\n",
       "      <td>Aarav</td>\n",
       "      <td>HR</td>\n",
       "      <td>50000</td>\n",
       "      <td>2018</td>\n",
       "    </tr>\n",
       "    <tr>\n",
       "      <th>1</th>\n",
       "      <td>Diya</td>\n",
       "      <td>IT</td>\n",
       "      <td>60000</td>\n",
       "      <td>2019</td>\n",
       "    </tr>\n",
       "    <tr>\n",
       "      <th>2</th>\n",
       "      <td>Kunal</td>\n",
       "      <td>Finance</td>\n",
       "      <td>75000</td>\n",
       "      <td>2017</td>\n",
       "    </tr>\n",
       "    <tr>\n",
       "      <th>3</th>\n",
       "      <td>Meera</td>\n",
       "      <td>IT</td>\n",
       "      <td>65000</td>\n",
       "      <td>2020</td>\n",
       "    </tr>\n",
       "    <tr>\n",
       "      <th>4</th>\n",
       "      <td>Rohan</td>\n",
       "      <td>Finance</td>\n",
       "      <td>70000</td>\n",
       "      <td>2018</td>\n",
       "    </tr>\n",
       "    <tr>\n",
       "      <th>5</th>\n",
       "      <td>Isha</td>\n",
       "      <td>HR</td>\n",
       "      <td>52000</td>\n",
       "      <td>2019</td>\n",
       "    </tr>\n",
       "    <tr>\n",
       "      <th>6</th>\n",
       "      <td>Aryan</td>\n",
       "      <td>Finance</td>\n",
       "      <td>72000</td>\n",
       "      <td>2017</td>\n",
       "    </tr>\n",
       "    <tr>\n",
       "      <th>7</th>\n",
       "      <td>Tanvi</td>\n",
       "      <td>IT</td>\n",
       "      <td>58000</td>\n",
       "      <td>2020</td>\n",
       "    </tr>\n",
       "  </tbody>\n",
       "</table>\n",
       "</div>"
      ],
      "text/plain": [
       "    Name Department  Salary  Joining_Year\n",
       "0  Aarav         HR   50000          2018\n",
       "1   Diya         IT   60000          2019\n",
       "2  Kunal    Finance   75000          2017\n",
       "3  Meera         IT   65000          2020\n",
       "4  Rohan    Finance   70000          2018\n",
       "5   Isha         HR   52000          2019\n",
       "6  Aryan    Finance   72000          2017\n",
       "7  Tanvi         IT   58000          2020"
      ]
     },
     "execution_count": 100,
     "metadata": {},
     "output_type": "execute_result"
    }
   ],
   "source": [
    "df"
   ]
  },
  {
   "cell_type": "code",
   "execution_count": 101,
   "id": "2db5ce9f-82f3-4dbf-ac25-d2f9cbd959dd",
   "metadata": {},
   "outputs": [
    {
     "data": {
      "text/html": [
       "<div>\n",
       "<style scoped>\n",
       "    .dataframe tbody tr th:only-of-type {\n",
       "        vertical-align: middle;\n",
       "    }\n",
       "\n",
       "    .dataframe tbody tr th {\n",
       "        vertical-align: top;\n",
       "    }\n",
       "\n",
       "    .dataframe thead th {\n",
       "        text-align: right;\n",
       "    }\n",
       "</style>\n",
       "<table border=\"1\" class=\"dataframe\">\n",
       "  <thead>\n",
       "    <tr style=\"text-align: right;\">\n",
       "      <th></th>\n",
       "      <th>Name</th>\n",
       "    </tr>\n",
       "  </thead>\n",
       "  <tbody>\n",
       "    <tr>\n",
       "      <th>0</th>\n",
       "      <td>Aarav</td>\n",
       "    </tr>\n",
       "    <tr>\n",
       "      <th>1</th>\n",
       "      <td>Diya</td>\n",
       "    </tr>\n",
       "    <tr>\n",
       "      <th>2</th>\n",
       "      <td>Kunal</td>\n",
       "    </tr>\n",
       "    <tr>\n",
       "      <th>3</th>\n",
       "      <td>Meera</td>\n",
       "    </tr>\n",
       "    <tr>\n",
       "      <th>4</th>\n",
       "      <td>Rohan</td>\n",
       "    </tr>\n",
       "    <tr>\n",
       "      <th>5</th>\n",
       "      <td>Isha</td>\n",
       "    </tr>\n",
       "  </tbody>\n",
       "</table>\n",
       "</div>"
      ],
      "text/plain": [
       "    Name\n",
       "0  Aarav\n",
       "1   Diya\n",
       "2  Kunal\n",
       "3  Meera\n",
       "4  Rohan\n",
       "5   Isha"
      ]
     },
     "execution_count": 101,
     "metadata": {},
     "output_type": "execute_result"
    }
   ],
   "source": [
    "check = pd.DataFrame({\n",
    "    \"Name\": [\"Aarav\", \"Diya\", \"Kunal\", \"Meera\", \"Rohan\", \"Isha\"]\n",
    "})\n",
    "check"
   ]
  },
  {
   "cell_type": "code",
   "execution_count": 102,
   "id": "4e957e60-941a-45bb-bc7e-12eb1d5eade2",
   "metadata": {},
   "outputs": [
    {
     "name": "stdout",
     "output_type": "stream",
     "text": [
      "0\n",
      "Name    Aarav\n",
      "Name: 0, dtype: object\n",
      "1\n",
      "Name    Diya\n",
      "Name: 1, dtype: object\n",
      "2\n",
      "Name    Kunal\n",
      "Name: 2, dtype: object\n",
      "3\n",
      "Name    Meera\n",
      "Name: 3, dtype: object\n",
      "4\n",
      "Name    Rohan\n",
      "Name: 4, dtype: object\n",
      "5\n",
      "Name    Isha\n",
      "Name: 5, dtype: object\n"
     ]
    }
   ],
   "source": [
    "for i, j in check.iterrows():\n",
    "    print(i)\n",
    "    print(j)"
   ]
  },
  {
   "cell_type": "code",
   "execution_count": 103,
   "id": "19c02efe-ef22-46c9-b2ab-7a21d7c0dc6f",
   "metadata": {},
   "outputs": [
    {
     "name": "stdout",
     "output_type": "stream",
     "text": [
      "0\n",
      "Name            Aarav\n",
      "Department         HR\n",
      "Salary          50000\n",
      "Joining_Year     2018\n",
      "Name: 0, dtype: object\n",
      "1\n",
      "Name             Diya\n",
      "Department         IT\n",
      "Salary          60000\n",
      "Joining_Year     2019\n",
      "Name: 1, dtype: object\n",
      "2\n",
      "Name              Kunal\n",
      "Department      Finance\n",
      "Salary            75000\n",
      "Joining_Year       2017\n",
      "Name: 2, dtype: object\n",
      "3\n",
      "Name            Meera\n",
      "Department         IT\n",
      "Salary          65000\n",
      "Joining_Year     2020\n",
      "Name: 3, dtype: object\n",
      "4\n",
      "Name              Rohan\n",
      "Department      Finance\n",
      "Salary            70000\n",
      "Joining_Year       2018\n",
      "Name: 4, dtype: object\n",
      "5\n",
      "Name             Isha\n",
      "Department         HR\n",
      "Salary          52000\n",
      "Joining_Year     2019\n",
      "Name: 5, dtype: object\n",
      "6\n",
      "Name              Aryan\n",
      "Department      Finance\n",
      "Salary            72000\n",
      "Joining_Year       2017\n",
      "Name: 6, dtype: object\n",
      "7\n",
      "Name            Tanvi\n",
      "Department         IT\n",
      "Salary          58000\n",
      "Joining_Year     2020\n",
      "Name: 7, dtype: object\n"
     ]
    }
   ],
   "source": [
    "for i, j in df.iterrows():\n",
    "    print(i)\n",
    "    print(j)"
   ]
  },
  {
   "cell_type": "code",
   "execution_count": 104,
   "id": "02e38a07-ccee-4c26-b18e-d122e75533e1",
   "metadata": {},
   "outputs": [
    {
     "name": "stdout",
     "output_type": "stream",
     "text": [
      "Index: 0\n",
      "Name: Aarav\n",
      "Department: HR\n",
      "Salary: 50000\n",
      "Joining Year: 2018\n",
      "------\n",
      "Index: 1\n",
      "Name: Diya\n",
      "Department: IT\n",
      "Salary: 60000\n",
      "Joining Year: 2019\n",
      "------\n",
      "Index: 2\n",
      "Name: Kunal\n",
      "Department: Finance\n",
      "Salary: 75000\n",
      "Joining Year: 2017\n",
      "------\n",
      "Index: 3\n",
      "Name: Meera\n",
      "Department: IT\n",
      "Salary: 65000\n",
      "Joining Year: 2020\n",
      "------\n",
      "Index: 4\n",
      "Name: Rohan\n",
      "Department: Finance\n",
      "Salary: 70000\n",
      "Joining Year: 2018\n",
      "------\n",
      "Index: 5\n",
      "Name: Isha\n",
      "Department: HR\n",
      "Salary: 52000\n",
      "Joining Year: 2019\n",
      "------\n",
      "Index: 6\n",
      "Name: Aryan\n",
      "Department: Finance\n",
      "Salary: 72000\n",
      "Joining Year: 2017\n",
      "------\n",
      "Index: 7\n",
      "Name: Tanvi\n",
      "Department: IT\n",
      "Salary: 58000\n",
      "Joining Year: 2020\n",
      "------\n"
     ]
    }
   ],
   "source": [
    "for i, row in df.iterrows():\n",
    "    print(f\"Index: {i}\")\n",
    "    print(f\"Name: {row['Name']}\")\n",
    "    print(f\"Department: {row['Department']}\")\n",
    "    print(f\"Salary: {row['Salary']}\")\n",
    "    print(f\"Joining Year: {row['Joining_Year']}\")\n",
    "    print(\"------\")\n"
   ]
  },
  {
   "cell_type": "markdown",
   "id": "2987251c-0e4f-453a-a879-9cee6d9a6ecd",
   "metadata": {},
   "source": [
    "## Date and time"
   ]
  },
  {
   "cell_type": "code",
   "execution_count": 105,
   "id": "6464930d-37fa-49b1-b24f-0bc7cbf127de",
   "metadata": {},
   "outputs": [
    {
     "name": "stdout",
     "output_type": "stream",
     "text": [
      "0   2013-01-01 09:10:12\n",
      "1   2013-01-02 09:10:12\n",
      "2   2013-01-03 09:10:12\n",
      "3   2013-01-04 09:10:12\n",
      "dtype: datetime64[ns]\n",
      ".\n",
      "0    1\n",
      "1    2\n",
      "2    3\n",
      "3    4\n",
      "dtype: int32\n",
      ".\n",
      "0    9\n",
      "1    9\n",
      "2    9\n",
      "3    9\n",
      "dtype: int32\n",
      ".\n",
      "0    12\n",
      "1    12\n",
      "2    12\n",
      "3    12\n",
      "dtype: int32\n"
     ]
    }
   ],
   "source": [
    "s = pd.Series(pd.date_range(\"20130101 09:10:12\", periods=4))\n",
    "print(s)\n",
    "print('.')\n",
    "print(s.dt.day)\n",
    "print('.')\n",
    "print(s.dt.hour)\n",
    "print('.')\n",
    "print(s.dt.second)"
   ]
  },
  {
   "cell_type": "markdown",
   "id": "27fd51c3-7d5c-4162-8cbe-ebc99b8e3f76",
   "metadata": {},
   "source": [
    "## smallest / largest values"
   ]
  },
  {
   "cell_type": "code",
   "execution_count": 106,
   "id": "e0691f17-aed5-42b5-a738-97fcef901e79",
   "metadata": {},
   "outputs": [
    {
     "data": {
      "text/plain": [
       "0    1\n",
       "1    2\n",
       "2    5\n",
       "3    0\n",
       "4    7\n",
       "5    3\n",
       "6    6\n",
       "7    4\n",
       "8    9\n",
       "9    8\n",
       "dtype: int32"
      ]
     },
     "execution_count": 106,
     "metadata": {},
     "output_type": "execute_result"
    }
   ],
   "source": [
    "s = pd.Series(np.random.permutation(10))\n",
    "s"
   ]
  },
  {
   "cell_type": "code",
   "execution_count": 107,
   "id": "b8f2a40e-6f91-4673-80bc-d97f9234e4f7",
   "metadata": {},
   "outputs": [
    {
     "name": "stdout",
     "output_type": "stream",
     "text": [
      "3    0\n",
      "0    1\n",
      "1    2\n",
      "5    3\n",
      "7    4\n",
      "2    5\n",
      "6    6\n",
      "4    7\n",
      "9    8\n",
      "8    9\n",
      "dtype: int32\n",
      ".\n",
      "3    0\n",
      "0    1\n",
      "1    2\n",
      "dtype: int32\n",
      ".\n",
      "8    9\n",
      "9    8\n",
      "4    7\n",
      "dtype: int32\n"
     ]
    }
   ],
   "source": [
    "print(s.sort_values())\n",
    "print('.')\n",
    "print(s.nsmallest(3))\n",
    "print('.')\n",
    "print(s.nlargest(3))"
   ]
  },
  {
   "cell_type": "code",
   "execution_count": 108,
   "id": "92831948-8e8f-4c4e-8e28-c5dd8d995db5",
   "metadata": {},
   "outputs": [
    {
     "data": {
      "text/html": [
       "<div>\n",
       "<style scoped>\n",
       "    .dataframe tbody tr th:only-of-type {\n",
       "        vertical-align: middle;\n",
       "    }\n",
       "\n",
       "    .dataframe tbody tr th {\n",
       "        vertical-align: top;\n",
       "    }\n",
       "\n",
       "    .dataframe thead th {\n",
       "        text-align: right;\n",
       "    }\n",
       "</style>\n",
       "<table border=\"1\" class=\"dataframe\">\n",
       "  <thead>\n",
       "    <tr style=\"text-align: right;\">\n",
       "      <th></th>\n",
       "      <th>a</th>\n",
       "      <th>b</th>\n",
       "      <th>c</th>\n",
       "    </tr>\n",
       "  </thead>\n",
       "  <tbody>\n",
       "    <tr>\n",
       "      <th>0</th>\n",
       "      <td>-2</td>\n",
       "      <td>a</td>\n",
       "      <td>1.0</td>\n",
       "    </tr>\n",
       "    <tr>\n",
       "      <th>1</th>\n",
       "      <td>-1</td>\n",
       "      <td>b</td>\n",
       "      <td>2.0</td>\n",
       "    </tr>\n",
       "    <tr>\n",
       "      <th>2</th>\n",
       "      <td>1</td>\n",
       "      <td>d</td>\n",
       "      <td>4.0</td>\n",
       "    </tr>\n",
       "    <tr>\n",
       "      <th>3</th>\n",
       "      <td>10</td>\n",
       "      <td>c</td>\n",
       "      <td>3.2</td>\n",
       "    </tr>\n",
       "    <tr>\n",
       "      <th>4</th>\n",
       "      <td>8</td>\n",
       "      <td>e</td>\n",
       "      <td>NaN</td>\n",
       "    </tr>\n",
       "    <tr>\n",
       "      <th>5</th>\n",
       "      <td>11</td>\n",
       "      <td>f</td>\n",
       "      <td>3.0</td>\n",
       "    </tr>\n",
       "    <tr>\n",
       "      <th>6</th>\n",
       "      <td>-1</td>\n",
       "      <td>f</td>\n",
       "      <td>4.0</td>\n",
       "    </tr>\n",
       "  </tbody>\n",
       "</table>\n",
       "</div>"
      ],
      "text/plain": [
       "    a  b    c\n",
       "0  -2  a  1.0\n",
       "1  -1  b  2.0\n",
       "2   1  d  4.0\n",
       "3  10  c  3.2\n",
       "4   8  e  NaN\n",
       "5  11  f  3.0\n",
       "6  -1  f  4.0"
      ]
     },
     "execution_count": 108,
     "metadata": {},
     "output_type": "execute_result"
    }
   ],
   "source": [
    "df = pd.DataFrame(\n",
    "    {\n",
    "        \"a\": [-2, -1, 1, 10, 8, 11, -1],\n",
    "        \"b\": list(\"abdceff\"),\n",
    "        \"c\": [1.0, 2.0, 4.0, 3.2, np.nan, 3.0, 4.0],\n",
    "    }\n",
    ")\n",
    "\n",
    "df"
   ]
  },
  {
   "cell_type": "code",
   "execution_count": 109,
   "id": "80629cfd-e706-4ba1-8279-eb306e2f55b8",
   "metadata": {},
   "outputs": [
    {
     "data": {
      "text/html": [
       "<div>\n",
       "<style scoped>\n",
       "    .dataframe tbody tr th:only-of-type {\n",
       "        vertical-align: middle;\n",
       "    }\n",
       "\n",
       "    .dataframe tbody tr th {\n",
       "        vertical-align: top;\n",
       "    }\n",
       "\n",
       "    .dataframe thead th {\n",
       "        text-align: right;\n",
       "    }\n",
       "</style>\n",
       "<table border=\"1\" class=\"dataframe\">\n",
       "  <thead>\n",
       "    <tr style=\"text-align: right;\">\n",
       "      <th></th>\n",
       "      <th>a</th>\n",
       "      <th>b</th>\n",
       "      <th>c</th>\n",
       "    </tr>\n",
       "  </thead>\n",
       "  <tbody>\n",
       "    <tr>\n",
       "      <th>5</th>\n",
       "      <td>11</td>\n",
       "      <td>f</td>\n",
       "      <td>3.0</td>\n",
       "    </tr>\n",
       "    <tr>\n",
       "      <th>3</th>\n",
       "      <td>10</td>\n",
       "      <td>c</td>\n",
       "      <td>3.2</td>\n",
       "    </tr>\n",
       "    <tr>\n",
       "      <th>4</th>\n",
       "      <td>8</td>\n",
       "      <td>e</td>\n",
       "      <td>NaN</td>\n",
       "    </tr>\n",
       "  </tbody>\n",
       "</table>\n",
       "</div>"
      ],
      "text/plain": [
       "    a  b    c\n",
       "5  11  f  3.0\n",
       "3  10  c  3.2\n",
       "4   8  e  NaN"
      ]
     },
     "execution_count": 109,
     "metadata": {},
     "output_type": "execute_result"
    }
   ],
   "source": [
    "df.nlargest(3, \"a\")"
   ]
  },
  {
   "cell_type": "code",
   "execution_count": 110,
   "id": "16cca584-e298-4628-8f4e-a936c356703c",
   "metadata": {},
   "outputs": [
    {
     "data": {
      "text/html": [
       "<div>\n",
       "<style scoped>\n",
       "    .dataframe tbody tr th:only-of-type {\n",
       "        vertical-align: middle;\n",
       "    }\n",
       "\n",
       "    .dataframe tbody tr th {\n",
       "        vertical-align: top;\n",
       "    }\n",
       "\n",
       "    .dataframe thead th {\n",
       "        text-align: right;\n",
       "    }\n",
       "</style>\n",
       "<table border=\"1\" class=\"dataframe\">\n",
       "  <thead>\n",
       "    <tr style=\"text-align: right;\">\n",
       "      <th></th>\n",
       "      <th>a</th>\n",
       "      <th>b</th>\n",
       "      <th>c</th>\n",
       "    </tr>\n",
       "  </thead>\n",
       "  <tbody>\n",
       "    <tr>\n",
       "      <th>0</th>\n",
       "      <td>-2</td>\n",
       "      <td>a</td>\n",
       "      <td>1.0</td>\n",
       "    </tr>\n",
       "    <tr>\n",
       "      <th>1</th>\n",
       "      <td>-1</td>\n",
       "      <td>b</td>\n",
       "      <td>2.0</td>\n",
       "    </tr>\n",
       "    <tr>\n",
       "      <th>6</th>\n",
       "      <td>-1</td>\n",
       "      <td>f</td>\n",
       "      <td>4.0</td>\n",
       "    </tr>\n",
       "  </tbody>\n",
       "</table>\n",
       "</div>"
      ],
      "text/plain": [
       "   a  b    c\n",
       "0 -2  a  1.0\n",
       "1 -1  b  2.0\n",
       "6 -1  f  4.0"
      ]
     },
     "execution_count": 110,
     "metadata": {},
     "output_type": "execute_result"
    }
   ],
   "source": [
    "df.nsmallest(3, \"a\")"
   ]
  },
  {
   "cell_type": "code",
   "execution_count": 111,
   "id": "b65a3089-4725-4a3f-9985-09c0bcdc4255",
   "metadata": {},
   "outputs": [
    {
     "data": {
      "text/html": [
       "<div>\n",
       "<style scoped>\n",
       "    .dataframe tbody tr th:only-of-type {\n",
       "        vertical-align: middle;\n",
       "    }\n",
       "\n",
       "    .dataframe tbody tr th {\n",
       "        vertical-align: top;\n",
       "    }\n",
       "\n",
       "    .dataframe thead th {\n",
       "        text-align: right;\n",
       "    }\n",
       "</style>\n",
       "<table border=\"1\" class=\"dataframe\">\n",
       "  <thead>\n",
       "    <tr style=\"text-align: right;\">\n",
       "      <th></th>\n",
       "      <th>a</th>\n",
       "      <th>b</th>\n",
       "      <th>c</th>\n",
       "    </tr>\n",
       "  </thead>\n",
       "  <tbody>\n",
       "    <tr>\n",
       "      <th>5</th>\n",
       "      <td>11</td>\n",
       "      <td>f</td>\n",
       "      <td>3.0</td>\n",
       "    </tr>\n",
       "    <tr>\n",
       "      <th>3</th>\n",
       "      <td>10</td>\n",
       "      <td>c</td>\n",
       "      <td>3.2</td>\n",
       "    </tr>\n",
       "    <tr>\n",
       "      <th>4</th>\n",
       "      <td>8</td>\n",
       "      <td>e</td>\n",
       "      <td>NaN</td>\n",
       "    </tr>\n",
       "    <tr>\n",
       "      <th>2</th>\n",
       "      <td>1</td>\n",
       "      <td>d</td>\n",
       "      <td>4.0</td>\n",
       "    </tr>\n",
       "    <tr>\n",
       "      <th>6</th>\n",
       "      <td>-1</td>\n",
       "      <td>f</td>\n",
       "      <td>4.0</td>\n",
       "    </tr>\n",
       "  </tbody>\n",
       "</table>\n",
       "</div>"
      ],
      "text/plain": [
       "    a  b    c\n",
       "5  11  f  3.0\n",
       "3  10  c  3.2\n",
       "4   8  e  NaN\n",
       "2   1  d  4.0\n",
       "6  -1  f  4.0"
      ]
     },
     "execution_count": 111,
     "metadata": {},
     "output_type": "execute_result"
    }
   ],
   "source": [
    "df.nlargest(5, [\"a\", \"c\"])"
   ]
  },
  {
   "cell_type": "code",
   "execution_count": 112,
   "id": "ec4e4d99-82a5-4d60-b121-125e9cbfc355",
   "metadata": {},
   "outputs": [
    {
     "data": {
      "text/html": [
       "<div>\n",
       "<style scoped>\n",
       "    .dataframe tbody tr th:only-of-type {\n",
       "        vertical-align: middle;\n",
       "    }\n",
       "\n",
       "    .dataframe tbody tr th {\n",
       "        vertical-align: top;\n",
       "    }\n",
       "\n",
       "    .dataframe thead th {\n",
       "        text-align: right;\n",
       "    }\n",
       "</style>\n",
       "<table border=\"1\" class=\"dataframe\">\n",
       "  <thead>\n",
       "    <tr style=\"text-align: right;\">\n",
       "      <th></th>\n",
       "      <th>a</th>\n",
       "      <th>b</th>\n",
       "      <th>c</th>\n",
       "    </tr>\n",
       "  </thead>\n",
       "  <tbody>\n",
       "    <tr>\n",
       "      <th>0</th>\n",
       "      <td>-2</td>\n",
       "      <td>a</td>\n",
       "      <td>1.0</td>\n",
       "    </tr>\n",
       "    <tr>\n",
       "      <th>1</th>\n",
       "      <td>-1</td>\n",
       "      <td>b</td>\n",
       "      <td>2.0</td>\n",
       "    </tr>\n",
       "    <tr>\n",
       "      <th>6</th>\n",
       "      <td>-1</td>\n",
       "      <td>f</td>\n",
       "      <td>4.0</td>\n",
       "    </tr>\n",
       "    <tr>\n",
       "      <th>2</th>\n",
       "      <td>1</td>\n",
       "      <td>d</td>\n",
       "      <td>4.0</td>\n",
       "    </tr>\n",
       "    <tr>\n",
       "      <th>4</th>\n",
       "      <td>8</td>\n",
       "      <td>e</td>\n",
       "      <td>NaN</td>\n",
       "    </tr>\n",
       "  </tbody>\n",
       "</table>\n",
       "</div>"
      ],
      "text/plain": [
       "   a  b    c\n",
       "0 -2  a  1.0\n",
       "1 -1  b  2.0\n",
       "6 -1  f  4.0\n",
       "2  1  d  4.0\n",
       "4  8  e  NaN"
      ]
     },
     "execution_count": 112,
     "metadata": {},
     "output_type": "execute_result"
    }
   ],
   "source": [
    "df.nsmallest(5, [\"a\", \"c\"])"
   ]
  },
  {
   "cell_type": "markdown",
   "id": "3ef766dc-2f00-4fa5-ad0b-d7924318a176",
   "metadata": {},
   "source": [
    "# 6. Best way to select data"
   ]
  },
  {
   "cell_type": "code",
   "execution_count": 113,
   "id": "3509b2dd-028e-4e61-bd89-4f7b6774ee62",
   "metadata": {},
   "outputs": [
    {
     "name": "stdout",
     "output_type": "stream",
     "text": [
      "2000-01-01    0.453468\n",
      "2000-01-02   -0.485845\n",
      "2000-01-03    0.021867\n",
      "2000-01-04   -1.404052\n",
      "2000-01-05    1.296674\n",
      "2000-01-06    2.024306\n",
      "2000-01-07   -1.558409\n",
      "2000-01-08    0.814904\n",
      "Freq: D, Name: A, dtype: float64\n"
     ]
    }
   ],
   "source": [
    "dates = pd.date_range(\"2000-01-01\", periods=8)\n",
    "s = pd.Series(np.random.randn(8), index=dates, name=\"A\")\n",
    "print(s)\n"
   ]
  },
  {
   "cell_type": "code",
   "execution_count": 114,
   "id": "6a5ea0bf-5070-476a-852a-c6d81f61c34c",
   "metadata": {},
   "outputs": [
    {
     "data": {
      "text/plain": [
       "2000-01-01    0.453468\n",
       "2000-01-02   -0.485845\n",
       "2000-01-03    0.021867\n",
       "2000-01-04   -1.404052\n",
       "2000-01-05    1.296674\n",
       "Freq: D, Name: A, dtype: float64"
      ]
     },
     "execution_count": 114,
     "metadata": {},
     "output_type": "execute_result"
    }
   ],
   "source": [
    "s[:5]"
   ]
  },
  {
   "cell_type": "code",
   "execution_count": 115,
   "id": "fd427df4-48c4-4ac7-b0f4-5eb15691d2b9",
   "metadata": {},
   "outputs": [
    {
     "data": {
      "text/plain": [
       "2000-01-01    0.453468\n",
       "2000-01-03    0.021867\n",
       "2000-01-05    1.296674\n",
       "2000-01-07   -1.558409\n",
       "Freq: 2D, Name: A, dtype: float64"
      ]
     },
     "execution_count": 115,
     "metadata": {},
     "output_type": "execute_result"
    }
   ],
   "source": [
    "s[::2]"
   ]
  },
  {
   "cell_type": "code",
   "execution_count": 116,
   "id": "f08a2838-09df-4df0-a449-f1f2b77a74f9",
   "metadata": {},
   "outputs": [
    {
     "data": {
      "text/plain": [
       "2000-01-08    0.814904\n",
       "2000-01-07   -1.558409\n",
       "2000-01-06    2.024306\n",
       "2000-01-05    1.296674\n",
       "2000-01-04   -1.404052\n",
       "2000-01-03    0.021867\n",
       "2000-01-02   -0.485845\n",
       "2000-01-01    0.453468\n",
       "Freq: -1D, Name: A, dtype: float64"
      ]
     },
     "execution_count": 116,
     "metadata": {},
     "output_type": "execute_result"
    }
   ],
   "source": [
    "s[::-1]"
   ]
  },
  {
   "cell_type": "code",
   "execution_count": 117,
   "id": "f070eebe-08fd-4b87-a8b7-3b54b26f6047",
   "metadata": {},
   "outputs": [
    {
     "data": {
      "text/plain": [
       "2000-01-01    0.000000\n",
       "2000-01-02    0.000000\n",
       "2000-01-03    0.000000\n",
       "2000-01-04    0.000000\n",
       "2000-01-05    0.000000\n",
       "2000-01-06    2.024306\n",
       "2000-01-07   -1.558409\n",
       "2000-01-08    0.814904\n",
       "Freq: D, Name: A, dtype: float64"
      ]
     },
     "execution_count": 117,
     "metadata": {},
     "output_type": "execute_result"
    }
   ],
   "source": [
    "s2 = s.copy()\n",
    "s2[:5] = 0\n",
    "s2"
   ]
  },
  {
   "cell_type": "code",
   "execution_count": 118,
   "id": "bc8eca31-1827-4cc5-a692-1e7582cdf71c",
   "metadata": {},
   "outputs": [
    {
     "data": {
      "text/html": [
       "<div>\n",
       "<style scoped>\n",
       "    .dataframe tbody tr th:only-of-type {\n",
       "        vertical-align: middle;\n",
       "    }\n",
       "\n",
       "    .dataframe tbody tr th {\n",
       "        vertical-align: top;\n",
       "    }\n",
       "\n",
       "    .dataframe thead th {\n",
       "        text-align: right;\n",
       "    }\n",
       "</style>\n",
       "<table border=\"1\" class=\"dataframe\">\n",
       "  <thead>\n",
       "    <tr style=\"text-align: right;\">\n",
       "      <th></th>\n",
       "      <th>a</th>\n",
       "      <th>b</th>\n",
       "      <th>c</th>\n",
       "    </tr>\n",
       "  </thead>\n",
       "  <tbody>\n",
       "    <tr>\n",
       "      <th>0</th>\n",
       "      <td>-2</td>\n",
       "      <td>a</td>\n",
       "      <td>1.0</td>\n",
       "    </tr>\n",
       "    <tr>\n",
       "      <th>1</th>\n",
       "      <td>-1</td>\n",
       "      <td>b</td>\n",
       "      <td>2.0</td>\n",
       "    </tr>\n",
       "    <tr>\n",
       "      <th>2</th>\n",
       "      <td>1</td>\n",
       "      <td>d</td>\n",
       "      <td>4.0</td>\n",
       "    </tr>\n",
       "  </tbody>\n",
       "</table>\n",
       "</div>"
      ],
      "text/plain": [
       "   a  b    c\n",
       "0 -2  a  1.0\n",
       "1 -1  b  2.0\n",
       "2  1  d  4.0"
      ]
     },
     "execution_count": 118,
     "metadata": {},
     "output_type": "execute_result"
    }
   ],
   "source": [
    "df[:3]"
   ]
  },
  {
   "cell_type": "code",
   "execution_count": 119,
   "id": "8616c802-cec6-4934-ae54-6de30684c866",
   "metadata": {},
   "outputs": [
    {
     "name": "stdout",
     "output_type": "stream",
     "text": [
      "                   A         B         C         D\n",
      "2000-01-01  1.452063 -0.942676 -2.207208  0.217917\n",
      "2000-01-02  0.406889  0.132702 -1.495531 -0.036559\n",
      "2000-01-03 -0.162525 -1.012809 -1.635911 -0.753711\n",
      "2000-01-04 -0.986722 -1.313141 -0.200765 -0.249731\n",
      "2000-01-05 -1.384928  0.773844 -0.165643 -0.196949\n",
      "2000-01-06 -1.509055  0.862026 -0.421215 -0.370142\n",
      "2000-01-07 -0.272076 -1.236316  0.699499  0.171861\n",
      "2000-01-08  0.960760  1.939923  0.608294 -0.585689\n"
     ]
    }
   ],
   "source": [
    "dates = pd.date_range(\"2000-01-01\", periods=8)\n",
    "\n",
    "df = pd.DataFrame(\n",
    "    np.random.randn(8, 4),  # 8 rows, 4 columns\n",
    "    index=dates,\n",
    "    columns=list(\"ABCD\")\n",
    ")\n",
    "\n",
    "print(df)\n"
   ]
  },
  {
   "cell_type": "code",
   "execution_count": 120,
   "id": "d633b663-3c4e-4299-8af6-5eda8733faa5",
   "metadata": {},
   "outputs": [
    {
     "data": {
      "text/html": [
       "<div>\n",
       "<style scoped>\n",
       "    .dataframe tbody tr th:only-of-type {\n",
       "        vertical-align: middle;\n",
       "    }\n",
       "\n",
       "    .dataframe tbody tr th {\n",
       "        vertical-align: top;\n",
       "    }\n",
       "\n",
       "    .dataframe thead th {\n",
       "        text-align: right;\n",
       "    }\n",
       "</style>\n",
       "<table border=\"1\" class=\"dataframe\">\n",
       "  <thead>\n",
       "    <tr style=\"text-align: right;\">\n",
       "      <th></th>\n",
       "      <th>A</th>\n",
       "      <th>B</th>\n",
       "      <th>C</th>\n",
       "      <th>D</th>\n",
       "    </tr>\n",
       "  </thead>\n",
       "  <tbody>\n",
       "    <tr>\n",
       "      <th>2000-01-01</th>\n",
       "      <td>1.452063</td>\n",
       "      <td>-0.942676</td>\n",
       "      <td>-2.207208</td>\n",
       "      <td>0.217917</td>\n",
       "    </tr>\n",
       "    <tr>\n",
       "      <th>2000-01-02</th>\n",
       "      <td>0.406889</td>\n",
       "      <td>0.132702</td>\n",
       "      <td>-1.495531</td>\n",
       "      <td>-0.036559</td>\n",
       "    </tr>\n",
       "    <tr>\n",
       "      <th>2000-01-03</th>\n",
       "      <td>-0.162525</td>\n",
       "      <td>-1.012809</td>\n",
       "      <td>-1.635911</td>\n",
       "      <td>-0.753711</td>\n",
       "    </tr>\n",
       "  </tbody>\n",
       "</table>\n",
       "</div>"
      ],
      "text/plain": [
       "                   A         B         C         D\n",
       "2000-01-01  1.452063 -0.942676 -2.207208  0.217917\n",
       "2000-01-02  0.406889  0.132702 -1.495531 -0.036559\n",
       "2000-01-03 -0.162525 -1.012809 -1.635911 -0.753711"
      ]
     },
     "execution_count": 120,
     "metadata": {},
     "output_type": "execute_result"
    }
   ],
   "source": [
    "df[:3]"
   ]
  },
  {
   "cell_type": "code",
   "execution_count": 121,
   "id": "23cf0baf-a847-4740-b10e-4e9435b2b8e6",
   "metadata": {},
   "outputs": [
    {
     "data": {
      "text/html": [
       "<div>\n",
       "<style scoped>\n",
       "    .dataframe tbody tr th:only-of-type {\n",
       "        vertical-align: middle;\n",
       "    }\n",
       "\n",
       "    .dataframe tbody tr th {\n",
       "        vertical-align: top;\n",
       "    }\n",
       "\n",
       "    .dataframe thead th {\n",
       "        text-align: right;\n",
       "    }\n",
       "</style>\n",
       "<table border=\"1\" class=\"dataframe\">\n",
       "  <thead>\n",
       "    <tr style=\"text-align: right;\">\n",
       "      <th></th>\n",
       "      <th>A</th>\n",
       "      <th>B</th>\n",
       "      <th>C</th>\n",
       "      <th>D</th>\n",
       "    </tr>\n",
       "  </thead>\n",
       "  <tbody>\n",
       "    <tr>\n",
       "      <th>2000-01-08</th>\n",
       "      <td>0.960760</td>\n",
       "      <td>1.939923</td>\n",
       "      <td>0.608294</td>\n",
       "      <td>-0.585689</td>\n",
       "    </tr>\n",
       "    <tr>\n",
       "      <th>2000-01-07</th>\n",
       "      <td>-0.272076</td>\n",
       "      <td>-1.236316</td>\n",
       "      <td>0.699499</td>\n",
       "      <td>0.171861</td>\n",
       "    </tr>\n",
       "    <tr>\n",
       "      <th>2000-01-06</th>\n",
       "      <td>-1.509055</td>\n",
       "      <td>0.862026</td>\n",
       "      <td>-0.421215</td>\n",
       "      <td>-0.370142</td>\n",
       "    </tr>\n",
       "    <tr>\n",
       "      <th>2000-01-05</th>\n",
       "      <td>-1.384928</td>\n",
       "      <td>0.773844</td>\n",
       "      <td>-0.165643</td>\n",
       "      <td>-0.196949</td>\n",
       "    </tr>\n",
       "    <tr>\n",
       "      <th>2000-01-04</th>\n",
       "      <td>-0.986722</td>\n",
       "      <td>-1.313141</td>\n",
       "      <td>-0.200765</td>\n",
       "      <td>-0.249731</td>\n",
       "    </tr>\n",
       "    <tr>\n",
       "      <th>2000-01-03</th>\n",
       "      <td>-0.162525</td>\n",
       "      <td>-1.012809</td>\n",
       "      <td>-1.635911</td>\n",
       "      <td>-0.753711</td>\n",
       "    </tr>\n",
       "    <tr>\n",
       "      <th>2000-01-02</th>\n",
       "      <td>0.406889</td>\n",
       "      <td>0.132702</td>\n",
       "      <td>-1.495531</td>\n",
       "      <td>-0.036559</td>\n",
       "    </tr>\n",
       "    <tr>\n",
       "      <th>2000-01-01</th>\n",
       "      <td>1.452063</td>\n",
       "      <td>-0.942676</td>\n",
       "      <td>-2.207208</td>\n",
       "      <td>0.217917</td>\n",
       "    </tr>\n",
       "  </tbody>\n",
       "</table>\n",
       "</div>"
      ],
      "text/plain": [
       "                   A         B         C         D\n",
       "2000-01-08  0.960760  1.939923  0.608294 -0.585689\n",
       "2000-01-07 -0.272076 -1.236316  0.699499  0.171861\n",
       "2000-01-06 -1.509055  0.862026 -0.421215 -0.370142\n",
       "2000-01-05 -1.384928  0.773844 -0.165643 -0.196949\n",
       "2000-01-04 -0.986722 -1.313141 -0.200765 -0.249731\n",
       "2000-01-03 -0.162525 -1.012809 -1.635911 -0.753711\n",
       "2000-01-02  0.406889  0.132702 -1.495531 -0.036559\n",
       "2000-01-01  1.452063 -0.942676 -2.207208  0.217917"
      ]
     },
     "execution_count": 121,
     "metadata": {},
     "output_type": "execute_result"
    }
   ],
   "source": [
    "df[::-1]"
   ]
  },
  {
   "cell_type": "code",
   "execution_count": 122,
   "id": "d00233bf-f1c7-4058-a831-b1ee8d3b2769",
   "metadata": {},
   "outputs": [
    {
     "data": {
      "text/html": [
       "<div>\n",
       "<style scoped>\n",
       "    .dataframe tbody tr th:only-of-type {\n",
       "        vertical-align: middle;\n",
       "    }\n",
       "\n",
       "    .dataframe tbody tr th {\n",
       "        vertical-align: top;\n",
       "    }\n",
       "\n",
       "    .dataframe thead th {\n",
       "        text-align: right;\n",
       "    }\n",
       "</style>\n",
       "<table border=\"1\" class=\"dataframe\">\n",
       "  <thead>\n",
       "    <tr style=\"text-align: right;\">\n",
       "      <th></th>\n",
       "      <th>A</th>\n",
       "      <th>B</th>\n",
       "      <th>C</th>\n",
       "      <th>D</th>\n",
       "    </tr>\n",
       "  </thead>\n",
       "  <tbody>\n",
       "    <tr>\n",
       "      <th>a</th>\n",
       "      <td>-0.607224</td>\n",
       "      <td>0.526057</td>\n",
       "      <td>-0.219569</td>\n",
       "      <td>-2.112782</td>\n",
       "    </tr>\n",
       "    <tr>\n",
       "      <th>b</th>\n",
       "      <td>-0.384366</td>\n",
       "      <td>0.377360</td>\n",
       "      <td>-0.656182</td>\n",
       "      <td>-0.221889</td>\n",
       "    </tr>\n",
       "    <tr>\n",
       "      <th>c</th>\n",
       "      <td>0.842467</td>\n",
       "      <td>1.764635</td>\n",
       "      <td>2.362233</td>\n",
       "      <td>0.951795</td>\n",
       "    </tr>\n",
       "    <tr>\n",
       "      <th>d</th>\n",
       "      <td>-0.704750</td>\n",
       "      <td>-0.868925</td>\n",
       "      <td>-1.692997</td>\n",
       "      <td>0.766077</td>\n",
       "    </tr>\n",
       "    <tr>\n",
       "      <th>e</th>\n",
       "      <td>-0.465105</td>\n",
       "      <td>0.059438</td>\n",
       "      <td>-0.071518</td>\n",
       "      <td>-0.311735</td>\n",
       "    </tr>\n",
       "    <tr>\n",
       "      <th>f</th>\n",
       "      <td>-0.057679</td>\n",
       "      <td>1.042649</td>\n",
       "      <td>-1.175842</td>\n",
       "      <td>0.059158</td>\n",
       "    </tr>\n",
       "  </tbody>\n",
       "</table>\n",
       "</div>"
      ],
      "text/plain": [
       "          A         B         C         D\n",
       "a -0.607224  0.526057 -0.219569 -2.112782\n",
       "b -0.384366  0.377360 -0.656182 -0.221889\n",
       "c  0.842467  1.764635  2.362233  0.951795\n",
       "d -0.704750 -0.868925 -1.692997  0.766077\n",
       "e -0.465105  0.059438 -0.071518 -0.311735\n",
       "f -0.057679  1.042649 -1.175842  0.059158"
      ]
     },
     "execution_count": 122,
     "metadata": {},
     "output_type": "execute_result"
    }
   ],
   "source": [
    "df1 = pd.DataFrame(np.random.randn(6, 4),\n",
    "                   index=list('abcdef'),\n",
    "                   columns=list('ABCD'))\n",
    "df1"
   ]
  },
  {
   "cell_type": "code",
   "execution_count": 123,
   "id": "9af455ab-1e8e-49dd-a51f-d8d5971b5074",
   "metadata": {},
   "outputs": [
    {
     "data": {
      "text/html": [
       "<div>\n",
       "<style scoped>\n",
       "    .dataframe tbody tr th:only-of-type {\n",
       "        vertical-align: middle;\n",
       "    }\n",
       "\n",
       "    .dataframe tbody tr th {\n",
       "        vertical-align: top;\n",
       "    }\n",
       "\n",
       "    .dataframe thead th {\n",
       "        text-align: right;\n",
       "    }\n",
       "</style>\n",
       "<table border=\"1\" class=\"dataframe\">\n",
       "  <thead>\n",
       "    <tr style=\"text-align: right;\">\n",
       "      <th></th>\n",
       "      <th>A</th>\n",
       "      <th>B</th>\n",
       "      <th>C</th>\n",
       "      <th>D</th>\n",
       "    </tr>\n",
       "  </thead>\n",
       "  <tbody>\n",
       "    <tr>\n",
       "      <th>a</th>\n",
       "      <td>-0.607224</td>\n",
       "      <td>0.526057</td>\n",
       "      <td>-0.219569</td>\n",
       "      <td>-2.112782</td>\n",
       "    </tr>\n",
       "    <tr>\n",
       "      <th>b</th>\n",
       "      <td>-0.384366</td>\n",
       "      <td>0.377360</td>\n",
       "      <td>-0.656182</td>\n",
       "      <td>-0.221889</td>\n",
       "    </tr>\n",
       "    <tr>\n",
       "      <th>d</th>\n",
       "      <td>-0.704750</td>\n",
       "      <td>-0.868925</td>\n",
       "      <td>-1.692997</td>\n",
       "      <td>0.766077</td>\n",
       "    </tr>\n",
       "  </tbody>\n",
       "</table>\n",
       "</div>"
      ],
      "text/plain": [
       "          A         B         C         D\n",
       "a -0.607224  0.526057 -0.219569 -2.112782\n",
       "b -0.384366  0.377360 -0.656182 -0.221889\n",
       "d -0.704750 -0.868925 -1.692997  0.766077"
      ]
     },
     "execution_count": 123,
     "metadata": {},
     "output_type": "execute_result"
    }
   ],
   "source": [
    "df1.loc[['a', 'b', 'd'], :]"
   ]
  },
  {
   "cell_type": "code",
   "execution_count": 124,
   "id": "8e845e06-b1ec-4c83-9eac-12ffbf8c4e0a",
   "metadata": {},
   "outputs": [
    {
     "data": {
      "text/plain": [
       "A   -0.607224\n",
       "B    0.526057\n",
       "C   -0.219569\n",
       "D   -2.112782\n",
       "Name: a, dtype: float64"
      ]
     },
     "execution_count": 124,
     "metadata": {},
     "output_type": "execute_result"
    }
   ],
   "source": [
    "df1.loc['a']"
   ]
  },
  {
   "cell_type": "code",
   "execution_count": 125,
   "id": "508ca64a-e0ca-405d-a816-125064de394b",
   "metadata": {},
   "outputs": [
    {
     "data": {
      "text/plain": [
       "A    False\n",
       "B     True\n",
       "C    False\n",
       "D    False\n",
       "Name: a, dtype: bool"
      ]
     },
     "execution_count": 125,
     "metadata": {},
     "output_type": "execute_result"
    }
   ],
   "source": [
    "df1.loc['a'] > 0"
   ]
  },
  {
   "cell_type": "code",
   "execution_count": 126,
   "id": "892de453-e60f-4533-8db6-6762b20d0822",
   "metadata": {},
   "outputs": [
    {
     "data": {
      "text/html": [
       "<div>\n",
       "<style scoped>\n",
       "    .dataframe tbody tr th:only-of-type {\n",
       "        vertical-align: middle;\n",
       "    }\n",
       "\n",
       "    .dataframe tbody tr th {\n",
       "        vertical-align: top;\n",
       "    }\n",
       "\n",
       "    .dataframe thead th {\n",
       "        text-align: right;\n",
       "    }\n",
       "</style>\n",
       "<table border=\"1\" class=\"dataframe\">\n",
       "  <thead>\n",
       "    <tr style=\"text-align: right;\">\n",
       "      <th></th>\n",
       "      <th>B</th>\n",
       "    </tr>\n",
       "  </thead>\n",
       "  <tbody>\n",
       "    <tr>\n",
       "      <th>a</th>\n",
       "      <td>0.526057</td>\n",
       "    </tr>\n",
       "    <tr>\n",
       "      <th>b</th>\n",
       "      <td>0.377360</td>\n",
       "    </tr>\n",
       "    <tr>\n",
       "      <th>c</th>\n",
       "      <td>1.764635</td>\n",
       "    </tr>\n",
       "    <tr>\n",
       "      <th>d</th>\n",
       "      <td>-0.868925</td>\n",
       "    </tr>\n",
       "    <tr>\n",
       "      <th>e</th>\n",
       "      <td>0.059438</td>\n",
       "    </tr>\n",
       "    <tr>\n",
       "      <th>f</th>\n",
       "      <td>1.042649</td>\n",
       "    </tr>\n",
       "  </tbody>\n",
       "</table>\n",
       "</div>"
      ],
      "text/plain": [
       "          B\n",
       "a  0.526057\n",
       "b  0.377360\n",
       "c  1.764635\n",
       "d -0.868925\n",
       "e  0.059438\n",
       "f  1.042649"
      ]
     },
     "execution_count": 126,
     "metadata": {},
     "output_type": "execute_result"
    }
   ],
   "source": [
    "df1.loc[:, df1.loc['a'] > 0]"
   ]
  },
  {
   "cell_type": "code",
   "execution_count": 127,
   "id": "2e7556f1-1624-4a58-b6cf-029a693e0489",
   "metadata": {},
   "outputs": [
    {
     "data": {
      "text/plain": [
       "<BooleanArray>\n",
       "[True, False, True, False, <NA>, True]\n",
       "Length: 6, dtype: boolean"
      ]
     },
     "execution_count": 127,
     "metadata": {},
     "output_type": "execute_result"
    }
   ],
   "source": [
    "mask = pd.array([True, False, True, False, pd.NA, True], dtype=\"boolean\")\n",
    "mask"
   ]
  },
  {
   "cell_type": "code",
   "execution_count": 128,
   "id": "300190d2-c912-4538-8307-8c706cf75695",
   "metadata": {},
   "outputs": [
    {
     "data": {
      "text/html": [
       "<div>\n",
       "<style scoped>\n",
       "    .dataframe tbody tr th:only-of-type {\n",
       "        vertical-align: middle;\n",
       "    }\n",
       "\n",
       "    .dataframe tbody tr th {\n",
       "        vertical-align: top;\n",
       "    }\n",
       "\n",
       "    .dataframe thead th {\n",
       "        text-align: right;\n",
       "    }\n",
       "</style>\n",
       "<table border=\"1\" class=\"dataframe\">\n",
       "  <thead>\n",
       "    <tr style=\"text-align: right;\">\n",
       "      <th></th>\n",
       "      <th>A</th>\n",
       "      <th>B</th>\n",
       "      <th>C</th>\n",
       "      <th>D</th>\n",
       "    </tr>\n",
       "  </thead>\n",
       "  <tbody>\n",
       "    <tr>\n",
       "      <th>a</th>\n",
       "      <td>-0.607224</td>\n",
       "      <td>0.526057</td>\n",
       "      <td>-0.219569</td>\n",
       "      <td>-2.112782</td>\n",
       "    </tr>\n",
       "    <tr>\n",
       "      <th>c</th>\n",
       "      <td>0.842467</td>\n",
       "      <td>1.764635</td>\n",
       "      <td>2.362233</td>\n",
       "      <td>0.951795</td>\n",
       "    </tr>\n",
       "    <tr>\n",
       "      <th>f</th>\n",
       "      <td>-0.057679</td>\n",
       "      <td>1.042649</td>\n",
       "      <td>-1.175842</td>\n",
       "      <td>0.059158</td>\n",
       "    </tr>\n",
       "  </tbody>\n",
       "</table>\n",
       "</div>"
      ],
      "text/plain": [
       "          A         B         C         D\n",
       "a -0.607224  0.526057 -0.219569 -2.112782\n",
       "c  0.842467  1.764635  2.362233  0.951795\n",
       "f -0.057679  1.042649 -1.175842  0.059158"
      ]
     },
     "execution_count": 128,
     "metadata": {},
     "output_type": "execute_result"
    }
   ],
   "source": [
    "df1[mask]"
   ]
  },
  {
   "cell_type": "code",
   "execution_count": 129,
   "id": "ea970fc6-8c84-45e0-a16a-35b2cfa447bc",
   "metadata": {},
   "outputs": [
    {
     "data": {
      "text/plain": [
       "0    a\n",
       "3    b\n",
       "2    c\n",
       "5    d\n",
       "4    e\n",
       "dtype: object"
      ]
     },
     "execution_count": 129,
     "metadata": {},
     "output_type": "execute_result"
    }
   ],
   "source": [
    "s = pd.Series(list('abcde'), index=[0, 3, 2, 5, 4])\n",
    "s"
   ]
  },
  {
   "cell_type": "code",
   "execution_count": 130,
   "id": "8d1c3e94-4782-406f-9403-f6ad618637f9",
   "metadata": {},
   "outputs": [
    {
     "data": {
      "text/plain": [
       "3    b\n",
       "2    c\n",
       "5    d\n",
       "dtype: object"
      ]
     },
     "execution_count": 130,
     "metadata": {},
     "output_type": "execute_result"
    }
   ],
   "source": [
    "s.loc[3:5]"
   ]
  },
  {
   "cell_type": "code",
   "execution_count": 131,
   "id": "05c96017-89b5-4892-bb3f-f592499fc6cb",
   "metadata": {},
   "outputs": [
    {
     "data": {
      "text/plain": [
       "0    a\n",
       "2    c\n",
       "3    b\n",
       "4    e\n",
       "5    d\n",
       "dtype: object"
      ]
     },
     "execution_count": 131,
     "metadata": {},
     "output_type": "execute_result"
    }
   ],
   "source": [
    "s.sort_index()"
   ]
  },
  {
   "cell_type": "code",
   "execution_count": 132,
   "id": "75b28c80-3022-43f7-8c19-378336b28b74",
   "metadata": {},
   "outputs": [
    {
     "data": {
      "text/plain": [
       "2    c\n",
       "3    b\n",
       "4    e\n",
       "5    d\n",
       "dtype: object"
      ]
     },
     "execution_count": 132,
     "metadata": {},
     "output_type": "execute_result"
    }
   ],
   "source": [
    "s.sort_index().loc[1:6]"
   ]
  },
  {
   "cell_type": "code",
   "execution_count": 133,
   "id": "50d91079-f06f-4d04-861e-2a6ff3f0cb8f",
   "metadata": {},
   "outputs": [
    {
     "data": {
      "text/plain": [
       "0    0.370495\n",
       "2    0.863155\n",
       "4   -1.491876\n",
       "6   -1.316430\n",
       "8    0.013384\n",
       "dtype: float64"
      ]
     },
     "execution_count": 133,
     "metadata": {},
     "output_type": "execute_result"
    }
   ],
   "source": [
    "s1 = pd.Series(np.random.randn(5), index=list(range(0, 10, 2)))\n",
    "s1"
   ]
  },
  {
   "cell_type": "code",
   "execution_count": 134,
   "id": "9aa886f1-6c96-4d06-b4c9-13176dc7948f",
   "metadata": {},
   "outputs": [
    {
     "data": {
      "text/plain": [
       "0    0.370495\n",
       "2    0.863155\n",
       "4   -1.491876\n",
       "dtype: float64"
      ]
     },
     "execution_count": 134,
     "metadata": {},
     "output_type": "execute_result"
    }
   ],
   "source": [
    "s1.iloc[:3]"
   ]
  },
  {
   "cell_type": "code",
   "execution_count": 135,
   "id": "426fabea-1f22-4e18-bc87-2d485979ee53",
   "metadata": {},
   "outputs": [
    {
     "data": {
      "text/plain": [
       "np.float64(-1.3164301950231285)"
      ]
     },
     "execution_count": 135,
     "metadata": {},
     "output_type": "execute_result"
    }
   ],
   "source": [
    "s1.iloc[3]"
   ]
  },
  {
   "cell_type": "code",
   "execution_count": 136,
   "id": "3ce53089-17f6-48d4-adf0-9ffc11206391",
   "metadata": {},
   "outputs": [
    {
     "data": {
      "text/plain": [
       "0    0.000000\n",
       "2    0.000000\n",
       "4    0.000000\n",
       "6   -1.316430\n",
       "8    0.013384\n",
       "dtype: float64"
      ]
     },
     "execution_count": 136,
     "metadata": {},
     "output_type": "execute_result"
    }
   ],
   "source": [
    "s1.iloc[:3] = 0\n",
    "s1"
   ]
  },
  {
   "cell_type": "markdown",
   "id": "a0e77170-bbb1-4b4c-b6de-6556a6d9eeb4",
   "metadata": {},
   "source": [
    "## With Dataframe"
   ]
  },
  {
   "cell_type": "code",
   "execution_count": 137,
   "id": "6876ac9f-925e-4589-a7bb-7005995f91eb",
   "metadata": {},
   "outputs": [
    {
     "data": {
      "text/html": [
       "<div>\n",
       "<style scoped>\n",
       "    .dataframe tbody tr th:only-of-type {\n",
       "        vertical-align: middle;\n",
       "    }\n",
       "\n",
       "    .dataframe tbody tr th {\n",
       "        vertical-align: top;\n",
       "    }\n",
       "\n",
       "    .dataframe thead th {\n",
       "        text-align: right;\n",
       "    }\n",
       "</style>\n",
       "<table border=\"1\" class=\"dataframe\">\n",
       "  <thead>\n",
       "    <tr style=\"text-align: right;\">\n",
       "      <th></th>\n",
       "      <th>0</th>\n",
       "      <th>2</th>\n",
       "      <th>4</th>\n",
       "      <th>6</th>\n",
       "    </tr>\n",
       "  </thead>\n",
       "  <tbody>\n",
       "    <tr>\n",
       "      <th>0</th>\n",
       "      <td>0.178436</td>\n",
       "      <td>-0.735226</td>\n",
       "      <td>0.273352</td>\n",
       "      <td>-0.468548</td>\n",
       "    </tr>\n",
       "    <tr>\n",
       "      <th>2</th>\n",
       "      <td>-1.689150</td>\n",
       "      <td>0.568040</td>\n",
       "      <td>1.087370</td>\n",
       "      <td>0.144711</td>\n",
       "    </tr>\n",
       "    <tr>\n",
       "      <th>4</th>\n",
       "      <td>-0.532390</td>\n",
       "      <td>2.570344</td>\n",
       "      <td>-0.675914</td>\n",
       "      <td>0.044541</td>\n",
       "    </tr>\n",
       "    <tr>\n",
       "      <th>6</th>\n",
       "      <td>-0.922165</td>\n",
       "      <td>-0.831106</td>\n",
       "      <td>0.484650</td>\n",
       "      <td>-0.084256</td>\n",
       "    </tr>\n",
       "    <tr>\n",
       "      <th>8</th>\n",
       "      <td>0.021782</td>\n",
       "      <td>1.788185</td>\n",
       "      <td>0.221417</td>\n",
       "      <td>-0.691754</td>\n",
       "    </tr>\n",
       "    <tr>\n",
       "      <th>10</th>\n",
       "      <td>0.141050</td>\n",
       "      <td>0.110260</td>\n",
       "      <td>-0.665162</td>\n",
       "      <td>0.488526</td>\n",
       "    </tr>\n",
       "  </tbody>\n",
       "</table>\n",
       "</div>"
      ],
      "text/plain": [
       "           0         2         4         6\n",
       "0   0.178436 -0.735226  0.273352 -0.468548\n",
       "2  -1.689150  0.568040  1.087370  0.144711\n",
       "4  -0.532390  2.570344 -0.675914  0.044541\n",
       "6  -0.922165 -0.831106  0.484650 -0.084256\n",
       "8   0.021782  1.788185  0.221417 -0.691754\n",
       "10  0.141050  0.110260 -0.665162  0.488526"
      ]
     },
     "execution_count": 137,
     "metadata": {},
     "output_type": "execute_result"
    }
   ],
   "source": [
    "df1 = pd.DataFrame(np.random.randn(6, 4),\n",
    "                   index=list(range(0, 12, 2)),\n",
    "                   columns=list(range(0, 8, 2)))\n",
    "\n",
    "df1"
   ]
  },
  {
   "cell_type": "code",
   "execution_count": 138,
   "id": "805903b9-9e95-4514-a940-99e44c5d1afd",
   "metadata": {},
   "outputs": [
    {
     "data": {
      "text/html": [
       "<div>\n",
       "<style scoped>\n",
       "    .dataframe tbody tr th:only-of-type {\n",
       "        vertical-align: middle;\n",
       "    }\n",
       "\n",
       "    .dataframe tbody tr th {\n",
       "        vertical-align: top;\n",
       "    }\n",
       "\n",
       "    .dataframe thead th {\n",
       "        text-align: right;\n",
       "    }\n",
       "</style>\n",
       "<table border=\"1\" class=\"dataframe\">\n",
       "  <thead>\n",
       "    <tr style=\"text-align: right;\">\n",
       "      <th></th>\n",
       "      <th>0</th>\n",
       "      <th>2</th>\n",
       "      <th>4</th>\n",
       "      <th>6</th>\n",
       "    </tr>\n",
       "  </thead>\n",
       "  <tbody>\n",
       "    <tr>\n",
       "      <th>0</th>\n",
       "      <td>0.178436</td>\n",
       "      <td>-0.735226</td>\n",
       "      <td>0.273352</td>\n",
       "      <td>-0.468548</td>\n",
       "    </tr>\n",
       "    <tr>\n",
       "      <th>2</th>\n",
       "      <td>-1.689150</td>\n",
       "      <td>0.568040</td>\n",
       "      <td>1.087370</td>\n",
       "      <td>0.144711</td>\n",
       "    </tr>\n",
       "    <tr>\n",
       "      <th>4</th>\n",
       "      <td>-0.532390</td>\n",
       "      <td>2.570344</td>\n",
       "      <td>-0.675914</td>\n",
       "      <td>0.044541</td>\n",
       "    </tr>\n",
       "  </tbody>\n",
       "</table>\n",
       "</div>"
      ],
      "text/plain": [
       "          0         2         4         6\n",
       "0  0.178436 -0.735226  0.273352 -0.468548\n",
       "2 -1.689150  0.568040  1.087370  0.144711\n",
       "4 -0.532390  2.570344 -0.675914  0.044541"
      ]
     },
     "execution_count": 138,
     "metadata": {},
     "output_type": "execute_result"
    }
   ],
   "source": [
    "df1.iloc[:3]"
   ]
  },
  {
   "cell_type": "code",
   "execution_count": 139,
   "id": "aa5cc5cd-f156-4cf2-8395-35a20d030939",
   "metadata": {},
   "outputs": [
    {
     "data": {
      "text/html": [
       "<div>\n",
       "<style scoped>\n",
       "    .dataframe tbody tr th:only-of-type {\n",
       "        vertical-align: middle;\n",
       "    }\n",
       "\n",
       "    .dataframe tbody tr th {\n",
       "        vertical-align: top;\n",
       "    }\n",
       "\n",
       "    .dataframe thead th {\n",
       "        text-align: right;\n",
       "    }\n",
       "</style>\n",
       "<table border=\"1\" class=\"dataframe\">\n",
       "  <thead>\n",
       "    <tr style=\"text-align: right;\">\n",
       "      <th></th>\n",
       "      <th>4</th>\n",
       "      <th>6</th>\n",
       "    </tr>\n",
       "  </thead>\n",
       "  <tbody>\n",
       "    <tr>\n",
       "      <th>2</th>\n",
       "      <td>1.087370</td>\n",
       "      <td>0.144711</td>\n",
       "    </tr>\n",
       "    <tr>\n",
       "      <th>4</th>\n",
       "      <td>-0.675914</td>\n",
       "      <td>0.044541</td>\n",
       "    </tr>\n",
       "    <tr>\n",
       "      <th>6</th>\n",
       "      <td>0.484650</td>\n",
       "      <td>-0.084256</td>\n",
       "    </tr>\n",
       "    <tr>\n",
       "      <th>8</th>\n",
       "      <td>0.221417</td>\n",
       "      <td>-0.691754</td>\n",
       "    </tr>\n",
       "  </tbody>\n",
       "</table>\n",
       "</div>"
      ],
      "text/plain": [
       "          4         6\n",
       "2  1.087370  0.144711\n",
       "4 -0.675914  0.044541\n",
       "6  0.484650 -0.084256\n",
       "8  0.221417 -0.691754"
      ]
     },
     "execution_count": 139,
     "metadata": {},
     "output_type": "execute_result"
    }
   ],
   "source": [
    "# 1:5 → Select rows from index position 1 up to but not including 5 (so rows with positions 1, 2, 3, 4).\n",
    "\n",
    "# 2:4 → Select columns from index position 2 up to but not including 4 (so columns at positions 2 and 3).\n",
    "\n",
    "df1.iloc[1:5, 2:4]"
   ]
  },
  {
   "cell_type": "code",
   "execution_count": 140,
   "id": "6ed1f693-78a2-41bc-99b9-4c152b9269b8",
   "metadata": {},
   "outputs": [
    {
     "data": {
      "text/html": [
       "<div>\n",
       "<style scoped>\n",
       "    .dataframe tbody tr th:only-of-type {\n",
       "        vertical-align: middle;\n",
       "    }\n",
       "\n",
       "    .dataframe tbody tr th {\n",
       "        vertical-align: top;\n",
       "    }\n",
       "\n",
       "    .dataframe thead th {\n",
       "        text-align: right;\n",
       "    }\n",
       "</style>\n",
       "<table border=\"1\" class=\"dataframe\">\n",
       "  <thead>\n",
       "    <tr style=\"text-align: right;\">\n",
       "      <th></th>\n",
       "      <th>2</th>\n",
       "      <th>6</th>\n",
       "    </tr>\n",
       "  </thead>\n",
       "  <tbody>\n",
       "    <tr>\n",
       "      <th>2</th>\n",
       "      <td>0.568040</td>\n",
       "      <td>0.144711</td>\n",
       "    </tr>\n",
       "    <tr>\n",
       "      <th>6</th>\n",
       "      <td>-0.831106</td>\n",
       "      <td>-0.084256</td>\n",
       "    </tr>\n",
       "    <tr>\n",
       "      <th>10</th>\n",
       "      <td>0.110260</td>\n",
       "      <td>0.488526</td>\n",
       "    </tr>\n",
       "  </tbody>\n",
       "</table>\n",
       "</div>"
      ],
      "text/plain": [
       "           2         6\n",
       "2   0.568040  0.144711\n",
       "6  -0.831106 -0.084256\n",
       "10  0.110260  0.488526"
      ]
     },
     "execution_count": 140,
     "metadata": {},
     "output_type": "execute_result"
    }
   ],
   "source": [
    "df1.iloc[[1, 3, 5], [1, 3]]"
   ]
  },
  {
   "cell_type": "code",
   "execution_count": 141,
   "id": "e30c4754-f53b-41b9-9992-ee48846ff295",
   "metadata": {},
   "outputs": [
    {
     "data": {
      "text/html": [
       "<div>\n",
       "<style scoped>\n",
       "    .dataframe tbody tr th:only-of-type {\n",
       "        vertical-align: middle;\n",
       "    }\n",
       "\n",
       "    .dataframe tbody tr th {\n",
       "        vertical-align: top;\n",
       "    }\n",
       "\n",
       "    .dataframe thead th {\n",
       "        text-align: right;\n",
       "    }\n",
       "</style>\n",
       "<table border=\"1\" class=\"dataframe\">\n",
       "  <thead>\n",
       "    <tr style=\"text-align: right;\">\n",
       "      <th></th>\n",
       "      <th>2</th>\n",
       "      <th>4</th>\n",
       "    </tr>\n",
       "  </thead>\n",
       "  <tbody>\n",
       "    <tr>\n",
       "      <th>0</th>\n",
       "      <td>-0.735226</td>\n",
       "      <td>0.273352</td>\n",
       "    </tr>\n",
       "    <tr>\n",
       "      <th>2</th>\n",
       "      <td>0.568040</td>\n",
       "      <td>1.087370</td>\n",
       "    </tr>\n",
       "    <tr>\n",
       "      <th>4</th>\n",
       "      <td>2.570344</td>\n",
       "      <td>-0.675914</td>\n",
       "    </tr>\n",
       "    <tr>\n",
       "      <th>6</th>\n",
       "      <td>-0.831106</td>\n",
       "      <td>0.484650</td>\n",
       "    </tr>\n",
       "    <tr>\n",
       "      <th>8</th>\n",
       "      <td>1.788185</td>\n",
       "      <td>0.221417</td>\n",
       "    </tr>\n",
       "    <tr>\n",
       "      <th>10</th>\n",
       "      <td>0.110260</td>\n",
       "      <td>-0.665162</td>\n",
       "    </tr>\n",
       "  </tbody>\n",
       "</table>\n",
       "</div>"
      ],
      "text/plain": [
       "           2         4\n",
       "0  -0.735226  0.273352\n",
       "2   0.568040  1.087370\n",
       "4   2.570344 -0.675914\n",
       "6  -0.831106  0.484650\n",
       "8   1.788185  0.221417\n",
       "10  0.110260 -0.665162"
      ]
     },
     "execution_count": 141,
     "metadata": {},
     "output_type": "execute_result"
    }
   ],
   "source": [
    "df1.iloc[:, 1:3]"
   ]
  },
  {
   "cell_type": "code",
   "execution_count": 142,
   "id": "3d660f01-1bd7-42e5-911b-76bcfa314991",
   "metadata": {},
   "outputs": [
    {
     "data": {
      "text/plain": [
       "0   -1.689150\n",
       "2    0.568040\n",
       "4    1.087370\n",
       "6    0.144711\n",
       "Name: 2, dtype: float64"
      ]
     },
     "execution_count": 142,
     "metadata": {},
     "output_type": "execute_result"
    }
   ],
   "source": [
    "df1.iloc[1]"
   ]
  },
  {
   "cell_type": "code",
   "execution_count": 143,
   "id": "1fe16552-622c-484b-ac9f-405a22c9cdc4",
   "metadata": {},
   "outputs": [
    {
     "data": {
      "text/plain": [
       "['a', 'b', 'c', 'd', 'e', 'f']"
      ]
     },
     "execution_count": 143,
     "metadata": {},
     "output_type": "execute_result"
    }
   ],
   "source": [
    "# Same thing is also work in normal python and also numpy\n",
    "x = list('abcdef')\n",
    "x"
   ]
  },
  {
   "cell_type": "code",
   "execution_count": 144,
   "id": "a08de791-d022-4273-bfd3-744b63091c75",
   "metadata": {},
   "outputs": [
    {
     "name": "stdout",
     "output_type": "stream",
     "text": [
      "['e', 'f']\n",
      "[]\n"
     ]
    }
   ],
   "source": [
    "print(x[4:10])\n",
    "print(x[8:10])"
   ]
  },
  {
   "cell_type": "code",
   "execution_count": 145,
   "id": "f59eceeb-87b7-4e1f-ad63-5e54882a0a1a",
   "metadata": {},
   "outputs": [
    {
     "name": "stdout",
     "output_type": "stream",
     "text": [
      "4    e\n",
      "5    f\n",
      "dtype: object\n",
      "Series([], dtype: object)\n"
     ]
    }
   ],
   "source": [
    "s = pd.Series(x)\n",
    "print(s.iloc[4:10])\n",
    "print(s.iloc[8:10])"
   ]
  },
  {
   "cell_type": "code",
   "execution_count": 146,
   "id": "eada83a1-e63f-4a18-89a4-e9071fb5fae7",
   "metadata": {},
   "outputs": [
    {
     "data": {
      "text/html": [
       "<div>\n",
       "<style scoped>\n",
       "    .dataframe tbody tr th:only-of-type {\n",
       "        vertical-align: middle;\n",
       "    }\n",
       "\n",
       "    .dataframe tbody tr th {\n",
       "        vertical-align: top;\n",
       "    }\n",
       "\n",
       "    .dataframe thead th {\n",
       "        text-align: right;\n",
       "    }\n",
       "</style>\n",
       "<table border=\"1\" class=\"dataframe\">\n",
       "  <thead>\n",
       "    <tr style=\"text-align: right;\">\n",
       "      <th></th>\n",
       "      <th>A</th>\n",
       "      <th>B</th>\n",
       "    </tr>\n",
       "  </thead>\n",
       "  <tbody>\n",
       "    <tr>\n",
       "      <th>0</th>\n",
       "      <td>-0.158049</td>\n",
       "      <td>-2.835179</td>\n",
       "    </tr>\n",
       "    <tr>\n",
       "      <th>1</th>\n",
       "      <td>0.635775</td>\n",
       "      <td>1.105613</td>\n",
       "    </tr>\n",
       "    <tr>\n",
       "      <th>2</th>\n",
       "      <td>2.096000</td>\n",
       "      <td>-1.196981</td>\n",
       "    </tr>\n",
       "    <tr>\n",
       "      <th>3</th>\n",
       "      <td>2.019922</td>\n",
       "      <td>1.873300</td>\n",
       "    </tr>\n",
       "    <tr>\n",
       "      <th>4</th>\n",
       "      <td>-1.961959</td>\n",
       "      <td>-0.545041</td>\n",
       "    </tr>\n",
       "  </tbody>\n",
       "</table>\n",
       "</div>"
      ],
      "text/plain": [
       "          A         B\n",
       "0 -0.158049 -2.835179\n",
       "1  0.635775  1.105613\n",
       "2  2.096000 -1.196981\n",
       "3  2.019922  1.873300\n",
       "4 -1.961959 -0.545041"
      ]
     },
     "execution_count": 146,
     "metadata": {},
     "output_type": "execute_result"
    }
   ],
   "source": [
    "dfl = pd.DataFrame(np.random.randn(5, 2), columns=list('AB'))\n",
    "dfl"
   ]
  },
  {
   "cell_type": "code",
   "execution_count": 147,
   "id": "7162e742-4844-4aa3-b25b-5c00549903b9",
   "metadata": {},
   "outputs": [
    {
     "data": {
      "text/html": [
       "<div>\n",
       "<style scoped>\n",
       "    .dataframe tbody tr th:only-of-type {\n",
       "        vertical-align: middle;\n",
       "    }\n",
       "\n",
       "    .dataframe tbody tr th {\n",
       "        vertical-align: top;\n",
       "    }\n",
       "\n",
       "    .dataframe thead th {\n",
       "        text-align: right;\n",
       "    }\n",
       "</style>\n",
       "<table border=\"1\" class=\"dataframe\">\n",
       "  <thead>\n",
       "    <tr style=\"text-align: right;\">\n",
       "      <th></th>\n",
       "    </tr>\n",
       "  </thead>\n",
       "  <tbody>\n",
       "    <tr>\n",
       "      <th>0</th>\n",
       "    </tr>\n",
       "    <tr>\n",
       "      <th>1</th>\n",
       "    </tr>\n",
       "    <tr>\n",
       "      <th>2</th>\n",
       "    </tr>\n",
       "    <tr>\n",
       "      <th>3</th>\n",
       "    </tr>\n",
       "    <tr>\n",
       "      <th>4</th>\n",
       "    </tr>\n",
       "  </tbody>\n",
       "</table>\n",
       "</div>"
      ],
      "text/plain": [
       "Empty DataFrame\n",
       "Columns: []\n",
       "Index: [0, 1, 2, 3, 4]"
      ]
     },
     "execution_count": 147,
     "metadata": {},
     "output_type": "execute_result"
    }
   ],
   "source": [
    "dfl.iloc[:, 2:3]"
   ]
  },
  {
   "cell_type": "code",
   "execution_count": 148,
   "id": "57caa771-deec-413d-8f7a-5a04c9607f78",
   "metadata": {},
   "outputs": [
    {
     "data": {
      "text/html": [
       "<div>\n",
       "<style scoped>\n",
       "    .dataframe tbody tr th:only-of-type {\n",
       "        vertical-align: middle;\n",
       "    }\n",
       "\n",
       "    .dataframe tbody tr th {\n",
       "        vertical-align: top;\n",
       "    }\n",
       "\n",
       "    .dataframe thead th {\n",
       "        text-align: right;\n",
       "    }\n",
       "</style>\n",
       "<table border=\"1\" class=\"dataframe\">\n",
       "  <thead>\n",
       "    <tr style=\"text-align: right;\">\n",
       "      <th></th>\n",
       "      <th>B</th>\n",
       "    </tr>\n",
       "  </thead>\n",
       "  <tbody>\n",
       "    <tr>\n",
       "      <th>0</th>\n",
       "      <td>-2.835179</td>\n",
       "    </tr>\n",
       "    <tr>\n",
       "      <th>1</th>\n",
       "      <td>1.105613</td>\n",
       "    </tr>\n",
       "    <tr>\n",
       "      <th>2</th>\n",
       "      <td>-1.196981</td>\n",
       "    </tr>\n",
       "    <tr>\n",
       "      <th>3</th>\n",
       "      <td>1.873300</td>\n",
       "    </tr>\n",
       "    <tr>\n",
       "      <th>4</th>\n",
       "      <td>-0.545041</td>\n",
       "    </tr>\n",
       "  </tbody>\n",
       "</table>\n",
       "</div>"
      ],
      "text/plain": [
       "          B\n",
       "0 -2.835179\n",
       "1  1.105613\n",
       "2 -1.196981\n",
       "3  1.873300\n",
       "4 -0.545041"
      ]
     },
     "execution_count": 148,
     "metadata": {},
     "output_type": "execute_result"
    }
   ],
   "source": [
    "dfl.iloc[:, 1:3]"
   ]
  },
  {
   "cell_type": "code",
   "execution_count": 149,
   "id": "a106d6d0-1904-4c8b-9146-0b2bb35aa4b8",
   "metadata": {},
   "outputs": [
    {
     "data": {
      "text/html": [
       "<div>\n",
       "<style scoped>\n",
       "    .dataframe tbody tr th:only-of-type {\n",
       "        vertical-align: middle;\n",
       "    }\n",
       "\n",
       "    .dataframe tbody tr th {\n",
       "        vertical-align: top;\n",
       "    }\n",
       "\n",
       "    .dataframe thead th {\n",
       "        text-align: right;\n",
       "    }\n",
       "</style>\n",
       "<table border=\"1\" class=\"dataframe\">\n",
       "  <thead>\n",
       "    <tr style=\"text-align: right;\">\n",
       "      <th></th>\n",
       "      <th>A</th>\n",
       "      <th>B</th>\n",
       "    </tr>\n",
       "  </thead>\n",
       "  <tbody>\n",
       "    <tr>\n",
       "      <th>4</th>\n",
       "      <td>-1.961959</td>\n",
       "      <td>-0.545041</td>\n",
       "    </tr>\n",
       "  </tbody>\n",
       "</table>\n",
       "</div>"
      ],
      "text/plain": [
       "          A         B\n",
       "4 -1.961959 -0.545041"
      ]
     },
     "execution_count": 149,
     "metadata": {},
     "output_type": "execute_result"
    }
   ],
   "source": [
    "dfl.iloc[4:6]"
   ]
  },
  {
   "cell_type": "markdown",
   "id": "93bc9926-73d6-47f2-ad08-ccb985c633bd",
   "metadata": {},
   "source": [
    "## Boolean indexing"
   ]
  },
  {
   "cell_type": "code",
   "execution_count": 150,
   "id": "0c39b84a-415f-46d2-b7f6-319f27c0ed04",
   "metadata": {},
   "outputs": [
    {
     "data": {
      "text/plain": [
       "0   -3\n",
       "1   -2\n",
       "2   -1\n",
       "3    0\n",
       "4    1\n",
       "5    2\n",
       "6    3\n",
       "dtype: int64"
      ]
     },
     "execution_count": 150,
     "metadata": {},
     "output_type": "execute_result"
    }
   ],
   "source": [
    "s = pd.Series(range(-3, 4))\n",
    "s"
   ]
  },
  {
   "cell_type": "code",
   "execution_count": 151,
   "id": "de98616e-a125-4af8-97be-2c404f6c8e0c",
   "metadata": {},
   "outputs": [
    {
     "data": {
      "text/plain": [
       "4    1\n",
       "5    2\n",
       "6    3\n",
       "dtype: int64"
      ]
     },
     "execution_count": 151,
     "metadata": {},
     "output_type": "execute_result"
    }
   ],
   "source": [
    "s[s > 0]"
   ]
  },
  {
   "cell_type": "code",
   "execution_count": 152,
   "id": "e4dfff5b-535d-41b3-bc23-c09f0d749b00",
   "metadata": {},
   "outputs": [
    {
     "data": {
      "text/plain": [
       "0   -3\n",
       "1   -2\n",
       "4    1\n",
       "5    2\n",
       "6    3\n",
       "dtype: int64"
      ]
     },
     "execution_count": 152,
     "metadata": {},
     "output_type": "execute_result"
    }
   ],
   "source": [
    "s[(s < -1) | (s > 0.5)]"
   ]
  },
  {
   "cell_type": "code",
   "execution_count": 153,
   "id": "e3933b89-ae06-4d55-b972-b9f6a1eb6b67",
   "metadata": {},
   "outputs": [
    {
     "data": {
      "text/plain": [
       "4    0\n",
       "3    1\n",
       "2    2\n",
       "1    3\n",
       "0    4\n",
       "dtype: int64"
      ]
     },
     "execution_count": 153,
     "metadata": {},
     "output_type": "execute_result"
    }
   ],
   "source": [
    "s = pd.Series(np.arange(5), index=np.arange(5)[::-1], dtype='int64')\n",
    "s"
   ]
  },
  {
   "cell_type": "markdown",
   "id": "e663fba3-cf61-49e6-9d15-ddd5b35bad1c",
   "metadata": {},
   "source": [
    "## \"where()\" method"
   ]
  },
  {
   "cell_type": "code",
   "execution_count": 154,
   "id": "b327184f-c49e-4b30-99c0-605a5bd642f5",
   "metadata": {},
   "outputs": [
    {
     "data": {
      "text/plain": [
       "4    0\n",
       "3    1\n",
       "2    2\n",
       "1    3\n",
       "0    4\n",
       "dtype: int64"
      ]
     },
     "execution_count": 154,
     "metadata": {},
     "output_type": "execute_result"
    }
   ],
   "source": [
    "s"
   ]
  },
  {
   "cell_type": "code",
   "execution_count": 155,
   "id": "710a308e-07cf-4c92-b26e-b9fb911c437b",
   "metadata": {},
   "outputs": [
    {
     "data": {
      "text/plain": [
       "3    1\n",
       "2    2\n",
       "1    3\n",
       "0    4\n",
       "dtype: int64"
      ]
     },
     "execution_count": 155,
     "metadata": {},
     "output_type": "execute_result"
    }
   ],
   "source": [
    "s[s > 0]"
   ]
  },
  {
   "cell_type": "code",
   "execution_count": 156,
   "id": "5f064622-93cb-4719-8b79-e4c615c52ad8",
   "metadata": {},
   "outputs": [
    {
     "data": {
      "text/plain": [
       "4    NaN\n",
       "3    1.0\n",
       "2    2.0\n",
       "1    3.0\n",
       "0    4.0\n",
       "dtype: float64"
      ]
     },
     "execution_count": 156,
     "metadata": {},
     "output_type": "execute_result"
    }
   ],
   "source": [
    "# where show all data\n",
    "s.where(s > 0)"
   ]
  },
  {
   "cell_type": "code",
   "execution_count": 157,
   "id": "facdac99-97a6-4826-9444-9000b20b9ec6",
   "metadata": {},
   "outputs": [
    {
     "data": {
      "text/html": [
       "<div>\n",
       "<style scoped>\n",
       "    .dataframe tbody tr th:only-of-type {\n",
       "        vertical-align: middle;\n",
       "    }\n",
       "\n",
       "    .dataframe tbody tr th {\n",
       "        vertical-align: top;\n",
       "    }\n",
       "\n",
       "    .dataframe thead th {\n",
       "        text-align: right;\n",
       "    }\n",
       "</style>\n",
       "<table border=\"1\" class=\"dataframe\">\n",
       "  <thead>\n",
       "    <tr style=\"text-align: right;\">\n",
       "      <th></th>\n",
       "      <th>A</th>\n",
       "      <th>B</th>\n",
       "      <th>C</th>\n",
       "      <th>D</th>\n",
       "    </tr>\n",
       "  </thead>\n",
       "  <tbody>\n",
       "    <tr>\n",
       "      <th>2000-01-01</th>\n",
       "      <td>-1.111184</td>\n",
       "      <td>0.111425</td>\n",
       "      <td>-0.203216</td>\n",
       "      <td>-0.010681</td>\n",
       "    </tr>\n",
       "    <tr>\n",
       "      <th>2000-01-02</th>\n",
       "      <td>-1.459308</td>\n",
       "      <td>0.944168</td>\n",
       "      <td>0.133725</td>\n",
       "      <td>-0.928130</td>\n",
       "    </tr>\n",
       "    <tr>\n",
       "      <th>2000-01-03</th>\n",
       "      <td>1.841284</td>\n",
       "      <td>0.141059</td>\n",
       "      <td>0.016433</td>\n",
       "      <td>1.520488</td>\n",
       "    </tr>\n",
       "    <tr>\n",
       "      <th>2000-01-04</th>\n",
       "      <td>0.051046</td>\n",
       "      <td>0.193758</td>\n",
       "      <td>-0.205155</td>\n",
       "      <td>-1.216477</td>\n",
       "    </tr>\n",
       "    <tr>\n",
       "      <th>2000-01-05</th>\n",
       "      <td>0.124263</td>\n",
       "      <td>-0.394562</td>\n",
       "      <td>2.398312</td>\n",
       "      <td>0.603187</td>\n",
       "    </tr>\n",
       "    <tr>\n",
       "      <th>2000-01-06</th>\n",
       "      <td>-0.237255</td>\n",
       "      <td>-0.307944</td>\n",
       "      <td>-1.465180</td>\n",
       "      <td>0.229960</td>\n",
       "    </tr>\n",
       "    <tr>\n",
       "      <th>2000-01-07</th>\n",
       "      <td>0.879876</td>\n",
       "      <td>-0.976123</td>\n",
       "      <td>-0.008626</td>\n",
       "      <td>-1.791656</td>\n",
       "    </tr>\n",
       "    <tr>\n",
       "      <th>2000-01-08</th>\n",
       "      <td>-0.868310</td>\n",
       "      <td>-0.810089</td>\n",
       "      <td>0.400653</td>\n",
       "      <td>-0.269449</td>\n",
       "    </tr>\n",
       "  </tbody>\n",
       "</table>\n",
       "</div>"
      ],
      "text/plain": [
       "                   A         B         C         D\n",
       "2000-01-01 -1.111184  0.111425 -0.203216 -0.010681\n",
       "2000-01-02 -1.459308  0.944168  0.133725 -0.928130\n",
       "2000-01-03  1.841284  0.141059  0.016433  1.520488\n",
       "2000-01-04  0.051046  0.193758 -0.205155 -1.216477\n",
       "2000-01-05  0.124263 -0.394562  2.398312  0.603187\n",
       "2000-01-06 -0.237255 -0.307944 -1.465180  0.229960\n",
       "2000-01-07  0.879876 -0.976123 -0.008626 -1.791656\n",
       "2000-01-08 -0.868310 -0.810089  0.400653 -0.269449"
      ]
     },
     "execution_count": 157,
     "metadata": {},
     "output_type": "execute_result"
    }
   ],
   "source": [
    "dates = pd.date_range('1/1/2000', periods=8)\n",
    "\n",
    "df = pd.DataFrame(np.random.randn(8, 4),\n",
    "                  index=dates, columns=['A', 'B', 'C', 'D'])\n",
    "\n",
    "df"
   ]
  },
  {
   "cell_type": "code",
   "execution_count": 158,
   "id": "b54ecc42-ad4d-49b4-b465-8d361beeb02e",
   "metadata": {},
   "outputs": [
    {
     "data": {
      "text/html": [
       "<div>\n",
       "<style scoped>\n",
       "    .dataframe tbody tr th:only-of-type {\n",
       "        vertical-align: middle;\n",
       "    }\n",
       "\n",
       "    .dataframe tbody tr th {\n",
       "        vertical-align: top;\n",
       "    }\n",
       "\n",
       "    .dataframe thead th {\n",
       "        text-align: right;\n",
       "    }\n",
       "</style>\n",
       "<table border=\"1\" class=\"dataframe\">\n",
       "  <thead>\n",
       "    <tr style=\"text-align: right;\">\n",
       "      <th></th>\n",
       "      <th>A</th>\n",
       "      <th>B</th>\n",
       "      <th>C</th>\n",
       "      <th>D</th>\n",
       "    </tr>\n",
       "  </thead>\n",
       "  <tbody>\n",
       "    <tr>\n",
       "      <th>2000-01-01</th>\n",
       "      <td>-1.111184</td>\n",
       "      <td>NaN</td>\n",
       "      <td>-0.203216</td>\n",
       "      <td>-0.010681</td>\n",
       "    </tr>\n",
       "    <tr>\n",
       "      <th>2000-01-02</th>\n",
       "      <td>-1.459308</td>\n",
       "      <td>NaN</td>\n",
       "      <td>NaN</td>\n",
       "      <td>-0.928130</td>\n",
       "    </tr>\n",
       "    <tr>\n",
       "      <th>2000-01-03</th>\n",
       "      <td>NaN</td>\n",
       "      <td>NaN</td>\n",
       "      <td>NaN</td>\n",
       "      <td>NaN</td>\n",
       "    </tr>\n",
       "    <tr>\n",
       "      <th>2000-01-04</th>\n",
       "      <td>NaN</td>\n",
       "      <td>NaN</td>\n",
       "      <td>-0.205155</td>\n",
       "      <td>-1.216477</td>\n",
       "    </tr>\n",
       "    <tr>\n",
       "      <th>2000-01-05</th>\n",
       "      <td>NaN</td>\n",
       "      <td>-0.394562</td>\n",
       "      <td>NaN</td>\n",
       "      <td>NaN</td>\n",
       "    </tr>\n",
       "    <tr>\n",
       "      <th>2000-01-06</th>\n",
       "      <td>-0.237255</td>\n",
       "      <td>-0.307944</td>\n",
       "      <td>-1.465180</td>\n",
       "      <td>NaN</td>\n",
       "    </tr>\n",
       "    <tr>\n",
       "      <th>2000-01-07</th>\n",
       "      <td>NaN</td>\n",
       "      <td>-0.976123</td>\n",
       "      <td>-0.008626</td>\n",
       "      <td>-1.791656</td>\n",
       "    </tr>\n",
       "    <tr>\n",
       "      <th>2000-01-08</th>\n",
       "      <td>-0.868310</td>\n",
       "      <td>-0.810089</td>\n",
       "      <td>NaN</td>\n",
       "      <td>-0.269449</td>\n",
       "    </tr>\n",
       "  </tbody>\n",
       "</table>\n",
       "</div>"
      ],
      "text/plain": [
       "                   A         B         C         D\n",
       "2000-01-01 -1.111184       NaN -0.203216 -0.010681\n",
       "2000-01-02 -1.459308       NaN       NaN -0.928130\n",
       "2000-01-03       NaN       NaN       NaN       NaN\n",
       "2000-01-04       NaN       NaN -0.205155 -1.216477\n",
       "2000-01-05       NaN -0.394562       NaN       NaN\n",
       "2000-01-06 -0.237255 -0.307944 -1.465180       NaN\n",
       "2000-01-07       NaN -0.976123 -0.008626 -1.791656\n",
       "2000-01-08 -0.868310 -0.810089       NaN -0.269449"
      ]
     },
     "execution_count": 158,
     "metadata": {},
     "output_type": "execute_result"
    }
   ],
   "source": [
    "df[df < 0]"
   ]
  },
  {
   "cell_type": "code",
   "execution_count": 159,
   "id": "77f20b65-e396-41e3-8112-9c6b6d2a6798",
   "metadata": {},
   "outputs": [
    {
     "data": {
      "text/html": [
       "<div>\n",
       "<style scoped>\n",
       "    .dataframe tbody tr th:only-of-type {\n",
       "        vertical-align: middle;\n",
       "    }\n",
       "\n",
       "    .dataframe tbody tr th {\n",
       "        vertical-align: top;\n",
       "    }\n",
       "\n",
       "    .dataframe thead th {\n",
       "        text-align: right;\n",
       "    }\n",
       "</style>\n",
       "<table border=\"1\" class=\"dataframe\">\n",
       "  <thead>\n",
       "    <tr style=\"text-align: right;\">\n",
       "      <th></th>\n",
       "      <th>A</th>\n",
       "      <th>B</th>\n",
       "      <th>C</th>\n",
       "      <th>D</th>\n",
       "    </tr>\n",
       "  </thead>\n",
       "  <tbody>\n",
       "    <tr>\n",
       "      <th>2000-01-01</th>\n",
       "      <td>-1.111184</td>\n",
       "      <td>100.000000</td>\n",
       "      <td>-0.203216</td>\n",
       "      <td>-0.010681</td>\n",
       "    </tr>\n",
       "    <tr>\n",
       "      <th>2000-01-02</th>\n",
       "      <td>-1.459308</td>\n",
       "      <td>100.000000</td>\n",
       "      <td>100.000000</td>\n",
       "      <td>-0.928130</td>\n",
       "    </tr>\n",
       "    <tr>\n",
       "      <th>2000-01-03</th>\n",
       "      <td>100.000000</td>\n",
       "      <td>100.000000</td>\n",
       "      <td>100.000000</td>\n",
       "      <td>100.000000</td>\n",
       "    </tr>\n",
       "    <tr>\n",
       "      <th>2000-01-04</th>\n",
       "      <td>100.000000</td>\n",
       "      <td>100.000000</td>\n",
       "      <td>-0.205155</td>\n",
       "      <td>-1.216477</td>\n",
       "    </tr>\n",
       "    <tr>\n",
       "      <th>2000-01-05</th>\n",
       "      <td>100.000000</td>\n",
       "      <td>-0.394562</td>\n",
       "      <td>100.000000</td>\n",
       "      <td>100.000000</td>\n",
       "    </tr>\n",
       "    <tr>\n",
       "      <th>2000-01-06</th>\n",
       "      <td>-0.237255</td>\n",
       "      <td>-0.307944</td>\n",
       "      <td>-1.465180</td>\n",
       "      <td>100.000000</td>\n",
       "    </tr>\n",
       "    <tr>\n",
       "      <th>2000-01-07</th>\n",
       "      <td>100.000000</td>\n",
       "      <td>-0.976123</td>\n",
       "      <td>-0.008626</td>\n",
       "      <td>-1.791656</td>\n",
       "    </tr>\n",
       "    <tr>\n",
       "      <th>2000-01-08</th>\n",
       "      <td>-0.868310</td>\n",
       "      <td>-0.810089</td>\n",
       "      <td>100.000000</td>\n",
       "      <td>-0.269449</td>\n",
       "    </tr>\n",
       "  </tbody>\n",
       "</table>\n",
       "</div>"
      ],
      "text/plain": [
       "                     A           B           C           D\n",
       "2000-01-01   -1.111184  100.000000   -0.203216   -0.010681\n",
       "2000-01-02   -1.459308  100.000000  100.000000   -0.928130\n",
       "2000-01-03  100.000000  100.000000  100.000000  100.000000\n",
       "2000-01-04  100.000000  100.000000   -0.205155   -1.216477\n",
       "2000-01-05  100.000000   -0.394562  100.000000  100.000000\n",
       "2000-01-06   -0.237255   -0.307944   -1.465180  100.000000\n",
       "2000-01-07  100.000000   -0.976123   -0.008626   -1.791656\n",
       "2000-01-08   -0.868310   -0.810089  100.000000   -0.269449"
      ]
     },
     "execution_count": 159,
     "metadata": {},
     "output_type": "execute_result"
    }
   ],
   "source": [
    "df.where(df < 0, other=100)"
   ]
  },
  {
   "cell_type": "code",
   "execution_count": 160,
   "id": "fa9b030a-58a7-47be-84d5-3bec96e3ffae",
   "metadata": {},
   "outputs": [
    {
     "data": {
      "text/html": [
       "<div>\n",
       "<style scoped>\n",
       "    .dataframe tbody tr th:only-of-type {\n",
       "        vertical-align: middle;\n",
       "    }\n",
       "\n",
       "    .dataframe tbody tr th {\n",
       "        vertical-align: top;\n",
       "    }\n",
       "\n",
       "    .dataframe thead th {\n",
       "        text-align: right;\n",
       "    }\n",
       "</style>\n",
       "<table border=\"1\" class=\"dataframe\">\n",
       "  <thead>\n",
       "    <tr style=\"text-align: right;\">\n",
       "      <th></th>\n",
       "      <th>A</th>\n",
       "      <th>B</th>\n",
       "      <th>C</th>\n",
       "      <th>D</th>\n",
       "    </tr>\n",
       "  </thead>\n",
       "  <tbody>\n",
       "    <tr>\n",
       "      <th>2000-01-01</th>\n",
       "      <td>-1.111184</td>\n",
       "      <td>-0.111425</td>\n",
       "      <td>-0.203216</td>\n",
       "      <td>-0.010681</td>\n",
       "    </tr>\n",
       "    <tr>\n",
       "      <th>2000-01-02</th>\n",
       "      <td>-1.459308</td>\n",
       "      <td>-0.944168</td>\n",
       "      <td>-0.133725</td>\n",
       "      <td>-0.928130</td>\n",
       "    </tr>\n",
       "    <tr>\n",
       "      <th>2000-01-03</th>\n",
       "      <td>-1.841284</td>\n",
       "      <td>-0.141059</td>\n",
       "      <td>-0.016433</td>\n",
       "      <td>-1.520488</td>\n",
       "    </tr>\n",
       "    <tr>\n",
       "      <th>2000-01-04</th>\n",
       "      <td>-0.051046</td>\n",
       "      <td>-0.193758</td>\n",
       "      <td>-0.205155</td>\n",
       "      <td>-1.216477</td>\n",
       "    </tr>\n",
       "    <tr>\n",
       "      <th>2000-01-05</th>\n",
       "      <td>-0.124263</td>\n",
       "      <td>-0.394562</td>\n",
       "      <td>-2.398312</td>\n",
       "      <td>-0.603187</td>\n",
       "    </tr>\n",
       "    <tr>\n",
       "      <th>2000-01-06</th>\n",
       "      <td>-0.237255</td>\n",
       "      <td>-0.307944</td>\n",
       "      <td>-1.465180</td>\n",
       "      <td>-0.229960</td>\n",
       "    </tr>\n",
       "    <tr>\n",
       "      <th>2000-01-07</th>\n",
       "      <td>-0.879876</td>\n",
       "      <td>-0.976123</td>\n",
       "      <td>-0.008626</td>\n",
       "      <td>-1.791656</td>\n",
       "    </tr>\n",
       "    <tr>\n",
       "      <th>2000-01-08</th>\n",
       "      <td>-0.868310</td>\n",
       "      <td>-0.810089</td>\n",
       "      <td>-0.400653</td>\n",
       "      <td>-0.269449</td>\n",
       "    </tr>\n",
       "  </tbody>\n",
       "</table>\n",
       "</div>"
      ],
      "text/plain": [
       "                   A         B         C         D\n",
       "2000-01-01 -1.111184 -0.111425 -0.203216 -0.010681\n",
       "2000-01-02 -1.459308 -0.944168 -0.133725 -0.928130\n",
       "2000-01-03 -1.841284 -0.141059 -0.016433 -1.520488\n",
       "2000-01-04 -0.051046 -0.193758 -0.205155 -1.216477\n",
       "2000-01-05 -0.124263 -0.394562 -2.398312 -0.603187\n",
       "2000-01-06 -0.237255 -0.307944 -1.465180 -0.229960\n",
       "2000-01-07 -0.879876 -0.976123 -0.008626 -1.791656\n",
       "2000-01-08 -0.868310 -0.810089 -0.400653 -0.269449"
      ]
     },
     "execution_count": 160,
     "metadata": {},
     "output_type": "execute_result"
    }
   ],
   "source": [
    "df.where(df < 0, -df)"
   ]
  },
  {
   "cell_type": "code",
   "execution_count": 161,
   "id": "1c2a9458-0838-47a8-ae9d-5e530a52861a",
   "metadata": {},
   "outputs": [
    {
     "data": {
      "text/plain": [
       "4    0\n",
       "3    1\n",
       "2    2\n",
       "1    3\n",
       "0    4\n",
       "dtype: int64"
      ]
     },
     "execution_count": 161,
     "metadata": {},
     "output_type": "execute_result"
    }
   ],
   "source": [
    "s2 = s.copy()\n",
    "s2[s2 < 0] = 0\n",
    "s2"
   ]
  },
  {
   "cell_type": "code",
   "execution_count": 162,
   "id": "0c5ac36d-cd86-4ee1-aa5c-3b6093421329",
   "metadata": {},
   "outputs": [
    {
     "data": {
      "text/html": [
       "<div>\n",
       "<style scoped>\n",
       "    .dataframe tbody tr th:only-of-type {\n",
       "        vertical-align: middle;\n",
       "    }\n",
       "\n",
       "    .dataframe tbody tr th {\n",
       "        vertical-align: top;\n",
       "    }\n",
       "\n",
       "    .dataframe thead th {\n",
       "        text-align: right;\n",
       "    }\n",
       "</style>\n",
       "<table border=\"1\" class=\"dataframe\">\n",
       "  <thead>\n",
       "    <tr style=\"text-align: right;\">\n",
       "      <th></th>\n",
       "      <th>A</th>\n",
       "      <th>B</th>\n",
       "      <th>C</th>\n",
       "      <th>D</th>\n",
       "    </tr>\n",
       "  </thead>\n",
       "  <tbody>\n",
       "    <tr>\n",
       "      <th>2000-01-01</th>\n",
       "      <td>0.000000</td>\n",
       "      <td>0.111425</td>\n",
       "      <td>0.000000</td>\n",
       "      <td>0.000000</td>\n",
       "    </tr>\n",
       "    <tr>\n",
       "      <th>2000-01-02</th>\n",
       "      <td>0.000000</td>\n",
       "      <td>0.944168</td>\n",
       "      <td>0.133725</td>\n",
       "      <td>0.000000</td>\n",
       "    </tr>\n",
       "    <tr>\n",
       "      <th>2000-01-03</th>\n",
       "      <td>1.841284</td>\n",
       "      <td>0.141059</td>\n",
       "      <td>0.016433</td>\n",
       "      <td>1.520488</td>\n",
       "    </tr>\n",
       "    <tr>\n",
       "      <th>2000-01-04</th>\n",
       "      <td>0.051046</td>\n",
       "      <td>0.193758</td>\n",
       "      <td>0.000000</td>\n",
       "      <td>0.000000</td>\n",
       "    </tr>\n",
       "    <tr>\n",
       "      <th>2000-01-05</th>\n",
       "      <td>0.124263</td>\n",
       "      <td>0.000000</td>\n",
       "      <td>2.398312</td>\n",
       "      <td>0.603187</td>\n",
       "    </tr>\n",
       "    <tr>\n",
       "      <th>2000-01-06</th>\n",
       "      <td>0.000000</td>\n",
       "      <td>0.000000</td>\n",
       "      <td>0.000000</td>\n",
       "      <td>0.229960</td>\n",
       "    </tr>\n",
       "    <tr>\n",
       "      <th>2000-01-07</th>\n",
       "      <td>0.879876</td>\n",
       "      <td>0.000000</td>\n",
       "      <td>0.000000</td>\n",
       "      <td>0.000000</td>\n",
       "    </tr>\n",
       "    <tr>\n",
       "      <th>2000-01-08</th>\n",
       "      <td>0.000000</td>\n",
       "      <td>0.000000</td>\n",
       "      <td>0.400653</td>\n",
       "      <td>0.000000</td>\n",
       "    </tr>\n",
       "  </tbody>\n",
       "</table>\n",
       "</div>"
      ],
      "text/plain": [
       "                   A         B         C         D\n",
       "2000-01-01  0.000000  0.111425  0.000000  0.000000\n",
       "2000-01-02  0.000000  0.944168  0.133725  0.000000\n",
       "2000-01-03  1.841284  0.141059  0.016433  1.520488\n",
       "2000-01-04  0.051046  0.193758  0.000000  0.000000\n",
       "2000-01-05  0.124263  0.000000  2.398312  0.603187\n",
       "2000-01-06  0.000000  0.000000  0.000000  0.229960\n",
       "2000-01-07  0.879876  0.000000  0.000000  0.000000\n",
       "2000-01-08  0.000000  0.000000  0.400653  0.000000"
      ]
     },
     "execution_count": 162,
     "metadata": {},
     "output_type": "execute_result"
    }
   ],
   "source": [
    "df2 = df.copy()\n",
    "df2[df2 < 0] = 0\n",
    "df2"
   ]
  },
  {
   "cell_type": "code",
   "execution_count": 163,
   "id": "52cbe0e1-0493-4cad-8ed0-fbdbd5195ed4",
   "metadata": {},
   "outputs": [
    {
     "data": {
      "text/html": [
       "<div>\n",
       "<style scoped>\n",
       "    .dataframe tbody tr th:only-of-type {\n",
       "        vertical-align: middle;\n",
       "    }\n",
       "\n",
       "    .dataframe tbody tr th {\n",
       "        vertical-align: top;\n",
       "    }\n",
       "\n",
       "    .dataframe thead th {\n",
       "        text-align: right;\n",
       "    }\n",
       "</style>\n",
       "<table border=\"1\" class=\"dataframe\">\n",
       "  <thead>\n",
       "    <tr style=\"text-align: right;\">\n",
       "      <th></th>\n",
       "      <th>A</th>\n",
       "      <th>B</th>\n",
       "      <th>C</th>\n",
       "      <th>D</th>\n",
       "    </tr>\n",
       "  </thead>\n",
       "  <tbody>\n",
       "    <tr>\n",
       "      <th>2000-01-01</th>\n",
       "      <td>-1.111184</td>\n",
       "      <td>0.111425</td>\n",
       "      <td>-0.203216</td>\n",
       "      <td>-0.010681</td>\n",
       "    </tr>\n",
       "    <tr>\n",
       "      <th>2000-01-02</th>\n",
       "      <td>-1.459308</td>\n",
       "      <td>3.000000</td>\n",
       "      <td>3.000000</td>\n",
       "      <td>-0.928130</td>\n",
       "    </tr>\n",
       "    <tr>\n",
       "      <th>2000-01-03</th>\n",
       "      <td>3.000000</td>\n",
       "      <td>3.000000</td>\n",
       "      <td>3.000000</td>\n",
       "      <td>3.000000</td>\n",
       "    </tr>\n",
       "    <tr>\n",
       "      <th>2000-01-04</th>\n",
       "      <td>3.000000</td>\n",
       "      <td>3.000000</td>\n",
       "      <td>-0.205155</td>\n",
       "      <td>-1.216477</td>\n",
       "    </tr>\n",
       "    <tr>\n",
       "      <th>2000-01-05</th>\n",
       "      <td>0.124263</td>\n",
       "      <td>-0.394562</td>\n",
       "      <td>2.398312</td>\n",
       "      <td>0.603187</td>\n",
       "    </tr>\n",
       "    <tr>\n",
       "      <th>2000-01-06</th>\n",
       "      <td>-0.237255</td>\n",
       "      <td>-0.307944</td>\n",
       "      <td>-1.465180</td>\n",
       "      <td>0.229960</td>\n",
       "    </tr>\n",
       "    <tr>\n",
       "      <th>2000-01-07</th>\n",
       "      <td>0.879876</td>\n",
       "      <td>-0.976123</td>\n",
       "      <td>-0.008626</td>\n",
       "      <td>-1.791656</td>\n",
       "    </tr>\n",
       "    <tr>\n",
       "      <th>2000-01-08</th>\n",
       "      <td>-0.868310</td>\n",
       "      <td>-0.810089</td>\n",
       "      <td>0.400653</td>\n",
       "      <td>-0.269449</td>\n",
       "    </tr>\n",
       "  </tbody>\n",
       "</table>\n",
       "</div>"
      ],
      "text/plain": [
       "                   A         B         C         D\n",
       "2000-01-01 -1.111184  0.111425 -0.203216 -0.010681\n",
       "2000-01-02 -1.459308  3.000000  3.000000 -0.928130\n",
       "2000-01-03  3.000000  3.000000  3.000000  3.000000\n",
       "2000-01-04  3.000000  3.000000 -0.205155 -1.216477\n",
       "2000-01-05  0.124263 -0.394562  2.398312  0.603187\n",
       "2000-01-06 -0.237255 -0.307944 -1.465180  0.229960\n",
       "2000-01-07  0.879876 -0.976123 -0.008626 -1.791656\n",
       "2000-01-08 -0.868310 -0.810089  0.400653 -0.269449"
      ]
     },
     "execution_count": 163,
     "metadata": {},
     "output_type": "execute_result"
    }
   ],
   "source": [
    "df2 = df.copy()\n",
    "df2[df2[1:4] > 0] = 3\n",
    "df2"
   ]
  },
  {
   "cell_type": "code",
   "execution_count": 164,
   "id": "a52d0904-dd2b-48f6-b34d-44bcafebb22a",
   "metadata": {},
   "outputs": [
    {
     "name": "stdout",
     "output_type": "stream",
     "text": [
      "  col1 col2   color\n",
      "0    A    Z  yellow\n",
      "1    B    Z    blue\n",
      "2    B    X  purple\n",
      "3    C    Y   black\n"
     ]
    }
   ],
   "source": [
    "df = pd.DataFrame({\n",
    "    'col1': ['A', 'B', 'B', 'C'],\n",
    "    'col2': ['Z', 'Z', 'X', 'Y']\n",
    "})\n",
    "\n",
    "# Define conditions\n",
    "conditions = [\n",
    "    (df['col2'] == 'Z') & (df['col1'] == 'A'),\n",
    "    (df['col2'] == 'Z') & (df['col1'] == 'B'),\n",
    "    (df['col1'] == 'B')\n",
    "]\n",
    "\n",
    "# Define choices\n",
    "choices = ['yellow', 'blue', 'purple']\n",
    "\n",
    "# Apply conditions\n",
    "df['color'] = np.select(conditions, choices, default='black')\n",
    "\n",
    "print(df)\n"
   ]
  },
  {
   "cell_type": "markdown",
   "id": "6ee8572d-8f7c-4611-be2d-7d8e2d83d564",
   "metadata": {},
   "source": [
    "## Query() method"
   ]
  },
  {
   "cell_type": "code",
   "execution_count": 165,
   "id": "18887566-f229-48c0-8820-9a1abea2ae5e",
   "metadata": {},
   "outputs": [
    {
     "name": "stdout",
     "output_type": "stream",
     "text": [
      "           a         b         c\n",
      "0   0.001535  0.599048  0.359289\n",
      "1   0.223811  0.526910  0.024859\n",
      "2   0.143609  0.214179  0.681243\n",
      "3   0.126323  0.291977  0.029326\n",
      "4   0.841549  0.805362  0.752678\n",
      "5   0.402579  0.687470  0.675145\n",
      "6   0.534265  0.615124  0.510543\n",
      "7   0.338336  0.405713  0.038000\n",
      "8   0.927626  0.177379  0.110387\n",
      "9   0.145881  0.886670  0.459744\n",
      "10  0.248308  0.894628  0.725790\n",
      "11  0.622451  0.565187  0.505934\n",
      "12  0.697030  0.907298  0.443837\n",
      "13  0.484884  0.516475  0.499317\n",
      "14  0.434971  0.637858  0.628640\n",
      "15  0.835484  0.428290  0.044093\n",
      "16  0.704006  0.719076  0.149676\n",
      "17  0.214076  0.412534  0.067388\n",
      "18  0.793348  0.069989  0.816133\n",
      "19  0.104083  0.828937  0.077961\n"
     ]
    },
    {
     "data": {
      "text/html": [
       "<div>\n",
       "<style scoped>\n",
       "    .dataframe tbody tr th:only-of-type {\n",
       "        vertical-align: middle;\n",
       "    }\n",
       "\n",
       "    .dataframe tbody tr th {\n",
       "        vertical-align: top;\n",
       "    }\n",
       "\n",
       "    .dataframe thead th {\n",
       "        text-align: right;\n",
       "    }\n",
       "</style>\n",
       "<table border=\"1\" class=\"dataframe\">\n",
       "  <thead>\n",
       "    <tr style=\"text-align: right;\">\n",
       "      <th></th>\n",
       "      <th>a</th>\n",
       "      <th>b</th>\n",
       "      <th>c</th>\n",
       "    </tr>\n",
       "  </thead>\n",
       "  <tbody>\n",
       "    <tr>\n",
       "      <th>2</th>\n",
       "      <td>0.143609</td>\n",
       "      <td>0.214179</td>\n",
       "      <td>0.681243</td>\n",
       "    </tr>\n",
       "  </tbody>\n",
       "</table>\n",
       "</div>"
      ],
      "text/plain": [
       "          a         b         c\n",
       "2  0.143609  0.214179  0.681243"
      ]
     },
     "execution_count": 165,
     "metadata": {},
     "output_type": "execute_result"
    }
   ],
   "source": [
    "n = 20\n",
    "df = pd.DataFrame(np.random.rand(n, 3), columns=list('abc'))\n",
    "print(df)\n",
    "df[(df['a'] < df['b']) & (df['b'] < df['c'])]"
   ]
  },
  {
   "cell_type": "code",
   "execution_count": 166,
   "id": "5f572c20-452c-44a5-bbfc-b3389edecf5c",
   "metadata": {},
   "outputs": [
    {
     "data": {
      "text/html": [
       "<div>\n",
       "<style scoped>\n",
       "    .dataframe tbody tr th:only-of-type {\n",
       "        vertical-align: middle;\n",
       "    }\n",
       "\n",
       "    .dataframe tbody tr th {\n",
       "        vertical-align: top;\n",
       "    }\n",
       "\n",
       "    .dataframe thead th {\n",
       "        text-align: right;\n",
       "    }\n",
       "</style>\n",
       "<table border=\"1\" class=\"dataframe\">\n",
       "  <thead>\n",
       "    <tr style=\"text-align: right;\">\n",
       "      <th></th>\n",
       "      <th>a</th>\n",
       "      <th>b</th>\n",
       "      <th>c</th>\n",
       "    </tr>\n",
       "  </thead>\n",
       "  <tbody>\n",
       "    <tr>\n",
       "      <th>2</th>\n",
       "      <td>0.143609</td>\n",
       "      <td>0.214179</td>\n",
       "      <td>0.681243</td>\n",
       "    </tr>\n",
       "  </tbody>\n",
       "</table>\n",
       "</div>"
      ],
      "text/plain": [
       "          a         b         c\n",
       "2  0.143609  0.214179  0.681243"
      ]
     },
     "execution_count": 166,
     "metadata": {},
     "output_type": "execute_result"
    }
   ],
   "source": [
    "df.query('(a < b) & (b < c)')"
   ]
  },
  {
   "cell_type": "code",
   "execution_count": 167,
   "id": "4ea66fe7-4acc-4f0f-97d6-60fd9ec08594",
   "metadata": {},
   "outputs": [
    {
     "name": "stdout",
     "output_type": "stream",
     "text": [
      "   b  c\n",
      "a      \n",
      "0  3  5\n",
      "3  5  9\n"
     ]
    },
    {
     "data": {
      "text/html": [
       "<div>\n",
       "<style scoped>\n",
       "    .dataframe tbody tr th:only-of-type {\n",
       "        vertical-align: middle;\n",
       "    }\n",
       "\n",
       "    .dataframe tbody tr th {\n",
       "        vertical-align: top;\n",
       "    }\n",
       "\n",
       "    .dataframe thead th {\n",
       "        text-align: right;\n",
       "    }\n",
       "</style>\n",
       "<table border=\"1\" class=\"dataframe\">\n",
       "  <thead>\n",
       "    <tr style=\"text-align: right;\">\n",
       "      <th></th>\n",
       "      <th>b</th>\n",
       "      <th>c</th>\n",
       "    </tr>\n",
       "    <tr>\n",
       "      <th>a</th>\n",
       "      <th></th>\n",
       "      <th></th>\n",
       "    </tr>\n",
       "  </thead>\n",
       "  <tbody>\n",
       "    <tr>\n",
       "      <th>0</th>\n",
       "      <td>3</td>\n",
       "      <td>5</td>\n",
       "    </tr>\n",
       "    <tr>\n",
       "      <th>3</th>\n",
       "      <td>5</td>\n",
       "      <td>9</td>\n",
       "    </tr>\n",
       "  </tbody>\n",
       "</table>\n",
       "</div>"
      ],
      "text/plain": [
       "   b  c\n",
       "a      \n",
       "0  3  5\n",
       "3  5  9"
      ]
     },
     "execution_count": 167,
     "metadata": {},
     "output_type": "execute_result"
    }
   ],
   "source": [
    "df = pd.DataFrame(np.random.randint(n / 2, size=(n, 2)), columns=list('bc'))\n",
    "df.index.name = 'a'\n",
    "df\n",
    "print(df.query('a < b and b < c'))\n",
    "df.query('index < b < c')\n"
   ]
  },
  {
   "cell_type": "code",
   "execution_count": 168,
   "id": "7f987550-2af2-4dda-8c8d-1fe149e7157a",
   "metadata": {},
   "outputs": [
    {
     "data": {
      "text/html": [
       "<div>\n",
       "<style scoped>\n",
       "    .dataframe tbody tr th:only-of-type {\n",
       "        vertical-align: middle;\n",
       "    }\n",
       "\n",
       "    .dataframe tbody tr th {\n",
       "        vertical-align: top;\n",
       "    }\n",
       "\n",
       "    .dataframe thead th {\n",
       "        text-align: right;\n",
       "    }\n",
       "</style>\n",
       "<table border=\"1\" class=\"dataframe\">\n",
       "  <thead>\n",
       "    <tr style=\"text-align: right;\">\n",
       "      <th></th>\n",
       "      <th>a</th>\n",
       "    </tr>\n",
       "    <tr>\n",
       "      <th>b</th>\n",
       "      <th></th>\n",
       "    </tr>\n",
       "  </thead>\n",
       "  <tbody>\n",
       "    <tr>\n",
       "      <th>2</th>\n",
       "      <td>3</td>\n",
       "    </tr>\n",
       "    <tr>\n",
       "      <th>4</th>\n",
       "      <td>4</td>\n",
       "    </tr>\n",
       "  </tbody>\n",
       "</table>\n",
       "</div>"
      ],
      "text/plain": [
       "   a\n",
       "b   \n",
       "2  3\n",
       "4  4"
      ]
     },
     "execution_count": 168,
     "metadata": {},
     "output_type": "execute_result"
    }
   ],
   "source": [
    "df = pd.DataFrame({'a': np.random.randint(5, size=5)})\n",
    "df.index.name = 'b'\n",
    "df.query('a > 2')"
   ]
  },
  {
   "cell_type": "code",
   "execution_count": 169,
   "id": "7840403d-4a25-47ad-8d4d-b873be9de8fc",
   "metadata": {},
   "outputs": [
    {
     "data": {
      "text/html": [
       "<div>\n",
       "<style scoped>\n",
       "    .dataframe tbody tr th:only-of-type {\n",
       "        vertical-align: middle;\n",
       "    }\n",
       "\n",
       "    .dataframe tbody tr th {\n",
       "        vertical-align: top;\n",
       "    }\n",
       "\n",
       "    .dataframe thead th {\n",
       "        text-align: right;\n",
       "    }\n",
       "</style>\n",
       "<table border=\"1\" class=\"dataframe\">\n",
       "  <thead>\n",
       "    <tr style=\"text-align: right;\">\n",
       "      <th></th>\n",
       "      <th>a</th>\n",
       "    </tr>\n",
       "    <tr>\n",
       "      <th>b</th>\n",
       "      <th></th>\n",
       "    </tr>\n",
       "  </thead>\n",
       "  <tbody>\n",
       "    <tr>\n",
       "      <th>3</th>\n",
       "      <td>1</td>\n",
       "    </tr>\n",
       "    <tr>\n",
       "      <th>4</th>\n",
       "      <td>4</td>\n",
       "    </tr>\n",
       "  </tbody>\n",
       "</table>\n",
       "</div>"
      ],
      "text/plain": [
       "   a\n",
       "b   \n",
       "3  1\n",
       "4  4"
      ]
     },
     "execution_count": 169,
     "metadata": {},
     "output_type": "execute_result"
    }
   ],
   "source": [
    "df.query('index > 2')"
   ]
  },
  {
   "cell_type": "code",
   "execution_count": 170,
   "id": "8b5c3ce2-be5c-482d-9ee8-194640756f3c",
   "metadata": {},
   "outputs": [
    {
     "data": {
      "text/html": [
       "<div>\n",
       "<style scoped>\n",
       "    .dataframe tbody tr th:only-of-type {\n",
       "        vertical-align: middle;\n",
       "    }\n",
       "\n",
       "    .dataframe tbody tr th {\n",
       "        vertical-align: top;\n",
       "    }\n",
       "\n",
       "    .dataframe thead th {\n",
       "        text-align: right;\n",
       "    }\n",
       "</style>\n",
       "<table border=\"1\" class=\"dataframe\">\n",
       "  <thead>\n",
       "    <tr style=\"text-align: right;\">\n",
       "      <th></th>\n",
       "      <th>a</th>\n",
       "    </tr>\n",
       "    <tr>\n",
       "      <th>b</th>\n",
       "      <th></th>\n",
       "    </tr>\n",
       "  </thead>\n",
       "  <tbody>\n",
       "    <tr>\n",
       "      <th>2</th>\n",
       "      <td>3</td>\n",
       "    </tr>\n",
       "  </tbody>\n",
       "</table>\n",
       "</div>"
      ],
      "text/plain": [
       "   a\n",
       "b   \n",
       "2  3"
      ]
     },
     "execution_count": 170,
     "metadata": {},
     "output_type": "execute_result"
    }
   ],
   "source": [
    "df.query('index == 2')"
   ]
  },
  {
   "cell_type": "code",
   "execution_count": 171,
   "id": "1802543c-ad25-408d-a03e-e355ea63fe08",
   "metadata": {},
   "outputs": [
    {
     "data": {
      "text/html": [
       "<div>\n",
       "<style scoped>\n",
       "    .dataframe tbody tr th:only-of-type {\n",
       "        vertical-align: middle;\n",
       "    }\n",
       "\n",
       "    .dataframe tbody tr th {\n",
       "        vertical-align: top;\n",
       "    }\n",
       "\n",
       "    .dataframe thead th {\n",
       "        text-align: right;\n",
       "    }\n",
       "</style>\n",
       "<table border=\"1\" class=\"dataframe\">\n",
       "  <thead>\n",
       "    <tr style=\"text-align: right;\">\n",
       "      <th></th>\n",
       "      <th>a</th>\n",
       "    </tr>\n",
       "  </thead>\n",
       "  <tbody>\n",
       "    <tr>\n",
       "      <th>0</th>\n",
       "      <td>3</td>\n",
       "    </tr>\n",
       "    <tr>\n",
       "      <th>1</th>\n",
       "      <td>0</td>\n",
       "    </tr>\n",
       "    <tr>\n",
       "      <th>2</th>\n",
       "      <td>1</td>\n",
       "    </tr>\n",
       "    <tr>\n",
       "      <th>3</th>\n",
       "      <td>0</td>\n",
       "    </tr>\n",
       "    <tr>\n",
       "      <th>4</th>\n",
       "      <td>3</td>\n",
       "    </tr>\n",
       "  </tbody>\n",
       "</table>\n",
       "</div>"
      ],
      "text/plain": [
       "   a\n",
       "0  3\n",
       "1  0\n",
       "2  1\n",
       "3  0\n",
       "4  3"
      ]
     },
     "execution_count": 171,
     "metadata": {},
     "output_type": "execute_result"
    }
   ],
   "source": [
    "pt = pd.DataFrame({'a': np.random.randint(5, size=5)})\n",
    "pt.index.names = [None]\n",
    "pt"
   ]
  },
  {
   "cell_type": "markdown",
   "id": "1018a6bb-efd7-473b-a35b-e8869151ab8a",
   "metadata": {},
   "source": [
    "## In and Not in Operator"
   ]
  },
  {
   "cell_type": "code",
   "execution_count": 172,
   "id": "5392fc7a-c0eb-4f16-992f-69ddf6b662fd",
   "metadata": {},
   "outputs": [
    {
     "data": {
      "text/html": [
       "<div>\n",
       "<style scoped>\n",
       "    .dataframe tbody tr th:only-of-type {\n",
       "        vertical-align: middle;\n",
       "    }\n",
       "\n",
       "    .dataframe tbody tr th {\n",
       "        vertical-align: top;\n",
       "    }\n",
       "\n",
       "    .dataframe thead th {\n",
       "        text-align: right;\n",
       "    }\n",
       "</style>\n",
       "<table border=\"1\" class=\"dataframe\">\n",
       "  <thead>\n",
       "    <tr style=\"text-align: right;\">\n",
       "      <th></th>\n",
       "      <th>a</th>\n",
       "      <th>b</th>\n",
       "      <th>c</th>\n",
       "      <th>d</th>\n",
       "    </tr>\n",
       "  </thead>\n",
       "  <tbody>\n",
       "    <tr>\n",
       "      <th>0</th>\n",
       "      <td>a</td>\n",
       "      <td>a</td>\n",
       "      <td>3</td>\n",
       "      <td>8</td>\n",
       "    </tr>\n",
       "    <tr>\n",
       "      <th>1</th>\n",
       "      <td>a</td>\n",
       "      <td>a</td>\n",
       "      <td>1</td>\n",
       "      <td>7</td>\n",
       "    </tr>\n",
       "    <tr>\n",
       "      <th>2</th>\n",
       "      <td>b</td>\n",
       "      <td>a</td>\n",
       "      <td>3</td>\n",
       "      <td>3</td>\n",
       "    </tr>\n",
       "    <tr>\n",
       "      <th>3</th>\n",
       "      <td>b</td>\n",
       "      <td>a</td>\n",
       "      <td>2</td>\n",
       "      <td>0</td>\n",
       "    </tr>\n",
       "    <tr>\n",
       "      <th>4</th>\n",
       "      <td>c</td>\n",
       "      <td>b</td>\n",
       "      <td>1</td>\n",
       "      <td>6</td>\n",
       "    </tr>\n",
       "    <tr>\n",
       "      <th>5</th>\n",
       "      <td>c</td>\n",
       "      <td>b</td>\n",
       "      <td>3</td>\n",
       "      <td>7</td>\n",
       "    </tr>\n",
       "    <tr>\n",
       "      <th>6</th>\n",
       "      <td>d</td>\n",
       "      <td>b</td>\n",
       "      <td>2</td>\n",
       "      <td>2</td>\n",
       "    </tr>\n",
       "    <tr>\n",
       "      <th>7</th>\n",
       "      <td>d</td>\n",
       "      <td>b</td>\n",
       "      <td>4</td>\n",
       "      <td>0</td>\n",
       "    </tr>\n",
       "    <tr>\n",
       "      <th>8</th>\n",
       "      <td>e</td>\n",
       "      <td>c</td>\n",
       "      <td>4</td>\n",
       "      <td>0</td>\n",
       "    </tr>\n",
       "    <tr>\n",
       "      <th>9</th>\n",
       "      <td>e</td>\n",
       "      <td>c</td>\n",
       "      <td>4</td>\n",
       "      <td>2</td>\n",
       "    </tr>\n",
       "    <tr>\n",
       "      <th>10</th>\n",
       "      <td>f</td>\n",
       "      <td>c</td>\n",
       "      <td>1</td>\n",
       "      <td>3</td>\n",
       "    </tr>\n",
       "    <tr>\n",
       "      <th>11</th>\n",
       "      <td>f</td>\n",
       "      <td>c</td>\n",
       "      <td>3</td>\n",
       "      <td>6</td>\n",
       "    </tr>\n",
       "  </tbody>\n",
       "</table>\n",
       "</div>"
      ],
      "text/plain": [
       "    a  b  c  d\n",
       "0   a  a  3  8\n",
       "1   a  a  1  7\n",
       "2   b  a  3  3\n",
       "3   b  a  2  0\n",
       "4   c  b  1  6\n",
       "5   c  b  3  7\n",
       "6   d  b  2  2\n",
       "7   d  b  4  0\n",
       "8   e  c  4  0\n",
       "9   e  c  4  2\n",
       "10  f  c  1  3\n",
       "11  f  c  3  6"
      ]
     },
     "execution_count": 172,
     "metadata": {},
     "output_type": "execute_result"
    }
   ],
   "source": [
    "df = pd.DataFrame({'a': list('aabbccddeeff'), 'b': list('aaaabbbbcccc'),\n",
    "                   'c': np.random.randint(5, size=12),\n",
    "                   'd': np.random.randint(9, size=12)})\n",
    "df"
   ]
  },
  {
   "cell_type": "code",
   "execution_count": 173,
   "id": "c26519d3-8035-4010-923c-64d75145d614",
   "metadata": {},
   "outputs": [
    {
     "data": {
      "text/html": [
       "<div>\n",
       "<style scoped>\n",
       "    .dataframe tbody tr th:only-of-type {\n",
       "        vertical-align: middle;\n",
       "    }\n",
       "\n",
       "    .dataframe tbody tr th {\n",
       "        vertical-align: top;\n",
       "    }\n",
       "\n",
       "    .dataframe thead th {\n",
       "        text-align: right;\n",
       "    }\n",
       "</style>\n",
       "<table border=\"1\" class=\"dataframe\">\n",
       "  <thead>\n",
       "    <tr style=\"text-align: right;\">\n",
       "      <th></th>\n",
       "      <th>a</th>\n",
       "      <th>b</th>\n",
       "      <th>c</th>\n",
       "      <th>d</th>\n",
       "    </tr>\n",
       "  </thead>\n",
       "  <tbody>\n",
       "    <tr>\n",
       "      <th>0</th>\n",
       "      <td>a</td>\n",
       "      <td>a</td>\n",
       "      <td>3</td>\n",
       "      <td>8</td>\n",
       "    </tr>\n",
       "    <tr>\n",
       "      <th>1</th>\n",
       "      <td>a</td>\n",
       "      <td>a</td>\n",
       "      <td>1</td>\n",
       "      <td>7</td>\n",
       "    </tr>\n",
       "    <tr>\n",
       "      <th>2</th>\n",
       "      <td>b</td>\n",
       "      <td>a</td>\n",
       "      <td>3</td>\n",
       "      <td>3</td>\n",
       "    </tr>\n",
       "    <tr>\n",
       "      <th>3</th>\n",
       "      <td>b</td>\n",
       "      <td>a</td>\n",
       "      <td>2</td>\n",
       "      <td>0</td>\n",
       "    </tr>\n",
       "    <tr>\n",
       "      <th>4</th>\n",
       "      <td>c</td>\n",
       "      <td>b</td>\n",
       "      <td>1</td>\n",
       "      <td>6</td>\n",
       "    </tr>\n",
       "    <tr>\n",
       "      <th>5</th>\n",
       "      <td>c</td>\n",
       "      <td>b</td>\n",
       "      <td>3</td>\n",
       "      <td>7</td>\n",
       "    </tr>\n",
       "  </tbody>\n",
       "</table>\n",
       "</div>"
      ],
      "text/plain": [
       "   a  b  c  d\n",
       "0  a  a  3  8\n",
       "1  a  a  1  7\n",
       "2  b  a  3  3\n",
       "3  b  a  2  0\n",
       "4  c  b  1  6\n",
       "5  c  b  3  7"
      ]
     },
     "execution_count": 173,
     "metadata": {},
     "output_type": "execute_result"
    }
   ],
   "source": [
    "df.query('a in b')"
   ]
  },
  {
   "cell_type": "code",
   "execution_count": 174,
   "id": "cc27b83c-ce1c-4eca-95ab-38cd2599be15",
   "metadata": {},
   "outputs": [
    {
     "data": {
      "text/html": [
       "<div>\n",
       "<style scoped>\n",
       "    .dataframe tbody tr th:only-of-type {\n",
       "        vertical-align: middle;\n",
       "    }\n",
       "\n",
       "    .dataframe tbody tr th {\n",
       "        vertical-align: top;\n",
       "    }\n",
       "\n",
       "    .dataframe thead th {\n",
       "        text-align: right;\n",
       "    }\n",
       "</style>\n",
       "<table border=\"1\" class=\"dataframe\">\n",
       "  <thead>\n",
       "    <tr style=\"text-align: right;\">\n",
       "      <th></th>\n",
       "      <th>a</th>\n",
       "      <th>b</th>\n",
       "      <th>c</th>\n",
       "      <th>d</th>\n",
       "    </tr>\n",
       "  </thead>\n",
       "  <tbody>\n",
       "    <tr>\n",
       "      <th>6</th>\n",
       "      <td>d</td>\n",
       "      <td>b</td>\n",
       "      <td>2</td>\n",
       "      <td>2</td>\n",
       "    </tr>\n",
       "    <tr>\n",
       "      <th>7</th>\n",
       "      <td>d</td>\n",
       "      <td>b</td>\n",
       "      <td>4</td>\n",
       "      <td>0</td>\n",
       "    </tr>\n",
       "    <tr>\n",
       "      <th>8</th>\n",
       "      <td>e</td>\n",
       "      <td>c</td>\n",
       "      <td>4</td>\n",
       "      <td>0</td>\n",
       "    </tr>\n",
       "    <tr>\n",
       "      <th>9</th>\n",
       "      <td>e</td>\n",
       "      <td>c</td>\n",
       "      <td>4</td>\n",
       "      <td>2</td>\n",
       "    </tr>\n",
       "    <tr>\n",
       "      <th>10</th>\n",
       "      <td>f</td>\n",
       "      <td>c</td>\n",
       "      <td>1</td>\n",
       "      <td>3</td>\n",
       "    </tr>\n",
       "    <tr>\n",
       "      <th>11</th>\n",
       "      <td>f</td>\n",
       "      <td>c</td>\n",
       "      <td>3</td>\n",
       "      <td>6</td>\n",
       "    </tr>\n",
       "  </tbody>\n",
       "</table>\n",
       "</div>"
      ],
      "text/plain": [
       "    a  b  c  d\n",
       "6   d  b  2  2\n",
       "7   d  b  4  0\n",
       "8   e  c  4  0\n",
       "9   e  c  4  2\n",
       "10  f  c  1  3\n",
       "11  f  c  3  6"
      ]
     },
     "execution_count": 174,
     "metadata": {},
     "output_type": "execute_result"
    }
   ],
   "source": [
    "df.query('a not in b')"
   ]
  },
  {
   "cell_type": "code",
   "execution_count": 175,
   "id": "d231c592-324a-4a83-9a2c-dd09a18a60c9",
   "metadata": {},
   "outputs": [
    {
     "data": {
      "text/html": [
       "<div>\n",
       "<style scoped>\n",
       "    .dataframe tbody tr th:only-of-type {\n",
       "        vertical-align: middle;\n",
       "    }\n",
       "\n",
       "    .dataframe tbody tr th {\n",
       "        vertical-align: top;\n",
       "    }\n",
       "\n",
       "    .dataframe thead th {\n",
       "        text-align: right;\n",
       "    }\n",
       "</style>\n",
       "<table border=\"1\" class=\"dataframe\">\n",
       "  <thead>\n",
       "    <tr style=\"text-align: right;\">\n",
       "      <th></th>\n",
       "      <th>a</th>\n",
       "      <th>b</th>\n",
       "      <th>c</th>\n",
       "      <th>d</th>\n",
       "    </tr>\n",
       "  </thead>\n",
       "  <tbody>\n",
       "    <tr>\n",
       "      <th>0</th>\n",
       "      <td>a</td>\n",
       "      <td>a</td>\n",
       "      <td>3</td>\n",
       "      <td>8</td>\n",
       "    </tr>\n",
       "    <tr>\n",
       "      <th>1</th>\n",
       "      <td>a</td>\n",
       "      <td>a</td>\n",
       "      <td>1</td>\n",
       "      <td>7</td>\n",
       "    </tr>\n",
       "    <tr>\n",
       "      <th>4</th>\n",
       "      <td>c</td>\n",
       "      <td>b</td>\n",
       "      <td>1</td>\n",
       "      <td>6</td>\n",
       "    </tr>\n",
       "    <tr>\n",
       "      <th>5</th>\n",
       "      <td>c</td>\n",
       "      <td>b</td>\n",
       "      <td>3</td>\n",
       "      <td>7</td>\n",
       "    </tr>\n",
       "  </tbody>\n",
       "</table>\n",
       "</div>"
      ],
      "text/plain": [
       "   a  b  c  d\n",
       "0  a  a  3  8\n",
       "1  a  a  1  7\n",
       "4  c  b  1  6\n",
       "5  c  b  3  7"
      ]
     },
     "execution_count": 175,
     "metadata": {},
     "output_type": "execute_result"
    }
   ],
   "source": [
    "df.query('a in b and c < d')"
   ]
  },
  {
   "cell_type": "markdown",
   "id": "47a6a574-bb20-487b-b17b-662e41ddf0ff",
   "metadata": {},
   "source": [
    "## '==' Operator"
   ]
  },
  {
   "cell_type": "code",
   "execution_count": 176,
   "id": "93b850ae-1d3b-4331-8a35-af12fad903e2",
   "metadata": {},
   "outputs": [
    {
     "data": {
      "text/html": [
       "<div>\n",
       "<style scoped>\n",
       "    .dataframe tbody tr th:only-of-type {\n",
       "        vertical-align: middle;\n",
       "    }\n",
       "\n",
       "    .dataframe tbody tr th {\n",
       "        vertical-align: top;\n",
       "    }\n",
       "\n",
       "    .dataframe thead th {\n",
       "        text-align: right;\n",
       "    }\n",
       "</style>\n",
       "<table border=\"1\" class=\"dataframe\">\n",
       "  <thead>\n",
       "    <tr style=\"text-align: right;\">\n",
       "      <th></th>\n",
       "      <th>a</th>\n",
       "      <th>b</th>\n",
       "      <th>c</th>\n",
       "      <th>d</th>\n",
       "    </tr>\n",
       "  </thead>\n",
       "  <tbody>\n",
       "    <tr>\n",
       "      <th>0</th>\n",
       "      <td>a</td>\n",
       "      <td>a</td>\n",
       "      <td>3</td>\n",
       "      <td>8</td>\n",
       "    </tr>\n",
       "    <tr>\n",
       "      <th>1</th>\n",
       "      <td>a</td>\n",
       "      <td>a</td>\n",
       "      <td>1</td>\n",
       "      <td>7</td>\n",
       "    </tr>\n",
       "    <tr>\n",
       "      <th>2</th>\n",
       "      <td>b</td>\n",
       "      <td>a</td>\n",
       "      <td>3</td>\n",
       "      <td>3</td>\n",
       "    </tr>\n",
       "    <tr>\n",
       "      <th>3</th>\n",
       "      <td>b</td>\n",
       "      <td>a</td>\n",
       "      <td>2</td>\n",
       "      <td>0</td>\n",
       "    </tr>\n",
       "    <tr>\n",
       "      <th>4</th>\n",
       "      <td>c</td>\n",
       "      <td>b</td>\n",
       "      <td>1</td>\n",
       "      <td>6</td>\n",
       "    </tr>\n",
       "    <tr>\n",
       "      <th>5</th>\n",
       "      <td>c</td>\n",
       "      <td>b</td>\n",
       "      <td>3</td>\n",
       "      <td>7</td>\n",
       "    </tr>\n",
       "    <tr>\n",
       "      <th>6</th>\n",
       "      <td>d</td>\n",
       "      <td>b</td>\n",
       "      <td>2</td>\n",
       "      <td>2</td>\n",
       "    </tr>\n",
       "    <tr>\n",
       "      <th>7</th>\n",
       "      <td>d</td>\n",
       "      <td>b</td>\n",
       "      <td>4</td>\n",
       "      <td>0</td>\n",
       "    </tr>\n",
       "    <tr>\n",
       "      <th>8</th>\n",
       "      <td>e</td>\n",
       "      <td>c</td>\n",
       "      <td>4</td>\n",
       "      <td>0</td>\n",
       "    </tr>\n",
       "    <tr>\n",
       "      <th>9</th>\n",
       "      <td>e</td>\n",
       "      <td>c</td>\n",
       "      <td>4</td>\n",
       "      <td>2</td>\n",
       "    </tr>\n",
       "    <tr>\n",
       "      <th>10</th>\n",
       "      <td>f</td>\n",
       "      <td>c</td>\n",
       "      <td>1</td>\n",
       "      <td>3</td>\n",
       "    </tr>\n",
       "    <tr>\n",
       "      <th>11</th>\n",
       "      <td>f</td>\n",
       "      <td>c</td>\n",
       "      <td>3</td>\n",
       "      <td>6</td>\n",
       "    </tr>\n",
       "  </tbody>\n",
       "</table>\n",
       "</div>"
      ],
      "text/plain": [
       "    a  b  c  d\n",
       "0   a  a  3  8\n",
       "1   a  a  1  7\n",
       "2   b  a  3  3\n",
       "3   b  a  2  0\n",
       "4   c  b  1  6\n",
       "5   c  b  3  7\n",
       "6   d  b  2  2\n",
       "7   d  b  4  0\n",
       "8   e  c  4  0\n",
       "9   e  c  4  2\n",
       "10  f  c  1  3\n",
       "11  f  c  3  6"
      ]
     },
     "execution_count": 176,
     "metadata": {},
     "output_type": "execute_result"
    }
   ],
   "source": [
    "df.query('b == [\"a\", \"b\", \"c\"]')"
   ]
  },
  {
   "cell_type": "code",
   "execution_count": 177,
   "id": "3d006e65-4626-440f-96b4-253afb9db230",
   "metadata": {},
   "outputs": [
    {
     "data": {
      "text/html": [
       "<div>\n",
       "<style scoped>\n",
       "    .dataframe tbody tr th:only-of-type {\n",
       "        vertical-align: middle;\n",
       "    }\n",
       "\n",
       "    .dataframe tbody tr th {\n",
       "        vertical-align: top;\n",
       "    }\n",
       "\n",
       "    .dataframe thead th {\n",
       "        text-align: right;\n",
       "    }\n",
       "</style>\n",
       "<table border=\"1\" class=\"dataframe\">\n",
       "  <thead>\n",
       "    <tr style=\"text-align: right;\">\n",
       "      <th></th>\n",
       "      <th>a</th>\n",
       "      <th>b</th>\n",
       "      <th>c</th>\n",
       "      <th>d</th>\n",
       "    </tr>\n",
       "  </thead>\n",
       "  <tbody>\n",
       "    <tr>\n",
       "      <th>0</th>\n",
       "      <td>a</td>\n",
       "      <td>a</td>\n",
       "      <td>3</td>\n",
       "      <td>8</td>\n",
       "    </tr>\n",
       "    <tr>\n",
       "      <th>1</th>\n",
       "      <td>a</td>\n",
       "      <td>a</td>\n",
       "      <td>1</td>\n",
       "      <td>7</td>\n",
       "    </tr>\n",
       "    <tr>\n",
       "      <th>2</th>\n",
       "      <td>b</td>\n",
       "      <td>a</td>\n",
       "      <td>3</td>\n",
       "      <td>3</td>\n",
       "    </tr>\n",
       "    <tr>\n",
       "      <th>3</th>\n",
       "      <td>b</td>\n",
       "      <td>a</td>\n",
       "      <td>2</td>\n",
       "      <td>0</td>\n",
       "    </tr>\n",
       "    <tr>\n",
       "      <th>4</th>\n",
       "      <td>c</td>\n",
       "      <td>b</td>\n",
       "      <td>1</td>\n",
       "      <td>6</td>\n",
       "    </tr>\n",
       "    <tr>\n",
       "      <th>5</th>\n",
       "      <td>c</td>\n",
       "      <td>b</td>\n",
       "      <td>3</td>\n",
       "      <td>7</td>\n",
       "    </tr>\n",
       "    <tr>\n",
       "      <th>6</th>\n",
       "      <td>d</td>\n",
       "      <td>b</td>\n",
       "      <td>2</td>\n",
       "      <td>2</td>\n",
       "    </tr>\n",
       "    <tr>\n",
       "      <th>7</th>\n",
       "      <td>d</td>\n",
       "      <td>b</td>\n",
       "      <td>4</td>\n",
       "      <td>0</td>\n",
       "    </tr>\n",
       "    <tr>\n",
       "      <th>8</th>\n",
       "      <td>e</td>\n",
       "      <td>c</td>\n",
       "      <td>4</td>\n",
       "      <td>0</td>\n",
       "    </tr>\n",
       "    <tr>\n",
       "      <th>9</th>\n",
       "      <td>e</td>\n",
       "      <td>c</td>\n",
       "      <td>4</td>\n",
       "      <td>2</td>\n",
       "    </tr>\n",
       "    <tr>\n",
       "      <th>10</th>\n",
       "      <td>f</td>\n",
       "      <td>c</td>\n",
       "      <td>1</td>\n",
       "      <td>3</td>\n",
       "    </tr>\n",
       "    <tr>\n",
       "      <th>11</th>\n",
       "      <td>f</td>\n",
       "      <td>c</td>\n",
       "      <td>3</td>\n",
       "      <td>6</td>\n",
       "    </tr>\n",
       "  </tbody>\n",
       "</table>\n",
       "</div>"
      ],
      "text/plain": [
       "    a  b  c  d\n",
       "0   a  a  3  8\n",
       "1   a  a  1  7\n",
       "2   b  a  3  3\n",
       "3   b  a  2  0\n",
       "4   c  b  1  6\n",
       "5   c  b  3  7\n",
       "6   d  b  2  2\n",
       "7   d  b  4  0\n",
       "8   e  c  4  0\n",
       "9   e  c  4  2\n",
       "10  f  c  1  3\n",
       "11  f  c  3  6"
      ]
     },
     "execution_count": 177,
     "metadata": {},
     "output_type": "execute_result"
    }
   ],
   "source": [
    "df[df['b'].isin([\"a\", \"b\", \"c\"])]"
   ]
  },
  {
   "cell_type": "code",
   "execution_count": 178,
   "id": "e88e2f2d-88e0-4bce-8f3e-2546e9b1d041",
   "metadata": {},
   "outputs": [
    {
     "data": {
      "text/html": [
       "<div>\n",
       "<style scoped>\n",
       "    .dataframe tbody tr th:only-of-type {\n",
       "        vertical-align: middle;\n",
       "    }\n",
       "\n",
       "    .dataframe tbody tr th {\n",
       "        vertical-align: top;\n",
       "    }\n",
       "\n",
       "    .dataframe thead th {\n",
       "        text-align: right;\n",
       "    }\n",
       "</style>\n",
       "<table border=\"1\" class=\"dataframe\">\n",
       "  <thead>\n",
       "    <tr style=\"text-align: right;\">\n",
       "      <th></th>\n",
       "      <th>a</th>\n",
       "      <th>b</th>\n",
       "      <th>c</th>\n",
       "      <th>d</th>\n",
       "    </tr>\n",
       "  </thead>\n",
       "  <tbody>\n",
       "    <tr>\n",
       "      <th>0</th>\n",
       "      <td>a</td>\n",
       "      <td>a</td>\n",
       "      <td>3</td>\n",
       "      <td>8</td>\n",
       "    </tr>\n",
       "    <tr>\n",
       "      <th>2</th>\n",
       "      <td>b</td>\n",
       "      <td>a</td>\n",
       "      <td>3</td>\n",
       "      <td>3</td>\n",
       "    </tr>\n",
       "    <tr>\n",
       "      <th>5</th>\n",
       "      <td>c</td>\n",
       "      <td>b</td>\n",
       "      <td>3</td>\n",
       "      <td>7</td>\n",
       "    </tr>\n",
       "    <tr>\n",
       "      <th>7</th>\n",
       "      <td>d</td>\n",
       "      <td>b</td>\n",
       "      <td>4</td>\n",
       "      <td>0</td>\n",
       "    </tr>\n",
       "    <tr>\n",
       "      <th>8</th>\n",
       "      <td>e</td>\n",
       "      <td>c</td>\n",
       "      <td>4</td>\n",
       "      <td>0</td>\n",
       "    </tr>\n",
       "    <tr>\n",
       "      <th>9</th>\n",
       "      <td>e</td>\n",
       "      <td>c</td>\n",
       "      <td>4</td>\n",
       "      <td>2</td>\n",
       "    </tr>\n",
       "    <tr>\n",
       "      <th>11</th>\n",
       "      <td>f</td>\n",
       "      <td>c</td>\n",
       "      <td>3</td>\n",
       "      <td>6</td>\n",
       "    </tr>\n",
       "  </tbody>\n",
       "</table>\n",
       "</div>"
      ],
      "text/plain": [
       "    a  b  c  d\n",
       "0   a  a  3  8\n",
       "2   b  a  3  3\n",
       "5   c  b  3  7\n",
       "7   d  b  4  0\n",
       "8   e  c  4  0\n",
       "9   e  c  4  2\n",
       "11  f  c  3  6"
      ]
     },
     "execution_count": 178,
     "metadata": {},
     "output_type": "execute_result"
    }
   ],
   "source": [
    "df.query('c != [1, 2]')"
   ]
  },
  {
   "cell_type": "markdown",
   "id": "33de7bf3-4d06-4044-b92e-ad9a8223ae77",
   "metadata": {},
   "source": [
    "## Duplicate data"
   ]
  },
  {
   "cell_type": "code",
   "execution_count": 179,
   "id": "e97a6118-c7fb-4cb2-ac17-0e917f5d132e",
   "metadata": {},
   "outputs": [
    {
     "data": {
      "text/html": [
       "<div>\n",
       "<style scoped>\n",
       "    .dataframe tbody tr th:only-of-type {\n",
       "        vertical-align: middle;\n",
       "    }\n",
       "\n",
       "    .dataframe tbody tr th {\n",
       "        vertical-align: top;\n",
       "    }\n",
       "\n",
       "    .dataframe thead th {\n",
       "        text-align: right;\n",
       "    }\n",
       "</style>\n",
       "<table border=\"1\" class=\"dataframe\">\n",
       "  <thead>\n",
       "    <tr style=\"text-align: right;\">\n",
       "      <th></th>\n",
       "      <th>a</th>\n",
       "      <th>b</th>\n",
       "      <th>c</th>\n",
       "    </tr>\n",
       "  </thead>\n",
       "  <tbody>\n",
       "    <tr>\n",
       "      <th>0</th>\n",
       "      <td>one</td>\n",
       "      <td>x</td>\n",
       "      <td>-0.956854</td>\n",
       "    </tr>\n",
       "    <tr>\n",
       "      <th>1</th>\n",
       "      <td>one</td>\n",
       "      <td>y</td>\n",
       "      <td>-0.583803</td>\n",
       "    </tr>\n",
       "    <tr>\n",
       "      <th>2</th>\n",
       "      <td>two</td>\n",
       "      <td>x</td>\n",
       "      <td>-1.393652</td>\n",
       "    </tr>\n",
       "    <tr>\n",
       "      <th>3</th>\n",
       "      <td>two</td>\n",
       "      <td>y</td>\n",
       "      <td>2.597319</td>\n",
       "    </tr>\n",
       "    <tr>\n",
       "      <th>4</th>\n",
       "      <td>two</td>\n",
       "      <td>x</td>\n",
       "      <td>0.114020</td>\n",
       "    </tr>\n",
       "    <tr>\n",
       "      <th>5</th>\n",
       "      <td>three</td>\n",
       "      <td>x</td>\n",
       "      <td>0.719719</td>\n",
       "    </tr>\n",
       "    <tr>\n",
       "      <th>6</th>\n",
       "      <td>four</td>\n",
       "      <td>x</td>\n",
       "      <td>0.246763</td>\n",
       "    </tr>\n",
       "  </tbody>\n",
       "</table>\n",
       "</div>"
      ],
      "text/plain": [
       "       a  b         c\n",
       "0    one  x -0.956854\n",
       "1    one  y -0.583803\n",
       "2    two  x -1.393652\n",
       "3    two  y  2.597319\n",
       "4    two  x  0.114020\n",
       "5  three  x  0.719719\n",
       "6   four  x  0.246763"
      ]
     },
     "execution_count": 179,
     "metadata": {},
     "output_type": "execute_result"
    }
   ],
   "source": [
    "df2 = pd.DataFrame({'a': ['one', 'one', 'two', 'two', 'two', 'three', 'four'],\n",
    "                    'b': ['x', 'y', 'x', 'y', 'x', 'x', 'x'],\n",
    "                    'c': np.random.randn(7)})\n",
    "df2"
   ]
  },
  {
   "cell_type": "code",
   "execution_count": 180,
   "id": "db9b8677-d371-4e9d-b118-860e397bd3a8",
   "metadata": {},
   "outputs": [
    {
     "data": {
      "text/plain": [
       "0    False\n",
       "1     True\n",
       "2    False\n",
       "3     True\n",
       "4     True\n",
       "5    False\n",
       "6    False\n",
       "dtype: bool"
      ]
     },
     "execution_count": 180,
     "metadata": {},
     "output_type": "execute_result"
    }
   ],
   "source": [
    "df2.duplicated('a')"
   ]
  },
  {
   "cell_type": "code",
   "execution_count": 181,
   "id": "30cad8d7-0b3c-46f5-9680-55659793bdad",
   "metadata": {},
   "outputs": [
    {
     "data": {
      "text/plain": [
       "0     True\n",
       "1    False\n",
       "2     True\n",
       "3     True\n",
       "4    False\n",
       "5    False\n",
       "6    False\n",
       "dtype: bool"
      ]
     },
     "execution_count": 181,
     "metadata": {},
     "output_type": "execute_result"
    }
   ],
   "source": [
    "df2.duplicated('a', keep='last')"
   ]
  },
  {
   "cell_type": "code",
   "execution_count": 182,
   "id": "e215048b-2711-4e22-8353-8751f42ba9d3",
   "metadata": {},
   "outputs": [
    {
     "data": {
      "text/plain": [
       "0     True\n",
       "1     True\n",
       "2     True\n",
       "3     True\n",
       "4     True\n",
       "5    False\n",
       "6    False\n",
       "dtype: bool"
      ]
     },
     "execution_count": 182,
     "metadata": {},
     "output_type": "execute_result"
    }
   ],
   "source": [
    "df2.duplicated('a', keep=False)"
   ]
  },
  {
   "cell_type": "code",
   "execution_count": 183,
   "id": "a56018a0-44f1-4230-b329-a1f2bf86a646",
   "metadata": {},
   "outputs": [
    {
     "data": {
      "text/html": [
       "<div>\n",
       "<style scoped>\n",
       "    .dataframe tbody tr th:only-of-type {\n",
       "        vertical-align: middle;\n",
       "    }\n",
       "\n",
       "    .dataframe tbody tr th {\n",
       "        vertical-align: top;\n",
       "    }\n",
       "\n",
       "    .dataframe thead th {\n",
       "        text-align: right;\n",
       "    }\n",
       "</style>\n",
       "<table border=\"1\" class=\"dataframe\">\n",
       "  <thead>\n",
       "    <tr style=\"text-align: right;\">\n",
       "      <th></th>\n",
       "      <th>a</th>\n",
       "      <th>b</th>\n",
       "      <th>c</th>\n",
       "    </tr>\n",
       "  </thead>\n",
       "  <tbody>\n",
       "    <tr>\n",
       "      <th>0</th>\n",
       "      <td>one</td>\n",
       "      <td>x</td>\n",
       "      <td>-0.956854</td>\n",
       "    </tr>\n",
       "    <tr>\n",
       "      <th>2</th>\n",
       "      <td>two</td>\n",
       "      <td>x</td>\n",
       "      <td>-1.393652</td>\n",
       "    </tr>\n",
       "    <tr>\n",
       "      <th>5</th>\n",
       "      <td>three</td>\n",
       "      <td>x</td>\n",
       "      <td>0.719719</td>\n",
       "    </tr>\n",
       "    <tr>\n",
       "      <th>6</th>\n",
       "      <td>four</td>\n",
       "      <td>x</td>\n",
       "      <td>0.246763</td>\n",
       "    </tr>\n",
       "  </tbody>\n",
       "</table>\n",
       "</div>"
      ],
      "text/plain": [
       "       a  b         c\n",
       "0    one  x -0.956854\n",
       "2    two  x -1.393652\n",
       "5  three  x  0.719719\n",
       "6   four  x  0.246763"
      ]
     },
     "execution_count": 183,
     "metadata": {},
     "output_type": "execute_result"
    }
   ],
   "source": [
    "df2.drop_duplicates('a')"
   ]
  },
  {
   "cell_type": "code",
   "execution_count": 184,
   "id": "3a218ab6-62b8-4671-96cb-6e91344c29ed",
   "metadata": {},
   "outputs": [
    {
     "data": {
      "text/html": [
       "<div>\n",
       "<style scoped>\n",
       "    .dataframe tbody tr th:only-of-type {\n",
       "        vertical-align: middle;\n",
       "    }\n",
       "\n",
       "    .dataframe tbody tr th {\n",
       "        vertical-align: top;\n",
       "    }\n",
       "\n",
       "    .dataframe thead th {\n",
       "        text-align: right;\n",
       "    }\n",
       "</style>\n",
       "<table border=\"1\" class=\"dataframe\">\n",
       "  <thead>\n",
       "    <tr style=\"text-align: right;\">\n",
       "      <th></th>\n",
       "      <th>a</th>\n",
       "      <th>b</th>\n",
       "      <th>c</th>\n",
       "    </tr>\n",
       "  </thead>\n",
       "  <tbody>\n",
       "    <tr>\n",
       "      <th>1</th>\n",
       "      <td>one</td>\n",
       "      <td>y</td>\n",
       "      <td>-0.583803</td>\n",
       "    </tr>\n",
       "    <tr>\n",
       "      <th>4</th>\n",
       "      <td>two</td>\n",
       "      <td>x</td>\n",
       "      <td>0.114020</td>\n",
       "    </tr>\n",
       "    <tr>\n",
       "      <th>5</th>\n",
       "      <td>three</td>\n",
       "      <td>x</td>\n",
       "      <td>0.719719</td>\n",
       "    </tr>\n",
       "    <tr>\n",
       "      <th>6</th>\n",
       "      <td>four</td>\n",
       "      <td>x</td>\n",
       "      <td>0.246763</td>\n",
       "    </tr>\n",
       "  </tbody>\n",
       "</table>\n",
       "</div>"
      ],
      "text/plain": [
       "       a  b         c\n",
       "1    one  y -0.583803\n",
       "4    two  x  0.114020\n",
       "5  three  x  0.719719\n",
       "6   four  x  0.246763"
      ]
     },
     "execution_count": 184,
     "metadata": {},
     "output_type": "execute_result"
    }
   ],
   "source": [
    "df2.drop_duplicates('a', keep='last')"
   ]
  },
  {
   "cell_type": "code",
   "execution_count": 185,
   "id": "6a62653c-a8ba-43ea-a814-218f9408840a",
   "metadata": {},
   "outputs": [
    {
     "data": {
      "text/html": [
       "<div>\n",
       "<style scoped>\n",
       "    .dataframe tbody tr th:only-of-type {\n",
       "        vertical-align: middle;\n",
       "    }\n",
       "\n",
       "    .dataframe tbody tr th {\n",
       "        vertical-align: top;\n",
       "    }\n",
       "\n",
       "    .dataframe thead th {\n",
       "        text-align: right;\n",
       "    }\n",
       "</style>\n",
       "<table border=\"1\" class=\"dataframe\">\n",
       "  <thead>\n",
       "    <tr style=\"text-align: right;\">\n",
       "      <th></th>\n",
       "      <th>a</th>\n",
       "      <th>b</th>\n",
       "      <th>c</th>\n",
       "    </tr>\n",
       "  </thead>\n",
       "  <tbody>\n",
       "    <tr>\n",
       "      <th>5</th>\n",
       "      <td>three</td>\n",
       "      <td>x</td>\n",
       "      <td>0.719719</td>\n",
       "    </tr>\n",
       "    <tr>\n",
       "      <th>6</th>\n",
       "      <td>four</td>\n",
       "      <td>x</td>\n",
       "      <td>0.246763</td>\n",
       "    </tr>\n",
       "  </tbody>\n",
       "</table>\n",
       "</div>"
      ],
      "text/plain": [
       "       a  b         c\n",
       "5  three  x  0.719719\n",
       "6   four  x  0.246763"
      ]
     },
     "execution_count": 185,
     "metadata": {},
     "output_type": "execute_result"
    }
   ],
   "source": [
    "df2.drop_duplicates('a', keep=False)"
   ]
  },
  {
   "cell_type": "code",
   "execution_count": 186,
   "id": "5c6eabf6-0552-495a-8b3a-f63e33b702be",
   "metadata": {},
   "outputs": [
    {
     "data": {
      "text/plain": [
       "0    False\n",
       "1    False\n",
       "2    False\n",
       "3    False\n",
       "4     True\n",
       "5    False\n",
       "6    False\n",
       "dtype: bool"
      ]
     },
     "execution_count": 186,
     "metadata": {},
     "output_type": "execute_result"
    }
   ],
   "source": [
    "df2.duplicated(['a', 'b'])"
   ]
  },
  {
   "cell_type": "code",
   "execution_count": 187,
   "id": "24929309-868e-484c-a16c-1e7c8dec119f",
   "metadata": {},
   "outputs": [
    {
     "data": {
      "text/html": [
       "<div>\n",
       "<style scoped>\n",
       "    .dataframe tbody tr th:only-of-type {\n",
       "        vertical-align: middle;\n",
       "    }\n",
       "\n",
       "    .dataframe tbody tr th {\n",
       "        vertical-align: top;\n",
       "    }\n",
       "\n",
       "    .dataframe thead th {\n",
       "        text-align: right;\n",
       "    }\n",
       "</style>\n",
       "<table border=\"1\" class=\"dataframe\">\n",
       "  <thead>\n",
       "    <tr style=\"text-align: right;\">\n",
       "      <th></th>\n",
       "      <th>a</th>\n",
       "      <th>b</th>\n",
       "      <th>c</th>\n",
       "    </tr>\n",
       "  </thead>\n",
       "  <tbody>\n",
       "    <tr>\n",
       "      <th>0</th>\n",
       "      <td>one</td>\n",
       "      <td>x</td>\n",
       "      <td>-0.956854</td>\n",
       "    </tr>\n",
       "    <tr>\n",
       "      <th>1</th>\n",
       "      <td>one</td>\n",
       "      <td>y</td>\n",
       "      <td>-0.583803</td>\n",
       "    </tr>\n",
       "    <tr>\n",
       "      <th>2</th>\n",
       "      <td>two</td>\n",
       "      <td>x</td>\n",
       "      <td>-1.393652</td>\n",
       "    </tr>\n",
       "    <tr>\n",
       "      <th>3</th>\n",
       "      <td>two</td>\n",
       "      <td>y</td>\n",
       "      <td>2.597319</td>\n",
       "    </tr>\n",
       "    <tr>\n",
       "      <th>5</th>\n",
       "      <td>three</td>\n",
       "      <td>x</td>\n",
       "      <td>0.719719</td>\n",
       "    </tr>\n",
       "    <tr>\n",
       "      <th>6</th>\n",
       "      <td>four</td>\n",
       "      <td>x</td>\n",
       "      <td>0.246763</td>\n",
       "    </tr>\n",
       "  </tbody>\n",
       "</table>\n",
       "</div>"
      ],
      "text/plain": [
       "       a  b         c\n",
       "0    one  x -0.956854\n",
       "1    one  y -0.583803\n",
       "2    two  x -1.393652\n",
       "3    two  y  2.597319\n",
       "5  three  x  0.719719\n",
       "6   four  x  0.246763"
      ]
     },
     "execution_count": 187,
     "metadata": {},
     "output_type": "execute_result"
    }
   ],
   "source": [
    "df2.drop_duplicates(['a', 'b'])"
   ]
  },
  {
   "cell_type": "markdown",
   "id": "59fc967d-5c5b-4d77-87b9-e183c6705976",
   "metadata": {},
   "source": [
    "## get() method"
   ]
  },
  {
   "cell_type": "code",
   "execution_count": 188,
   "id": "d564b9a6-d2b7-409e-937a-700f9b77f2ef",
   "metadata": {},
   "outputs": [
    {
     "data": {
      "text/plain": [
       "a    1\n",
       "b    2\n",
       "c    3\n",
       "dtype: int64"
      ]
     },
     "execution_count": 188,
     "metadata": {},
     "output_type": "execute_result"
    }
   ],
   "source": [
    "s = pd.Series([1, 2, 3], index=['a', 'b', 'c'])\n",
    "s"
   ]
  },
  {
   "cell_type": "code",
   "execution_count": 189,
   "id": "d3e9d51e-edc0-45a6-a512-24468aba7b4b",
   "metadata": {},
   "outputs": [
    {
     "name": "stdout",
     "output_type": "stream",
     "text": [
      "1\n"
     ]
    }
   ],
   "source": [
    "print(s.get('a'))"
   ]
  },
  {
   "cell_type": "code",
   "execution_count": 190,
   "id": "2d11b692-a6ef-43a9-a5be-efea1640c66b",
   "metadata": {},
   "outputs": [
    {
     "name": "stdout",
     "output_type": "stream",
     "text": [
      "-1\n"
     ]
    }
   ],
   "source": [
    "print(s.get('x', default=-1))"
   ]
  },
  {
   "cell_type": "markdown",
   "id": "9e8bb59e-add9-4f70-a5a0-6cc3d21ef25f",
   "metadata": {},
   "source": [
    "## Index() Object"
   ]
  },
  {
   "cell_type": "code",
   "execution_count": 191,
   "id": "ce7f414c-6df1-4ec4-811b-88c38dba71e6",
   "metadata": {},
   "outputs": [
    {
     "data": {
      "text/plain": [
       "Index(['e', 'd', 'a', 'b'], dtype='object')"
      ]
     },
     "execution_count": 191,
     "metadata": {},
     "output_type": "execute_result"
    }
   ],
   "source": [
    "index = pd.Index(['e', 'd', 'a', 'b'])\n",
    "index"
   ]
  },
  {
   "cell_type": "code",
   "execution_count": 192,
   "id": "43e478bc-2fef-4829-9e30-8f55b397c945",
   "metadata": {},
   "outputs": [
    {
     "data": {
      "text/plain": [
       "True"
      ]
     },
     "execution_count": 192,
     "metadata": {},
     "output_type": "execute_result"
    }
   ],
   "source": [
    "'d' in index"
   ]
  },
  {
   "cell_type": "code",
   "execution_count": 193,
   "id": "8b853cc1-a484-482a-b02d-11217d43409a",
   "metadata": {},
   "outputs": [
    {
     "data": {
      "text/plain": [
       "Index([1, 5, 12], dtype='int64')"
      ]
     },
     "execution_count": 193,
     "metadata": {},
     "output_type": "execute_result"
    }
   ],
   "source": [
    "index = pd.Index([1, 5, 12])\n",
    "index"
   ]
  },
  {
   "cell_type": "code",
   "execution_count": 194,
   "id": "f545ca81-88c7-448a-9339-6878356bdc1f",
   "metadata": {},
   "outputs": [
    {
     "data": {
      "text/plain": [
       "True"
      ]
     },
     "execution_count": 194,
     "metadata": {},
     "output_type": "execute_result"
    }
   ],
   "source": [
    "5 in index"
   ]
  },
  {
   "cell_type": "code",
   "execution_count": 195,
   "id": "289c451e-2068-42a8-8a73-15cd0283a9a2",
   "metadata": {},
   "outputs": [
    {
     "data": {
      "text/plain": [
       "Index(['e', 'd', 'a', 'b'], dtype='string')"
      ]
     },
     "execution_count": 195,
     "metadata": {},
     "output_type": "execute_result"
    }
   ],
   "source": [
    "index = pd.Index(['e', 'd', 'a', 'b'], dtype=\"string\")\n",
    "index"
   ]
  },
  {
   "cell_type": "code",
   "execution_count": 196,
   "id": "c8c11925-75b6-4e7c-be8d-6ac07205619d",
   "metadata": {},
   "outputs": [
    {
     "data": {
      "text/plain": [
       "Index([1, 5, 12], dtype='int8')"
      ]
     },
     "execution_count": 196,
     "metadata": {},
     "output_type": "execute_result"
    }
   ],
   "source": [
    "index = pd.Index([1, 5, 12], dtype=\"int8\")\n",
    "index"
   ]
  },
  {
   "cell_type": "code",
   "execution_count": 197,
   "id": "93654897-f99a-48a2-a218-55c0aa311b23",
   "metadata": {},
   "outputs": [
    {
     "data": {
      "text/plain": [
       "Index([1.0, 5.0, 12.0], dtype='float32')"
      ]
     },
     "execution_count": 197,
     "metadata": {},
     "output_type": "execute_result"
    }
   ],
   "source": [
    "index = pd.Index([1, 5, 12], dtype=\"float32\")\n",
    "index"
   ]
  },
  {
   "cell_type": "code",
   "execution_count": 198,
   "id": "2a1d0b4b-c625-4026-bf53-0a5a96841110",
   "metadata": {},
   "outputs": [
    {
     "data": {
      "text/plain": [
       "Index(['e', 'd', 'a', 'b'], dtype='object', name='something')"
      ]
     },
     "execution_count": 198,
     "metadata": {},
     "output_type": "execute_result"
    }
   ],
   "source": [
    "index = pd.Index(['e', 'd', 'a', 'b'], name='something')\n",
    "index"
   ]
  },
  {
   "cell_type": "code",
   "execution_count": 199,
   "id": "587cecfd-497d-4f0a-82a2-4b811cf2db1b",
   "metadata": {},
   "outputs": [
    {
     "data": {
      "text/plain": [
       "Index([0, 1, 2, 3, 4], dtype='int64', name='rows')"
      ]
     },
     "execution_count": 199,
     "metadata": {},
     "output_type": "execute_result"
    }
   ],
   "source": [
    "index = pd.Index(list(range(5)), name='rows')\n",
    "index"
   ]
  },
  {
   "cell_type": "code",
   "execution_count": 200,
   "id": "8634fef9-02a3-4459-8d99-5879ed6b0375",
   "metadata": {},
   "outputs": [
    {
     "data": {
      "text/plain": [
       "Index(['A', 'B', 'C'], dtype='object', name='cols')"
      ]
     },
     "execution_count": 200,
     "metadata": {},
     "output_type": "execute_result"
    }
   ],
   "source": [
    "columns = pd.Index(['A', 'B', 'C'], name='cols')\n",
    "columns"
   ]
  },
  {
   "cell_type": "code",
   "execution_count": 201,
   "id": "2faccdaa-db32-440a-8797-37d5a276a62c",
   "metadata": {},
   "outputs": [
    {
     "data": {
      "text/html": [
       "<div>\n",
       "<style scoped>\n",
       "    .dataframe tbody tr th:only-of-type {\n",
       "        vertical-align: middle;\n",
       "    }\n",
       "\n",
       "    .dataframe tbody tr th {\n",
       "        vertical-align: top;\n",
       "    }\n",
       "\n",
       "    .dataframe thead th {\n",
       "        text-align: right;\n",
       "    }\n",
       "</style>\n",
       "<table border=\"1\" class=\"dataframe\">\n",
       "  <thead>\n",
       "    <tr style=\"text-align: right;\">\n",
       "      <th>cols</th>\n",
       "      <th>A</th>\n",
       "      <th>B</th>\n",
       "      <th>C</th>\n",
       "    </tr>\n",
       "    <tr>\n",
       "      <th>rows</th>\n",
       "      <th></th>\n",
       "      <th></th>\n",
       "      <th></th>\n",
       "    </tr>\n",
       "  </thead>\n",
       "  <tbody>\n",
       "    <tr>\n",
       "      <th>0</th>\n",
       "      <td>-0.664389</td>\n",
       "      <td>0.511811</td>\n",
       "      <td>-0.313597</td>\n",
       "    </tr>\n",
       "    <tr>\n",
       "      <th>1</th>\n",
       "      <td>0.256076</td>\n",
       "      <td>0.274540</td>\n",
       "      <td>-0.295792</td>\n",
       "    </tr>\n",
       "    <tr>\n",
       "      <th>2</th>\n",
       "      <td>0.563026</td>\n",
       "      <td>0.394390</td>\n",
       "      <td>-0.589560</td>\n",
       "    </tr>\n",
       "    <tr>\n",
       "      <th>3</th>\n",
       "      <td>1.359471</td>\n",
       "      <td>-0.839611</td>\n",
       "      <td>1.377868</td>\n",
       "    </tr>\n",
       "    <tr>\n",
       "      <th>4</th>\n",
       "      <td>1.197912</td>\n",
       "      <td>0.056227</td>\n",
       "      <td>0.093883</td>\n",
       "    </tr>\n",
       "  </tbody>\n",
       "</table>\n",
       "</div>"
      ],
      "text/plain": [
       "cols         A         B         C\n",
       "rows                              \n",
       "0    -0.664389  0.511811 -0.313597\n",
       "1     0.256076  0.274540 -0.295792\n",
       "2     0.563026  0.394390 -0.589560\n",
       "3     1.359471 -0.839611  1.377868\n",
       "4     1.197912  0.056227  0.093883"
      ]
     },
     "execution_count": 201,
     "metadata": {},
     "output_type": "execute_result"
    }
   ],
   "source": [
    "df = pd.DataFrame(np.random.randn(5, 3), index=index, columns=columns)\n",
    "df"
   ]
  },
  {
   "cell_type": "code",
   "execution_count": 202,
   "id": "25701bf1-9284-49b2-b6df-671f3f64b39b",
   "metadata": {},
   "outputs": [
    {
     "data": {
      "text/plain": [
       "rows\n",
       "0   -0.664389\n",
       "1    0.256076\n",
       "2    0.563026\n",
       "3    1.359471\n",
       "4    1.197912\n",
       "Name: A, dtype: float64"
      ]
     },
     "execution_count": 202,
     "metadata": {},
     "output_type": "execute_result"
    }
   ],
   "source": [
    "df['A']"
   ]
  }
 ],
 "metadata": {
  "kernelspec": {
   "display_name": "venv",
   "language": "python",
   "name": "python3"
  },
  "language_info": {
   "codemirror_mode": {
    "name": "ipython",
    "version": 3
   },
   "file_extension": ".py",
   "mimetype": "text/x-python",
   "name": "python",
   "nbconvert_exporter": "python",
   "pygments_lexer": "ipython3",
   "version": "3.13.3"
  }
 },
 "nbformat": 4,
 "nbformat_minor": 5
}
