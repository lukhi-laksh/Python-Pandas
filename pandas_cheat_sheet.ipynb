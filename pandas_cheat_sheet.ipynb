{
 "cells": [
  {
   "cell_type": "markdown",
   "id": "f36c3547",
   "metadata": {},
   "source": [
    "# 1. Import Pandas and Numpy"
   ]
  },
  {
   "cell_type": "code",
   "execution_count": 113,
   "id": "d36f0824-59dd-4edb-8a75-d1d730130d5f",
   "metadata": {},
   "outputs": [],
   "source": [
    "import pandas as pd\n",
    "import numpy as np"
   ]
  },
  {
   "cell_type": "markdown",
   "id": "3b9a25fc-fff0-481e-bbc9-15b2eab458b0",
   "metadata": {},
   "source": [
    "## check version"
   ]
  },
  {
   "cell_type": "code",
   "execution_count": 114,
   "id": "844fd4d6",
   "metadata": {},
   "outputs": [
    {
     "name": "stdout",
     "output_type": "stream",
     "text": [
      "2.2.3\n",
      "2.2.6\n"
     ]
    }
   ],
   "source": [
    "print(pd.__version__)\n",
    "print(np.__version__)"
   ]
  },
  {
   "cell_type": "markdown",
   "id": "1412dffe-9589-40e9-a63e-197af178a453",
   "metadata": {},
   "source": [
    "# 2. Series"
   ]
  },
  {
   "cell_type": "code",
   "execution_count": 115,
   "id": "825753c7-2d7b-4af6-9570-1a809a021535",
   "metadata": {},
   "outputs": [],
   "source": [
    "# Series is a one-dimensional labeled array capable of holding any data type \n",
    "#         (integers, strings, floating point numbers, Python objects, etc.)\n",
    "\n",
    "# syntax:- s = pd.Series(data, index=index)\n",
    "\n",
    "# data can be many different things:\n",
    "#    a Python dict\n",
    "#    an ndarray\n",
    "#    a scalar value (like 5)"
   ]
  },
  {
   "cell_type": "markdown",
   "id": "69d4ac90-5e84-418f-a1d3-30c5c77bc67d",
   "metadata": {},
   "source": [
    "## create series"
   ]
  },
  {
   "cell_type": "code",
   "execution_count": 116,
   "id": "84a3b401-d157-463c-81ab-2cb6af11bfbf",
   "metadata": {},
   "outputs": [
    {
     "data": {
      "text/plain": [
       "0   -0.234838\n",
       "1    0.141694\n",
       "2    0.759969\n",
       "3   -0.113843\n",
       "4   -0.092653\n",
       "dtype: float64"
      ]
     },
     "execution_count": 116,
     "metadata": {},
     "output_type": "execute_result"
    }
   ],
   "source": [
    "s = pd.Series(np.random.randn(5))\n",
    "s"
   ]
  },
  {
   "cell_type": "markdown",
   "id": "b63e9975-818b-41c9-a06d-53ba3b678ae1",
   "metadata": {},
   "source": [
    "## Random flot value with custom index"
   ]
  },
  {
   "cell_type": "code",
   "execution_count": 21,
   "id": "9a3bd73f-4d82-4684-8d12-c1732c932191",
   "metadata": {},
   "outputs": [
    {
     "data": {
      "text/plain": [
       "a    0.907704\n",
       "b   -0.162780\n",
       "c   -1.009450\n",
       "d    1.187749\n",
       "e   -0.137872\n",
       "dtype: float64"
      ]
     },
     "execution_count": 21,
     "metadata": {},
     "output_type": "execute_result"
    }
   ],
   "source": [
    "s = pd.Series(np.random.randn(5), index=[\"a\", \"b\", \"c\", \"d\", \"e\"])\n",
    "s"
   ]
  },
  {
   "cell_type": "markdown",
   "id": "59f7adc3-5b25-4894-8df1-23a4cf4cd355",
   "metadata": {},
   "source": [
    "## Random int value with custom index"
   ]
  },
  {
   "cell_type": "code",
   "execution_count": 104,
   "id": "f1fdfed5-cd35-49bd-8d55-fcf59f1faec1",
   "metadata": {},
   "outputs": [
    {
     "data": {
      "text/plain": [
       "a     0\n",
       "b    10\n",
       "c    12\n",
       "d     3\n",
       "e    14\n",
       "dtype: int32"
      ]
     },
     "execution_count": 104,
     "metadata": {},
     "output_type": "execute_result"
    }
   ],
   "source": [
    "s = pd.Series(np.random.randint(0, 15, size = 5), index=[\"a\", \"b\", \"c\", \"d\", \"e\"])\n",
    "s"
   ]
  },
  {
   "cell_type": "markdown",
   "id": "0834fa0b-f82b-4280-b019-63c7a5e96bb6",
   "metadata": {},
   "source": [
    "## Series can be instantiated from list"
   ]
  },
  {
   "cell_type": "code",
   "execution_count": 107,
   "id": "2f9a272e-dd8a-481c-b7dd-1ae2c6e604cb",
   "metadata": {},
   "outputs": [
    {
     "data": {
      "text/plain": [
       "a    2\n",
       "b    4\n",
       "c    5\n",
       "d    8\n",
       "e    3\n",
       "dtype: int64"
      ]
     },
     "execution_count": 107,
     "metadata": {},
     "output_type": "execute_result"
    }
   ],
   "source": [
    "lists = [2, 4, 5, 8, 3]\n",
    "s = pd.Series(lists, index=[\"a\", \"b\", \"c\", \"d\", \"e\"])\n",
    "s"
   ]
  },
  {
   "cell_type": "markdown",
   "id": "9b53c239-5ad2-4264-9286-63796973280c",
   "metadata": {},
   "source": [
    "## Series can be instantiated from dicts:"
   ]
  },
  {
   "cell_type": "code",
   "execution_count": 26,
   "id": "89821252-52b7-4375-a2ad-047e74d645a3",
   "metadata": {},
   "outputs": [
    {
     "data": {
      "text/plain": [
       "b    1\n",
       "a    0\n",
       "c    2\n",
       "dtype: int64"
      ]
     },
     "execution_count": 26,
     "metadata": {},
     "output_type": "execute_result"
    }
   ],
   "source": [
    "d = {\"b\": 1, \n",
    "     \"a\": 0, \n",
    "     \"c\": 2}\n",
    "\n",
    "pd.Series(d)"
   ]
  },
  {
   "cell_type": "code",
   "execution_count": null,
   "id": "f6fb2071-23da-4a62-b523-9325f73a5f81",
   "metadata": {},
   "outputs": [],
   "source": [
    "# If an index is passed, the values in data corresponding to the labels in the index will be pulled out"
   ]
  },
  {
   "cell_type": "code",
   "execution_count": 28,
   "id": "34f4ca29-e36e-4253-8c92-bc9c49c75519",
   "metadata": {},
   "outputs": [
    {
     "data": {
      "text/plain": [
       "b    1.0\n",
       "c    2.0\n",
       "d    NaN\n",
       "a    0.0\n",
       "dtype: float64"
      ]
     },
     "execution_count": 28,
     "metadata": {},
     "output_type": "execute_result"
    }
   ],
   "source": [
    "d = {\"a\": 0.0, \n",
    "     \"b\": 1.0, \n",
    "     \"c\": 2.0}\n",
    "\n",
    "pd.Series(d, index=['b', 'c', 'd', 'a'])"
   ]
  },
  {
   "cell_type": "code",
   "execution_count": null,
   "id": "488ca2ae-2455-4056-a430-0b7faf94f2e7",
   "metadata": {},
   "outputs": [],
   "source": [
    "# NaN (not a number) is the standard missing data marker used in pandas."
   ]
  },
  {
   "cell_type": "code",
   "execution_count": null,
   "id": "00b3375e-3570-4350-992a-d32db438b2ac",
   "metadata": {},
   "outputs": [],
   "source": [
    "# If data is a scalar value, an index must be provided. The value will be repeated to match the length of index."
   ]
  },
  {
   "cell_type": "code",
   "execution_count": 29,
   "id": "f615cb5f-d82a-48d1-b7be-5f15df99d9f7",
   "metadata": {},
   "outputs": [
    {
     "data": {
      "text/plain": [
       "a    5.0\n",
       "b    5.0\n",
       "c    5.0\n",
       "d    5.0\n",
       "e    5.0\n",
       "dtype: float64"
      ]
     },
     "execution_count": 29,
     "metadata": {},
     "output_type": "execute_result"
    }
   ],
   "source": [
    "pd.Series(5.0, index=[\"a\", \"b\", \"c\", \"d\", \"e\"])"
   ]
  },
  {
   "cell_type": "markdown",
   "id": "3cb1d93a-7c64-40ac-a304-61072efeb47d",
   "metadata": {},
   "source": [
    "## Series is like ndarray"
   ]
  },
  {
   "cell_type": "code",
   "execution_count": 30,
   "id": "e3295077-db4a-4d4e-8ef5-eaec397ee858",
   "metadata": {},
   "outputs": [],
   "source": [
    "# Series acts very similarly to a ndarray and is a valid argument to most NumPy functions"
   ]
  },
  {
   "cell_type": "code",
   "execution_count": 34,
   "id": "df44b2bb-9d2b-41a9-b08d-a1533719c2ab",
   "metadata": {},
   "outputs": [
    {
     "data": {
      "text/plain": [
       "a    0.153320\n",
       "b    0.246091\n",
       "c   -0.019314\n",
       "d    0.990134\n",
       "e   -1.682380\n",
       "dtype: float64"
      ]
     },
     "execution_count": 34,
     "metadata": {},
     "output_type": "execute_result"
    }
   ],
   "source": [
    "s = pd.Series(np.random.randn(5), index=[\"a\", \"b\", \"c\", \"d\", \"e\"])\n",
    "s"
   ]
  },
  {
   "cell_type": "code",
   "execution_count": 36,
   "id": "cc066f81-25ef-4dd8-964a-8f309c423c8a",
   "metadata": {},
   "outputs": [
    {
     "data": {
      "text/plain": [
       "np.float64(0.9901335800271764)"
      ]
     },
     "execution_count": 36,
     "metadata": {},
     "output_type": "execute_result"
    }
   ],
   "source": [
    "s.iloc[0]\n",
    "s.iloc[3]"
   ]
  },
  {
   "cell_type": "code",
   "execution_count": 37,
   "id": "58848ba4-36e6-4e1e-8f56-2ff047f56328",
   "metadata": {},
   "outputs": [
    {
     "data": {
      "text/plain": [
       "a    0.153320\n",
       "b    0.246091\n",
       "c   -0.019314\n",
       "dtype: float64"
      ]
     },
     "execution_count": 37,
     "metadata": {},
     "output_type": "execute_result"
    }
   ],
   "source": [
    "s.iloc[:3]"
   ]
  },
  {
   "cell_type": "code",
   "execution_count": 38,
   "id": "7ae9bd25-553b-4238-9554-de0e5c8154d4",
   "metadata": {},
   "outputs": [
    {
     "data": {
      "text/plain": [
       "b    0.246091\n",
       "d    0.990134\n",
       "dtype: float64"
      ]
     },
     "execution_count": 38,
     "metadata": {},
     "output_type": "execute_result"
    }
   ],
   "source": [
    "s[s > s.median()]"
   ]
  },
  {
   "cell_type": "code",
   "execution_count": 40,
   "id": "785b5361-af4c-48b7-bdb7-70df9ab643f9",
   "metadata": {},
   "outputs": [
    {
     "data": {
      "text/plain": [
       "e   -1.682380\n",
       "d    0.990134\n",
       "b    0.246091\n",
       "dtype: float64"
      ]
     },
     "execution_count": 40,
     "metadata": {},
     "output_type": "execute_result"
    }
   ],
   "source": [
    "s.iloc[[4, 3, 1]]"
   ]
  },
  {
   "cell_type": "code",
   "execution_count": null,
   "id": "617cb1ab-38fd-4ce2-88e2-e2c1541a90c6",
   "metadata": {},
   "outputs": [],
   "source": [
    "# Like a NumPy array, a pandas Series has a single dtype."
   ]
  },
  {
   "cell_type": "code",
   "execution_count": 41,
   "id": "0899e27e-45e8-4f1a-abaf-34e4c1260c89",
   "metadata": {},
   "outputs": [
    {
     "data": {
      "text/plain": [
       "dtype('float64')"
      ]
     },
     "execution_count": 41,
     "metadata": {},
     "output_type": "execute_result"
    }
   ],
   "source": [
    "s.dtype"
   ]
  },
  {
   "cell_type": "code",
   "execution_count": null,
   "id": "6b3902dd-809c-4e54-97e2-4a3fe1d2986a",
   "metadata": {},
   "outputs": [],
   "source": [
    "# If you need the actual array backing a Series, use Series.array."
   ]
  },
  {
   "cell_type": "code",
   "execution_count": 42,
   "id": "d42a6cda-3fa1-4647-9761-e42ee2090987",
   "metadata": {},
   "outputs": [
    {
     "data": {
      "text/plain": [
       "<NumpyExtensionArray>\n",
       "[   np.float64(0.1533196750777314),   np.float64(0.24609147390192315),\n",
       " np.float64(-0.019313705957263727),    np.float64(0.9901335800271764),\n",
       "   np.float64(-1.6823799401607755)]\n",
       "Length: 5, dtype: float64"
      ]
     },
     "execution_count": 42,
     "metadata": {},
     "output_type": "execute_result"
    }
   ],
   "source": [
    "s.array"
   ]
  },
  {
   "cell_type": "code",
   "execution_count": null,
   "id": "97369753-5d24-4b05-ad21-3465548865ed",
   "metadata": {},
   "outputs": [],
   "source": [
    "# if you need an actual ndarray, then use Series.to_numpy()."
   ]
  },
  {
   "cell_type": "code",
   "execution_count": 43,
   "id": "77424834-1983-4538-b7ab-2f3994400d8e",
   "metadata": {},
   "outputs": [
    {
     "data": {
      "text/plain": [
       "array([ 0.15331968,  0.24609147, -0.01931371,  0.99013358, -1.68237994])"
      ]
     },
     "execution_count": 43,
     "metadata": {},
     "output_type": "execute_result"
    }
   ],
   "source": [
    "s.to_numpy()"
   ]
  },
  {
   "cell_type": "code",
   "execution_count": 44,
   "id": "ab52f1e0-deee-45cb-bc9d-d97ac29c99b5",
   "metadata": {},
   "outputs": [
    {
     "data": {
      "text/plain": [
       "a    0.153320\n",
       "b    0.246091\n",
       "c   -0.019314\n",
       "d    0.990134\n",
       "e   -1.682380\n",
       "dtype: float64"
      ]
     },
     "execution_count": 44,
     "metadata": {},
     "output_type": "execute_result"
    }
   ],
   "source": [
    "# A Series is also like a fixed-size dict in that you can get and set values by index label\n",
    "s"
   ]
  },
  {
   "cell_type": "code",
   "execution_count": 45,
   "id": "6bb18b07-870b-4748-b49d-0298cbef95f7",
   "metadata": {},
   "outputs": [
    {
     "data": {
      "text/plain": [
       "np.float64(0.1533196750777314)"
      ]
     },
     "execution_count": 45,
     "metadata": {},
     "output_type": "execute_result"
    }
   ],
   "source": [
    "s[\"a\"]"
   ]
  },
  {
   "cell_type": "code",
   "execution_count": 47,
   "id": "7d359cac-1bca-41bb-9892-526534e3990f",
   "metadata": {},
   "outputs": [
    {
     "data": {
      "text/plain": [
       "a     0.153320\n",
       "b     0.246091\n",
       "c    -0.019314\n",
       "d     0.990134\n",
       "e    12.000000\n",
       "dtype: float64"
      ]
     },
     "execution_count": 47,
     "metadata": {},
     "output_type": "execute_result"
    }
   ],
   "source": [
    "s[\"e\"] = 12.0\n",
    "s"
   ]
  },
  {
   "cell_type": "code",
   "execution_count": 50,
   "id": "809dba2f-4c4a-4d15-bc14-5a6017597b28",
   "metadata": {},
   "outputs": [
    {
     "data": {
      "text/plain": [
       "True"
      ]
     },
     "execution_count": 50,
     "metadata": {},
     "output_type": "execute_result"
    }
   ],
   "source": [
    "\"e\" in s"
   ]
  },
  {
   "cell_type": "code",
   "execution_count": 51,
   "id": "636904b5-fd4c-44d3-a8ef-d4c7937a6b6e",
   "metadata": {},
   "outputs": [
    {
     "data": {
      "text/plain": [
       "False"
      ]
     },
     "execution_count": 51,
     "metadata": {},
     "output_type": "execute_result"
    }
   ],
   "source": [
    "\"j\" in s"
   ]
  },
  {
   "cell_type": "code",
   "execution_count": null,
   "id": "cd0df7ed-d925-4515-b0d6-aea03b8bf8e7",
   "metadata": {},
   "outputs": [],
   "source": [
    "# Using the Series.get() method, a missing label will return None or specified default"
   ]
  },
  {
   "cell_type": "code",
   "execution_count": 64,
   "id": "1d229c12-03dc-4476-b5bb-d506dc4b20ca",
   "metadata": {},
   "outputs": [
    {
     "data": {
      "text/plain": [
       "np.float64(12.0)"
      ]
     },
     "execution_count": 64,
     "metadata": {},
     "output_type": "execute_result"
    }
   ],
   "source": [
    "s.get(\"e\")"
   ]
  },
  {
   "cell_type": "code",
   "execution_count": 65,
   "id": "e72dcda7-7da1-47a7-85d2-7417f78ca8b4",
   "metadata": {},
   "outputs": [],
   "source": [
    "s.get(\"f\")"
   ]
  },
  {
   "cell_type": "code",
   "execution_count": 66,
   "id": "21395416-a9fd-445a-9324-1ffb36eee5b8",
   "metadata": {},
   "outputs": [
    {
     "data": {
      "text/plain": [
       "nan"
      ]
     },
     "execution_count": 66,
     "metadata": {},
     "output_type": "execute_result"
    }
   ],
   "source": [
    "s.get(\"f\", np.nan)"
   ]
  },
  {
   "cell_type": "markdown",
   "id": "90922136-931f-4d6e-88b0-efaa65ab92e3",
   "metadata": {},
   "source": [
    "## Vectorized operations and label alignment with Series"
   ]
  },
  {
   "cell_type": "code",
   "execution_count": 80,
   "id": "7349edea-03c2-48da-a85a-f28b5e1003a1",
   "metadata": {},
   "outputs": [
    {
     "data": {
      "text/plain": [
       "a    0\n",
       "b    4\n",
       "c    3\n",
       "d    4\n",
       "e    4\n",
       "dtype: int32"
      ]
     },
     "execution_count": 80,
     "metadata": {},
     "output_type": "execute_result"
    }
   ],
   "source": [
    "s = pd.Series(np.random.randint(5, size = 5), index = ['a', 'b', 'c', 'd', 'e'])\n",
    "s"
   ]
  },
  {
   "cell_type": "code",
   "execution_count": 81,
   "id": "436be43e-5075-49ff-af2a-b689cc75b0c2",
   "metadata": {},
   "outputs": [
    {
     "data": {
      "text/plain": [
       "a    0\n",
       "b    8\n",
       "c    6\n",
       "d    8\n",
       "e    8\n",
       "dtype: int32"
      ]
     },
     "execution_count": 81,
     "metadata": {},
     "output_type": "execute_result"
    }
   ],
   "source": [
    "s + s "
   ]
  },
  {
   "cell_type": "code",
   "execution_count": 82,
   "id": "25f211bd-035b-4363-88f3-50e453cb2b7e",
   "metadata": {},
   "outputs": [
    {
     "data": {
      "text/plain": [
       "a     0\n",
       "b    16\n",
       "c     9\n",
       "d    16\n",
       "e    16\n",
       "dtype: int32"
      ]
     },
     "execution_count": 82,
     "metadata": {},
     "output_type": "execute_result"
    }
   ],
   "source": [
    "s * s"
   ]
  },
  {
   "cell_type": "code",
   "execution_count": 73,
   "id": "826f3e18-687c-46bd-b01f-b3ae0941300e",
   "metadata": {},
   "outputs": [],
   "source": [
    "# \"s.iloc[1:]\" This gives you everything except the first value\n",
    "# \"s.iloc[:-1]\" This gives you everything except the last value:"
   ]
  },
  {
   "cell_type": "code",
   "execution_count": 84,
   "id": "667b9a1e-1ae6-4c40-a6c0-ee14b19f0f42",
   "metadata": {},
   "outputs": [
    {
     "data": {
      "text/plain": [
       "b    8\n",
       "c    6\n",
       "d    8\n",
       "e    8\n",
       "dtype: int32"
      ]
     },
     "execution_count": 84,
     "metadata": {},
     "output_type": "execute_result"
    }
   ],
   "source": [
    "s.iloc[1:] + s.iloc[:-1]"
   ]
  },
  {
   "cell_type": "markdown",
   "id": "ea77b8ff-9cd6-468a-ae65-1d9b7f702747",
   "metadata": {},
   "source": [
    "## Name attribute"
   ]
  },
  {
   "cell_type": "code",
   "execution_count": 91,
   "id": "084c00aa-bf94-495f-afee-210639342138",
   "metadata": {},
   "outputs": [
    {
     "name": "stdout",
     "output_type": "stream",
     "text": [
      "0    2\n",
      "1    1\n",
      "2    0\n",
      "3    1\n",
      "4    2\n",
      "Name: something, dtype: int32\n",
      "something\n"
     ]
    }
   ],
   "source": [
    "s = pd.Series(np.random.randint(5, size=5), name=\"something\")\n",
    "print(s)\n",
    "print(s.name)"
   ]
  },
  {
   "cell_type": "code",
   "execution_count": null,
   "id": "2856dd45-50ae-447c-aac0-4f7714bd4a2a",
   "metadata": {},
   "outputs": [],
   "source": [
    "# We can rename a Series with the pandas.Series.rename() method."
   ]
  },
  {
   "cell_type": "code",
   "execution_count": 93,
   "id": "0e775f0b-8a20-4eec-a352-a775f87c1405",
   "metadata": {},
   "outputs": [
    {
     "data": {
      "text/plain": [
       "'something'"
      ]
     },
     "execution_count": 93,
     "metadata": {},
     "output_type": "execute_result"
    }
   ],
   "source": [
    "s2 = s\n",
    "s2.name"
   ]
  },
  {
   "cell_type": "code",
   "execution_count": 95,
   "id": "082ef2ff-c027-42f8-9b63-ab9508ef7794",
   "metadata": {},
   "outputs": [
    {
     "data": {
      "text/plain": [
       "0    2\n",
       "1    1\n",
       "2    0\n",
       "3    1\n",
       "4    2\n",
       "Name: different, dtype: int32"
      ]
     },
     "execution_count": 95,
     "metadata": {},
     "output_type": "execute_result"
    }
   ],
   "source": [
    "s2 = s.rename(\"different\")\n",
    "s2"
   ]
  },
  {
   "cell_type": "code",
   "execution_count": 96,
   "id": "22e96392-f30e-4ab2-aba1-c39d53a7c80d",
   "metadata": {},
   "outputs": [
    {
     "data": {
      "text/plain": [
       "'something'"
      ]
     },
     "execution_count": 96,
     "metadata": {},
     "output_type": "execute_result"
    }
   ],
   "source": [
    "s.name"
   ]
  },
  {
   "cell_type": "code",
   "execution_count": 97,
   "id": "854e9353-37bd-4610-8e5b-a68121c4719e",
   "metadata": {},
   "outputs": [
    {
     "data": {
      "text/plain": [
       "0    2\n",
       "1    1\n",
       "2    0\n",
       "3    1\n",
       "4    2\n",
       "Name: laksh, dtype: int32"
      ]
     },
     "execution_count": 97,
     "metadata": {},
     "output_type": "execute_result"
    }
   ],
   "source": [
    "s.rename('laksh')"
   ]
  },
  {
   "cell_type": "code",
   "execution_count": 98,
   "id": "d92a5247-42d4-426d-9045-0a09a9acbaff",
   "metadata": {},
   "outputs": [],
   "source": [
    "# Note that s and s2 refer to different objects."
   ]
  },
  {
   "cell_type": "markdown",
   "id": "d9695ea3-c47b-4eee-9d3d-2efd36e61860",
   "metadata": {},
   "source": [
    "## get infomation of Series"
   ]
  },
  {
   "cell_type": "code",
   "execution_count": 101,
   "id": "e28533a4-cbf8-410b-8581-3d289a4d5f8d",
   "metadata": {},
   "outputs": [
    {
     "name": "stdout",
     "output_type": "stream",
     "text": [
      "int32\n",
      ".\n",
      "1\n",
      ".\n",
      "5\n",
      ".\n",
      "something\n",
      ".\n",
      "False\n",
      ".\n",
      "RangeIndex(start=0, stop=5, step=1)\n",
      ".\n",
      "0    2\n",
      "1    1\n",
      "Name: something, dtype: int32\n",
      ".\n",
      "3    1\n",
      "4    2\n",
      "Name: something, dtype: int32\n",
      ".\n",
      "<bound method Series.info of 0    2\n",
      "1    1\n",
      "2    0\n",
      "3    1\n",
      "4    2\n",
      "Name: something, dtype: int32>\n"
     ]
    }
   ],
   "source": [
    "print(s.dtype)\n",
    "print('.')\n",
    "print(s.ndim)\n",
    "print('.')\n",
    "print(s.size)\n",
    "print('.')\n",
    "print(s.name)\n",
    "print('.')\n",
    "print(s.hasnans)\n",
    "print('.')\n",
    "print(s.index)\n",
    "print('.')\n",
    "print(s.head(2))\n",
    "print('.')\n",
    "print(s.tail(2))\n",
    "print('.')\n",
    "print(s.info)"
   ]
  },
  {
   "cell_type": "markdown",
   "id": "8769d235-2aea-4513-84ca-d9b59a834b76",
   "metadata": {},
   "source": [
    "# 3. DataFrame"
   ]
  },
  {
   "cell_type": "code",
   "execution_count": null,
   "id": "567188be-1772-417d-ad89-05a0d0e97649",
   "metadata": {},
   "outputs": [],
   "source": [
    "# DataFrame is a 2-dimensional labeled data structure with columns of potentially different types. \n",
    "# You can think of it like a spreadsheet or SQL table, or a dict of Series objects."
   ]
  },
  {
   "cell_type": "code",
   "execution_count": null,
   "id": "45f7c2f9-147c-4323-8460-d49c6c7a8952",
   "metadata": {},
   "outputs": [],
   "source": [
    "# DataFrame accepts many different kinds of input:\n",
    "#     A Series\n",
    "#     Dict of 1D ndarrays, lists, dicts, or Series\n",
    "#     2-D numpy.ndarray\n",
    "#     Structured or record ndarray\n",
    "#     Another DataFrame"
   ]
  },
  {
   "cell_type": "code",
   "execution_count": 108,
   "id": "c93f24e1-dacc-4ed1-a4c2-dd6313c8bc95",
   "metadata": {},
   "outputs": [
    {
     "data": {
      "text/html": [
       "<div>\n",
       "<style scoped>\n",
       "    .dataframe tbody tr th:only-of-type {\n",
       "        vertical-align: middle;\n",
       "    }\n",
       "\n",
       "    .dataframe tbody tr th {\n",
       "        vertical-align: top;\n",
       "    }\n",
       "\n",
       "    .dataframe thead th {\n",
       "        text-align: right;\n",
       "    }\n",
       "</style>\n",
       "<table border=\"1\" class=\"dataframe\">\n",
       "  <thead>\n",
       "    <tr style=\"text-align: right;\">\n",
       "      <th></th>\n",
       "      <th>one</th>\n",
       "      <th>two</th>\n",
       "    </tr>\n",
       "  </thead>\n",
       "  <tbody>\n",
       "    <tr>\n",
       "      <th>a</th>\n",
       "      <td>1.0</td>\n",
       "      <td>1.0</td>\n",
       "    </tr>\n",
       "    <tr>\n",
       "      <th>b</th>\n",
       "      <td>2.0</td>\n",
       "      <td>2.0</td>\n",
       "    </tr>\n",
       "    <tr>\n",
       "      <th>c</th>\n",
       "      <td>3.0</td>\n",
       "      <td>3.0</td>\n",
       "    </tr>\n",
       "    <tr>\n",
       "      <th>d</th>\n",
       "      <td>NaN</td>\n",
       "      <td>4.0</td>\n",
       "    </tr>\n",
       "  </tbody>\n",
       "</table>\n",
       "</div>"
      ],
      "text/plain": [
       "   one  two\n",
       "a  1.0  1.0\n",
       "b  2.0  2.0\n",
       "c  3.0  3.0\n",
       "d  NaN  4.0"
      ]
     },
     "execution_count": 108,
     "metadata": {},
     "output_type": "execute_result"
    }
   ],
   "source": [
    "d = {\n",
    "    \"one\": pd.Series([1.0, 2.0, 3.0], index=[\"a\", \"b\", \"c\"]),\n",
    "    \"two\": pd.Series([1.0, 2.0, 3.0, 4.0], index=[\"a\", \"b\", \"c\", \"d\"]),\n",
    "}\n",
    "df = pd.DataFrame(d)\n",
    "df"
   ]
  },
  {
   "cell_type": "code",
   "execution_count": 109,
   "id": "eb27d2a4-cffd-4bd9-bae9-5d216cb54d98",
   "metadata": {},
   "outputs": [
    {
     "data": {
      "text/html": [
       "<div>\n",
       "<style scoped>\n",
       "    .dataframe tbody tr th:only-of-type {\n",
       "        vertical-align: middle;\n",
       "    }\n",
       "\n",
       "    .dataframe tbody tr th {\n",
       "        vertical-align: top;\n",
       "    }\n",
       "\n",
       "    .dataframe thead th {\n",
       "        text-align: right;\n",
       "    }\n",
       "</style>\n",
       "<table border=\"1\" class=\"dataframe\">\n",
       "  <thead>\n",
       "    <tr style=\"text-align: right;\">\n",
       "      <th></th>\n",
       "      <th>one</th>\n",
       "      <th>two</th>\n",
       "    </tr>\n",
       "  </thead>\n",
       "  <tbody>\n",
       "    <tr>\n",
       "      <th>d</th>\n",
       "      <td>NaN</td>\n",
       "      <td>4.0</td>\n",
       "    </tr>\n",
       "    <tr>\n",
       "      <th>b</th>\n",
       "      <td>2.0</td>\n",
       "      <td>2.0</td>\n",
       "    </tr>\n",
       "    <tr>\n",
       "      <th>a</th>\n",
       "      <td>1.0</td>\n",
       "      <td>1.0</td>\n",
       "    </tr>\n",
       "  </tbody>\n",
       "</table>\n",
       "</div>"
      ],
      "text/plain": [
       "   one  two\n",
       "d  NaN  4.0\n",
       "b  2.0  2.0\n",
       "a  1.0  1.0"
      ]
     },
     "execution_count": 109,
     "metadata": {},
     "output_type": "execute_result"
    }
   ],
   "source": [
    "pd.DataFrame(d, index=[\"d\", \"b\", \"a\"])"
   ]
  },
  {
   "cell_type": "code",
   "execution_count": 111,
   "id": "54298be2-2964-4dd5-aa35-66bb13f800e8",
   "metadata": {},
   "outputs": [
    {
     "data": {
      "text/html": [
       "<div>\n",
       "<style scoped>\n",
       "    .dataframe tbody tr th:only-of-type {\n",
       "        vertical-align: middle;\n",
       "    }\n",
       "\n",
       "    .dataframe tbody tr th {\n",
       "        vertical-align: top;\n",
       "    }\n",
       "\n",
       "    .dataframe thead th {\n",
       "        text-align: right;\n",
       "    }\n",
       "</style>\n",
       "<table border=\"1\" class=\"dataframe\">\n",
       "  <thead>\n",
       "    <tr style=\"text-align: right;\">\n",
       "      <th></th>\n",
       "      <th>two</th>\n",
       "      <th>one</th>\n",
       "    </tr>\n",
       "  </thead>\n",
       "  <tbody>\n",
       "    <tr>\n",
       "      <th>d</th>\n",
       "      <td>4.0</td>\n",
       "      <td>NaN</td>\n",
       "    </tr>\n",
       "    <tr>\n",
       "      <th>b</th>\n",
       "      <td>2.0</td>\n",
       "      <td>2.0</td>\n",
       "    </tr>\n",
       "    <tr>\n",
       "      <th>a</th>\n",
       "      <td>1.0</td>\n",
       "      <td>1.0</td>\n",
       "    </tr>\n",
       "  </tbody>\n",
       "</table>\n",
       "</div>"
      ],
      "text/plain": [
       "   two  one\n",
       "d  4.0  NaN\n",
       "b  2.0  2.0\n",
       "a  1.0  1.0"
      ]
     },
     "execution_count": 111,
     "metadata": {},
     "output_type": "execute_result"
    }
   ],
   "source": [
    "pd.DataFrame(d, index=[\"d\", \"b\", \"a\"], columns=[\"two\", \"one\"])"
   ]
  },
  {
   "cell_type": "code",
   "execution_count": 112,
   "id": "f899ab71-95c4-4f1d-b619-2d1693032cc2",
   "metadata": {},
   "outputs": [
    {
     "data": {
      "text/html": [
       "<div>\n",
       "<style scoped>\n",
       "    .dataframe tbody tr th:only-of-type {\n",
       "        vertical-align: middle;\n",
       "    }\n",
       "\n",
       "    .dataframe tbody tr th {\n",
       "        vertical-align: top;\n",
       "    }\n",
       "\n",
       "    .dataframe thead th {\n",
       "        text-align: right;\n",
       "    }\n",
       "</style>\n",
       "<table border=\"1\" class=\"dataframe\">\n",
       "  <thead>\n",
       "    <tr style=\"text-align: right;\">\n",
       "      <th></th>\n",
       "      <th>two</th>\n",
       "      <th>three</th>\n",
       "    </tr>\n",
       "  </thead>\n",
       "  <tbody>\n",
       "    <tr>\n",
       "      <th>d</th>\n",
       "      <td>4.0</td>\n",
       "      <td>NaN</td>\n",
       "    </tr>\n",
       "    <tr>\n",
       "      <th>b</th>\n",
       "      <td>2.0</td>\n",
       "      <td>NaN</td>\n",
       "    </tr>\n",
       "    <tr>\n",
       "      <th>a</th>\n",
       "      <td>1.0</td>\n",
       "      <td>NaN</td>\n",
       "    </tr>\n",
       "  </tbody>\n",
       "</table>\n",
       "</div>"
      ],
      "text/plain": [
       "   two three\n",
       "d  4.0   NaN\n",
       "b  2.0   NaN\n",
       "a  1.0   NaN"
      ]
     },
     "execution_count": 112,
     "metadata": {},
     "output_type": "execute_result"
    }
   ],
   "source": [
    "pd.DataFrame(d, index=[\"d\", \"b\", \"a\"], columns=[\"two\", \"three\"])"
   ]
  },
  {
   "cell_type": "code",
   "execution_count": null,
   "id": "3c798815-d6a0-4b68-be8f-233f55c8e04f",
   "metadata": {},
   "outputs": [],
   "source": []
  }
 ],
 "metadata": {
  "kernelspec": {
   "display_name": "Python 3 (ipykernel)",
   "language": "python",
   "name": "python3"
  },
  "language_info": {
   "codemirror_mode": {
    "name": "ipython",
    "version": 3
   },
   "file_extension": ".py",
   "mimetype": "text/x-python",
   "name": "python",
   "nbconvert_exporter": "python",
   "pygments_lexer": "ipython3",
   "version": "3.13.3"
  }
 },
 "nbformat": 4,
 "nbformat_minor": 5
}
